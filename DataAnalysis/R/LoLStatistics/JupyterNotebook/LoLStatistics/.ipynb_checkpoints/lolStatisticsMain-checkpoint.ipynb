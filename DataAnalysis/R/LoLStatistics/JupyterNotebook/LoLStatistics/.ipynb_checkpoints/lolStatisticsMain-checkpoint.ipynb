{
 "cells": [
  {
   "cell_type": "code",
   "execution_count": 123,
   "metadata": {},
   "outputs": [],
   "source": [
    "### setup\n",
    "library(RCurl) # = getForm()\n",
    "library(jsonlite)"
   ]
  },
  {
   "cell_type": "code",
   "execution_count": 9,
   "metadata": {},
   "outputs": [],
   "source": [
    "### functions\n",
    "LOG = function(txt){\n",
    "    write(txt, file=\"log.txt\")\n",
    "}\n",
    "cData.get = function(key){\n",
    "    return(cData$data[which(names(cData.keys) == key)])\n",
    "}\n",
    "top = function(arr, n=5){\n",
    "    return(sort(arr, decreasing=T)[1:n])\n",
    "}"
   ]
  },
  {
   "cell_type": "code",
   "execution_count": 10,
   "metadata": {},
   "outputs": [],
   "source": [
    "### read assets\n",
    "cData = fromJSON('data/championsData.json')\n",
    "iData = fromJSON('data/itemsData.json')\n",
    "## iData.items\n",
    "iData.items = iData$data\n",
    "## cData.keys to name\n",
    "cData.keys = c()\n",
    "for(champ in cData$data){\n",
    "    cData.keys[champ$key] = champ$name\n",
    "}"
   ]
  },
  {
   "cell_type": "code",
   "execution_count": 125,
   "metadata": {},
   "outputs": [],
   "source": [
    "n = 11\n",
    "data.summoner = fromJSON(paste0('data/',n,'/summoner.json'))\n",
    "data.mastery = fromJSON(paste0('data/',n,'/mastery.json'))\n",
    "data.matchList = fromJSON(paste0('data/',n,'/matchList.json'))"
   ]
  },
  {
   "cell_type": "code",
   "execution_count": 153,
   "metadata": {},
   "outputs": [],
   "source": [
    "### global-variables\n",
    "ID = data.summoner$id\n",
    "accountID = data.summoner$accountId\n",
    "matchLength = 50"
   ]
  },
  {
   "cell_type": "code",
   "execution_count": 127,
   "metadata": {},
   "outputs": [
    {
     "data": {
      "text/html": [
       "<style>\n",
       ".list-inline {list-style: none; margin:0; padding: 0}\n",
       ".list-inline>li {display: inline-block}\n",
       ".list-inline>li:not(:last-child)::after {content: \"\\00b7\"; padding: 0 .5ex}\n",
       "</style>\n",
       "<ol class=list-inline><li>'1 리븐'</li><li>'2 르블랑'</li><li>'3 카밀'</li><li>'4 피오라'</li><li>'5 이렐리아'</li><li>'6 카이사'</li><li>'7 리산드라'</li><li>'8 리 신'</li><li>'9 아칼리'</li><li>'10 쓰레쉬'</li></ol>\n"
      ],
      "text/latex": [
       "\\begin{enumerate*}\n",
       "\\item '1 리븐'\n",
       "\\item '2 르블랑'\n",
       "\\item '3 카밀'\n",
       "\\item '4 피오라'\n",
       "\\item '5 이렐리아'\n",
       "\\item '6 카이사'\n",
       "\\item '7 리산드라'\n",
       "\\item '8 리 신'\n",
       "\\item '9 아칼리'\n",
       "\\item '10 쓰레쉬'\n",
       "\\end{enumerate*}\n"
      ],
      "text/markdown": [
       "1. '1 리븐'\n",
       "2. '2 르블랑'\n",
       "3. '3 카밀'\n",
       "4. '4 피오라'\n",
       "5. '5 이렐리아'\n",
       "6. '6 카이사'\n",
       "7. '7 리산드라'\n",
       "8. '8 리 신'\n",
       "9. '9 아칼리'\n",
       "10. '10 쓰레쉬'\n",
       "\n",
       "\n"
      ],
      "text/plain": [
       " [1] \"1 리븐\"     \"2 르블랑\"   \"3 카밀\"     \"4 피오라\"   \"5 이렐리아\"\n",
       " [6] \"6 카이사\"   \"7 리산드라\" \"8 리 신\"    \"9 아칼리\"   \"10 쓰레쉬\" "
      ]
     },
     "metadata": {},
     "output_type": "display_data"
    }
   ],
   "source": [
    "### 숙련도 순위\n",
    "paste(1:10, cData.keys[as.character(head(data.mastery, n=10)$championId)])"
   ]
  },
  {
   "cell_type": "code",
   "execution_count": 128,
   "metadata": {},
   "outputs": [],
   "source": [
    "### get MatchIds\n",
    "data.matchList.id = data.matchList$gameId"
   ]
  },
  {
   "cell_type": "code",
   "execution_count": 129,
   "metadata": {},
   "outputs": [
    {
     "name": "stdout",
     "output_type": "stream",
     "text": [
      "랭크게임 랭크게임 랭크게임 랭크게임 랭크게임 랭크게임 랭크게임 랭크게임 랭크게임 랭크게임 랭크게임 랭크게임 랭크게임 랭크게임 랭크게임 랭크게임 랭크게임 랭크게임 랭크게임 랭크게임 랭크게임 랭크게임 랭크게임 랭크게임 랭크게임 랭크게임 랭크게임 랭크게임 랭크게임 랭크게임 랭크게임 랭크게임 랭크게임 랭크게임 일반게임 랭크게임 랭크게임 랭크게임 랭크게임 랭크게임 랭크게임 랭크게임 랭크게임 랭크게임 랭크게임 랭크게임 랭크게임 랭크게임 랭크게임 랭크게임"
     ]
    }
   ],
   "source": [
    "### get Queue Type\n",
    "data.matchList.queue = data.matchList$queue\n",
    "queueType = c(\"420\"=\"랭크게임\", \"430\"=\"일반게임\", \"440\"=\"자유랭\", \"450\"=\"무작위총력전\")\n",
    "cat(queueType[as.character(data.matchList.queue)])"
   ]
  },
  {
   "cell_type": "code",
   "execution_count": 130,
   "metadata": {},
   "outputs": [
    {
     "data": {
      "text/plain": [
       "   미스 포츈         세트   아펠리오스     이렐리아       바루스     사일러스 \n",
       "           8            7            5            4            4            3 \n",
       "        애쉬       판테온     아트록스       렉사이 블리츠크랭크        리 신 \n",
       "           2            2            2            2            1            1 \n",
       "    이즈리얼   모데카이저       아칼리           퀸       야스오         카밀 \n",
       "           1            1            1            1            1            1 \n",
       "        세나         유미     칼리스타 \n",
       "           1            1            1 "
      ]
     },
     "metadata": {},
     "output_type": "display_data"
    }
   ],
   "source": [
    "### 최근 사용한 챔피언\n",
    "data.matchList.champion = data.matchList$champion\n",
    "td = table(data.matchList.champion)\n",
    "names(td) = cData.keys[names(td)]\n",
    "sort(td, decreasing=T)"
   ]
  },
  {
   "cell_type": "code",
   "execution_count": 131,
   "metadata": {},
   "outputs": [
    {
     "data": {
      "text/plain": [
       " 미스 포츈       세트 아펠리오스   이렐리아     바루스 \n",
       "         8          7          5          4          4 "
      ]
     },
     "metadata": {},
     "output_type": "display_data"
    }
   ],
   "source": [
    "### 가장 많이 사용한 챔피언 top 5\n",
    "td[head(order(td, decreasing=T), n=5)]"
   ]
  },
  {
   "cell_type": "code",
   "execution_count": 132,
   "metadata": {},
   "outputs": [
    {
     "data": {
      "image/png": "[encoded data removed]",
      "text/plain": [
       "plot without title"
      ]
     },
     "metadata": {
      "image/png": {
       "height": 420,
       "width": 420
      },
      "text/plain": {
       "height": 420,
       "width": 420
      }
     },
     "output_type": "display_data"
    }
   ],
   "source": [
    "### 챔피언 사용 빈도\n",
    "names = names(td)\n",
    "barplot(td, col=\"gold\")\n",
    "# dev.off()"
   ]
  },
  {
   "cell_type": "code",
   "execution_count": 133,
   "metadata": {},
   "outputs": [],
   "source": [
    "### 경기 분석\n",
    "\n",
    "## 최근 경기 정보 'matchLength'만큼 가져오기\n",
    "data.match = fromJSON(paste0('data/',n,'/match.json'))\n",
    "data.match.info = fromJSON(paste0(\"data/\",n,\"/match_info.json\")) # matchList[현재 경기], matchList: 나의 경기리스트 => 내 경기 정보\n",
    "\n",
    "## 소환사의 인게임 정보 가져오기\n",
    "data.match.participants = fromJSON(paste0(\"data/\",n,\"/match_participants.json\")) \n",
    "#  소환사의 챔피언\n",
    "data.match.participants.champion = sapply(data.match.participants, function(x) cData.keys[as.character(unlist(x$championId))])\n",
    "data.match.participants.champion.id = sapply(data.match.participants, function(x) x$championId)\n",
    "#  소환사의 스펠\n",
    "#data.match.participants.spell = sapply(data.match.participants, function(x) )\n",
    "data.match.participants.spell.id = lapply(data.match.participants, function(x) cbind(x$spell1Id, x$spell2Id))\n",
    "# 소환사의 세부 정보\n",
    "data.match.participants.stats = lapply(data.match.participants, function(x) x$stats)\n",
    "                                          \n",
    "##  소환사의 계정 정보 가져오기\n",
    "data.match.participants.info = fromJSON(paste0(\"data/\",n,\"/match_participants_info.json\"))\n",
    "# 소환사의 이름\n",
    "data.match.participants.info.summoner = sapply(data.match.participants.info, function(x) sapply(x, function(y) y$summonerName))\n",
    "# 소환사의 id\n",
    "data.match.participants.info.summonerId = sapply(data.match.participants.info, function(x) sapply(x, function(y) y$summonerId))\n",
    "# 소환사의 accountId\n",
    "data.match.participants.info.accountId = sapply(data.match.participants.info, function(x) sapply(x, function(y) y$accountId))\n",
    "\n",
    "# data.match.participants.stats = fromJSON(\"match_participants_stats.json\")"
   ]
  },
  {
   "cell_type": "code",
   "execution_count": 134,
   "metadata": {},
   "outputs": [
    {
     "data": {
      "text/html": [
       "<dl>\n",
       "\t<dt>$id</dt>\n",
       "\t\t<dd>'0Db6zohtHNwIuKTaRAegpP8z_WVfGoC-rlFoEtqQYLIapbE'</dd>\n",
       "\t<dt>$accountId</dt>\n",
       "\t\t<dd>'W1VaUdKMAAcFxwG0t1wj6leyu7_RmMK088RGI6pLSsYN'</dd>\n",
       "\t<dt>$puuid</dt>\n",
       "\t\t<dd>'9lefh8kHgv4OUj-5XnmMU6EjCELtorOvrH4zWE2r0qCipQ4Coo4Wb7BlENb5w8IhaBn47SIZTagDoQ'</dd>\n",
       "\t<dt>$name</dt>\n",
       "\t\t<dd>'금곡누누fan'</dd>\n",
       "\t<dt>$profileIconId</dt>\n",
       "\t\t<dd>4491</dd>\n",
       "\t<dt>$revisionDate</dt>\n",
       "\t\t<dd>1583567693000</dd>\n",
       "\t<dt>$summonerLevel</dt>\n",
       "\t\t<dd>299</dd>\n",
       "</dl>\n"
      ],
      "text/latex": [
       "\\begin{description}\n",
       "\\item[\\$id] '0Db6zohtHNwIuKTaRAegpP8z\\_WVfGoC-rlFoEtqQYLIapbE'\n",
       "\\item[\\$accountId] 'W1VaUdKMAAcFxwG0t1wj6leyu7\\_RmMK088RGI6pLSsYN'\n",
       "\\item[\\$puuid] '9lefh8kHgv4OUj-5XnmMU6EjCELtorOvrH4zWE2r0qCipQ4Coo4Wb7BlENb5w8IhaBn47SIZTagDoQ'\n",
       "\\item[\\$name] '금곡누누fan'\n",
       "\\item[\\$profileIconId] 4491\n",
       "\\item[\\$revisionDate] 1583567693000\n",
       "\\item[\\$summonerLevel] 299\n",
       "\\end{description}\n"
      ],
      "text/markdown": [
       "$id\n",
       ":   '0Db6zohtHNwIuKTaRAegpP8z_WVfGoC-rlFoEtqQYLIapbE'\n",
       "$accountId\n",
       ":   'W1VaUdKMAAcFxwG0t1wj6leyu7_RmMK088RGI6pLSsYN'\n",
       "$puuid\n",
       ":   '9lefh8kHgv4OUj-5XnmMU6EjCELtorOvrH4zWE2r0qCipQ4Coo4Wb7BlENb5w8IhaBn47SIZTagDoQ'\n",
       "$name\n",
       ":   '금곡누누fan'\n",
       "$profileIconId\n",
       ":   4491\n",
       "$revisionDate\n",
       ":   1583567693000\n",
       "$summonerLevel\n",
       ":   299\n",
       "\n",
       "\n"
      ],
      "text/plain": [
       "$id\n",
       "[1] \"0Db6zohtHNwIuKTaRAegpP8z_WVfGoC-rlFoEtqQYLIapbE\"\n",
       "\n",
       "$accountId\n",
       "[1] \"W1VaUdKMAAcFxwG0t1wj6leyu7_RmMK088RGI6pLSsYN\"\n",
       "\n",
       "$puuid\n",
       "[1] \"9lefh8kHgv4OUj-5XnmMU6EjCELtorOvrH4zWE2r0qCipQ4Coo4Wb7BlENb5w8IhaBn47SIZTagDoQ\"\n",
       "\n",
       "$name\n",
       "[1] \"금곡누누fan\"\n",
       "\n",
       "$profileIconId\n",
       "[1] 4491\n",
       "\n",
       "$revisionDate\n",
       "[1] 1.583568e+12\n",
       "\n",
       "$summonerLevel\n",
       "[1] 299\n"
      ]
     },
     "metadata": {},
     "output_type": "display_data"
    }
   ],
   "source": [
    "data.summoner"
   ]
  },
  {
   "cell_type": "code",
   "execution_count": 135,
   "metadata": {},
   "outputs": [
    {
     "data": {
      "text/html": [
       "<style>\n",
       ".list-inline {list-style: none; margin:0; padding: 0}\n",
       ".list-inline>li {display: inline-block}\n",
       ".list-inline>li:not(:last-child)::after {content: \"\\00b7\"; padding: 0 .5ex}\n",
       "</style>\n",
       "<ol class=list-inline><li>4</li><li>10</li><li>7</li><li>5</li><li>7</li><li>7</li><li>7</li><li>7</li><li>1</li><li>1</li><li>10</li><li>8</li><li>6</li><li>5</li><li>1</li><li>9</li><li>7</li><li>10</li><li>1</li><li>10</li><li>9</li><li>2</li><li>10</li><li>6</li><li>5</li><li>9</li><li>8</li><li>8</li><li>1</li><li>10</li><li>10</li><li>2</li><li>9</li><li>2</li><li>8</li><li>10</li><li>7</li><li>4</li><li>2</li><li>6</li><li>6</li><li>6</li><li>6</li><li>1</li><li>9</li><li>8</li><li>1</li><li>9</li><li>9</li><li>7</li></ol>\n"
      ],
      "text/latex": [
       "\\begin{enumerate*}\n",
       "\\item 4\n",
       "\\item 10\n",
       "\\item 7\n",
       "\\item 5\n",
       "\\item 7\n",
       "\\item 7\n",
       "\\item 7\n",
       "\\item 7\n",
       "\\item 1\n",
       "\\item 1\n",
       "\\item 10\n",
       "\\item 8\n",
       "\\item 6\n",
       "\\item 5\n",
       "\\item 1\n",
       "\\item 9\n",
       "\\item 7\n",
       "\\item 10\n",
       "\\item 1\n",
       "\\item 10\n",
       "\\item 9\n",
       "\\item 2\n",
       "\\item 10\n",
       "\\item 6\n",
       "\\item 5\n",
       "\\item 9\n",
       "\\item 8\n",
       "\\item 8\n",
       "\\item 1\n",
       "\\item 10\n",
       "\\item 10\n",
       "\\item 2\n",
       "\\item 9\n",
       "\\item 2\n",
       "\\item 8\n",
       "\\item 10\n",
       "\\item 7\n",
       "\\item 4\n",
       "\\item 2\n",
       "\\item 6\n",
       "\\item 6\n",
       "\\item 6\n",
       "\\item 6\n",
       "\\item 1\n",
       "\\item 9\n",
       "\\item 8\n",
       "\\item 1\n",
       "\\item 9\n",
       "\\item 9\n",
       "\\item 7\n",
       "\\end{enumerate*}\n"
      ],
      "text/markdown": [
       "1. 4\n",
       "2. 10\n",
       "3. 7\n",
       "4. 5\n",
       "5. 7\n",
       "6. 7\n",
       "7. 7\n",
       "8. 7\n",
       "9. 1\n",
       "10. 1\n",
       "11. 10\n",
       "12. 8\n",
       "13. 6\n",
       "14. 5\n",
       "15. 1\n",
       "16. 9\n",
       "17. 7\n",
       "18. 10\n",
       "19. 1\n",
       "20. 10\n",
       "21. 9\n",
       "22. 2\n",
       "23. 10\n",
       "24. 6\n",
       "25. 5\n",
       "26. 9\n",
       "27. 8\n",
       "28. 8\n",
       "29. 1\n",
       "30. 10\n",
       "31. 10\n",
       "32. 2\n",
       "33. 9\n",
       "34. 2\n",
       "35. 8\n",
       "36. 10\n",
       "37. 7\n",
       "38. 4\n",
       "39. 2\n",
       "40. 6\n",
       "41. 6\n",
       "42. 6\n",
       "43. 6\n",
       "44. 1\n",
       "45. 9\n",
       "46. 8\n",
       "47. 1\n",
       "48. 9\n",
       "49. 9\n",
       "50. 7\n",
       "\n",
       "\n"
      ],
      "text/plain": [
       " [1]  4 10  7  5  7  7  7  7  1  1 10  8  6  5  1  9  7 10  1 10  9  2 10  6  5\n",
       "[26]  9  8  8  1 10 10  2  9  2  8 10  7  4  2  6  6  6  6  1  9  8  1  9  9  7"
      ]
     },
     "metadata": {},
     "output_type": "display_data"
    }
   ],
   "source": [
    "# 나의 index 알아내기\n",
    "indexMe = apply(data.match.participants.info.summoner, 2, function(x) which(x == data.summoner$name))\n",
    "\n",
    "indexMe"
   ]
  },
  {
   "cell_type": "code",
   "execution_count": 136,
   "metadata": {},
   "outputs": [
    {
     "data": {
      "text/html": [
       "<table>\n",
       "<caption>A matrix: 10 × 50 of type chr</caption>\n",
       "<tbody>\n",
       "\t<tr><th scope=row>59</th><td>자르반 4세</td><td>카시오페아</td><td>이즈리얼  </td><td>리산드라  </td><td>룰루    </td><td>엘리스    </td><td>유미      </td><td>아트록스 </td><td>미스 포츈 </td><td>바루스  </td><td>⋯</td><td>블리츠크랭크</td><td>조이      </td><td>리 신   </td><td>세트    </td><td>아트록스</td><td>헤카림      </td><td>모데카이저       </td><td>판테온    </td><td>엘리스  </td><td>탈론     </td></tr>\n",
       "\t<tr><th scope=row>517</th><td>사일러스  </td><td>니달리    </td><td>루시안    </td><td>리 신     </td><td>니달리  </td><td>트린다미어</td><td>리 신     </td><td>세나     </td><td>키아나    </td><td>니달리  </td><td>⋯</td><td>레넥톤      </td><td>루시안    </td><td>다이애나</td><td>자크    </td><td>노틸러스</td><td>피오라      </td><td>쓰레쉬           </td><td>트리스타나</td><td>르블랑  </td><td>노틸러스 </td></tr>\n",
       "\t<tr><th scope=row>126</th><td>제이스    </td><td>카르마    </td><td>리 신     </td><td>레넥톤    </td><td>킨드레드</td><td>세트      </td><td>카이사    </td><td>베인     </td><td>탈리야    </td><td>이렐리아</td><td>⋯</td><td>탈리야      </td><td>레오나    </td><td>사일러스</td><td>쓰레쉬  </td><td>세나    </td><td>아펠리오스  </td><td>애쉬             </td><td>세나      </td><td>케이틀린</td><td>미스 포츈</td></tr>\n",
       "\t<tr><th scope=row>21</th><td>미스 포츈 </td><td>잭스      </td><td>모데카이저</td><td>타릭      </td><td>가렌    </td><td>이즈리얼  </td><td>렝가      </td><td>탈리야   </td><td>레오나    </td><td>말파이트</td><td>⋯</td><td>루시안      </td><td>카서스    </td><td>루시안  </td><td>카이사  </td><td>뽀삐    </td><td>탈리야      </td><td>트위스티드 페이트</td><td>에코      </td><td>모르가나</td><td>에코     </td></tr>\n",
       "\t<tr><th scope=row>412</th><td>쓰레쉬    </td><td>빅토르    </td><td>노틸러스  </td><td>바루스    </td><td>루시안  </td><td>카타리나  </td><td>갈리오    </td><td>판테온   </td><td>루시안    </td><td>탐 켄치 </td><td>⋯</td><td>이렐리아    </td><td>잭스      </td><td>타릭    </td><td>아칼리  </td><td>트런들  </td><td>알리스타    </td><td>자르반 4세       </td><td>아트록스  </td><td>아트록스</td><td>케일     </td></tr>\n",
       "\t<tr><th scope=row>497</th><td>라칸      </td><td>말자하    </td><td>다이애나  </td><td>이즈리얼  </td><td>올라프  </td><td>모데카이저</td><td>렉사이    </td><td>카직스   </td><td>베인      </td><td>아트록스</td><td>⋯</td><td>아펠리오스  </td><td>미스 포츈 </td><td>아트록스</td><td>신지드  </td><td>우르곳  </td><td>블리츠크랭크</td><td>노틸러스         </td><td>블라디미르</td><td>다리우스</td><td>다이애나 </td></tr>\n",
       "\t<tr><th scope=row>875</th><td>세트      </td><td>럼블      </td><td>야스오    </td><td>아이번    </td><td>세나    </td><td>바루스    </td><td>아펠리오스</td><td>미스 포츈</td><td>다이애나  </td><td>레오나  </td><td>⋯</td><td>리 신       </td><td>알리스타  </td><td>렉사이  </td><td>탈론    </td><td>티모    </td><td>이즈리얼    </td><td>카이사           </td><td>볼리베어  </td><td>샤코    </td><td>칼리스타 </td></tr>\n",
       "\t<tr><th scope=row>145</th><td>카이사    </td><td>유미      </td><td>파이크    </td><td>유미      </td><td>탐 켄치 </td><td>조이      </td><td>카밀      </td><td>카밀     </td><td>룰루      </td><td>조이    </td><td>⋯</td><td>다이애나    </td><td>자르반 4세</td><td>야스오  </td><td>모르가나</td><td>아이번  </td><td>세트        </td><td>그레이브즈       </td><td>애쉬      </td><td>조이    </td><td>바드     </td></tr>\n",
       "\t<tr><th scope=row>30</th><td>카서스    </td><td>올라프    </td><td>샤코      </td><td>카시오페아</td><td>탈리야  </td><td>카르마    </td><td>카타리나  </td><td>사일러스 </td><td>트런들    </td><td>엘리스  </td><td>⋯</td><td>아트록스    </td><td>아리      </td><td>레오나  </td><td>신 짜오 </td><td>사일러스</td><td>키아나      </td><td>신드라           </td><td>이렐리아  </td><td>이즈리얼</td><td>사일러스 </td></tr>\n",
       "\t<tr><th scope=row>91</th><td>탈론      </td><td>바루스    </td><td>가렌      </td><td>트린다미어</td><td>엘리스  </td><td>킨드레드  </td><td>잔나      </td><td>제라스   </td><td>아펠리오스</td><td>이즈리얼</td><td>⋯</td><td>쓰레쉬      </td><td>이렐리아  </td><td>카사딘  </td><td>이즈리얼</td><td>리 신   </td><td>에코        </td><td>루시안           </td><td>리 신     </td><td>유미    </td><td>다리우스 </td></tr>\n",
       "</tbody>\n",
       "</table>\n"
      ],
      "text/latex": [
       "A matrix: 10 × 50 of type chr\n",
       "\\begin{tabular}{r|lllllllllllllllllllll}\n",
       "\t59 & 자르반 4세 & 카시오페아 & 이즈리얼   & 리산드라   & 룰루     & 엘리스     & 유미       & 아트록스  & 미스 포츈  & 바루스   & ⋯ & 블리츠크랭크 & 조이       & 리 신    & 세트     & 아트록스 & 헤카림       & 모데카이저        & 판테온     & 엘리스   & 탈론     \\\\\n",
       "\t517 & 사일러스   & 니달리     & 루시안     & 리 신      & 니달리   & 트린다미어 & 리 신      & 세나      & 키아나     & 니달리   & ⋯ & 레넥톤       & 루시안     & 다이애나 & 자크     & 노틸러스 & 피오라       & 쓰레쉬            & 트리스타나 & 르블랑   & 노틸러스 \\\\\n",
       "\t126 & 제이스     & 카르마     & 리 신      & 레넥톤     & 킨드레드 & 세트       & 카이사     & 베인      & 탈리야     & 이렐리아 & ⋯ & 탈리야       & 레오나     & 사일러스 & 쓰레쉬   & 세나     & 아펠리오스   & 애쉬              & 세나       & 케이틀린 & 미스 포츈\\\\\n",
       "\t21 & 미스 포츈  & 잭스       & 모데카이저 & 타릭       & 가렌     & 이즈리얼   & 렝가       & 탈리야    & 레오나     & 말파이트 & ⋯ & 루시안       & 카서스     & 루시안   & 카이사   & 뽀삐     & 탈리야       & 트위스티드 페이트 & 에코       & 모르가나 & 에코     \\\\\n",
       "\t412 & 쓰레쉬     & 빅토르     & 노틸러스   & 바루스     & 루시안   & 카타리나   & 갈리오     & 판테온    & 루시안     & 탐 켄치  & ⋯ & 이렐리아     & 잭스       & 타릭     & 아칼리   & 트런들   & 알리스타     & 자르반 4세        & 아트록스   & 아트록스 & 케일     \\\\\n",
       "\t497 & 라칸       & 말자하     & 다이애나   & 이즈리얼   & 올라프   & 모데카이저 & 렉사이     & 카직스    & 베인       & 아트록스 & ⋯ & 아펠리오스   & 미스 포츈  & 아트록스 & 신지드   & 우르곳   & 블리츠크랭크 & 노틸러스          & 블라디미르 & 다리우스 & 다이애나 \\\\\n",
       "\t875 & 세트       & 럼블       & 야스오     & 아이번     & 세나     & 바루스     & 아펠리오스 & 미스 포츈 & 다이애나   & 레오나   & ⋯ & 리 신        & 알리스타   & 렉사이   & 탈론     & 티모     & 이즈리얼     & 카이사            & 볼리베어   & 샤코     & 칼리스타 \\\\\n",
       "\t145 & 카이사     & 유미       & 파이크     & 유미       & 탐 켄치  & 조이       & 카밀       & 카밀      & 룰루       & 조이     & ⋯ & 다이애나     & 자르반 4세 & 야스오   & 모르가나 & 아이번   & 세트         & 그레이브즈        & 애쉬       & 조이     & 바드     \\\\\n",
       "\t30 & 카서스     & 올라프     & 샤코       & 카시오페아 & 탈리야   & 카르마     & 카타리나   & 사일러스  & 트런들     & 엘리스   & ⋯ & 아트록스     & 아리       & 레오나   & 신 짜오  & 사일러스 & 키아나       & 신드라            & 이렐리아   & 이즈리얼 & 사일러스 \\\\\n",
       "\t91 & 탈론       & 바루스     & 가렌       & 트린다미어 & 엘리스   & 킨드레드   & 잔나       & 제라스    & 아펠리오스 & 이즈리얼 & ⋯ & 쓰레쉬       & 이렐리아   & 카사딘   & 이즈리얼 & 리 신    & 에코         & 루시안            & 리 신      & 유미     & 다리우스 \\\\\n",
       "\\end{tabular}\n"
      ],
      "text/markdown": [
       "\n",
       "A matrix: 10 × 50 of type chr\n",
       "\n",
       "| 59 | 자르반 4세 | 카시오페아 | 이즈리얼   | 리산드라   | 룰루     | 엘리스     | 유미       | 아트록스  | 미스 포츈  | 바루스   | ⋯ | 블리츠크랭크 | 조이       | 리 신    | 세트     | 아트록스 | 헤카림       | 모데카이저        | 판테온     | 엘리스   | 탈론      |\n",
       "| 517 | 사일러스   | 니달리     | 루시안     | 리 신      | 니달리   | 트린다미어 | 리 신      | 세나      | 키아나     | 니달리   | ⋯ | 레넥톤       | 루시안     | 다이애나 | 자크     | 노틸러스 | 피오라       | 쓰레쉬            | 트리스타나 | 르블랑   | 노틸러스  |\n",
       "| 126 | 제이스     | 카르마     | 리 신      | 레넥톤     | 킨드레드 | 세트       | 카이사     | 베인      | 탈리야     | 이렐리아 | ⋯ | 탈리야       | 레오나     | 사일러스 | 쓰레쉬   | 세나     | 아펠리오스   | 애쉬              | 세나       | 케이틀린 | 미스 포츈 |\n",
       "| 21 | 미스 포츈  | 잭스       | 모데카이저 | 타릭       | 가렌     | 이즈리얼   | 렝가       | 탈리야    | 레오나     | 말파이트 | ⋯ | 루시안       | 카서스     | 루시안   | 카이사   | 뽀삐     | 탈리야       | 트위스티드 페이트 | 에코       | 모르가나 | 에코      |\n",
       "| 412 | 쓰레쉬     | 빅토르     | 노틸러스   | 바루스     | 루시안   | 카타리나   | 갈리오     | 판테온    | 루시안     | 탐 켄치  | ⋯ | 이렐리아     | 잭스       | 타릭     | 아칼리   | 트런들   | 알리스타     | 자르반 4세        | 아트록스   | 아트록스 | 케일      |\n",
       "| 497 | 라칸       | 말자하     | 다이애나   | 이즈리얼   | 올라프   | 모데카이저 | 렉사이     | 카직스    | 베인       | 아트록스 | ⋯ | 아펠리오스   | 미스 포츈  | 아트록스 | 신지드   | 우르곳   | 블리츠크랭크 | 노틸러스          | 블라디미르 | 다리우스 | 다이애나  |\n",
       "| 875 | 세트       | 럼블       | 야스오     | 아이번     | 세나     | 바루스     | 아펠리오스 | 미스 포츈 | 다이애나   | 레오나   | ⋯ | 리 신        | 알리스타   | 렉사이   | 탈론     | 티모     | 이즈리얼     | 카이사            | 볼리베어   | 샤코     | 칼리스타  |\n",
       "| 145 | 카이사     | 유미       | 파이크     | 유미       | 탐 켄치  | 조이       | 카밀       | 카밀      | 룰루       | 조이     | ⋯ | 다이애나     | 자르반 4세 | 야스오   | 모르가나 | 아이번   | 세트         | 그레이브즈        | 애쉬       | 조이     | 바드      |\n",
       "| 30 | 카서스     | 올라프     | 샤코       | 카시오페아 | 탈리야   | 카르마     | 카타리나   | 사일러스  | 트런들     | 엘리스   | ⋯ | 아트록스     | 아리       | 레오나   | 신 짜오  | 사일러스 | 키아나       | 신드라            | 이렐리아   | 이즈리얼 | 사일러스  |\n",
       "| 91 | 탈론       | 바루스     | 가렌       | 트린다미어 | 엘리스   | 킨드레드   | 잔나       | 제라스    | 아펠리오스 | 이즈리얼 | ⋯ | 쓰레쉬       | 이렐리아   | 카사딘   | 이즈리얼 | 리 신    | 에코         | 루시안            | 리 신      | 유미     | 다리우스  |\n",
       "\n"
      ],
      "text/plain": [
       "    [,1]       [,2]       [,3]       [,4]       [,5]     [,6]       [,7]      \n",
       "59  자르반 4세 카시오페아 이즈리얼   리산드라   룰루     엘리스     유미      \n",
       "517 사일러스   니달리     루시안     리 신      니달리   트린다미어 리 신     \n",
       "126 제이스     카르마     리 신      레넥톤     킨드레드 세트       카이사    \n",
       "21  미스 포츈  잭스       모데카이저 타릭       가렌     이즈리얼   렝가      \n",
       "412 쓰레쉬     빅토르     노틸러스   바루스     루시안   카타리나   갈리오    \n",
       "497 라칸       말자하     다이애나   이즈리얼   올라프   모데카이저 렉사이    \n",
       "875 세트       럼블       야스오     아이번     세나     바루스     아펠리오스\n",
       "145 카이사     유미       파이크     유미       탐 켄치  조이       카밀      \n",
       "30  카서스     올라프     샤코       카시오페아 탈리야   카르마     카타리나  \n",
       "91  탈론       바루스     가렌       트린다미어 엘리스   킨드레드   잔나      \n",
       "    [,8]      [,9]       [,10]    [,11] [,12]        [,13]      [,14]   \n",
       "59  아트록스  미스 포츈  바루스   ⋯     블리츠크랭크 조이       리 신   \n",
       "517 세나      키아나     니달리   ⋯     레넥톤       루시안     다이애나\n",
       "126 베인      탈리야     이렐리아 ⋯     탈리야       레오나     사일러스\n",
       "21  탈리야    레오나     말파이트 ⋯     루시안       카서스     루시안  \n",
       "412 판테온    루시안     탐 켄치  ⋯     이렐리아     잭스       타릭    \n",
       "497 카직스    베인       아트록스 ⋯     아펠리오스   미스 포츈  아트록스\n",
       "875 미스 포츈 다이애나   레오나   ⋯     리 신        알리스타   렉사이  \n",
       "145 카밀      룰루       조이     ⋯     다이애나     자르반 4세 야스오  \n",
       "30  사일러스  트런들     엘리스   ⋯     아트록스     아리       레오나  \n",
       "91  제라스    아펠리오스 이즈리얼 ⋯     쓰레쉬       이렐리아   카사딘  \n",
       "    [,15]    [,16]    [,17]        [,18]             [,19]      [,20]   \n",
       "59  세트     아트록스 헤카림       모데카이저        판테온     엘리스  \n",
       "517 자크     노틸러스 피오라       쓰레쉬            트리스타나 르블랑  \n",
       "126 쓰레쉬   세나     아펠리오스   애쉬              세나       케이틀린\n",
       "21  카이사   뽀삐     탈리야       트위스티드 페이트 에코       모르가나\n",
       "412 아칼리   트런들   알리스타     자르반 4세        아트록스   아트록스\n",
       "497 신지드   우르곳   블리츠크랭크 노틸러스          블라디미르 다리우스\n",
       "875 탈론     티모     이즈리얼     카이사            볼리베어   샤코    \n",
       "145 모르가나 아이번   세트         그레이브즈        애쉬       조이    \n",
       "30  신 짜오  사일러스 키아나       신드라            이렐리아   이즈리얼\n",
       "91  이즈리얼 리 신    에코         루시안            리 신      유미    \n",
       "    [,21]    \n",
       "59  탈론     \n",
       "517 노틸러스 \n",
       "126 미스 포츈\n",
       "21  에코     \n",
       "412 케일     \n",
       "497 다이애나 \n",
       "875 칼리스타 \n",
       "145 바드     \n",
       "30  사일러스 \n",
       "91  다리우스 "
      ]
     },
     "metadata": {},
     "output_type": "display_data"
    }
   ],
   "source": [
    "## 사용된 챔피언들\n",
    "sapply(data.match.participants, function(x) cData.keys[as.character(unlist(x$championId))])"
   ]
  },
  {
   "cell_type": "code",
   "execution_count": 137,
   "metadata": {},
   "outputs": [],
   "source": [
    "# 표로 나타내기\n",
    "cNum = ncol(data.match.participants.champion)\n",
    "colnames(data.match.participants.champion) = paste0(1:cNum,'번째 경기')\n",
    "rownames(data.match.participants.champion) = paste0(rep(1:5,2),'번째 소환사')"
   ]
  },
  {
   "cell_type": "code",
   "execution_count": 138,
   "metadata": {},
   "outputs": [
    {
     "data": {
      "text/plain": [
       "data.match.participants.champion\n",
       "            리 신          이즈리얼         미스 포츈            카이사 \n",
       "               17                17                16                16 \n",
       "         사일러스            루시안              세트          노틸러스 \n",
       "               15                14                13                12 \n",
       "         이렐리아            엘리스              세나          아트록스 \n",
       "               12                11                10                10 \n",
       "           판테온            렉사이        아펠리오스              유미 \n",
       "               10                 9                 9                 9 \n",
       "         다리우스            레넥톤      블리츠크랭크            쓰레쉬 \n",
       "                8                 8                 8                 8 \n",
       "           파이크              에코              탈론          다이애나 \n",
       "                8                 7                 7                 6 \n",
       "             바드        자르반 4세              자크              잭스 \n",
       "                6                 6                 6                 6 \n",
       "             조이            카르마            키아나            탈리야 \n",
       "                6                 6                 6                 6 \n",
       "           니달리              럼블            레오나        모데카이저 \n",
       "                5                 5                 5                 5 \n",
       "           바루스            아칼리              애쉬              카밀 \n",
       "                5                 5                 5                 5 \n",
       "             타릭              가렌        블라디미르              샤코 \n",
       "                5                 4                 4                 4 \n",
       "           야스오            올라프            카서스        카시오페아 \n",
       "                4                 4                 4                 4 \n",
       "           트런들        트린다미어          그라가스              렝가 \n",
       "                4                 4                 3                 3 \n",
       "         모르가나              베인              뽀삐            질리언 \n",
       "                3                 3                 3                 3 \n",
       "           카사딘          카타리나          칼리스타           탐 켄치 \n",
       "                3                 3                 3                 3 \n",
       "트위스티드 페이트        하이머딩거        그레이브즈            라이즈 \n",
       "                3                 3                 2                 2 \n",
       "             룰루            르블랑          마오카이            말자하 \n",
       "                2                 2                 2                 2 \n",
       "         볼리베어            빅토르           신 짜오            신드라 \n",
       "                2                 2                 2                 2 \n",
       "             아리            아이번          알리스타            제이스 \n",
       "                2                 2                 2                 2 \n",
       "           카직스          케이틀린              케인              케일 \n",
       "                2                 2                 2                 2 \n",
       "               퀸            클레드          킨드레드            피오라 \n",
       "                2                 2                 2                 2 \n",
       "           헤카림            갈리오            나서스              녹턴 \n",
       "                2                 1                 1                 1 \n",
       "    누누와 윌럼프              니코              라칸            람머스 \n",
       "                1                 1                 1                 1 \n",
       "             럭스          리산드라          말파이트            벨코즈 \n",
       "                1                 1                 1                 1 \n",
       "           사이온            쉬바나            신지드     아우렐리온 솔 \n",
       "                1                 1                 1                 1 \n",
       "             오공            우르곳          일라오이              자야 \n",
       "                1                 1                 1                 1 \n",
       "           자이라              잔나              제드            제라스 \n",
       "                1                 1                 1                 1 \n",
       "             직스              케넨        트리스타나            트위치 \n",
       "                1                 1                 1                 1 \n",
       "             티모              피즈 \n",
       "                1                 1 "
      ]
     },
     "metadata": {},
     "output_type": "display_data"
    }
   ],
   "source": [
    "# 빈도수 파악하기\n",
    "sort(table(data.match.participants.champion), decreasing=T)"
   ]
  },
  {
   "cell_type": "code",
   "execution_count": 139,
   "metadata": {},
   "outputs": [
    {
     "data": {
      "image/png": "[encoded data removed]",
      "text/plain": [
       "plot without title"
      ]
     },
     "metadata": {
      "image/png": {
       "height": 420,
       "width": 420
      },
      "text/plain": {
       "height": 420,
       "width": 420
      }
     },
     "output_type": "display_data"
    }
   ],
   "source": [
    "# 그래프로 시각화하기\n",
    "barplot(table(data.match.participants.champion), horiz=T)"
   ]
  },
  {
   "cell_type": "code",
   "execution_count": 140,
   "metadata": {},
   "outputs": [],
   "source": [
    "## 사용된 아이템\n",
    "data.match.participants.stats.items.id = lapply(data.match.participants.stats, function(x) x[3:9])"
   ]
  },
  {
   "cell_type": "code",
   "execution_count": 141,
   "metadata": {},
   "outputs": [],
   "source": [
    "data.match.participants.stats.items = lapply(data.match.participants.stats.items.id, function(x){\n",
    "        x = sapply(x, function(y)\n",
    "            sapply(iData.items[paste0(y)], function(z) z$name)\n",
    "        )\n",
    "        rownames(x) = data.match.participants.info.summoner[,parent.frame()$i]\n",
    "        x\n",
    "    }\n",
    ")"
   ]
  },
  {
   "cell_type": "code",
   "execution_count": 142,
   "metadata": {},
   "outputs": [
    {
     "data": {
      "text/html": [
       "<table>\n",
       "<caption>A data.frame: 7 × 10</caption>\n",
       "<thead>\n",
       "\t<tr><th></th><th scope=col>크리링</th><th scope=col>손나은예쁘다키킥</th><th scope=col>Ndhsmdlove</th><th scope=col>금곡누누fan</th><th scope=col>김시현</th><th scope=col>supsup6</th><th scope=col>gloomy.madness</th><th scope=col>요구르트뒤로먹기</th><th scope=col>팀원잘뽑는계정</th><th scope=col>Baihuahua</th></tr>\n",
       "\t<tr><th></th><th scope=col>&lt;named list&gt;</th><th scope=col>&lt;named list&gt;</th><th scope=col>&lt;named list&gt;</th><th scope=col>&lt;named list&gt;</th><th scope=col>&lt;named list&gt;</th><th scope=col>&lt;named list&gt;</th><th scope=col>&lt;named list&gt;</th><th scope=col>&lt;named list&gt;</th><th scope=col>&lt;named list&gt;</th><th scope=col>&lt;named list&gt;</th></tr>\n",
       "</thead>\n",
       "<tbody>\n",
       "\t<tr><th scope=row>item0</th><td>가고일 돌갑옷</td><td>마법공학 초기형 벨트-01</td><td>칠흑의 양날 도끼</td><td>정수 약탈자</td><td>지크의 융합</td><td>타곤 산의 방벽</td><td>도란의 방패</td><td>단검</td><td>제어 와드</td><td>티아맷</td></tr>\n",
       "\t<tr><th scope=row>item1</th><td>NULL</td><td>부패 물약</td><td>몰락한 왕의 검</td><td>도란의 검</td><td>제어 와드</td><td>체력 물약</td><td>충전형 물약</td><td>광전사의 군화</td><td>충전형 물약</td><td>요우무의 유령검</td></tr>\n",
       "\t<tr><th scope=row>item2</th><td>NULL</td><td>추적자의 팔목 보호대</td><td>부패 물약</td><td>NULL</td><td>룬 강철 어깨 갑옷</td><td>NULL</td><td>칠흑의 양날 도끼</td><td>도란의 검</td><td>모렐로노미콘</td><td>NULL</td></tr>\n",
       "\t<tr><th scope=row>item3</th><td>속도의 장화</td><td>속도의 장화</td><td>약간 신비한 장화</td><td>속도의 장화</td><td>기동력의 장화</td><td>금지된 우상</td><td>마법무효화의 망토</td><td>마나무네</td><td>마법 부여: 룬의 메아리</td><td>탐식의 망치</td></tr>\n",
       "\t<tr><th scope=row>item4</th><td>마법 부여: 잿불거인</td><td>사라진 양피지</td><td>NULL</td><td>도란의 검</td><td>루비 수정</td><td>지크의 융합</td><td>천 갑옷</td><td>구인수의 격노검</td><td>쓸데없이 큰 지팡이</td><td>드락사르의 황혼검</td></tr>\n",
       "\t<tr><th scope=row>item5</th><td>NULL</td><td>암흑의 인장</td><td>NULL</td><td>도란의 검</td><td>망가진 초시계</td><td>기동력의 장화</td><td>닌자의 신발</td><td>단검</td><td>마법사의 신발</td><td>신속의 장화</td></tr>\n",
       "\t<tr><th scope=row>item6</th><td>예언자의 렌즈</td><td>와드 토템 (장신구)</td><td>와드 토템 (장신구)</td><td>와드 토템 (장신구)</td><td>예언자의 렌즈</td><td>예언자의 렌즈</td><td>와드 토템 (장신구)</td><td>망원형 개조</td><td>전령의 눈</td><td>예언자의 렌즈</td></tr>\n",
       "</tbody>\n",
       "</table>\n"
      ],
      "text/latex": [
       "A data.frame: 7 × 10\n",
       "\\begin{tabular}{r|llllllllll}\n",
       "  & 크리링 & 손나은예쁘다키킥 & Ndhsmdlove & 금곡누누fan & 김시현 & supsup6 & gloomy.madness & 요구르트뒤로먹기 & 팀원잘뽑는계정 & Baihuahua\\\\\n",
       "  & <named list> & <named list> & <named list> & <named list> & <named list> & <named list> & <named list> & <named list> & <named list> & <named list>\\\\\n",
       "\\hline\n",
       "\titem0 & 가고일 돌갑옷 & 마법공학 초기형 벨트-01 & 칠흑의 양날 도끼 & 정수 약탈자 & 지크의 융합 & 타곤 산의 방벽 & 도란의 방패 & 단검 & 제어 와드 & 티아맷\\\\\n",
       "\titem1 & NULL & 부패 물약 & 몰락한 왕의 검 & 도란의 검 & 제어 와드 & 체력 물약 & 충전형 물약 & 광전사의 군화 & 충전형 물약 & 요우무의 유령검\\\\\n",
       "\titem2 & NULL & 추적자의 팔목 보호대 & 부패 물약 & NULL & 룬 강철 어깨 갑옷 & NULL & 칠흑의 양날 도끼 & 도란의 검 & 모렐로노미콘 & NULL\\\\\n",
       "\titem3 & 속도의 장화 & 속도의 장화 & 약간 신비한 장화 & 속도의 장화 & 기동력의 장화 & 금지된 우상 & 마법무효화의 망토 & 마나무네 & 마법 부여: 룬의 메아리 & 탐식의 망치\\\\\n",
       "\titem4 & 마법 부여: 잿불거인 & 사라진 양피지 & NULL & 도란의 검 & 루비 수정 & 지크의 융합 & 천 갑옷 & 구인수의 격노검 & 쓸데없이 큰 지팡이 & 드락사르의 황혼검\\\\\n",
       "\titem5 & NULL & 암흑의 인장 & NULL & 도란의 검 & 망가진 초시계 & 기동력의 장화 & 닌자의 신발 & 단검 & 마법사의 신발 & 신속의 장화\\\\\n",
       "\titem6 & 예언자의 렌즈 & 와드 토템 (장신구) & 와드 토템 (장신구) & 와드 토템 (장신구) & 예언자의 렌즈 & 예언자의 렌즈 & 와드 토템 (장신구) & 망원형 개조 & 전령의 눈 & 예언자의 렌즈\\\\\n",
       "\\end{tabular}\n"
      ],
      "text/markdown": [
       "\n",
       "A data.frame: 7 × 10\n",
       "\n",
       "| <!--/--> | 크리링 &lt;named list&gt; | 손나은예쁘다키킥 &lt;named list&gt; | Ndhsmdlove &lt;named list&gt; | 금곡누누fan &lt;named list&gt; | 김시현 &lt;named list&gt; | supsup6 &lt;named list&gt; | gloomy.madness &lt;named list&gt; | 요구르트뒤로먹기 &lt;named list&gt; | 팀원잘뽑는계정 &lt;named list&gt; | Baihuahua &lt;named list&gt; |\n",
       "|---|---|---|---|---|---|---|---|---|---|---|\n",
       "| item0 | 가고일 돌갑옷 | 마법공학 초기형 벨트-01 | 칠흑의 양날 도끼 | 정수 약탈자 | 지크의 융합 | 타곤 산의 방벽 | 도란의 방패 | 단검 | 제어 와드 | 티아맷 |\n",
       "| item1 | NULL | 부패 물약 | 몰락한 왕의 검 | 도란의 검 | 제어 와드 | 체력 물약 | 충전형 물약 | 광전사의 군화 | 충전형 물약 | 요우무의 유령검 |\n",
       "| item2 | NULL | 추적자의 팔목 보호대 | 부패 물약 | NULL | 룬 강철 어깨 갑옷 | NULL | 칠흑의 양날 도끼 | 도란의 검 | 모렐로노미콘 | NULL |\n",
       "| item3 | 속도의 장화 | 속도의 장화 | 약간 신비한 장화 | 속도의 장화 | 기동력의 장화 | 금지된 우상 | 마법무효화의 망토 | 마나무네 | 마법 부여: 룬의 메아리 | 탐식의 망치 |\n",
       "| item4 | 마법 부여: 잿불거인 | 사라진 양피지 | NULL | 도란의 검 | 루비 수정 | 지크의 융합 | 천 갑옷 | 구인수의 격노검 | 쓸데없이 큰 지팡이 | 드락사르의 황혼검 |\n",
       "| item5 | NULL | 암흑의 인장 | NULL | 도란의 검 | 망가진 초시계 | 기동력의 장화 | 닌자의 신발 | 단검 | 마법사의 신발 | 신속의 장화 |\n",
       "| item6 | 예언자의 렌즈 | 와드 토템 (장신구) | 와드 토템 (장신구) | 와드 토템 (장신구) | 예언자의 렌즈 | 예언자의 렌즈 | 와드 토템 (장신구) | 망원형 개조 | 전령의 눈 | 예언자의 렌즈 |\n",
       "\n"
      ],
      "text/plain": [
       "      크리링              손나은예쁘다키킥        Ndhsmdlove        \n",
       "item0 가고일 돌갑옷       마법공학 초기형 벨트-01 칠흑의 양날 도끼  \n",
       "item1 NULL                부패 물약               몰락한 왕의 검    \n",
       "item2 NULL                추적자의 팔목 보호대    부패 물약         \n",
       "item3 속도의 장화         속도의 장화             약간 신비한 장화  \n",
       "item4 마법 부여: 잿불거인 사라진 양피지           NULL              \n",
       "item5 NULL                암흑의 인장             NULL              \n",
       "item6 예언자의 렌즈       와드 토템 (장신구)      와드 토템 (장신구)\n",
       "      금곡누누fan        김시현            supsup6        gloomy.madness    \n",
       "item0 정수 약탈자        지크의 융합       타곤 산의 방벽 도란의 방패       \n",
       "item1 도란의 검          제어 와드         체력 물약      충전형 물약       \n",
       "item2 NULL               룬 강철 어깨 갑옷 NULL           칠흑의 양날 도끼  \n",
       "item3 속도의 장화        기동력의 장화     금지된 우상    마법무효화의 망토 \n",
       "item4 도란의 검          루비 수정         지크의 융합    천 갑옷           \n",
       "item5 도란의 검          망가진 초시계     기동력의 장화  닌자의 신발       \n",
       "item6 와드 토템 (장신구) 예언자의 렌즈     예언자의 렌즈  와드 토템 (장신구)\n",
       "      요구르트뒤로먹기 팀원잘뽑는계정         Baihuahua        \n",
       "item0 단검             제어 와드              티아맷           \n",
       "item1 광전사의 군화    충전형 물약            요우무의 유령검  \n",
       "item2 도란의 검        모렐로노미콘           NULL             \n",
       "item3 마나무네         마법 부여: 룬의 메아리 탐식의 망치      \n",
       "item4 구인수의 격노검  쓸데없이 큰 지팡이     드락사르의 황혼검\n",
       "item5 단검             마법사의 신발          신속의 장화      \n",
       "item6 망원형 개조      전령의 눈              예언자의 렌즈    "
      ]
     },
     "metadata": {},
     "output_type": "display_data"
    }
   ],
   "source": [
    "# 소환사 이름으로 아이템 가져오기\n",
    "data.frame(t(data.match.participants.stats.items[[1]]))"
   ]
  },
  {
   "cell_type": "code",
   "execution_count": 143,
   "metadata": {},
   "outputs": [],
   "source": [
    "### 경기분석"
   ]
  },
  {
   "cell_type": "code",
   "execution_count": 154,
   "metadata": {},
   "outputs": [],
   "source": [
    "## 와드\n",
    "wards = sapply(data.match.participants.stats, function(x) x$wardsPlaced[[indexMe[parent.frame()$i]]])\n",
    "## 아이템\n",
    "items = lapply(data.match.participants.stats.items, function(x) unlist(data.frame(t(x))[data.summoner$name]))\n",
    "items.id = sapply(data.match.participants.stats.items.id, function(x) unlist(x[indexMe[parent.frame()$i],]))\n",
    "## 챔피언\n",
    "champions.id = apply(data.match.participants.champion.id, 2, function(x) x[[indexMe[parent.frame()$i]]])\n",
    "champions = sapply(as.character(champions.id), function(x) cData.get(x))\n",
    "champions.name = sapply(champions, function(x) x$name)\n",
    "## 스펠\n",
    "spells = sapply(data.match.participants.spell.id, function(x) unlist(x[indexMe[parent.frame()$i], ]))\n",
    "spells = data.frame(t(spells))\n",
    "colnames(spells) = c(\"spell1\", \"spell2\")\n",
    "## 라인\n",
    "lanes = sapply(data.match.info, function(x) x$lane)\n",
    "## 포지션(탱커, 마법사 이런거)\n",
    "positions = sapply(champions, function(x) x$tags)\n",
    "## 무빙 성향\n",
    "# 하고싶음요\n",
    "## K/D/A\n",
    "# K\n",
    "kills = sapply(data.match.participants.stats, function(x) x$kills[[indexMe[parent.frame()$i]]])\n",
    "# D\n",
    "deaths = sapply(data.match.participants.stats, function(x) x$deaths[[indexMe[parent.frame()$i]]])\n",
    "# A\n",
    "assists = sapply(data.match.participants.stats, function(x) x$assists[[indexMe[parent.frame()$i]]])\n",
    "# K/D/A\n",
    "kdas = paste(kills, '/', deaths, '/', assists)\n",
    "kdas.point = c()\n",
    "for(i in 1:length(kills)){\n",
    "    if(deaths[i] == 0) kdas.point[i] = 10 # PerfectScore\n",
    "    else kdas.point[i] = (kills[i]+assists[i])/deaths[i]\n",
    "}\n",
    "## 경기시간\n",
    "durations = sapply(data.match$gameDuration, function(x) x)\n",
    "## 승/패\n",
    "wins = sapply(data.match.participants.stats, function(x) x$win[[indexMe[parent.frame()$i]]])\n",
    "## 숙련도\n",
    "masterys = cbind(data.mastery[1:3])"
   ]
  },
  {
   "cell_type": "code",
   "execution_count": 155,
   "metadata": {},
   "outputs": [],
   "source": [
    "### 확률변수\n",
    "X = c()\n",
    "## 와드 => 승패, kda\n",
    "## 아이템\n",
    "## 챔피언 => 아이템, kda, 승패\n",
    "## 스펠 => 승패, kda\n",
    "## (아직)룬 세팅\n",
    "## 라인 => 승패, kda, 포지션\n",
    "X['TOP'] = 1000\n",
    "X['BOTTOM'] = 1001\n",
    "X['MID'] = 1002\n",
    "X['JUNGLE'] = 1003\n",
    "X['NONE'] = 1004\n",
    "## 포지션(탱커, 마법사 이런거)\n",
    "## K/D/A\n",
    "# K\n",
    "# D\n",
    "# A\n",
    "# K/D/A\n",
    "## 경기시간\n",
    "## 승패"
   ]
  },
  {
   "cell_type": "code",
   "execution_count": 156,
   "metadata": {},
   "outputs": [
    {
     "data": {
      "image/png": "[encoded data removed]",
      "text/plain": [
       "plot without title"
      ]
     },
     "metadata": {
      "image/png": {
       "height": 420,
       "width": 420
      },
      "text/plain": {
       "height": 420,
       "width": 420
      }
     },
     "output_type": "display_data"
    }
   ],
   "source": [
    "plot(table(unlist(positions)))"
   ]
  },
  {
   "cell_type": "code",
   "execution_count": 157,
   "metadata": {},
   "outputs": [
    {
     "data": {
      "image/png": "[encoded data removed]",
      "text/plain": [
       "plot without title"
      ]
     },
     "metadata": {
      "image/png": {
       "height": 420,
       "width": 420
      },
      "text/plain": {
       "height": 420,
       "width": 420
      }
     },
     "output_type": "display_data"
    }
   ],
   "source": [
    "plot(table(lanes))"
   ]
  },
  {
   "cell_type": "code",
   "execution_count": 158,
   "metadata": {},
   "outputs": [
    {
     "data": {
      "text/plain": [
       "\n",
       "         도란의 검 와드 토템 (장신구)      광전사의 군화      망가진 초시계 \n",
       "                36                 34                 16                 16 \n",
       "       정수 약탈자        닌자의 신발        망원형 개조          부패 물약 \n",
       "                13                 12                  9                  8 \n",
       "       무한의 대검             초시계           삼위일체     몰락한 왕의 검 \n",
       "                 7                  7                  6                  5 \n",
       "       신속의 장화      예언자의 렌즈          제어 와드 \n",
       "                 5                  5                  5 "
      ]
     },
     "metadata": {},
     "output_type": "display_data"
    }
   ],
   "source": [
    "head(sort(table(unlist(items)), decreasing=T), n=15)"
   ]
  },
  {
   "cell_type": "code",
   "execution_count": 159,
   "metadata": {},
   "outputs": [],
   "source": [
    "arr = unique(champions.name)\n",
    "n = length(arr)\n",
    "champions_wins = rep(0, n)\n",
    "names(champions_wins) = arr"
   ]
  },
  {
   "cell_type": "code",
   "execution_count": 160,
   "metadata": {},
   "outputs": [],
   "source": [
    "for(i in 1:matchLength) \n",
    "    if(wins[i]){\n",
    "        champions_wins[champions.name[i]] = champions_wins[champions.name[i]]+1\n",
    "    }"
   ]
  },
  {
   "cell_type": "code",
   "execution_count": 161,
   "metadata": {},
   "outputs": [
    {
     "data": {
      "text/html": [
       "<style>\n",
       ".dl-inline {width: auto; margin:0; padding: 0}\n",
       ".dl-inline>dt, .dl-inline>dd {float: none; width: auto; display: inline-block}\n",
       ".dl-inline>dt::after {content: \":\\0020\"; padding-right: .5ex}\n",
       ".dl-inline>dt:not(:first-of-type) {padding-left: .5ex}\n",
       "</style><dl class=dl-inline><dt>아펠리오스</dt><dd>4</dd><dt>세트</dt><dd>4</dd><dt>미스 포츈</dt><dd>3</dd><dt>바루스</dt><dd>3</dd><dt>야스오</dt><dd>1</dd><dt>세나</dt><dd>1</dd><dt>퀸</dt><dd>1</dd><dt>아칼리</dt><dd>1</dd><dt>이렐리아</dt><dd>1</dd><dt>판테온</dt><dd>1</dd><dt>아트록스</dt><dd>1</dd><dt>카밀</dt><dd>1</dd><dt>블리츠크랭크</dt><dd>1</dd><dt>애쉬</dt><dd>1</dd><dt>모데카이저</dt><dd>1</dd><dt>사일러스</dt><dd>0</dd><dt>유미</dt><dd>0</dd><dt>렉사이</dt><dd>0</dd><dt>리 신</dt><dd>0</dd><dt>이즈리얼</dt><dd>0</dd><dt>칼리스타</dt><dd>0</dd></dl>\n"
      ],
      "text/latex": [
       "\\begin{description*}\n",
       "\\item[아펠리오스] 4\n",
       "\\item[세트] 4\n",
       "\\item[미스 포츈] 3\n",
       "\\item[바루스] 3\n",
       "\\item[야스오] 1\n",
       "\\item[세나] 1\n",
       "\\item[퀸] 1\n",
       "\\item[아칼리] 1\n",
       "\\item[이렐리아] 1\n",
       "\\item[판테온] 1\n",
       "\\item[아트록스] 1\n",
       "\\item[카밀] 1\n",
       "\\item[블리츠크랭크] 1\n",
       "\\item[애쉬] 1\n",
       "\\item[모데카이저] 1\n",
       "\\item[사일러스] 0\n",
       "\\item[유미] 0\n",
       "\\item[렉사이] 0\n",
       "\\item[리 신] 0\n",
       "\\item[이즈리얼] 0\n",
       "\\item[칼리스타] 0\n",
       "\\end{description*}\n"
      ],
      "text/markdown": [
       "아펠리오스\n",
       ":   4세트\n",
       ":   4미스 포츈\n",
       ":   3바루스\n",
       ":   3야스오\n",
       ":   1세나\n",
       ":   1퀸\n",
       ":   1아칼리\n",
       ":   1이렐리아\n",
       ":   1판테온\n",
       ":   1아트록스\n",
       ":   1카밀\n",
       ":   1블리츠크랭크\n",
       ":   1애쉬\n",
       ":   1모데카이저\n",
       ":   1사일러스\n",
       ":   0유미\n",
       ":   0렉사이\n",
       ":   0리 신\n",
       ":   0이즈리얼\n",
       ":   0칼리스타\n",
       ":   0\n",
       "\n"
      ],
      "text/plain": [
       "  아펠리오스         세트    미스 포츈       바루스       야스오         세나 \n",
       "           4            4            3            3            1            1 \n",
       "          퀸       아칼리     이렐리아       판테온     아트록스         카밀 \n",
       "           1            1            1            1            1            1 \n",
       "블리츠크랭크         애쉬   모데카이저     사일러스         유미       렉사이 \n",
       "           1            1            1            0            0            0 \n",
       "       리 신     이즈리얼     칼리스타 \n",
       "           0            0            0 "
      ]
     },
     "metadata": {},
     "output_type": "display_data"
    }
   ],
   "source": [
    "sort(champions_wins, decreasing=T)"
   ]
  },
  {
   "cell_type": "code",
   "execution_count": 162,
   "metadata": {},
   "outputs": [
    {
     "name": "stdout",
     "output_type": "stream",
     "text": [
      "50 %"
     ]
    }
   ],
   "source": [
    "#### 당신의 승률은?\n",
    "wins.rate = list()\n",
    "wins.rate$total = sum(wins)/matchLength\n",
    "cat(wins.rate$total*100, '%')"
   ]
  },
  {
   "cell_type": "code",
   "execution_count": 163,
   "metadata": {},
   "outputs": [
    {
     "name": "stdout",
     "output_type": "stream",
     "text": [
      "ward_mean 9.393939"
     ]
    }
   ],
   "source": [
    "#### 당신이 박은 와드 수의 평균은?\n",
    "ward.mean = mean(wards[durations>1200])\n",
    "cat(\"ward_mean\", ward.mean)"
   ]
  },
  {
   "cell_type": "code",
   "execution_count": 164,
   "metadata": {},
   "outputs": [
    {
     "data": {
      "text/html": [
       "<style>\n",
       ".list-inline {list-style: none; margin:0; padding: 0}\n",
       ".list-inline>li {display: inline-block}\n",
       ".list-inline>li:not(:last-child)::after {content: \"\\00b7\"; padding: 0 .5ex}\n",
       "</style>\n",
       "<ol class=list-inline><li>12</li><li>6</li><li>15</li><li>9</li><li>7</li><li>9</li><li>5</li><li>12</li><li>9</li><li>20</li><li>11</li><li>4</li><li>12</li><li>8</li><li>4</li><li>8</li><li>10</li><li>9</li><li>10</li><li>5</li><li>9</li><li>9</li><li>11</li><li>8</li><li>13</li><li>11</li><li>7</li><li>7</li><li>10</li><li>13</li><li>9</li><li>10</li><li>8</li></ol>\n"
      ],
      "text/latex": [
       "\\begin{enumerate*}\n",
       "\\item 12\n",
       "\\item 6\n",
       "\\item 15\n",
       "\\item 9\n",
       "\\item 7\n",
       "\\item 9\n",
       "\\item 5\n",
       "\\item 12\n",
       "\\item 9\n",
       "\\item 20\n",
       "\\item 11\n",
       "\\item 4\n",
       "\\item 12\n",
       "\\item 8\n",
       "\\item 4\n",
       "\\item 8\n",
       "\\item 10\n",
       "\\item 9\n",
       "\\item 10\n",
       "\\item 5\n",
       "\\item 9\n",
       "\\item 9\n",
       "\\item 11\n",
       "\\item 8\n",
       "\\item 13\n",
       "\\item 11\n",
       "\\item 7\n",
       "\\item 7\n",
       "\\item 10\n",
       "\\item 13\n",
       "\\item 9\n",
       "\\item 10\n",
       "\\item 8\n",
       "\\end{enumerate*}\n"
      ],
      "text/markdown": [
       "1. 12\n",
       "2. 6\n",
       "3. 15\n",
       "4. 9\n",
       "5. 7\n",
       "6. 9\n",
       "7. 5\n",
       "8. 12\n",
       "9. 9\n",
       "10. 20\n",
       "11. 11\n",
       "12. 4\n",
       "13. 12\n",
       "14. 8\n",
       "15. 4\n",
       "16. 8\n",
       "17. 10\n",
       "18. 9\n",
       "19. 10\n",
       "20. 5\n",
       "21. 9\n",
       "22. 9\n",
       "23. 11\n",
       "24. 8\n",
       "25. 13\n",
       "26. 11\n",
       "27. 7\n",
       "28. 7\n",
       "29. 10\n",
       "30. 13\n",
       "31. 9\n",
       "32. 10\n",
       "33. 8\n",
       "\n",
       "\n"
      ],
      "text/plain": [
       " [1] 12  6 15  9  7  9  5 12  9 20 11  4 12  8  4  8 10  9 10  5  9  9 11  8 13\n",
       "[26] 11  7  7 10 13  9 10  8"
      ]
     },
     "metadata": {},
     "output_type": "display_data"
    }
   ],
   "source": [
    "wards[durations>1200]"
   ]
  },
  {
   "cell_type": "code",
   "execution_count": 165,
   "metadata": {},
   "outputs": [
    {
     "data": {
      "image/png": "[encoded data removed]",
      "text/plain": [
       "plot without title"
      ]
     },
     "metadata": {
      "image/png": {
       "height": 420,
       "width": 420
      },
      "text/plain": {
       "height": 420,
       "width": 420
      }
     },
     "output_type": "display_data"
    }
   ],
   "source": [
    "x = wards[durations>1200]\n",
    "y = wins[durations>1200]\n",
    "plot(y~x, xlab=\"num of wards\", ylab=\"win\")\n",
    "# result: 파악 안됨."
   ]
  },
  {
   "cell_type": "code",
   "execution_count": 166,
   "metadata": {},
   "outputs": [],
   "source": [
    "favoriteChampions = names(sort(table(champions.name), decreasing=T))[1:5]"
   ]
  },
  {
   "cell_type": "code",
   "execution_count": 170,
   "metadata": {},
   "outputs": [
    {
     "data": {
      "text/html": [
       "<style>\n",
       ".dl-inline {width: auto; margin:0; padding: 0}\n",
       ".dl-inline>dt, .dl-inline>dd {float: none; width: auto; display: inline-block}\n",
       ".dl-inline>dt::after {content: \":\\0020\"; padding-right: .5ex}\n",
       ".dl-inline>dt:not(:first-of-type) {padding-left: .5ex}\n",
       "</style><dl class=dl-inline><dt>21.MissFortune</dt><dd>'미스 포츈'</dd><dt>21.MissFortune</dt><dd>'미스 포츈'</dd><dt>21.MissFortune</dt><dd>'미스 포츈'</dd><dt>21.MissFortune</dt><dd>'미스 포츈'</dd><dt>21.MissFortune</dt><dd>'미스 포츈'</dd><dt>21.MissFortune</dt><dd>'미스 포츈'</dd></dl>\n"
      ],
      "text/latex": [
       "\\begin{description*}\n",
       "\\item[21.MissFortune] '미스 포츈'\n",
       "\\item[21.MissFortune] '미스 포츈'\n",
       "\\item[21.MissFortune] '미스 포츈'\n",
       "\\item[21.MissFortune] '미스 포츈'\n",
       "\\item[21.MissFortune] '미스 포츈'\n",
       "\\item[21.MissFortune] '미스 포츈'\n",
       "\\end{description*}\n"
      ],
      "text/markdown": [
       "21.MissFortune\n",
       ":   '미스 포츈'21.MissFortune\n",
       ":   '미스 포츈'21.MissFortune\n",
       ":   '미스 포츈'21.MissFortune\n",
       ":   '미스 포츈'21.MissFortune\n",
       ":   '미스 포츈'21.MissFortune\n",
       ":   '미스 포츈'\n",
       "\n"
      ],
      "text/plain": [
       "21.MissFortune 21.MissFortune 21.MissFortune 21.MissFortune 21.MissFortune \n",
       "   \"미스 포츈\"    \"미스 포츈\"    \"미스 포츈\"    \"미스 포츈\"    \"미스 포츈\" \n",
       "21.MissFortune \n",
       "   \"미스 포츈\" "
      ]
     },
     "metadata": {},
     "output_type": "display_data"
    },
    {
     "data": {
      "text/html": [
       "<style>\n",
       ".list-inline {list-style: none; margin:0; padding: 0}\n",
       ".list-inline>li {display: inline-block}\n",
       ".list-inline>li:not(:last-child)::after {content: \"\\00b7\"; padding: 0 .5ex}\n",
       "</style>\n",
       "<ol class=list-inline><li>1707</li><li>1754</li><li>1565</li><li>1830</li><li>1958</li><li>1355</li></ol>\n"
      ],
      "text/latex": [
       "\\begin{enumerate*}\n",
       "\\item 1707\n",
       "\\item 1754\n",
       "\\item 1565\n",
       "\\item 1830\n",
       "\\item 1958\n",
       "\\item 1355\n",
       "\\end{enumerate*}\n"
      ],
      "text/markdown": [
       "1. 1707\n",
       "2. 1754\n",
       "3. 1565\n",
       "4. 1830\n",
       "5. 1958\n",
       "6. 1355\n",
       "\n",
       "\n"
      ],
      "text/plain": [
       "[1] 1707 1754 1565 1830 1958 1355"
      ]
     },
     "metadata": {},
     "output_type": "display_data"
    }
   ],
   "source": [
    "r1 = which(durations>1200)\n",
    "r2 = which(champions.name %in% names(sort(table(champions.name), decreasing=T))[1])\n",
    "index = intersect(r1, r2)\n",
    "champions.name[index]\n",
    "durations[index]"
   ]
  },
  {
   "cell_type": "code",
   "execution_count": 171,
   "metadata": {},
   "outputs": [
    {
     "data": {
      "image/png": "[encoded data removed]",
      "text/plain": [
       "plot without title"
      ]
     },
     "metadata": {
      "image/png": {
       "height": 420,
       "width": 420
      },
      "text/plain": {
       "height": 420,
       "width": 420
      }
     },
     "output_type": "display_data"
    }
   ],
   "source": [
    "# x = durations[1000<durations[champions.name==\"클레드\"]]\n",
    "x = durations[index]\n",
    "# y = wins[1000<durations[durations[champions.name==\"클레드\"]<1800]]\n",
    "y = wins[index]\n",
    "plot(y~x, xlab=\"durations\", ylab=\"wins\")\n",
    "# result: 신드라는 중반에 강하고 초반, 후반으로 갈수록 승률이 떨어짐."
   ]
  },
  {
   "cell_type": "code",
   "execution_count": 172,
   "metadata": {},
   "outputs": [
    {
     "data": {
      "image/png": "[encoded data removed]",
      "text/plain": [
       "plot without title"
      ]
     },
     "metadata": {
      "image/png": {
       "height": 420,
       "width": 420
      },
      "text/plain": {
       "height": 420,
       "width": 420
      }
     },
     "output_type": "display_data"
    }
   ],
   "source": [
    "x = kills[index]\n",
    "y = wins[index]\n",
    "plot(y~x, xlab=\"num of kills\", ylab=\"win\")\n",
    "# result: 파악 안됨. => 역쉬 롤은 팀게임 시바라"
   ]
  },
  {
   "cell_type": "code",
   "execution_count": 173,
   "metadata": {},
   "outputs": [
    {
     "data": {
      "text/plain": [
       "lanes\n",
       "BOTTOM JUNGLE    MID   NONE    TOP \n",
       "    17      3      5     17      8 "
      ]
     },
     "metadata": {},
     "output_type": "display_data"
    }
   ],
   "source": [
    "table(lanes)"
   ]
  },
  {
   "cell_type": "code",
   "execution_count": 174,
   "metadata": {},
   "outputs": [
    {
     "data": {
      "text/html": [
       "<style>\n",
       ".list-inline {list-style: none; margin:0; padding: 0}\n",
       ".list-inline>li {display: inline-block}\n",
       ".list-inline>li:not(:last-child)::after {content: \"\\00b7\"; padding: 0 .5ex}\n",
       "</style>\n",
       "<ol class=list-inline><li>'BOTTOM'</li><li>'BOTTOM'</li><li>'BOTTOM'</li><li>'BOTTOM'</li><li>'BOTTOM'</li><li>'BOTTOM'</li><li>'BOTTOM'</li><li>'BOTTOM'</li><li>'BOTTOM'</li><li>'BOTTOM'</li><li>'BOTTOM'</li><li>'BOTTOM'</li><li>'BOTTOM'</li><li>'BOTTOM'</li><li>'BOTTOM'</li><li>'BOTTOM'</li><li>'BOTTOM'</li></ol>\n"
      ],
      "text/latex": [
       "\\begin{enumerate*}\n",
       "\\item 'BOTTOM'\n",
       "\\item 'BOTTOM'\n",
       "\\item 'BOTTOM'\n",
       "\\item 'BOTTOM'\n",
       "\\item 'BOTTOM'\n",
       "\\item 'BOTTOM'\n",
       "\\item 'BOTTOM'\n",
       "\\item 'BOTTOM'\n",
       "\\item 'BOTTOM'\n",
       "\\item 'BOTTOM'\n",
       "\\item 'BOTTOM'\n",
       "\\item 'BOTTOM'\n",
       "\\item 'BOTTOM'\n",
       "\\item 'BOTTOM'\n",
       "\\item 'BOTTOM'\n",
       "\\item 'BOTTOM'\n",
       "\\item 'BOTTOM'\n",
       "\\end{enumerate*}\n"
      ],
      "text/markdown": [
       "1. 'BOTTOM'\n",
       "2. 'BOTTOM'\n",
       "3. 'BOTTOM'\n",
       "4. 'BOTTOM'\n",
       "5. 'BOTTOM'\n",
       "6. 'BOTTOM'\n",
       "7. 'BOTTOM'\n",
       "8. 'BOTTOM'\n",
       "9. 'BOTTOM'\n",
       "10. 'BOTTOM'\n",
       "11. 'BOTTOM'\n",
       "12. 'BOTTOM'\n",
       "13. 'BOTTOM'\n",
       "14. 'BOTTOM'\n",
       "15. 'BOTTOM'\n",
       "16. 'BOTTOM'\n",
       "17. 'BOTTOM'\n",
       "\n",
       "\n"
      ],
      "text/plain": [
       " [1] \"BOTTOM\" \"BOTTOM\" \"BOTTOM\" \"BOTTOM\" \"BOTTOM\" \"BOTTOM\" \"BOTTOM\" \"BOTTOM\"\n",
       " [9] \"BOTTOM\" \"BOTTOM\" \"BOTTOM\" \"BOTTOM\" \"BOTTOM\" \"BOTTOM\" \"BOTTOM\" \"BOTTOM\"\n",
       "[17] \"BOTTOM\""
      ]
     },
     "metadata": {},
     "output_type": "display_data"
    },
    {
     "data": {
      "text/html": [
       "<style>\n",
       ".list-inline {list-style: none; margin:0; padding: 0}\n",
       ".list-inline>li {display: inline-block}\n",
       ".list-inline>li:not(:last-child)::after {content: \"\\00b7\"; padding: 0 .5ex}\n",
       "</style>\n",
       "<ol class=list-inline><li>1920</li><li>1263</li><li>1565</li><li>1707</li><li>1950</li><li>1694</li><li>1615</li><li>1754</li><li>1565</li><li>1726</li><li>1830</li><li>1958</li><li>1281</li><li>1858</li><li>1355</li><li>1776</li><li>1505</li></ol>\n"
      ],
      "text/latex": [
       "\\begin{enumerate*}\n",
       "\\item 1920\n",
       "\\item 1263\n",
       "\\item 1565\n",
       "\\item 1707\n",
       "\\item 1950\n",
       "\\item 1694\n",
       "\\item 1615\n",
       "\\item 1754\n",
       "\\item 1565\n",
       "\\item 1726\n",
       "\\item 1830\n",
       "\\item 1958\n",
       "\\item 1281\n",
       "\\item 1858\n",
       "\\item 1355\n",
       "\\item 1776\n",
       "\\item 1505\n",
       "\\end{enumerate*}\n"
      ],
      "text/markdown": [
       "1. 1920\n",
       "2. 1263\n",
       "3. 1565\n",
       "4. 1707\n",
       "5. 1950\n",
       "6. 1694\n",
       "7. 1615\n",
       "8. 1754\n",
       "9. 1565\n",
       "10. 1726\n",
       "11. 1830\n",
       "12. 1958\n",
       "13. 1281\n",
       "14. 1858\n",
       "15. 1355\n",
       "16. 1776\n",
       "17. 1505\n",
       "\n",
       "\n"
      ],
      "text/plain": [
       " [1] 1920 1263 1565 1707 1950 1694 1615 1754 1565 1726 1830 1958 1281 1858 1355\n",
       "[16] 1776 1505"
      ]
     },
     "metadata": {},
     "output_type": "display_data"
    }
   ],
   "source": [
    "r1 = which(durations>1200)\n",
    "r2 = which(lanes == names(sort(table(lanes), decreasing=T))[1])\n",
    "index = intersect(r1, r2)\n",
    "lanes[index]\n",
    "durations[index]"
   ]
  },
  {
   "cell_type": "code",
   "execution_count": 175,
   "metadata": {},
   "outputs": [
    {
     "data": {
      "text/html": [
       "630"
      ],
      "text/latex": [
       "630"
      ],
      "text/markdown": [
       "630"
      ],
      "text/plain": [
       "[1] 630"
      ]
     },
     "metadata": {},
     "output_type": "display_data"
    }
   ],
   "source": [
    "min(durations)"
   ]
  },
  {
   "cell_type": "code",
   "execution_count": 176,
   "metadata": {},
   "outputs": [
    {
     "data": {
      "text/html": [
       "<style>\n",
       ".list-inline {list-style: none; margin:0; padding: 0}\n",
       ".list-inline>li {display: inline-block}\n",
       ".list-inline>li:not(:last-child)::after {content: \"\\00b7\"; padding: 0 .5ex}\n",
       "</style>\n",
       "<ol class=list-inline><li>3</li><li>5</li><li>7</li><li>9</li><li>10</li><li>13</li><li>14</li><li>21</li><li>25</li><li>26</li><li>27</li><li>28</li><li>37</li><li>39</li><li>42</li><li>49</li><li>50</li></ol>\n"
      ],
      "text/latex": [
       "\\begin{enumerate*}\n",
       "\\item 3\n",
       "\\item 5\n",
       "\\item 7\n",
       "\\item 9\n",
       "\\item 10\n",
       "\\item 13\n",
       "\\item 14\n",
       "\\item 21\n",
       "\\item 25\n",
       "\\item 26\n",
       "\\item 27\n",
       "\\item 28\n",
       "\\item 37\n",
       "\\item 39\n",
       "\\item 42\n",
       "\\item 49\n",
       "\\item 50\n",
       "\\end{enumerate*}\n"
      ],
      "text/markdown": [
       "1. 3\n",
       "2. 5\n",
       "3. 7\n",
       "4. 9\n",
       "5. 10\n",
       "6. 13\n",
       "7. 14\n",
       "8. 21\n",
       "9. 25\n",
       "10. 26\n",
       "11. 27\n",
       "12. 28\n",
       "13. 37\n",
       "14. 39\n",
       "15. 42\n",
       "16. 49\n",
       "17. 50\n",
       "\n",
       "\n"
      ],
      "text/plain": [
       " [1]  3  5  7  9 10 13 14 21 25 26 27 28 37 39 42 49 50"
      ]
     },
     "metadata": {},
     "output_type": "display_data"
    }
   ],
   "source": [
    "index"
   ]
  },
  {
   "cell_type": "code",
   "execution_count": 177,
   "metadata": {},
   "outputs": [
    {
     "data": {
      "image/png": "[encoded data removed]",
      "text/plain": [
       "plot without title"
      ]
     },
     "metadata": {
      "image/png": {
       "height": 420,
       "width": 420
      },
      "text/plain": {
       "height": 420,
       "width": 420
      }
     },
     "output_type": "display_data"
    }
   ],
   "source": [
    "x = wards[index]\n",
    "y = deaths[index]\n",
    "plot(y~x, xlab=\"num of wards\", ylab=\"num of deaths\")\n",
    "# result: 야발."
   ]
  },
  {
   "cell_type": "code",
   "execution_count": 178,
   "metadata": {},
   "outputs": [
    {
     "data": {
      "text/html": [
       "<style>\n",
       ".dl-inline {width: auto; margin:0; padding: 0}\n",
       ".dl-inline>dt, .dl-inline>dd {float: none; width: auto; display: inline-block}\n",
       ".dl-inline>dt::after {content: \":\\0020\"; padding-right: .5ex}\n",
       ".dl-inline>dt:not(:first-of-type) {padding-left: .5ex}\n",
       "</style><dl class=dl-inline><dt>21</dt><dd>'미스 포츈'</dd><dt>875</dt><dd>'세트'</dd><dt>523</dt><dd>'아펠리오스'</dd><dt>39</dt><dd>'이렐리아'</dd><dt>110</dt><dd>'바루스'</dd><dt>517</dt><dd>'사일러스'</dd><dt>22</dt><dd>'애쉬'</dd><dt>80</dt><dd>'판테온'</dd><dt>266</dt><dd>'아트록스'</dd><dt>421</dt><dd>'렉사이'</dd></dl>\n"
      ],
      "text/latex": [
       "\\begin{description*}\n",
       "\\item[21] '미스 포츈'\n",
       "\\item[875] '세트'\n",
       "\\item[523] '아펠리오스'\n",
       "\\item[39] '이렐리아'\n",
       "\\item[110] '바루스'\n",
       "\\item[517] '사일러스'\n",
       "\\item[22] '애쉬'\n",
       "\\item[80] '판테온'\n",
       "\\item[266] '아트록스'\n",
       "\\item[421] '렉사이'\n",
       "\\end{description*}\n"
      ],
      "text/markdown": [
       "21\n",
       ":   '미스 포츈'875\n",
       ":   '세트'523\n",
       ":   '아펠리오스'39\n",
       ":   '이렐리아'110\n",
       ":   '바루스'517\n",
       ":   '사일러스'22\n",
       ":   '애쉬'80\n",
       ":   '판테온'266\n",
       ":   '아트록스'421\n",
       ":   '렉사이'\n",
       "\n"
      ],
      "text/plain": [
       "          21          875          523           39          110          517 \n",
       " \"미스 포츈\"       \"세트\" \"아펠리오스\"   \"이렐리아\"     \"바루스\"   \"사일러스\" \n",
       "          22           80          266          421 \n",
       "      \"애쉬\"     \"판테온\"   \"아트록스\"     \"렉사이\" "
      ]
     },
     "metadata": {},
     "output_type": "display_data"
    }
   ],
   "source": [
    "### 챔피언으로 분석해보쟈\n",
    "## 나의 선호 챔피언은?\n",
    "champions.table = sort(table(champions.id), decreasing=T)\n",
    "top_champions.id = names(top(champions.table, n =10))\n",
    "top_champions.name = cData.keys[top_champions.id]\n",
    "top_champions.name"
   ]
  },
  {
   "cell_type": "code",
   "execution_count": 179,
   "metadata": {},
   "outputs": [
    {
     "name": "stdout",
     "output_type": "stream",
     "text": [
      "미스 포츈 37.5 %\n",
      "세트 57.14286 %\n",
      "아펠리오스 80 %\n",
      "이렐리아 25 %\n",
      "바루스 75 %\n",
      "사일러스 0 %\n",
      "애쉬 50 %\n",
      "판테온 50 %\n",
      "아트록스 50 %\n",
      "렉사이 0 %\n"
     ]
    }
   ],
   "source": [
    "## 선호 챔피언들의 승률은?\n",
    "wins.rate$champion = c()\n",
    "for(c in top_champions.name){\n",
    "    cat(c, mean(wins[champions.name==c])*100, \"%\\n\")\n",
    "    wins.rate$champion[c] = mean(wins[champions.name==c])\n",
    "}\n",
    "# wins.late.champion"
   ]
  },
  {
   "cell_type": "code",
   "execution_count": 180,
   "metadata": {},
   "outputs": [],
   "source": [
    "## 나의 숙련도 높은 챔피언은?\n",
    "top_champions.mastery = head(masterys, n=10)"
   ]
  },
  {
   "cell_type": "code",
   "execution_count": 181,
   "metadata": {},
   "outputs": [],
   "source": [
    "top_champions.mastery.id = as.character(top_champions.mastery$championId)\n",
    "top_champions.mastery.name = cData.keys[top_champions.mastery.id]\n",
    "top_champions.mastery.point = top_champions.mastery$championPoints\n",
    "top_champions.mastery.level = top_champions.mastery$championLevel"
   ]
  },
  {
   "cell_type": "code",
   "execution_count": 182,
   "metadata": {},
   "outputs": [
    {
     "data": {
      "text/html": [
       "<table>\n",
       "<caption>A data.frame: 10 × 4</caption>\n",
       "<thead>\n",
       "\t<tr><th></th><th scope=col>championId</th><th scope=col>championLevel</th><th scope=col>championPoints</th><th scope=col>championName</th></tr>\n",
       "\t<tr><th></th><th scope=col>&lt;int&gt;</th><th scope=col>&lt;int&gt;</th><th scope=col>&lt;int&gt;</th><th scope=col>&lt;chr&gt;</th></tr>\n",
       "</thead>\n",
       "<tbody>\n",
       "\t<tr><th scope=row>1</th><td> 92</td><td>7</td><td>320504</td><td>리븐    </td></tr>\n",
       "\t<tr><th scope=row>2</th><td>  7</td><td>7</td><td>180019</td><td>르블랑  </td></tr>\n",
       "\t<tr><th scope=row>3</th><td>164</td><td>7</td><td>171979</td><td>카밀    </td></tr>\n",
       "\t<tr><th scope=row>4</th><td>114</td><td>7</td><td>161353</td><td>피오라  </td></tr>\n",
       "\t<tr><th scope=row>5</th><td> 39</td><td>5</td><td>144697</td><td>이렐리아</td></tr>\n",
       "\t<tr><th scope=row>6</th><td>145</td><td>5</td><td>115553</td><td>카이사  </td></tr>\n",
       "\t<tr><th scope=row>7</th><td>127</td><td>7</td><td> 88395</td><td>리산드라</td></tr>\n",
       "\t<tr><th scope=row>8</th><td> 64</td><td>5</td><td> 84283</td><td>리 신   </td></tr>\n",
       "\t<tr><th scope=row>9</th><td> 84</td><td>6</td><td> 80396</td><td>아칼리  </td></tr>\n",
       "\t<tr><th scope=row>10</th><td>412</td><td>5</td><td> 67730</td><td>쓰레쉬  </td></tr>\n",
       "</tbody>\n",
       "</table>\n"
      ],
      "text/latex": [
       "A data.frame: 10 × 4\n",
       "\\begin{tabular}{r|llll}\n",
       "  & championId & championLevel & championPoints & championName\\\\\n",
       "  & <int> & <int> & <int> & <chr>\\\\\n",
       "\\hline\n",
       "\t1 &  92 & 7 & 320504 & 리븐    \\\\\n",
       "\t2 &   7 & 7 & 180019 & 르블랑  \\\\\n",
       "\t3 & 164 & 7 & 171979 & 카밀    \\\\\n",
       "\t4 & 114 & 7 & 161353 & 피오라  \\\\\n",
       "\t5 &  39 & 5 & 144697 & 이렐리아\\\\\n",
       "\t6 & 145 & 5 & 115553 & 카이사  \\\\\n",
       "\t7 & 127 & 7 &  88395 & 리산드라\\\\\n",
       "\t8 &  64 & 5 &  84283 & 리 신   \\\\\n",
       "\t9 &  84 & 6 &  80396 & 아칼리  \\\\\n",
       "\t10 & 412 & 5 &  67730 & 쓰레쉬  \\\\\n",
       "\\end{tabular}\n"
      ],
      "text/markdown": [
       "\n",
       "A data.frame: 10 × 4\n",
       "\n",
       "| <!--/--> | championId &lt;int&gt; | championLevel &lt;int&gt; | championPoints &lt;int&gt; | championName &lt;chr&gt; |\n",
       "|---|---|---|---|---|\n",
       "| 1 |  92 | 7 | 320504 | 리븐     |\n",
       "| 2 |   7 | 7 | 180019 | 르블랑   |\n",
       "| 3 | 164 | 7 | 171979 | 카밀     |\n",
       "| 4 | 114 | 7 | 161353 | 피오라   |\n",
       "| 5 |  39 | 5 | 144697 | 이렐리아 |\n",
       "| 6 | 145 | 5 | 115553 | 카이사   |\n",
       "| 7 | 127 | 7 |  88395 | 리산드라 |\n",
       "| 8 |  64 | 5 |  84283 | 리 신    |\n",
       "| 9 |  84 | 6 |  80396 | 아칼리   |\n",
       "| 10 | 412 | 5 |  67730 | 쓰레쉬   |\n",
       "\n"
      ],
      "text/plain": [
       "   championId championLevel championPoints championName\n",
       "1   92        7             320504         리븐        \n",
       "2    7        7             180019         르블랑      \n",
       "3  164        7             171979         카밀        \n",
       "4  114        7             161353         피오라      \n",
       "5   39        5             144697         이렐리아    \n",
       "6  145        5             115553         카이사      \n",
       "7  127        7              88395         리산드라    \n",
       "8   64        5              84283         리 신       \n",
       "9   84        6              80396         아칼리      \n",
       "10 412        5              67730         쓰레쉬      "
      ]
     },
     "metadata": {},
     "output_type": "display_data"
    }
   ],
   "source": [
    "top_champions.mastery$championName = top_champions.mastery.name\n",
    "top_champions.mastery"
   ]
  },
  {
   "cell_type": "code",
   "execution_count": 183,
   "metadata": {},
   "outputs": [
    {
     "name": "stdout",
     "output_type": "stream",
     "text": [
      "리븐 NaN %\n",
      "르블랑 NaN %\n",
      "카밀 100 %\n",
      "피오라 NaN %\n",
      "이렐리아 25 %\n",
      "카이사 NaN %\n",
      "리산드라 NaN %\n",
      "리 신 0 %\n",
      "아칼리 100 %\n",
      "쓰레쉬 NaN %\n"
     ]
    }
   ],
   "source": [
    "## 숙련도 높은 챔피언은 승률이 높을까?\n",
    "wins.rate$champion.mastery = c()\n",
    "for(c in top_champions.mastery.name){\n",
    "    cat(c, mean(wins[champions.name==c])*100, \"%\\n\")\n",
    "    wins.rate$champion.mastery[c] = mean(wins[champions.name==c])\n",
    "}\n",
    "# wins.late.champion.mastery\n",
    "# result: 데이터 부족."
   ]
  },
  {
   "cell_type": "code",
   "execution_count": 185,
   "metadata": {},
   "outputs": [],
   "source": [
    "### 선호하는 포지션으로 챔프를 추천해주쟈\n",
    "top_positions = top(table(unlist(positions)))\n",
    "recommend_positions = names(top_positions)[1:3]\n",
    "recommend_champions = sapply(cData$data, function(x) {\n",
    "    if(sum(x$tags %in% recommend_positions) >= 2) x\n",
    "})\n",
    "recommend_champions.name = unlist(sapply(recommend_champions , function(x) x$name))\n",
    "recommend_champions.id = unlist(sapply(recommend_champions , function(x) x$id))\n",
    "recommend_champions.key = unlist(sapply(recommend_champions , function(x) x$key))"
   ]
  },
  {
   "cell_type": "code",
   "execution_count": 186,
   "metadata": {},
   "outputs": [
    {
     "data": {
      "text/html": [
       "<style>\n",
       ".list-inline {list-style: none; margin:0; padding: 0}\n",
       ".list-inline>li {display: inline-block}\n",
       ".list-inline>li:not(:last-child)::after {content: \"\\00b7\"; padding: 0 .5ex}\n",
       "</style>\n",
       "<ol class=list-inline><li>'Marksman'</li><li>'Fighter'</li><li>'Assassin'</li></ol>\n"
      ],
      "text/latex": [
       "\\begin{enumerate*}\n",
       "\\item 'Marksman'\n",
       "\\item 'Fighter'\n",
       "\\item 'Assassin'\n",
       "\\end{enumerate*}\n"
      ],
      "text/markdown": [
       "1. 'Marksman'\n",
       "2. 'Fighter'\n",
       "3. 'Assassin'\n",
       "\n",
       "\n"
      ],
      "text/plain": [
       "[1] \"Marksman\" \"Fighter\"  \"Assassin\""
      ]
     },
     "metadata": {},
     "output_type": "display_data"
    }
   ],
   "source": [
    "recommend_positions"
   ]
  },
  {
   "cell_type": "code",
   "execution_count": 187,
   "metadata": {},
   "outputs": [
    {
     "name": "stdout",
     "output_type": "stream",
     "text": [
      "당신에게 추천해드리는 챔피언들입니다.( 0.18 %의 신뢰도 )\n",
      " 에코 피오라 피즈 이렐리아 잭스 제이스 케인 리 신 마스터 이 녹턴 판테온 키아나 퀸 렝가 리븐 티모 트리스타나 트린다미어 트위치 베인 바이 신 짜오 야스오"
     ]
    }
   ],
   "source": [
    "recommend_p = mean(champions.name %in% recommend_champions.name)\n",
    "cat(\"당신에게 추천해드리는 챔피언들입니다.(\",recommend_p,\"%의 신뢰도 )\\n\",paste(recommend_champions.name))"
   ]
  },
  {
   "cell_type": "code",
   "execution_count": 188,
   "metadata": {},
   "outputs": [
    {
     "data": {
      "text/html": [
       "0.18"
      ],
      "text/latex": [
       "0.18"
      ],
      "text/markdown": [
       "0.18"
      ],
      "text/plain": [
       "[1] 0.18"
      ]
     },
     "metadata": {},
     "output_type": "display_data"
    }
   ],
   "source": [
    "recommend_p"
   ]
  },
  {
   "cell_type": "code",
   "execution_count": 189,
   "metadata": {},
   "outputs": [
    {
     "data": {
      "text/html": [
       "<style>\n",
       ".list-inline {list-style: none; margin:0; padding: 0}\n",
       ".list-inline>li {display: inline-block}\n",
       ".list-inline>li:not(:last-child)::after {content: \"\\00b7\"; padding: 0 .5ex}\n",
       "</style>\n",
       "<ol class=list-inline><li>2</li><li>7</li><li>7</li><li>6</li><li>6</li><li>12</li><li>14</li><li>1</li></ol>\n"
      ],
      "text/latex": [
       "\\begin{enumerate*}\n",
       "\\item 2\n",
       "\\item 7\n",
       "\\item 7\n",
       "\\item 6\n",
       "\\item 6\n",
       "\\item 12\n",
       "\\item 14\n",
       "\\item 1\n",
       "\\end{enumerate*}\n"
      ],
      "text/markdown": [
       "1. 2\n",
       "2. 7\n",
       "3. 7\n",
       "4. 6\n",
       "5. 6\n",
       "6. 12\n",
       "7. 14\n",
       "8. 1\n",
       "\n",
       "\n"
      ],
      "text/plain": [
       "[1]  2  7  7  6  6 12 14  1"
      ]
     },
     "metadata": {},
     "output_type": "display_data"
    }
   ],
   "source": [
    "assists[champions.name==favoriteChampions[1]]"
   ]
  },
  {
   "cell_type": "code",
   "execution_count": 190,
   "metadata": {},
   "outputs": [
    {
     "name": "stdout",
     "output_type": "stream",
     "text": [
      "[1] \"MID 0.6\"\n",
      "[1] \"TOP 0.5\"\n",
      "[1] \"BOTTOM 0.470588235294118\"\n",
      "[1] \"JUNGLE 0\"\n",
      "[1] \"NONE 0.588235294117647\"\n"
     ]
    }
   ],
   "source": [
    "### 라인 별 승률\n",
    "wins.rate$lane = c()\n",
    "for(lane in c(\"MID\", \"TOP\", \"BOTTOM\", \"JUNGLE\", \"NONE\")){\n",
    "    print(paste(lane, mean(wins[lanes == lane])))\n",
    "    wins.rate$lane[lane] = mean(wins[lanes==lane])\n",
    "}"
   ]
  },
  {
   "cell_type": "code",
   "execution_count": 193,
   "metadata": {},
   "outputs": [
    {
     "name": "stdout",
     "output_type": "stream",
     "text": [
      "[1] \"Marksman 0.46\"\n",
      "[1] \"Mage 0.18\"\n",
      "[1] \"Fighter 0.44\"\n",
      "[1] \"Assassin 0.26\"\n",
      "[1] \"Support 0.08\"\n",
      "[1] \"Tank 0.22\"\n"
     ]
    }
   ],
   "source": [
    "### 포지션 별 승률\n",
    "wins.rate$position = c()\n",
    "for(pos in unique(unlist(positions))){\n",
    "    a = mean(sapply(positions, function(x) pos %in% x))\n",
    "    print(paste(pos, a))\n",
    "    wins.rate$position[pos] = a\n",
    "}"
   ]
  },
  {
   "cell_type": "code",
   "execution_count": 194,
   "metadata": {},
   "outputs": [
    {
     "data": {
      "text/html": [
       "<dl>\n",
       "\t<dt>$total</dt>\n",
       "\t\t<dd><table>\n",
       "<caption>A data.frame: 1 × 1</caption>\n",
       "<thead>\n",
       "\t<tr><th scope=col>win_rate</th></tr>\n",
       "\t<tr><th scope=col>&lt;dbl&gt;</th></tr>\n",
       "</thead>\n",
       "<tbody>\n",
       "\t<tr><td>0.5</td></tr>\n",
       "</tbody>\n",
       "</table>\n",
       "</dd>\n",
       "\t<dt>$champion</dt>\n",
       "\t\t<dd><table>\n",
       "<caption>A data.frame: 10 × 1</caption>\n",
       "<thead>\n",
       "\t<tr><th></th><th scope=col>win_rate</th></tr>\n",
       "\t<tr><th></th><th scope=col>&lt;dbl&gt;</th></tr>\n",
       "</thead>\n",
       "<tbody>\n",
       "\t<tr><th scope=row>미스 포츈</th><td>0.3750000</td></tr>\n",
       "\t<tr><th scope=row>세트</th><td>0.5714286</td></tr>\n",
       "\t<tr><th scope=row>아펠리오스</th><td>0.8000000</td></tr>\n",
       "\t<tr><th scope=row>이렐리아</th><td>0.2500000</td></tr>\n",
       "\t<tr><th scope=row>바루스</th><td>0.7500000</td></tr>\n",
       "\t<tr><th scope=row>사일러스</th><td>0.0000000</td></tr>\n",
       "\t<tr><th scope=row>애쉬</th><td>0.5000000</td></tr>\n",
       "\t<tr><th scope=row>판테온</th><td>0.5000000</td></tr>\n",
       "\t<tr><th scope=row>아트록스</th><td>0.5000000</td></tr>\n",
       "\t<tr><th scope=row>렉사이</th><td>0.0000000</td></tr>\n",
       "</tbody>\n",
       "</table>\n",
       "</dd>\n",
       "\t<dt>$champion.mastery</dt>\n",
       "\t\t<dd><table>\n",
       "<caption>A data.frame: 10 × 1</caption>\n",
       "<thead>\n",
       "\t<tr><th></th><th scope=col>win_rate</th></tr>\n",
       "\t<tr><th></th><th scope=col>&lt;dbl&gt;</th></tr>\n",
       "</thead>\n",
       "<tbody>\n",
       "\t<tr><th scope=row>리븐</th><td> NaN</td></tr>\n",
       "\t<tr><th scope=row>르블랑</th><td> NaN</td></tr>\n",
       "\t<tr><th scope=row>카밀</th><td>1.00</td></tr>\n",
       "\t<tr><th scope=row>피오라</th><td> NaN</td></tr>\n",
       "\t<tr><th scope=row>이렐리아</th><td>0.25</td></tr>\n",
       "\t<tr><th scope=row>카이사</th><td> NaN</td></tr>\n",
       "\t<tr><th scope=row>리산드라</th><td> NaN</td></tr>\n",
       "\t<tr><th scope=row>리 신</th><td>0.00</td></tr>\n",
       "\t<tr><th scope=row>아칼리</th><td>1.00</td></tr>\n",
       "\t<tr><th scope=row>쓰레쉬</th><td> NaN</td></tr>\n",
       "</tbody>\n",
       "</table>\n",
       "</dd>\n",
       "\t<dt>$lane</dt>\n",
       "\t\t<dd><table>\n",
       "<caption>A data.frame: 5 × 1</caption>\n",
       "<thead>\n",
       "\t<tr><th></th><th scope=col>win_rate</th></tr>\n",
       "\t<tr><th></th><th scope=col>&lt;dbl&gt;</th></tr>\n",
       "</thead>\n",
       "<tbody>\n",
       "\t<tr><th scope=row>MID</th><td>0.6000000</td></tr>\n",
       "\t<tr><th scope=row>TOP</th><td>0.5000000</td></tr>\n",
       "\t<tr><th scope=row>BOTTOM</th><td>0.4705882</td></tr>\n",
       "\t<tr><th scope=row>JUNGLE</th><td>0.0000000</td></tr>\n",
       "\t<tr><th scope=row>NONE</th><td>0.5882353</td></tr>\n",
       "</tbody>\n",
       "</table>\n",
       "</dd>\n",
       "\t<dt>$position</dt>\n",
       "\t\t<dd><table>\n",
       "<caption>A data.frame: 6 × 1</caption>\n",
       "<thead>\n",
       "\t<tr><th></th><th scope=col>win_rate</th></tr>\n",
       "\t<tr><th></th><th scope=col>&lt;dbl&gt;</th></tr>\n",
       "</thead>\n",
       "<tbody>\n",
       "\t<tr><th scope=row>Marksman</th><td>0.46</td></tr>\n",
       "\t<tr><th scope=row>Mage</th><td>0.18</td></tr>\n",
       "\t<tr><th scope=row>Fighter</th><td>0.44</td></tr>\n",
       "\t<tr><th scope=row>Assassin</th><td>0.26</td></tr>\n",
       "\t<tr><th scope=row>Support</th><td>0.08</td></tr>\n",
       "\t<tr><th scope=row>Tank</th><td>0.22</td></tr>\n",
       "</tbody>\n",
       "</table>\n",
       "</dd>\n",
       "</dl>\n"
      ],
      "text/latex": [
       "\\begin{description}\n",
       "\\item[\\$total] A data.frame: 1 × 1\n",
       "\\begin{tabular}{l}\n",
       " win\\_rate\\\\\n",
       " <dbl>\\\\\n",
       "\\hline\n",
       "\t 0.5\\\\\n",
       "\\end{tabular}\n",
       "\n",
       "\\item[\\$champion] A data.frame: 10 × 1\n",
       "\\begin{tabular}{r|l}\n",
       "  & win\\_rate\\\\\n",
       "  & <dbl>\\\\\n",
       "\\hline\n",
       "\t미스 포츈 & 0.3750000\\\\\n",
       "\t세트 & 0.5714286\\\\\n",
       "\t아펠리오스 & 0.8000000\\\\\n",
       "\t이렐리아 & 0.2500000\\\\\n",
       "\t바루스 & 0.7500000\\\\\n",
       "\t사일러스 & 0.0000000\\\\\n",
       "\t애쉬 & 0.5000000\\\\\n",
       "\t판테온 & 0.5000000\\\\\n",
       "\t아트록스 & 0.5000000\\\\\n",
       "\t렉사이 & 0.0000000\\\\\n",
       "\\end{tabular}\n",
       "\n",
       "\\item[\\$champion.mastery] A data.frame: 10 × 1\n",
       "\\begin{tabular}{r|l}\n",
       "  & win\\_rate\\\\\n",
       "  & <dbl>\\\\\n",
       "\\hline\n",
       "\t리븐 &  NaN\\\\\n",
       "\t르블랑 &  NaN\\\\\n",
       "\t카밀 & 1.00\\\\\n",
       "\t피오라 &  NaN\\\\\n",
       "\t이렐리아 & 0.25\\\\\n",
       "\t카이사 &  NaN\\\\\n",
       "\t리산드라 &  NaN\\\\\n",
       "\t리 신 & 0.00\\\\\n",
       "\t아칼리 & 1.00\\\\\n",
       "\t쓰레쉬 &  NaN\\\\\n",
       "\\end{tabular}\n",
       "\n",
       "\\item[\\$lane] A data.frame: 5 × 1\n",
       "\\begin{tabular}{r|l}\n",
       "  & win\\_rate\\\\\n",
       "  & <dbl>\\\\\n",
       "\\hline\n",
       "\tMID & 0.6000000\\\\\n",
       "\tTOP & 0.5000000\\\\\n",
       "\tBOTTOM & 0.4705882\\\\\n",
       "\tJUNGLE & 0.0000000\\\\\n",
       "\tNONE & 0.5882353\\\\\n",
       "\\end{tabular}\n",
       "\n",
       "\\item[\\$position] A data.frame: 6 × 1\n",
       "\\begin{tabular}{r|l}\n",
       "  & win\\_rate\\\\\n",
       "  & <dbl>\\\\\n",
       "\\hline\n",
       "\tMarksman & 0.46\\\\\n",
       "\tMage & 0.18\\\\\n",
       "\tFighter & 0.44\\\\\n",
       "\tAssassin & 0.26\\\\\n",
       "\tSupport & 0.08\\\\\n",
       "\tTank & 0.22\\\\\n",
       "\\end{tabular}\n",
       "\n",
       "\\end{description}\n"
      ],
      "text/markdown": [
       "$total\n",
       ":   \n",
       "A data.frame: 1 × 1\n",
       "\n",
       "| win_rate &lt;dbl&gt; |\n",
       "|---|\n",
       "| 0.5 |\n",
       "\n",
       "\n",
       "$champion\n",
       ":   \n",
       "A data.frame: 10 × 1\n",
       "\n",
       "| <!--/--> | win_rate &lt;dbl&gt; |\n",
       "|---|---|\n",
       "| 미스 포츈 | 0.3750000 |\n",
       "| 세트 | 0.5714286 |\n",
       "| 아펠리오스 | 0.8000000 |\n",
       "| 이렐리아 | 0.2500000 |\n",
       "| 바루스 | 0.7500000 |\n",
       "| 사일러스 | 0.0000000 |\n",
       "| 애쉬 | 0.5000000 |\n",
       "| 판테온 | 0.5000000 |\n",
       "| 아트록스 | 0.5000000 |\n",
       "| 렉사이 | 0.0000000 |\n",
       "\n",
       "\n",
       "$champion.mastery\n",
       ":   \n",
       "A data.frame: 10 × 1\n",
       "\n",
       "| <!--/--> | win_rate &lt;dbl&gt; |\n",
       "|---|---|\n",
       "| 리븐 |  NaN |\n",
       "| 르블랑 |  NaN |\n",
       "| 카밀 | 1.00 |\n",
       "| 피오라 |  NaN |\n",
       "| 이렐리아 | 0.25 |\n",
       "| 카이사 |  NaN |\n",
       "| 리산드라 |  NaN |\n",
       "| 리 신 | 0.00 |\n",
       "| 아칼리 | 1.00 |\n",
       "| 쓰레쉬 |  NaN |\n",
       "\n",
       "\n",
       "$lane\n",
       ":   \n",
       "A data.frame: 5 × 1\n",
       "\n",
       "| <!--/--> | win_rate &lt;dbl&gt; |\n",
       "|---|---|\n",
       "| MID | 0.6000000 |\n",
       "| TOP | 0.5000000 |\n",
       "| BOTTOM | 0.4705882 |\n",
       "| JUNGLE | 0.0000000 |\n",
       "| NONE | 0.5882353 |\n",
       "\n",
       "\n",
       "$position\n",
       ":   \n",
       "A data.frame: 6 × 1\n",
       "\n",
       "| <!--/--> | win_rate &lt;dbl&gt; |\n",
       "|---|---|\n",
       "| Marksman | 0.46 |\n",
       "| Mage | 0.18 |\n",
       "| Fighter | 0.44 |\n",
       "| Assassin | 0.26 |\n",
       "| Support | 0.08 |\n",
       "| Tank | 0.22 |\n",
       "\n",
       "\n",
       "\n",
       "\n"
      ],
      "text/plain": [
       "$total\n",
       "  win_rate\n",
       "1      0.5\n",
       "\n",
       "$champion\n",
       "            win_rate\n",
       "미스 포츈  0.3750000\n",
       "세트       0.5714286\n",
       "아펠리오스 0.8000000\n",
       "이렐리아   0.2500000\n",
       "바루스     0.7500000\n",
       "사일러스   0.0000000\n",
       "애쉬       0.5000000\n",
       "판테온     0.5000000\n",
       "아트록스   0.5000000\n",
       "렉사이     0.0000000\n",
       "\n",
       "$champion.mastery\n",
       "         win_rate\n",
       "리븐          NaN\n",
       "르블랑        NaN\n",
       "카밀         1.00\n",
       "피오라        NaN\n",
       "이렐리아     0.25\n",
       "카이사        NaN\n",
       "리산드라      NaN\n",
       "리 신        0.00\n",
       "아칼리       1.00\n",
       "쓰레쉬        NaN\n",
       "\n",
       "$lane\n",
       "        win_rate\n",
       "MID    0.6000000\n",
       "TOP    0.5000000\n",
       "BOTTOM 0.4705882\n",
       "JUNGLE 0.0000000\n",
       "NONE   0.5882353\n",
       "\n",
       "$position\n",
       "         win_rate\n",
       "Marksman     0.46\n",
       "Mage         0.18\n",
       "Fighter      0.44\n",
       "Assassin     0.26\n",
       "Support      0.08\n",
       "Tank         0.22\n"
      ]
     },
     "metadata": {},
     "output_type": "display_data"
    }
   ],
   "source": [
    "lapply(wins.rate, function(win_rate) {data.frame(win_rate)})"
   ]
  },
  {
   "cell_type": "code",
   "execution_count": 195,
   "metadata": {},
   "outputs": [
    {
     "data": {
      "text/plain": [
       "\n",
       "Marksman  Fighter Assassin     Tank \n",
       "      23       22       13       11 "
      ]
     },
     "metadata": {},
     "output_type": "display_data"
    }
   ],
   "source": [
    "top_positions[-5]"
   ]
  },
  {
   "cell_type": "code",
   "execution_count": 197,
   "metadata": {},
   "outputs": [
    {
     "name": "stdout",
     "output_type": "stream",
     "text": [
      "[1] \"박는 와드의 개수 > 약 9.39393939393939개\"\n",
      "[1] \"최근 가장 많이 한 챔피언 > 미스 포츈 > 8판\"\n",
      "[1] \"숙련도가 가장 높은 챔피언 > 리븐 > 7레벨 > 320504xp\"\n",
      "[1] \"승률 > 약 50%\"\n",
      "[1] \"주 라인 > BOTTOM\"\n"
     ]
    },
    {
     "data": {
      "image/png": "[encoded data removed]",
      "text/plain": [
       "plot without title"
      ]
     },
     "metadata": {
      "image/png": {
       "height": 420,
       "width": 420
      },
      "text/plain": {
       "height": 420,
       "width": 420
      }
     },
     "output_type": "display_data"
    }
   ],
   "source": [
    "### 네놈의 데이터는 무슨 맛이냐\n",
    "# ward, (tear,level), champion, mastery, winrate, (ap/ad), lane, position, \n",
    "print(paste0(\"박는 와드의 개수 > 약 \", mean(wards[durations>=1200]), \"개\"))\n",
    "print(paste0(\"최근 가장 많이 한 챔피언 > \", \n",
    "             names(sort(table(champions.name),decreasing=T))[1], \" > \",\n",
    "             sort(table(champions.name),decreasing=T)[1], \"판\"))\n",
    "print(paste0(\"숙련도가 가장 높은 챔피언 > \", \n",
    "             top_champions.mastery[1, 4], \" > \",\n",
    "             top_champions.mastery[1, 2], \"레벨 > \",\n",
    "             top_champions.mastery[1, 3], \"xp\"))\n",
    "print(paste0(\"승률 > 약 \", wins.rate$total*100, \"%\"))\n",
    "print(paste0(\"주 라인 > \",\n",
    "             names(sort(table(lanes),decreasing=T))[1]))\n",
    "plot(top_positions[-5])\n"
   ]
  },
  {
   "cell_type": "code",
   "execution_count": 198,
   "metadata": {},
   "outputs": [],
   "source": [
    "friends = sort(table(data.match.participants.info.summoner),decreasing=T)[-1]"
   ]
  },
  {
   "cell_type": "code",
   "execution_count": 199,
   "metadata": {},
   "outputs": [],
   "source": [
    "best_friends = friends[seq(1, length(friends) * 0.03)]"
   ]
  },
  {
   "cell_type": "code",
   "execution_count": 200,
   "metadata": {},
   "outputs": [
    {
     "data": {
      "text/plain": [
       "data.match.participants.info.summoner\n",
       "          정채산    IllllllIlllll   No longer like          supsup6 \n",
       "               4                3                3                3 \n",
       " thinkuzihowtodo           고수달           미유비   ming qiu zhang \n",
       "               3                3                3                2 \n",
       "     321ewqewq21         asdfasdf      Awe YoungJa \n",
       "               2                2                2 "
      ]
     },
     "metadata": {},
     "output_type": "display_data"
    }
   ],
   "source": [
    "best_friends"
   ]
  },
  {
   "cell_type": "code",
   "execution_count": null,
   "metadata": {},
   "outputs": [],
   "source": []
  }
 ],
 "metadata": {
  "kernelspec": {
   "display_name": "R",
   "language": "R",
   "name": "ir"
  },
  "language_info": {
   "codemirror_mode": "r",
   "file_extension": ".r",
   "mimetype": "text/x-r-source",
   "name": "R",
   "pygments_lexer": "r",
   "version": "3.6.1"
  }
 },
 "nbformat": 4,
 "nbformat_minor": 4
}
