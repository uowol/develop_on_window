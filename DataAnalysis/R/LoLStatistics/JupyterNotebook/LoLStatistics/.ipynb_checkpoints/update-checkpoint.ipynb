{
 "cells": [
  {
   "cell_type": "code",
   "execution_count": 1,
   "metadata": {},
   "outputs": [],
   "source": [
    "### setup\n",
    "library(RCurl) # = getForm()\n",
    "library(jsonlite)\n",
    "\n",
    "### functions\n",
    "LOG = function(txt){\n",
    "    write(txt, file=\"log.txt\")\n",
    "}\n",
    "cData.get = function(key){\n",
    "    return(cData$data[which(names(cData.keys) == key)])\n",
    "}\n",
    "\n",
    "### read assets\n",
    "cData = fromJSON('data/championsData.json')\n",
    "iData = fromJSON('data/itemsData.json')"
   ]
  },
  {
   "cell_type": "code",
   "execution_count": 2,
   "metadata": {},
   "outputs": [],
   "source": [
    "### LoL-API\n",
    "key = \"?api_key=RGAPI-ec9cdc93-5a23-404e-87ef-a1aa78c8ca26\"\n",
    "api_url = \"https://kr.api.riotgames.com\""
   ]
  },
  {
   "cell_type": "code",
   "execution_count": 52,
   "metadata": {},
   "outputs": [],
   "source": [
    "name = \"김옥티/\""
   ]
  },
  {
   "cell_type": "code",
   "execution_count": 53,
   "metadata": {},
   "outputs": [],
   "source": [
    "### get {NAME} summoner\n",
    "operation = '/lol/summoner/v4/summoners/by-name/'\n",
    "url = paste0(api_url, operation, name, key)\n",
    "LOG(url)\n",
    "result = fromJSON(getForm(url, query=\"\"))\n",
    "write(toJSON(result), file=paste0(\"data/\", name,\"summoner.json\"))"
   ]
  },
  {
   "cell_type": "code",
   "execution_count": 3,
   "metadata": {},
   "outputs": [],
   "source": [
    "tier = 'BRONZE/'"
   ]
  },
  {
   "cell_type": "code",
   "execution_count": 14,
   "metadata": {},
   "outputs": [],
   "source": [
    "### get {TIER} Summoner List\n",
    "operation = '/lol/league-exp/v4/entries/'\n",
    "queue = 'RANKED_SOLO_5x5/'\n",
    "division = 'I'\n",
    "page = '&page=1'\n",
    "url = paste0(api_url, operation, queue, tier, division, key, page)\n",
    "result = fromJSON(getForm(url, query=\"\"))\n",
    "LOG(url)\n",
    "write(toJSON(result), file=paste0(\"data/\", tier,\"playerList.json\"))"
   ]
  },
  {
   "cell_type": "code",
   "execution_count": 4,
   "metadata": {},
   "outputs": [],
   "source": [
    "target = tier\n",
    "result = fromJSON(paste0(\"data/\",tier,\"playerList.json\"))\n",
    "# result = fromJSON(paste0(\"data/\",name,\"summoner.json\"))"
   ]
  },
  {
   "cell_type": "code",
   "execution_count": 58,
   "metadata": {},
   "outputs": [
    {
     "ename": "ERROR",
     "evalue": "Error in detach(\"package:rjson\"): invalid 'name' argument\n",
     "output_type": "error",
     "traceback": [
      "Error in detach(\"package:rjson\"): invalid 'name' argument\nTraceback:\n",
      "1. detach(\"package:rjson\")",
      "2. stop(\"invalid 'name' argument\")"
     ]
    }
   ],
   "source": [
    "detach(\"package:rjson\")\n",
    "library(jsonlite)"
   ]
  },
  {
   "cell_type": "code",
   "execution_count": 16,
   "metadata": {},
   "outputs": [],
   "source": [
    "### NAME\n",
    "update = function(){\n",
    "    ### mkdir\n",
    "    dir.create(paste0(\"data/\", target))\n",
    "\n",
    "    ### get Summoner\n",
    "    data.summoner = result\n",
    "\n",
    "    ### get Summoner's League - Tier\n",
    "    operation = '/lol/league/v4/entries/by-summoner/'\n",
    "    url = paste0(api_url, operation, data.summoner$id, key)\n",
    "    LOG(url)\n",
    "    write(getForm(url, query=\"\"), file=paste0(\"data/\",target,\"/summoner_league.json\"))\n",
    "    Sys.sleep(0.05)\n",
    "\n",
    "    ### get Champion Mastery\n",
    "    operation = \"/lol/champion-mastery/v4/champion-masteries/by-summoner/\"\n",
    "    url = paste0(api_url, operation, data.summoner$id, key)\n",
    "    LOG(url)\n",
    "    data.mastery = fromJSON(getForm(url, query = \"\"))\n",
    "    Sys.sleep(0.05)\n",
    "    write(toJSON(data.mastery), file=paste0(\"data/\",target,\"/mastery.json\"))\n",
    "\n",
    "    ### get MatchList\n",
    "    operation = \"/lol/match/v4/matchlists/by-account/\"\n",
    "    # champion\n",
    "    queue = \"&queue=420&queue=430&queue=440\" # 랭크게임, 일반게임, 자유랭\n",
    "    season = \"&season=13\"\n",
    "    # endTime\n",
    "    # beginTime\n",
    "    matchLength = 50\n",
    "    endIndex = paste0(\"&endIndex=\",matchLength)\n",
    "    beginIndex = \"&beginIndex=0\"\n",
    "    url = paste0(api_url, operation, data.summoner$accountId, key, queue, season, endIndex, beginIndex)\n",
    "    data.matchList = fromJSON(getForm(url, query=\"\"))$matches\n",
    "    write(toJSON(data.matchList), file=paste0(\"data/\",target,\"/matchList.json\"))\n",
    "\n",
    "    Sys.sleep(20/12)\n",
    "\n",
    "    ### get match\n",
    "    data.match = c()\n",
    "    data.match.participants = c()\n",
    "    data.match.participants.info = c()\n",
    "    data.match.participants.stats = c()\n",
    "\n",
    "    print(\"start Loop\")\n",
    "    for(j in 1:matchLength){\n",
    "        index = j\n",
    "        currentMatch = data.matchList[index, ]\n",
    "        operation = '/lol/match/v4/matches/'\n",
    "        id = currentMatch$gameId\n",
    "        url = paste0(api_url, operation, id, key)\n",
    "\n",
    "        # use rjson rather than jsonlite\n",
    "        detach(\"package:jsonlite\")\n",
    "        library(rjson)\n",
    "\n",
    "        data.match.raw = getForm(url, query=\"\")\n",
    "        data.match.participants[[index]] = fromJSON(data.match.raw)[12:13]\n",
    "\n",
    "        # use jsonlite rather than rjson\n",
    "        detach(\"package:rjson\")\n",
    "        library(jsonlite)\n",
    "\n",
    "        data.match[[index]] = c(fromJSON(data.match.raw)[1:11])\n",
    "        p = data.match.participants[[index]][[1]]\n",
    "        data.match.participants.stats[[index]] = lapply(p, function(x) data.frame(x$stats))\n",
    "        p = data.match.participants[[index]][[2]]\n",
    "        data.match.participants.info[[index]] = lapply(p, function(x) data.frame(x$player))\n",
    "\n",
    "        print(paste0('- finished: ', index))\n",
    "        Sys.sleep(10/12)\n",
    "    }\n",
    "    data.match.participants = lapply(data.match.participants, function(x) x$participants)\n",
    "    write(toJSON(data.match.participants), file=paste0(\"data/\",target,\"/match_participants.json\"))\n",
    "    write(toJSON(data.match.participants.stats), file=paste0(\"data/\",target,\"/match_participants_stats.json\"))\n",
    "    write(toJSON(data.match.participants.info), file=paste0(\"data/\",target,\"/match_participants_info.json\"))\n",
    "    write(toJSON(data.match), file=paste0(\"data/\",target,\"/match.json\"))\n",
    "} "
   ]
  },
  {
   "cell_type": "code",
   "execution_count": 5,
   "metadata": {},
   "outputs": [],
   "source": [
    "### TIER\n",
    "start = 130\n",
    "end = 200\n",
    "now = start\n",
    "update = function(start,end){\n",
    "    for(i in start:end){\n",
    "        assign(\"now\", i, envir = .GlobalEnv)\n",
    "        ### mkdir\n",
    "        dir.create(paste0(\"data/\", target, i))\n",
    "\n",
    "        ### get Summoner\n",
    "        operation = \"/lol/summoner/v4/summoners/\"\n",
    "        id = result$summonerId[i]\n",
    "        url = paste0(api_url, operation, id, key)\n",
    "        page = getForm(url, query=\"\")\n",
    "        write(page, file=paste0(\"data/\",target, i,\"/summoner.json\"))\n",
    "        data.summoner = fromJSON(page)\n",
    "\n",
    "#         ### get Summoner's League - Tier\n",
    "#         operation = '/lol/league/v4/entries/by-summoner/'\n",
    "#         url = paste0(api_url, operation, data.summoner$id, key)\n",
    "#         LOG(url)\n",
    "#         write(getForm(url, query=\"\"), file=paste0(\"data/\",target, i,\"/summoner_league.json\"))\n",
    "#     \tSys.sleep(0.05)\n",
    "\n",
    "#         ### get Champion Mastery\n",
    "#         operation = \"/lol/champion-mastery/v4/champion-masteries/by-summoner/\"\n",
    "#         url = paste0(api_url, operation, data.summoner$id, key)\n",
    "#         LOG(url)\n",
    "#         data.mastery = fromJSON(getForm(url, query = \"\"))\n",
    "#         Sys.sleep(0.05)\n",
    "#         write(toJSON(data.mastery), file=paste0(\"data/\",target, i,\"/mastery.json\"))\n",
    "\n",
    "        ### get MatchList\n",
    "        operation = \"/lol/match/v4/matchlists/by-account/\"\n",
    "        # champion\n",
    "        queue = \"&queue=420&queue=430&queue=440\" # 랭크게임, 일반게임, 자유랭\n",
    "        season = \"&season=13\"\n",
    "        # endTime\n",
    "        # beginTime\n",
    "        matchLength = 20\n",
    "        endIndex = paste0(\"&endIndex=\",matchLength)\n",
    "        beginIndex = \"&beginIndex=0\"\n",
    "        url = paste0(api_url, operation, data.summoner$accountId, key, queue, season, endIndex, beginIndex)\n",
    "        data.matchList = fromJSON(getForm(url, query=\"\"))$matches\n",
    "        write(toJSON(data.matchList), file=paste0(\"data/\",target, i,\"/matchList.json\"))\n",
    "\n",
    "        Sys.sleep(20/12)\n",
    "\n",
    "        ### get match\n",
    "        data.match = c()\n",
    "        data.match.participants = c()\n",
    "        data.match.participants.info = c()\n",
    "        data.match.participants.stats = c()\n",
    "\n",
    "        print(\"start Loop\")\n",
    "        for(j in 1:matchLength){\n",
    "            index = j\n",
    "            currentMatch = data.matchList[index, ]\n",
    "            operation = '/lol/match/v4/matches/'\n",
    "            id = currentMatch$gameId\n",
    "            url = paste0(api_url, operation, id, key)\n",
    "\n",
    "            # use rjson rather than jsonlite\n",
    "            detach(\"package:jsonlite\")\n",
    "            library(rjson)\n",
    "\n",
    "            data.match.raw = getForm(url, query=\"\")\n",
    "            data.match.participants[[index]] = fromJSON(data.match.raw)[12:13]\n",
    "\n",
    "            # use jsonlite rather than rjson\n",
    "            detach(\"package:rjson\")\n",
    "            library(jsonlite)\n",
    "\n",
    "            data.match[[index]] = c(fromJSON(data.match.raw)[1:11])\n",
    "            p = data.match.participants[[index]][[1]]\n",
    "            data.match.participants.stats[[index]] = lapply(p, function(x) data.frame(x$stats))\n",
    "            p = data.match.participants[[index]][[2]]\n",
    "            data.match.participants.info[[index]] = lapply(p, function(x) data.frame(x$player))\n",
    "\n",
    "            print(paste0('- finished: ', index))\n",
    "            Sys.sleep(10/12)\n",
    "        }\n",
    "        data.match.participants = lapply(data.match.participants, function(x) x$participants)\n",
    "        write(toJSON(data.match.participants), file=paste0(\"data/\",target, i,\"/match_participants.json\"))\n",
    "        write(toJSON(data.match.participants.stats), file=paste0(\"data/\",target, i,\"/match_participants_stats.json\"))\n",
    "        write(toJSON(data.match.participants.info), file=paste0(\"data/\",target, i,\"/match_participants_info.json\"))\n",
    "        write(toJSON(data.match), file=paste0(\"data/\",target, i,\"/match.json\"))\n",
    "\n",
    "        print(paste0('> Finished: ', i))\n",
    "    }\n",
    "}"
   ]
  },
  {
   "cell_type": "code",
   "execution_count": 60,
   "metadata": {},
   "outputs": [
    {
     "ename": "ERROR",
     "evalue": "Error in update(): argument \"start\" is missing, with no default\n",
     "output_type": "error",
     "traceback": [
      "Error in update(): argument \"start\" is missing, with no default\nTraceback:\n",
      "1. update()"
     ]
    }
   ],
   "source": [
    "### NAME\n",
    "update()"
   ]
  },
  {
   "cell_type": "code",
   "execution_count": null,
   "metadata": {},
   "outputs": [],
   "source": [
    "print(\"이게되네\")"
   ]
  },
  {
   "cell_type": "code",
   "execution_count": null,
   "metadata": {},
   "outputs": [
    {
     "name": "stdout",
     "output_type": "stream",
     "text": [
      "[1] \"start Loop\"\n",
      "[1] \"- finished: 1\"\n",
      "[1] \"- finished: 2\"\n",
      "[1] \"- finished: 3\"\n",
      "[1] \"- finished: 4\"\n",
      "[1] \"- finished: 5\"\n",
      "[1] \"- finished: 6\"\n",
      "<COULDNT_RESOLVE_HOST in function (type, msg, asError = TRUE) {    if (!is.character(type)) {        i = match(type, CURLcodeValues)        typeName = if (is.na(i))             character()        else names(CURLcodeValues)[i]    }    typeName = gsub(\"^CURLE_\", \"\", typeName)    fun = (if (asError)         stop    else warning)    fun(structure(list(message = msg, call = sys.call()), class = c(typeName,         \"GenericCurlError\", \"error\", \"condition\")))}(6L, \"Could not resolve host: kr.api.riotgames.com\", TRUE): Could not resolve host: kr.api.riotgames.com>\n",
      "[1] \"start Loop\"\n",
      "[1] \"- finished: 1\"\n",
      "[1] \"- finished: 2\"\n",
      "[1] \"- finished: 3\"\n",
      "[1] \"- finished: 4\"\n",
      "[1] \"- finished: 5\"\n",
      "[1] \"- finished: 6\"\n",
      "[1] \"- finished: 7\"\n",
      "[1] \"- finished: 8\"\n",
      "[1] \"- finished: 9\"\n",
      "[1] \"- finished: 10\"\n",
      "[1] \"- finished: 11\"\n",
      "<COULDNT_RESOLVE_HOST in function (type, msg, asError = TRUE) {    if (!is.character(type)) {        i = match(type, CURLcodeValues)        typeName = if (is.na(i))             character()        else names(CURLcodeValues)[i]    }    typeName = gsub(\"^CURLE_\", \"\", typeName)    fun = (if (asError)         stop    else warning)    fun(structure(list(message = msg, call = sys.call()), class = c(typeName,         \"GenericCurlError\", \"error\", \"condition\")))}(6L, \"Could not resolve host: kr.api.riotgames.com\", TRUE): Could not resolve host: kr.api.riotgames.com>\n",
      "[1] \"start Loop\"\n",
      "[1] \"- finished: 1\"\n",
      "[1] \"- finished: 2\"\n",
      "[1] \"- finished: 3\"\n",
      "[1] \"- finished: 4\"\n",
      "[1] \"- finished: 5\"\n",
      "[1] \"- finished: 6\"\n",
      "[1] \"- finished: 7\"\n",
      "[1] \"- finished: 8\"\n",
      "[1] \"- finished: 9\"\n",
      "[1] \"- finished: 10\"\n",
      "[1] \"- finished: 11\"\n",
      "[1] \"- finished: 12\"\n",
      "[1] \"- finished: 13\"\n",
      "[1] \"- finished: 14\"\n",
      "[1] \"- finished: 15\"\n",
      "[1] \"- finished: 16\"\n",
      "[1] \"- finished: 17\"\n",
      "[1] \"- finished: 18\"\n",
      "[1] \"- finished: 19\"\n",
      "[1] \"- finished: 20\"\n",
      "[1] \"> Finished: 59\"\n"
     ]
    },
    {
     "name": "stderr",
     "output_type": "stream",
     "text": [
      "Warning message in dir.create(paste0(\"data/\", target, i)):\n",
      "“'data/BRONZE/60' already exists”\n"
     ]
    },
    {
     "name": "stdout",
     "output_type": "stream",
     "text": [
      "[1] \"start Loop\"\n",
      "[1] \"- finished: 1\"\n",
      "[1] \"- finished: 2\"\n",
      "[1] \"- finished: 3\"\n",
      "[1] \"- finished: 4\"\n",
      "[1] \"- finished: 5\"\n",
      "[1] \"- finished: 6\"\n",
      "[1] \"- finished: 7\"\n",
      "[1] \"- finished: 8\"\n",
      "[1] \"- finished: 9\"\n",
      "[1] \"- finished: 10\"\n",
      "[1] \"- finished: 11\"\n",
      "[1] \"- finished: 12\"\n",
      "[1] \"- finished: 13\"\n",
      "[1] \"- finished: 14\"\n",
      "[1] \"- finished: 15\"\n",
      "[1] \"- finished: 16\"\n",
      "[1] \"- finished: 17\"\n",
      "[1] \"- finished: 18\"\n",
      "[1] \"- finished: 19\"\n",
      "[1] \"- finished: 20\"\n",
      "[1] \"> Finished: 60\"\n"
     ]
    },
    {
     "name": "stderr",
     "output_type": "stream",
     "text": [
      "Warning message in dir.create(paste0(\"data/\", target, i)):\n",
      "“'data/BRONZE/61' already exists”\n"
     ]
    },
    {
     "name": "stdout",
     "output_type": "stream",
     "text": [
      "[1] \"start Loop\"\n",
      "[1] \"- finished: 1\"\n",
      "[1] \"- finished: 2\"\n",
      "[1] \"- finished: 3\"\n",
      "[1] \"- finished: 4\"\n",
      "[1] \"- finished: 5\"\n",
      "[1] \"- finished: 6\"\n",
      "[1] \"- finished: 7\"\n",
      "[1] \"- finished: 8\"\n",
      "[1] \"- finished: 9\"\n",
      "[1] \"- finished: 10\"\n",
      "[1] \"- finished: 11\"\n",
      "[1] \"- finished: 12\"\n",
      "[1] \"- finished: 13\"\n",
      "[1] \"- finished: 14\"\n",
      "[1] \"- finished: 15\"\n",
      "[1] \"- finished: 16\"\n",
      "[1] \"- finished: 17\"\n",
      "[1] \"- finished: 18\"\n",
      "[1] \"- finished: 19\"\n",
      "[1] \"- finished: 20\"\n",
      "[1] \"> Finished: 61\"\n"
     ]
    },
    {
     "name": "stderr",
     "output_type": "stream",
     "text": [
      "Warning message in dir.create(paste0(\"data/\", target, i)):\n",
      "“'data/BRONZE/62' already exists”\n"
     ]
    },
    {
     "name": "stdout",
     "output_type": "stream",
     "text": [
      "[1] \"start Loop\"\n",
      "[1] \"- finished: 1\"\n",
      "[1] \"- finished: 2\"\n",
      "[1] \"- finished: 3\"\n",
      "[1] \"- finished: 4\"\n",
      "[1] \"- finished: 5\"\n",
      "[1] \"- finished: 6\"\n",
      "[1] \"- finished: 7\"\n",
      "[1] \"- finished: 8\"\n",
      "[1] \"- finished: 9\"\n",
      "[1] \"- finished: 10\"\n",
      "[1] \"- finished: 11\"\n",
      "[1] \"- finished: 12\"\n",
      "[1] \"- finished: 13\"\n",
      "[1] \"- finished: 14\"\n",
      "[1] \"- finished: 15\"\n",
      "[1] \"- finished: 16\"\n",
      "[1] \"- finished: 17\"\n",
      "[1] \"- finished: 18\"\n",
      "[1] \"- finished: 19\"\n",
      "[1] \"- finished: 20\"\n",
      "[1] \"> Finished: 62\"\n"
     ]
    },
    {
     "name": "stderr",
     "output_type": "stream",
     "text": [
      "Warning message in dir.create(paste0(\"data/\", target, i)):\n",
      "“'data/BRONZE/63' already exists”\n"
     ]
    },
    {
     "name": "stdout",
     "output_type": "stream",
     "text": [
      "[1] \"start Loop\"\n",
      "[1] \"- finished: 1\"\n",
      "[1] \"- finished: 2\"\n",
      "[1] \"- finished: 3\"\n",
      "[1] \"- finished: 4\"\n",
      "[1] \"- finished: 5\"\n",
      "[1] \"- finished: 6\"\n",
      "[1] \"- finished: 7\"\n",
      "[1] \"- finished: 8\"\n",
      "[1] \"- finished: 9\"\n",
      "[1] \"- finished: 10\"\n",
      "[1] \"- finished: 11\"\n",
      "[1] \"- finished: 12\"\n",
      "[1] \"- finished: 13\"\n",
      "[1] \"- finished: 14\"\n",
      "[1] \"- finished: 15\"\n",
      "[1] \"- finished: 16\"\n",
      "[1] \"- finished: 17\"\n",
      "[1] \"- finished: 18\"\n",
      "[1] \"- finished: 19\"\n",
      "[1] \"- finished: 20\"\n",
      "[1] \"> Finished: 63\"\n"
     ]
    },
    {
     "name": "stderr",
     "output_type": "stream",
     "text": [
      "Warning message in dir.create(paste0(\"data/\", target, i)):\n",
      "“'data/BRONZE/64' already exists”\n"
     ]
    },
    {
     "name": "stdout",
     "output_type": "stream",
     "text": [
      "[1] \"start Loop\"\n",
      "[1] \"- finished: 1\"\n",
      "[1] \"- finished: 2\"\n",
      "[1] \"- finished: 3\"\n",
      "[1] \"- finished: 4\"\n",
      "[1] \"- finished: 5\"\n",
      "[1] \"- finished: 6\"\n",
      "[1] \"- finished: 7\"\n",
      "[1] \"- finished: 8\"\n",
      "[1] \"- finished: 9\"\n",
      "[1] \"- finished: 10\"\n",
      "[1] \"- finished: 11\"\n",
      "[1] \"- finished: 12\"\n",
      "[1] \"- finished: 13\"\n",
      "[1] \"- finished: 14\"\n",
      "[1] \"- finished: 15\"\n",
      "[1] \"- finished: 16\"\n",
      "[1] \"- finished: 17\"\n",
      "[1] \"- finished: 18\"\n",
      "[1] \"- finished: 19\"\n",
      "[1] \"- finished: 20\"\n",
      "[1] \"> Finished: 64\"\n"
     ]
    },
    {
     "name": "stderr",
     "output_type": "stream",
     "text": [
      "Warning message in dir.create(paste0(\"data/\", target, i)):\n",
      "“'data/BRONZE/65' already exists”\n"
     ]
    },
    {
     "name": "stdout",
     "output_type": "stream",
     "text": [
      "[1] \"start Loop\"\n",
      "[1] \"- finished: 1\"\n",
      "[1] \"- finished: 2\"\n",
      "[1] \"- finished: 3\"\n",
      "[1] \"- finished: 4\"\n",
      "[1] \"- finished: 5\"\n",
      "[1] \"- finished: 6\"\n",
      "[1] \"- finished: 7\"\n",
      "[1] \"- finished: 8\"\n",
      "[1] \"- finished: 9\"\n",
      "[1] \"- finished: 10\"\n",
      "[1] \"- finished: 11\"\n",
      "[1] \"- finished: 12\"\n",
      "[1] \"- finished: 13\"\n",
      "[1] \"- finished: 14\"\n",
      "[1] \"- finished: 15\"\n",
      "[1] \"- finished: 16\"\n",
      "[1] \"- finished: 17\"\n",
      "[1] \"- finished: 18\"\n",
      "[1] \"- finished: 19\"\n",
      "[1] \"- finished: 20\"\n",
      "[1] \"> Finished: 65\"\n"
     ]
    },
    {
     "name": "stderr",
     "output_type": "stream",
     "text": [
      "Warning message in dir.create(paste0(\"data/\", target, i)):\n",
      "“'data/BRONZE/66' already exists”\n"
     ]
    },
    {
     "name": "stdout",
     "output_type": "stream",
     "text": [
      "[1] \"start Loop\"\n",
      "[1] \"- finished: 1\"\n",
      "[1] \"- finished: 2\"\n",
      "[1] \"- finished: 3\"\n",
      "[1] \"- finished: 4\"\n",
      "[1] \"- finished: 5\"\n",
      "[1] \"- finished: 6\"\n",
      "[1] \"- finished: 7\"\n",
      "[1] \"- finished: 8\"\n",
      "[1] \"- finished: 9\"\n",
      "[1] \"- finished: 10\"\n",
      "[1] \"- finished: 11\"\n",
      "[1] \"- finished: 12\"\n",
      "[1] \"- finished: 13\"\n",
      "[1] \"- finished: 14\"\n",
      "[1] \"- finished: 15\"\n",
      "[1] \"- finished: 16\"\n",
      "[1] \"- finished: 17\"\n",
      "[1] \"- finished: 18\"\n",
      "[1] \"- finished: 19\"\n",
      "[1] \"- finished: 20\"\n",
      "[1] \"> Finished: 66\"\n"
     ]
    },
    {
     "name": "stderr",
     "output_type": "stream",
     "text": [
      "Warning message in dir.create(paste0(\"data/\", target, i)):\n",
      "“'data/BRONZE/67' already exists”\n"
     ]
    },
    {
     "name": "stdout",
     "output_type": "stream",
     "text": [
      "[1] \"start Loop\"\n",
      "[1] \"- finished: 1\"\n",
      "[1] \"- finished: 2\"\n",
      "[1] \"- finished: 3\"\n",
      "[1] \"- finished: 4\"\n",
      "[1] \"- finished: 5\"\n",
      "[1] \"- finished: 6\"\n",
      "[1] \"- finished: 7\"\n",
      "[1] \"- finished: 8\"\n",
      "[1] \"- finished: 9\"\n",
      "[1] \"- finished: 10\"\n",
      "[1] \"- finished: 11\"\n",
      "[1] \"- finished: 12\"\n",
      "[1] \"- finished: 13\"\n",
      "[1] \"- finished: 14\"\n",
      "[1] \"- finished: 15\"\n",
      "[1] \"- finished: 16\"\n",
      "[1] \"- finished: 17\"\n",
      "[1] \"- finished: 18\"\n",
      "[1] \"- finished: 19\"\n",
      "[1] \"- finished: 20\"\n",
      "[1] \"> Finished: 67\"\n"
     ]
    },
    {
     "name": "stderr",
     "output_type": "stream",
     "text": [
      "Warning message in dir.create(paste0(\"data/\", target, i)):\n",
      "“'data/BRONZE/68' already exists”\n"
     ]
    },
    {
     "name": "stdout",
     "output_type": "stream",
     "text": [
      "[1] \"start Loop\"\n",
      "[1] \"- finished: 1\"\n",
      "[1] \"- finished: 2\"\n",
      "[1] \"- finished: 3\"\n",
      "[1] \"- finished: 4\"\n",
      "[1] \"- finished: 5\"\n",
      "[1] \"- finished: 6\"\n",
      "[1] \"- finished: 7\"\n",
      "[1] \"- finished: 8\"\n",
      "[1] \"- finished: 9\"\n",
      "[1] \"- finished: 10\"\n",
      "[1] \"- finished: 11\"\n",
      "[1] \"- finished: 12\"\n",
      "[1] \"- finished: 13\"\n",
      "[1] \"- finished: 14\"\n",
      "[1] \"- finished: 15\"\n",
      "[1] \"- finished: 16\"\n",
      "[1] \"- finished: 17\"\n",
      "[1] \"- finished: 18\"\n",
      "[1] \"- finished: 19\"\n",
      "[1] \"- finished: 20\"\n",
      "[1] \"> Finished: 68\"\n"
     ]
    },
    {
     "name": "stderr",
     "output_type": "stream",
     "text": [
      "Warning message in dir.create(paste0(\"data/\", target, i)):\n",
      "“'data/BRONZE/69' already exists”\n"
     ]
    },
    {
     "name": "stdout",
     "output_type": "stream",
     "text": [
      "[1] \"start Loop\"\n",
      "[1] \"- finished: 1\"\n",
      "[1] \"- finished: 2\"\n",
      "[1] \"- finished: 3\"\n",
      "[1] \"- finished: 4\"\n",
      "[1] \"- finished: 5\"\n",
      "[1] \"- finished: 6\"\n",
      "[1] \"- finished: 7\"\n",
      "[1] \"- finished: 8\"\n",
      "[1] \"- finished: 9\"\n",
      "[1] \"- finished: 10\"\n",
      "[1] \"- finished: 11\"\n",
      "[1] \"- finished: 12\"\n",
      "[1] \"- finished: 13\"\n",
      "[1] \"- finished: 14\"\n",
      "[1] \"- finished: 15\"\n",
      "[1] \"- finished: 16\"\n",
      "[1] \"- finished: 17\"\n",
      "[1] \"- finished: 18\"\n",
      "[1] \"- finished: 19\"\n",
      "[1] \"- finished: 20\"\n",
      "[1] \"> Finished: 69\"\n"
     ]
    },
    {
     "name": "stderr",
     "output_type": "stream",
     "text": [
      "Warning message in dir.create(paste0(\"data/\", target, i)):\n",
      "“'data/BRONZE/70' already exists”\n"
     ]
    },
    {
     "name": "stdout",
     "output_type": "stream",
     "text": [
      "[1] \"start Loop\"\n",
      "[1] \"- finished: 1\"\n",
      "<COULDNT_RESOLVE_HOST in function (type, msg, asError = TRUE) {    if (!is.character(type)) {        i = match(type, CURLcodeValues)        typeName = if (is.na(i))             character()        else names(CURLcodeValues)[i]    }    typeName = gsub(\"^CURLE_\", \"\", typeName)    fun = (if (asError)         stop    else warning)    fun(structure(list(message = msg, call = sys.call()), class = c(typeName,         \"GenericCurlError\", \"error\", \"condition\")))}(6L, \"Could not resolve host: kr.api.riotgames.com\", TRUE): Could not resolve host: kr.api.riotgames.com>\n",
      "<COULDNT_RESOLVE_HOST in function (type, msg, asError = TRUE) {    if (!is.character(type)) {        i = match(type, CURLcodeValues)        typeName = if (is.na(i))             character()        else names(CURLcodeValues)[i]    }    typeName = gsub(\"^CURLE_\", \"\", typeName)    fun = (if (asError)         stop    else warning)    fun(structure(list(message = msg, call = sys.call()), class = c(typeName,         \"GenericCurlError\", \"error\", \"condition\")))}(6L, \"Could not resolve host: kr.api.riotgames.com\", TRUE): Could not resolve host: kr.api.riotgames.com>\n",
      "Error in detach(\"package:rjson\") : invalid 'name' argument\n",
      "<COULDNT_RESOLVE_HOST in function (type, msg, asError = TRUE) {    if (!is.character(type)) {        i = match(type, CURLcodeValues)        typeName = if (is.na(i))             character()        else names(CURLcodeValues)[i]    }    typeName = gsub(\"^CURLE_\", \"\", typeName)    fun = (if (asError)         stop    else warning)    fun(structure(list(message = msg, call = sys.call()), class = c(typeName,         \"GenericCurlError\", \"error\", \"condition\")))}(6L, \"Could not resolve host: kr.api.riotgames.com\", TRUE): Could not resolve host: kr.api.riotgames.com>\n",
      "Error in detach(\"package:rjson\") : invalid 'name' argument\n",
      "<COULDNT_RESOLVE_HOST in function (type, msg, asError = TRUE) {    if (!is.character(type)) {        i = match(type, CURLcodeValues)        typeName = if (is.na(i))             character()        else names(CURLcodeValues)[i]    }    typeName = gsub(\"^CURLE_\", \"\", typeName)    fun = (if (asError)         stop    else warning)    fun(structure(list(message = msg, call = sys.call()), class = c(typeName,         \"GenericCurlError\", \"error\", \"condition\")))}(6L, \"Could not resolve host: kr.api.riotgames.com\", TRUE): Could not resolve host: kr.api.riotgames.com>\n",
      "Error in detach(\"package:rjson\") : invalid 'name' argument\n",
      "<COULDNT_RESOLVE_HOST in function (type, msg, asError = TRUE) {    if (!is.character(type)) {        i = match(type, CURLcodeValues)        typeName = if (is.na(i))             character()        else names(CURLcodeValues)[i]    }    typeName = gsub(\"^CURLE_\", \"\", typeName)    fun = (if (asError)         stop    else warning)    fun(structure(list(message = msg, call = sys.call()), class = c(typeName,         \"GenericCurlError\", \"error\", \"condition\")))}(6L, \"Could not resolve host: kr.api.riotgames.com\", TRUE): Could not resolve host: kr.api.riotgames.com>\n",
      "Error in detach(\"package:rjson\") : invalid 'name' argument\n",
      "<COULDNT_RESOLVE_HOST in function (type, msg, asError = TRUE) {    if (!is.character(type)) {        i = match(type, CURLcodeValues)        typeName = if (is.na(i))             character()        else names(CURLcodeValues)[i]    }    typeName = gsub(\"^CURLE_\", \"\", typeName)    fun = (if (asError)         stop    else warning)    fun(structure(list(message = msg, call = sys.call()), class = c(typeName,         \"GenericCurlError\", \"error\", \"condition\")))}(6L, \"Could not resolve host: kr.api.riotgames.com\", TRUE): Could not resolve host: kr.api.riotgames.com>\n",
      "Error in detach(\"package:rjson\") : invalid 'name' argument\n",
      "<COULDNT_RESOLVE_HOST in function (type, msg, asError = TRUE) {    if (!is.character(type)) {        i = match(type, CURLcodeValues)        typeName = if (is.na(i))             character()        else names(CURLcodeValues)[i]    }    typeName = gsub(\"^CURLE_\", \"\", typeName)    fun = (if (asError)         stop    else warning)    fun(structure(list(message = msg, call = sys.call()), class = c(typeName,         \"GenericCurlError\", \"error\", \"condition\")))}(6L, \"Could not resolve host: kr.api.riotgames.com\", TRUE): Could not resolve host: kr.api.riotgames.com>\n",
      "Error in detach(\"package:rjson\") : invalid 'name' argument\n",
      "[1] \"start Loop\"\n",
      "[1] \"- finished: 1\"\n",
      "[1] \"- finished: 2\"\n",
      "[1] \"- finished: 3\"\n",
      "<SSL_CONNECT_ERROR in function (type, msg, asError = TRUE) {    if (!is.character(type)) {        i = match(type, CURLcodeValues)        typeName = if (is.na(i))             character()        else names(CURLcodeValues)[i]    }    typeName = gsub(\"^CURLE_\", \"\", typeName)    fun = (if (asError)         stop    else warning)    fun(structure(list(message = msg, call = sys.call()), class = c(typeName,         \"GenericCurlError\", \"error\", \"condition\")))}(35L, \"gnutls_handshake() failed: The TLS connection was non-properly terminated.\",     TRUE): gnutls_handshake() failed: The TLS connection was non-properly terminated.>\n",
      "[1] \"start Loop\"\n",
      "<SSL_CONNECT_ERROR in function (type, msg, asError = TRUE) {    if (!is.character(type)) {        i = match(type, CURLcodeValues)        typeName = if (is.na(i))             character()        else names(CURLcodeValues)[i]    }    typeName = gsub(\"^CURLE_\", \"\", typeName)    fun = (if (asError)         stop    else warning)    fun(structure(list(message = msg, call = sys.call()), class = c(typeName,         \"GenericCurlError\", \"error\", \"condition\")))}(35L, \"gnutls_handshake() failed: The TLS connection was non-properly terminated.\",     TRUE): gnutls_handshake() failed: The TLS connection was non-properly terminated.>\n",
      "[1] \"start Loop\"\n",
      "[1] \"- finished: 1\"\n",
      "<SSL_CONNECT_ERROR in function (type, msg, asError = TRUE) {    if (!is.character(type)) {        i = match(type, CURLcodeValues)        typeName = if (is.na(i))             character()        else names(CURLcodeValues)[i]    }    typeName = gsub(\"^CURLE_\", \"\", typeName)    fun = (if (asError)         stop    else warning)    fun(structure(list(message = msg, call = sys.call()), class = c(typeName,         \"GenericCurlError\", \"error\", \"condition\")))}(35L, \"gnutls_handshake() failed: The TLS connection was non-properly terminated.\",     TRUE): gnutls_handshake() failed: The TLS connection was non-properly terminated.>\n",
      "<COULDNT_RESOLVE_HOST in function (type, msg, asError = TRUE) {    if (!is.character(type)) {        i = match(type, CURLcodeValues)        typeName = if (is.na(i))             character()        else names(CURLcodeValues)[i]    }    typeName = gsub(\"^CURLE_\", \"\", typeName)    fun = (if (asError)         stop    else warning)    fun(structure(list(message = msg, call = sys.call()), class = c(typeName,         \"GenericCurlError\", \"error\", \"condition\")))}(6L, \"Could not resolve host: kr.api.riotgames.com\", TRUE): Could not resolve host: kr.api.riotgames.com>\n",
      "Error in detach(\"package:rjson\") : invalid 'name' argument\n",
      "<COULDNT_RESOLVE_HOST in function (type, msg, asError = TRUE) {    if (!is.character(type)) {        i = match(type, CURLcodeValues)        typeName = if (is.na(i))             character()        else names(CURLcodeValues)[i]    }    typeName = gsub(\"^CURLE_\", \"\", typeName)    fun = (if (asError)         stop    else warning)    fun(structure(list(message = msg, call = sys.call()), class = c(typeName,         \"GenericCurlError\", \"error\", \"condition\")))}(6L, \"Could not resolve host: kr.api.riotgames.com\", TRUE): Could not resolve host: kr.api.riotgames.com>\n",
      "Error in detach(\"package:rjson\") : invalid 'name' argument\n",
      "<COULDNT_RESOLVE_HOST in function (type, msg, asError = TRUE) {    if (!is.character(type)) {        i = match(type, CURLcodeValues)        typeName = if (is.na(i))             character()        else names(CURLcodeValues)[i]    }    typeName = gsub(\"^CURLE_\", \"\", typeName)    fun = (if (asError)         stop    else warning)    fun(structure(list(message = msg, call = sys.call()), class = c(typeName,         \"GenericCurlError\", \"error\", \"condition\")))}(6L, \"Could not resolve host: kr.api.riotgames.com\", TRUE): Could not resolve host: kr.api.riotgames.com>\n",
      "Error in detach(\"package:rjson\") : invalid 'name' argument\n",
      "<COULDNT_RESOLVE_HOST in function (type, msg, asError = TRUE) {    if (!is.character(type)) {        i = match(type, CURLcodeValues)        typeName = if (is.na(i))             character()        else names(CURLcodeValues)[i]    }    typeName = gsub(\"^CURLE_\", \"\", typeName)    fun = (if (asError)         stop    else warning)    fun(structure(list(message = msg, call = sys.call()), class = c(typeName,         \"GenericCurlError\", \"error\", \"condition\")))}(6L, \"Could not resolve host: kr.api.riotgames.com\", TRUE): Could not resolve host: kr.api.riotgames.com>\n",
      "Error in detach(\"package:rjson\") : invalid 'name' argument\n",
      "<COULDNT_RESOLVE_HOST in function (type, msg, asError = TRUE) {    if (!is.character(type)) {        i = match(type, CURLcodeValues)        typeName = if (is.na(i))             character()        else names(CURLcodeValues)[i]    }    typeName = gsub(\"^CURLE_\", \"\", typeName)    fun = (if (asError)         stop    else warning)    fun(structure(list(message = msg, call = sys.call()), class = c(typeName,         \"GenericCurlError\", \"error\", \"condition\")))}(6L, \"Could not resolve host: kr.api.riotgames.com\", TRUE): Could not resolve host: kr.api.riotgames.com>\n",
      "Error in detach(\"package:rjson\") : invalid 'name' argument\n",
      "<COULDNT_RESOLVE_HOST in function (type, msg, asError = TRUE) {    if (!is.character(type)) {        i = match(type, CURLcodeValues)        typeName = if (is.na(i))             character()        else names(CURLcodeValues)[i]    }    typeName = gsub(\"^CURLE_\", \"\", typeName)    fun = (if (asError)         stop    else warning)    fun(structure(list(message = msg, call = sys.call()), class = c(typeName,         \"GenericCurlError\", \"error\", \"condition\")))}(6L, \"Could not resolve host: kr.api.riotgames.com\", TRUE): Could not resolve host: kr.api.riotgames.com>\n",
      "Error in detach(\"package:rjson\") : invalid 'name' argument\n",
      "<COULDNT_RESOLVE_HOST in function (type, msg, asError = TRUE) {    if (!is.character(type)) {        i = match(type, CURLcodeValues)        typeName = if (is.na(i))             character()        else names(CURLcodeValues)[i]    }    typeName = gsub(\"^CURLE_\", \"\", typeName)    fun = (if (asError)         stop    else warning)    fun(structure(list(message = msg, call = sys.call()), class = c(typeName,         \"GenericCurlError\", \"error\", \"condition\")))}(6L, \"Could not resolve host: kr.api.riotgames.com\", TRUE): Could not resolve host: kr.api.riotgames.com>\n",
      "Error in detach(\"package:rjson\") : invalid 'name' argument\n",
      "<COULDNT_RESOLVE_HOST in function (type, msg, asError = TRUE) {    if (!is.character(type)) {        i = match(type, CURLcodeValues)        typeName = if (is.na(i))             character()        else names(CURLcodeValues)[i]    }    typeName = gsub(\"^CURLE_\", \"\", typeName)    fun = (if (asError)         stop    else warning)    fun(structure(list(message = msg, call = sys.call()), class = c(typeName,         \"GenericCurlError\", \"error\", \"condition\")))}(6L, \"Could not resolve host: kr.api.riotgames.com\", TRUE): Could not resolve host: kr.api.riotgames.com>\n",
      "Error in detach(\"package:rjson\") : invalid 'name' argument\n",
      "<COULDNT_RESOLVE_HOST in function (type, msg, asError = TRUE) {    if (!is.character(type)) {        i = match(type, CURLcodeValues)        typeName = if (is.na(i))             character()        else names(CURLcodeValues)[i]    }    typeName = gsub(\"^CURLE_\", \"\", typeName)    fun = (if (asError)         stop    else warning)    fun(structure(list(message = msg, call = sys.call()), class = c(typeName,         \"GenericCurlError\", \"error\", \"condition\")))}(6L, \"Could not resolve host: kr.api.riotgames.com\", TRUE): Could not resolve host: kr.api.riotgames.com>\n",
      "Error in detach(\"package:rjson\") : invalid 'name' argument\n",
      "<COULDNT_RESOLVE_HOST in function (type, msg, asError = TRUE) {    if (!is.character(type)) {        i = match(type, CURLcodeValues)        typeName = if (is.na(i))             character()        else names(CURLcodeValues)[i]    }    typeName = gsub(\"^CURLE_\", \"\", typeName)    fun = (if (asError)         stop    else warning)    fun(structure(list(message = msg, call = sys.call()), class = c(typeName,         \"GenericCurlError\", \"error\", \"condition\")))}(6L, \"Could not resolve host: kr.api.riotgames.com\", TRUE): Could not resolve host: kr.api.riotgames.com>\n",
      "Error in detach(\"package:rjson\") : invalid 'name' argument\n",
      "<COULDNT_RESOLVE_HOST in function (type, msg, asError = TRUE) {    if (!is.character(type)) {        i = match(type, CURLcodeValues)        typeName = if (is.na(i))             character()        else names(CURLcodeValues)[i]    }    typeName = gsub(\"^CURLE_\", \"\", typeName)    fun = (if (asError)         stop    else warning)    fun(structure(list(message = msg, call = sys.call()), class = c(typeName,         \"GenericCurlError\", \"error\", \"condition\")))}(6L, \"Could not resolve host: kr.api.riotgames.com\", TRUE): Could not resolve host: kr.api.riotgames.com>\n",
      "Error in detach(\"package:rjson\") : invalid 'name' argument\n",
      "<COULDNT_RESOLVE_HOST in function (type, msg, asError = TRUE) {    if (!is.character(type)) {        i = match(type, CURLcodeValues)        typeName = if (is.na(i))             character()        else names(CURLcodeValues)[i]    }    typeName = gsub(\"^CURLE_\", \"\", typeName)    fun = (if (asError)         stop    else warning)    fun(structure(list(message = msg, call = sys.call()), class = c(typeName,         \"GenericCurlError\", \"error\", \"condition\")))}(6L, \"Could not resolve host: kr.api.riotgames.com\", TRUE): Could not resolve host: kr.api.riotgames.com>\n",
      "Error in detach(\"package:rjson\") : invalid 'name' argument\n",
      "<COULDNT_RESOLVE_HOST in function (type, msg, asError = TRUE) {    if (!is.character(type)) {        i = match(type, CURLcodeValues)        typeName = if (is.na(i))             character()        else names(CURLcodeValues)[i]    }    typeName = gsub(\"^CURLE_\", \"\", typeName)    fun = (if (asError)         stop    else warning)    fun(structure(list(message = msg, call = sys.call()), class = c(typeName,         \"GenericCurlError\", \"error\", \"condition\")))}(6L, \"Could not resolve host: kr.api.riotgames.com\", TRUE): Could not resolve host: kr.api.riotgames.com>\n",
      "Error in detach(\"package:rjson\") : invalid 'name' argument\n",
      "<COULDNT_RESOLVE_HOST in function (type, msg, asError = TRUE) {    if (!is.character(type)) {        i = match(type, CURLcodeValues)        typeName = if (is.na(i))             character()        else names(CURLcodeValues)[i]    }    typeName = gsub(\"^CURLE_\", \"\", typeName)    fun = (if (asError)         stop    else warning)    fun(structure(list(message = msg, call = sys.call()), class = c(typeName,         \"GenericCurlError\", \"error\", \"condition\")))}(6L, \"Could not resolve host: kr.api.riotgames.com\", TRUE): Could not resolve host: kr.api.riotgames.com>\n",
      "Error in detach(\"package:rjson\") : invalid 'name' argument\n",
      "<COULDNT_RESOLVE_HOST in function (type, msg, asError = TRUE) {    if (!is.character(type)) {        i = match(type, CURLcodeValues)        typeName = if (is.na(i))             character()        else names(CURLcodeValues)[i]    }    typeName = gsub(\"^CURLE_\", \"\", typeName)    fun = (if (asError)         stop    else warning)    fun(structure(list(message = msg, call = sys.call()), class = c(typeName,         \"GenericCurlError\", \"error\", \"condition\")))}(6L, \"Could not resolve host: kr.api.riotgames.com\", TRUE): Could not resolve host: kr.api.riotgames.com>\n",
      "Error in detach(\"package:rjson\") : invalid 'name' argument\n",
      "<COULDNT_RESOLVE_HOST in function (type, msg, asError = TRUE) {    if (!is.character(type)) {        i = match(type, CURLcodeValues)        typeName = if (is.na(i))             character()        else names(CURLcodeValues)[i]    }    typeName = gsub(\"^CURLE_\", \"\", typeName)    fun = (if (asError)         stop    else warning)    fun(structure(list(message = msg, call = sys.call()), class = c(typeName,         \"GenericCurlError\", \"error\", \"condition\")))}(6L, \"Could not resolve host: kr.api.riotgames.com\", TRUE): Could not resolve host: kr.api.riotgames.com>\n",
      "Error in detach(\"package:rjson\") : invalid 'name' argument\n",
      "<COULDNT_RESOLVE_HOST in function (type, msg, asError = TRUE) {    if (!is.character(type)) {        i = match(type, CURLcodeValues)        typeName = if (is.na(i))             character()        else names(CURLcodeValues)[i]    }    typeName = gsub(\"^CURLE_\", \"\", typeName)    fun = (if (asError)         stop    else warning)    fun(structure(list(message = msg, call = sys.call()), class = c(typeName,         \"GenericCurlError\", \"error\", \"condition\")))}(6L, \"Could not resolve host: kr.api.riotgames.com\", TRUE): Could not resolve host: kr.api.riotgames.com>\n",
      "Error in detach(\"package:rjson\") : invalid 'name' argument\n",
      "<COULDNT_RESOLVE_HOST in function (type, msg, asError = TRUE) {    if (!is.character(type)) {        i = match(type, CURLcodeValues)        typeName = if (is.na(i))             character()        else names(CURLcodeValues)[i]    }    typeName = gsub(\"^CURLE_\", \"\", typeName)    fun = (if (asError)         stop    else warning)    fun(structure(list(message = msg, call = sys.call()), class = c(typeName,         \"GenericCurlError\", \"error\", \"condition\")))}(6L, \"Could not resolve host: kr.api.riotgames.com\", TRUE): Could not resolve host: kr.api.riotgames.com>\n",
      "Error in detach(\"package:rjson\") : invalid 'name' argument\n",
      "<COULDNT_RESOLVE_HOST in function (type, msg, asError = TRUE) {    if (!is.character(type)) {        i = match(type, CURLcodeValues)        typeName = if (is.na(i))             character()        else names(CURLcodeValues)[i]    }    typeName = gsub(\"^CURLE_\", \"\", typeName)    fun = (if (asError)         stop    else warning)    fun(structure(list(message = msg, call = sys.call()), class = c(typeName,         \"GenericCurlError\", \"error\", \"condition\")))}(6L, \"Could not resolve host: kr.api.riotgames.com\", TRUE): Could not resolve host: kr.api.riotgames.com>\n",
      "Error in detach(\"package:rjson\") : invalid 'name' argument\n",
      "<COULDNT_RESOLVE_HOST in function (type, msg, asError = TRUE) {    if (!is.character(type)) {        i = match(type, CURLcodeValues)        typeName = if (is.na(i))             character()        else names(CURLcodeValues)[i]    }    typeName = gsub(\"^CURLE_\", \"\", typeName)    fun = (if (asError)         stop    else warning)    fun(structure(list(message = msg, call = sys.call()), class = c(typeName,         \"GenericCurlError\", \"error\", \"condition\")))}(6L, \"Could not resolve host: kr.api.riotgames.com\", TRUE): Could not resolve host: kr.api.riotgames.com>\n",
      "Error in detach(\"package:rjson\") : invalid 'name' argument\n",
      "<COULDNT_RESOLVE_HOST in function (type, msg, asError = TRUE) {    if (!is.character(type)) {        i = match(type, CURLcodeValues)        typeName = if (is.na(i))             character()        else names(CURLcodeValues)[i]    }    typeName = gsub(\"^CURLE_\", \"\", typeName)    fun = (if (asError)         stop    else warning)    fun(structure(list(message = msg, call = sys.call()), class = c(typeName,         \"GenericCurlError\", \"error\", \"condition\")))}(6L, \"Could not resolve host: kr.api.riotgames.com\", TRUE): Could not resolve host: kr.api.riotgames.com>\n",
      "Error in detach(\"package:rjson\") : invalid 'name' argument\n",
      "<COULDNT_RESOLVE_HOST in function (type, msg, asError = TRUE) {    if (!is.character(type)) {        i = match(type, CURLcodeValues)        typeName = if (is.na(i))             character()        else names(CURLcodeValues)[i]    }    typeName = gsub(\"^CURLE_\", \"\", typeName)    fun = (if (asError)         stop    else warning)    fun(structure(list(message = msg, call = sys.call()), class = c(typeName,         \"GenericCurlError\", \"error\", \"condition\")))}(6L, \"Could not resolve host: kr.api.riotgames.com\", TRUE): Could not resolve host: kr.api.riotgames.com>\n",
      "Error in detach(\"package:rjson\") : invalid 'name' argument\n",
      "<COULDNT_RESOLVE_HOST in function (type, msg, asError = TRUE) {    if (!is.character(type)) {        i = match(type, CURLcodeValues)        typeName = if (is.na(i))             character()        else names(CURLcodeValues)[i]    }    typeName = gsub(\"^CURLE_\", \"\", typeName)    fun = (if (asError)         stop    else warning)    fun(structure(list(message = msg, call = sys.call()), class = c(typeName,         \"GenericCurlError\", \"error\", \"condition\")))}(6L, \"Could not resolve host: kr.api.riotgames.com\", TRUE): Could not resolve host: kr.api.riotgames.com>\n",
      "Error in detach(\"package:rjson\") : invalid 'name' argument\n",
      "<COULDNT_RESOLVE_HOST in function (type, msg, asError = TRUE) {    if (!is.character(type)) {        i = match(type, CURLcodeValues)        typeName = if (is.na(i))             character()        else names(CURLcodeValues)[i]    }    typeName = gsub(\"^CURLE_\", \"\", typeName)    fun = (if (asError)         stop    else warning)    fun(structure(list(message = msg, call = sys.call()), class = c(typeName,         \"GenericCurlError\", \"error\", \"condition\")))}(6L, \"Could not resolve host: kr.api.riotgames.com\", TRUE): Could not resolve host: kr.api.riotgames.com>\n",
      "Error in detach(\"package:rjson\") : invalid 'name' argument\n",
      "<COULDNT_RESOLVE_HOST in function (type, msg, asError = TRUE) {    if (!is.character(type)) {        i = match(type, CURLcodeValues)        typeName = if (is.na(i))             character()        else names(CURLcodeValues)[i]    }    typeName = gsub(\"^CURLE_\", \"\", typeName)    fun = (if (asError)         stop    else warning)    fun(structure(list(message = msg, call = sys.call()), class = c(typeName,         \"GenericCurlError\", \"error\", \"condition\")))}(6L, \"Could not resolve host: kr.api.riotgames.com\", TRUE): Could not resolve host: kr.api.riotgames.com>\n",
      "Error in detach(\"package:rjson\") : invalid 'name' argument\n",
      "<COULDNT_RESOLVE_HOST in function (type, msg, asError = TRUE) {    if (!is.character(type)) {        i = match(type, CURLcodeValues)        typeName = if (is.na(i))             character()        else names(CURLcodeValues)[i]    }    typeName = gsub(\"^CURLE_\", \"\", typeName)    fun = (if (asError)         stop    else warning)    fun(structure(list(message = msg, call = sys.call()), class = c(typeName,         \"GenericCurlError\", \"error\", \"condition\")))}(6L, \"Could not resolve host: kr.api.riotgames.com\", TRUE): Could not resolve host: kr.api.riotgames.com>\n",
      "Error in detach(\"package:rjson\") : invalid 'name' argument\n",
      "<COULDNT_RESOLVE_HOST in function (type, msg, asError = TRUE) {    if (!is.character(type)) {        i = match(type, CURLcodeValues)        typeName = if (is.na(i))             character()        else names(CURLcodeValues)[i]    }    typeName = gsub(\"^CURLE_\", \"\", typeName)    fun = (if (asError)         stop    else warning)    fun(structure(list(message = msg, call = sys.call()), class = c(typeName,         \"GenericCurlError\", \"error\", \"condition\")))}(6L, \"Could not resolve host: kr.api.riotgames.com\", TRUE): Could not resolve host: kr.api.riotgames.com>\n",
      "Error in detach(\"package:rjson\") : invalid 'name' argument\n",
      "[1] \"start Loop\"\n",
      "[1] \"- finished: 1\"\n",
      "[1] \"- finished: 2\"\n",
      "[1] \"- finished: 3\"\n",
      "[1] \"- finished: 4\"\n",
      "[1] \"- finished: 5\"\n",
      "[1] \"- finished: 6\"\n",
      "[1] \"- finished: 7\"\n",
      "[1] \"- finished: 8\"\n",
      "[1] \"- finished: 9\"\n",
      "[1] \"- finished: 10\"\n",
      "[1] \"- finished: 11\"\n",
      "[1] \"- finished: 12\"\n",
      "[1] \"- finished: 13\"\n",
      "[1] \"- finished: 14\"\n",
      "[1] \"- finished: 15\"\n",
      "[1] \"- finished: 16\"\n",
      "[1] \"- finished: 17\"\n",
      "[1] \"- finished: 18\"\n",
      "[1] \"- finished: 19\"\n",
      "[1] \"- finished: 20\"\n",
      "[1] \"> Finished: 70\"\n"
     ]
    },
    {
     "name": "stderr",
     "output_type": "stream",
     "text": [
      "Warning message in dir.create(paste0(\"data/\", target, i)):\n",
      "“'data/BRONZE/71' already exists”\n"
     ]
    },
    {
     "name": "stdout",
     "output_type": "stream",
     "text": [
      "[1] \"start Loop\"\n",
      "[1] \"- finished: 1\"\n",
      "[1] \"- finished: 2\"\n",
      "[1] \"- finished: 3\"\n",
      "[1] \"- finished: 4\"\n",
      "[1] \"- finished: 5\"\n",
      "[1] \"- finished: 6\"\n",
      "[1] \"- finished: 7\"\n",
      "[1] \"- finished: 8\"\n",
      "[1] \"- finished: 9\"\n",
      "[1] \"- finished: 10\"\n",
      "[1] \"- finished: 11\"\n",
      "[1] \"- finished: 12\"\n",
      "[1] \"- finished: 13\"\n",
      "[1] \"- finished: 14\"\n",
      "[1] \"- finished: 15\"\n",
      "[1] \"- finished: 16\"\n",
      "[1] \"- finished: 17\"\n",
      "[1] \"- finished: 18\"\n",
      "[1] \"- finished: 19\"\n",
      "[1] \"- finished: 20\"\n",
      "[1] \"> Finished: 71\"\n"
     ]
    },
    {
     "name": "stderr",
     "output_type": "stream",
     "text": [
      "Warning message in dir.create(paste0(\"data/\", target, i)):\n",
      "“'data/BRONZE/72' already exists”\n"
     ]
    },
    {
     "name": "stdout",
     "output_type": "stream",
     "text": [
      "[1] \"start Loop\"\n",
      "[1] \"- finished: 1\"\n",
      "[1] \"- finished: 2\"\n",
      "[1] \"- finished: 3\"\n",
      "[1] \"- finished: 4\"\n",
      "[1] \"- finished: 5\"\n",
      "[1] \"- finished: 6\"\n",
      "[1] \"- finished: 7\"\n",
      "[1] \"- finished: 8\"\n",
      "[1] \"- finished: 9\"\n",
      "[1] \"- finished: 10\"\n",
      "[1] \"- finished: 11\"\n",
      "[1] \"- finished: 12\"\n",
      "[1] \"- finished: 13\"\n",
      "[1] \"- finished: 14\"\n",
      "[1] \"- finished: 15\"\n",
      "[1] \"- finished: 16\"\n",
      "[1] \"- finished: 17\"\n",
      "[1] \"- finished: 18\"\n",
      "[1] \"- finished: 19\"\n",
      "[1] \"- finished: 20\"\n",
      "[1] \"> Finished: 72\"\n"
     ]
    },
    {
     "name": "stderr",
     "output_type": "stream",
     "text": [
      "Warning message in dir.create(paste0(\"data/\", target, i)):\n",
      "“'data/BRONZE/73' already exists”\n"
     ]
    },
    {
     "name": "stdout",
     "output_type": "stream",
     "text": [
      "[1] \"start Loop\"\n",
      "[1] \"- finished: 1\"\n",
      "[1] \"- finished: 2\"\n",
      "[1] \"- finished: 3\"\n",
      "[1] \"- finished: 4\"\n",
      "[1] \"- finished: 5\"\n",
      "[1] \"- finished: 6\"\n",
      "[1] \"- finished: 7\"\n",
      "[1] \"- finished: 8\"\n",
      "[1] \"- finished: 9\"\n",
      "[1] \"- finished: 10\"\n",
      "[1] \"- finished: 11\"\n",
      "[1] \"- finished: 12\"\n",
      "[1] \"- finished: 13\"\n",
      "[1] \"- finished: 14\"\n",
      "[1] \"- finished: 15\"\n",
      "[1] \"- finished: 16\"\n",
      "[1] \"- finished: 17\"\n",
      "[1] \"- finished: 18\"\n",
      "[1] \"- finished: 19\"\n",
      "[1] \"- finished: 20\"\n",
      "[1] \"> Finished: 73\"\n"
     ]
    },
    {
     "name": "stderr",
     "output_type": "stream",
     "text": [
      "Warning message in dir.create(paste0(\"data/\", target, i)):\n",
      "“'data/BRONZE/74' already exists”\n"
     ]
    },
    {
     "name": "stdout",
     "output_type": "stream",
     "text": [
      "[1] \"start Loop\"\n",
      "[1] \"- finished: 1\"\n",
      "[1] \"- finished: 2\"\n",
      "[1] \"- finished: 3\"\n",
      "[1] \"- finished: 4\"\n",
      "[1] \"- finished: 5\"\n",
      "[1] \"- finished: 6\"\n",
      "[1] \"- finished: 7\"\n",
      "[1] \"- finished: 8\"\n",
      "[1] \"- finished: 9\"\n",
      "[1] \"- finished: 10\"\n",
      "[1] \"- finished: 11\"\n",
      "[1] \"- finished: 12\"\n",
      "[1] \"- finished: 13\"\n",
      "[1] \"- finished: 14\"\n",
      "[1] \"- finished: 15\"\n",
      "[1] \"- finished: 16\"\n",
      "[1] \"- finished: 17\"\n",
      "[1] \"- finished: 18\"\n",
      "[1] \"- finished: 19\"\n",
      "[1] \"- finished: 20\"\n",
      "[1] \"> Finished: 74\"\n"
     ]
    },
    {
     "name": "stderr",
     "output_type": "stream",
     "text": [
      "Warning message in dir.create(paste0(\"data/\", target, i)):\n",
      "“'data/BRONZE/75' already exists”\n"
     ]
    },
    {
     "name": "stdout",
     "output_type": "stream",
     "text": [
      "[1] \"start Loop\"\n",
      "[1] \"- finished: 1\"\n",
      "[1] \"- finished: 2\"\n",
      "[1] \"- finished: 3\"\n",
      "[1] \"- finished: 4\"\n",
      "[1] \"- finished: 5\"\n",
      "[1] \"- finished: 6\"\n",
      "[1] \"- finished: 7\"\n",
      "[1] \"- finished: 8\"\n",
      "[1] \"- finished: 9\"\n",
      "[1] \"- finished: 10\"\n",
      "[1] \"- finished: 11\"\n",
      "[1] \"- finished: 12\"\n",
      "[1] \"- finished: 13\"\n",
      "[1] \"- finished: 14\"\n",
      "[1] \"- finished: 15\"\n",
      "[1] \"- finished: 16\"\n",
      "[1] \"- finished: 17\"\n",
      "[1] \"- finished: 18\"\n",
      "[1] \"- finished: 19\"\n",
      "[1] \"- finished: 20\"\n",
      "[1] \"> Finished: 75\"\n"
     ]
    },
    {
     "name": "stderr",
     "output_type": "stream",
     "text": [
      "Warning message in dir.create(paste0(\"data/\", target, i)):\n",
      "“'data/BRONZE/76' already exists”\n"
     ]
    },
    {
     "name": "stdout",
     "output_type": "stream",
     "text": [
      "[1] \"start Loop\"\n",
      "[1] \"- finished: 1\"\n",
      "[1] \"- finished: 2\"\n",
      "[1] \"- finished: 3\"\n",
      "[1] \"- finished: 4\"\n",
      "[1] \"- finished: 5\"\n",
      "[1] \"- finished: 6\"\n",
      "[1] \"- finished: 7\"\n",
      "[1] \"- finished: 8\"\n",
      "[1] \"- finished: 9\"\n",
      "[1] \"- finished: 10\"\n",
      "[1] \"- finished: 11\"\n",
      "[1] \"- finished: 12\"\n",
      "[1] \"- finished: 13\"\n",
      "[1] \"- finished: 14\"\n",
      "[1] \"- finished: 15\"\n",
      "[1] \"- finished: 16\"\n",
      "[1] \"- finished: 17\"\n",
      "[1] \"- finished: 18\"\n",
      "[1] \"- finished: 19\"\n",
      "[1] \"- finished: 20\"\n",
      "[1] \"> Finished: 76\"\n"
     ]
    },
    {
     "name": "stderr",
     "output_type": "stream",
     "text": [
      "Warning message in dir.create(paste0(\"data/\", target, i)):\n",
      "“'data/BRONZE/77' already exists”\n"
     ]
    },
    {
     "name": "stdout",
     "output_type": "stream",
     "text": [
      "[1] \"start Loop\"\n",
      "[1] \"- finished: 1\"\n",
      "[1] \"- finished: 2\"\n",
      "[1] \"- finished: 3\"\n",
      "[1] \"- finished: 4\"\n",
      "[1] \"- finished: 5\"\n",
      "[1] \"- finished: 6\"\n",
      "[1] \"- finished: 7\"\n",
      "[1] \"- finished: 8\"\n",
      "[1] \"- finished: 9\"\n",
      "[1] \"- finished: 10\"\n",
      "[1] \"- finished: 11\"\n",
      "[1] \"- finished: 12\"\n",
      "[1] \"- finished: 13\"\n",
      "[1] \"- finished: 14\"\n",
      "[1] \"- finished: 15\"\n",
      "[1] \"- finished: 16\"\n",
      "[1] \"- finished: 17\"\n",
      "[1] \"- finished: 18\"\n",
      "[1] \"- finished: 19\"\n",
      "[1] \"- finished: 20\"\n",
      "[1] \"> Finished: 77\"\n"
     ]
    },
    {
     "name": "stderr",
     "output_type": "stream",
     "text": [
      "Warning message in dir.create(paste0(\"data/\", target, i)):\n",
      "“'data/BRONZE/78' already exists”\n"
     ]
    },
    {
     "name": "stdout",
     "output_type": "stream",
     "text": [
      "[1] \"start Loop\"\n",
      "[1] \"- finished: 1\"\n",
      "[1] \"- finished: 2\"\n",
      "[1] \"- finished: 3\"\n",
      "[1] \"- finished: 4\"\n",
      "[1] \"- finished: 5\"\n",
      "[1] \"- finished: 6\"\n",
      "[1] \"- finished: 7\"\n",
      "[1] \"- finished: 8\"\n",
      "[1] \"- finished: 9\"\n",
      "[1] \"- finished: 10\"\n",
      "[1] \"- finished: 11\"\n",
      "[1] \"- finished: 12\"\n",
      "[1] \"- finished: 13\"\n",
      "[1] \"- finished: 14\"\n",
      "[1] \"- finished: 15\"\n",
      "[1] \"- finished: 16\"\n",
      "[1] \"- finished: 17\"\n",
      "[1] \"- finished: 18\"\n",
      "[1] \"- finished: 19\"\n",
      "[1] \"- finished: 20\"\n",
      "[1] \"> Finished: 78\"\n"
     ]
    },
    {
     "name": "stderr",
     "output_type": "stream",
     "text": [
      "Warning message in dir.create(paste0(\"data/\", target, i)):\n",
      "“'data/BRONZE/79' already exists”\n"
     ]
    },
    {
     "name": "stdout",
     "output_type": "stream",
     "text": [
      "[1] \"start Loop\"\n",
      "[1] \"- finished: 1\"\n",
      "[1] \"- finished: 2\"\n",
      "[1] \"- finished: 3\"\n",
      "[1] \"- finished: 4\"\n",
      "[1] \"- finished: 5\"\n",
      "[1] \"- finished: 6\"\n",
      "[1] \"- finished: 7\"\n",
      "[1] \"- finished: 8\"\n",
      "[1] \"- finished: 9\"\n",
      "[1] \"- finished: 10\"\n",
      "[1] \"- finished: 11\"\n",
      "[1] \"- finished: 12\"\n",
      "[1] \"- finished: 13\"\n",
      "[1] \"- finished: 14\"\n",
      "[1] \"- finished: 15\"\n",
      "[1] \"- finished: 16\"\n",
      "[1] \"- finished: 17\"\n",
      "[1] \"- finished: 18\"\n",
      "[1] \"- finished: 19\"\n",
      "[1] \"- finished: 20\"\n",
      "[1] \"> Finished: 79\"\n"
     ]
    },
    {
     "name": "stderr",
     "output_type": "stream",
     "text": [
      "Warning message in dir.create(paste0(\"data/\", target, i)):\n",
      "“'data/BRONZE/80' already exists”\n"
     ]
    },
    {
     "name": "stdout",
     "output_type": "stream",
     "text": [
      "[1] \"start Loop\"\n",
      "[1] \"- finished: 1\"\n",
      "[1] \"- finished: 2\"\n",
      "[1] \"- finished: 3\"\n",
      "[1] \"- finished: 4\"\n",
      "[1] \"- finished: 5\"\n",
      "[1] \"- finished: 6\"\n",
      "[1] \"- finished: 7\"\n",
      "[1] \"- finished: 8\"\n",
      "[1] \"- finished: 9\"\n",
      "[1] \"- finished: 10\"\n",
      "[1] \"- finished: 11\"\n",
      "[1] \"- finished: 12\"\n",
      "[1] \"- finished: 13\"\n",
      "[1] \"- finished: 14\"\n",
      "[1] \"- finished: 15\"\n",
      "[1] \"- finished: 16\"\n",
      "[1] \"- finished: 17\"\n",
      "[1] \"- finished: 18\"\n",
      "[1] \"- finished: 19\"\n",
      "[1] \"- finished: 20\"\n",
      "[1] \"> Finished: 80\"\n"
     ]
    },
    {
     "name": "stderr",
     "output_type": "stream",
     "text": [
      "Warning message in dir.create(paste0(\"data/\", target, i)):\n",
      "“'data/BRONZE/81' already exists”\n"
     ]
    },
    {
     "name": "stdout",
     "output_type": "stream",
     "text": [
      "[1] \"start Loop\"\n",
      "[1] \"- finished: 1\"\n",
      "[1] \"- finished: 2\"\n",
      "[1] \"- finished: 3\"\n",
      "[1] \"- finished: 4\"\n",
      "[1] \"- finished: 5\"\n",
      "[1] \"- finished: 6\"\n",
      "[1] \"- finished: 7\"\n",
      "[1] \"- finished: 8\"\n",
      "[1] \"- finished: 9\"\n",
      "[1] \"- finished: 10\"\n",
      "[1] \"- finished: 11\"\n",
      "[1] \"- finished: 12\"\n",
      "[1] \"- finished: 13\"\n",
      "[1] \"- finished: 14\"\n",
      "[1] \"- finished: 15\"\n",
      "[1] \"- finished: 16\"\n",
      "[1] \"- finished: 17\"\n",
      "[1] \"- finished: 18\"\n",
      "[1] \"- finished: 19\"\n",
      "[1] \"- finished: 20\"\n",
      "[1] \"> Finished: 81\"\n"
     ]
    },
    {
     "name": "stderr",
     "output_type": "stream",
     "text": [
      "Warning message in dir.create(paste0(\"data/\", target, i)):\n",
      "“'data/BRONZE/82' already exists”\n"
     ]
    },
    {
     "name": "stdout",
     "output_type": "stream",
     "text": [
      "[1] \"start Loop\"\n",
      "[1] \"- finished: 1\"\n",
      "[1] \"- finished: 2\"\n",
      "[1] \"- finished: 3\"\n",
      "[1] \"- finished: 4\"\n",
      "[1] \"- finished: 5\"\n",
      "[1] \"- finished: 6\"\n",
      "[1] \"- finished: 7\"\n",
      "[1] \"- finished: 8\"\n",
      "[1] \"- finished: 9\"\n",
      "[1] \"- finished: 10\"\n",
      "[1] \"- finished: 11\"\n",
      "[1] \"- finished: 12\"\n",
      "[1] \"- finished: 13\"\n",
      "[1] \"- finished: 14\"\n",
      "[1] \"- finished: 15\"\n",
      "[1] \"- finished: 16\"\n",
      "[1] \"- finished: 17\"\n",
      "[1] \"- finished: 18\"\n",
      "[1] \"- finished: 19\"\n",
      "[1] \"- finished: 20\"\n",
      "[1] \"> Finished: 82\"\n"
     ]
    },
    {
     "name": "stderr",
     "output_type": "stream",
     "text": [
      "Warning message in dir.create(paste0(\"data/\", target, i)):\n",
      "“'data/BRONZE/83' already exists”\n"
     ]
    },
    {
     "name": "stdout",
     "output_type": "stream",
     "text": [
      "[1] \"start Loop\"\n",
      "[1] \"- finished: 1\"\n",
      "[1] \"- finished: 2\"\n",
      "[1] \"- finished: 3\"\n",
      "[1] \"- finished: 4\"\n",
      "[1] \"- finished: 5\"\n",
      "[1] \"- finished: 6\"\n",
      "[1] \"- finished: 7\"\n",
      "[1] \"- finished: 8\"\n",
      "[1] \"- finished: 9\"\n",
      "[1] \"- finished: 10\"\n",
      "[1] \"- finished: 11\"\n",
      "[1] \"- finished: 12\"\n",
      "[1] \"- finished: 13\"\n",
      "[1] \"- finished: 14\"\n",
      "[1] \"- finished: 15\"\n",
      "[1] \"- finished: 16\"\n",
      "[1] \"- finished: 17\"\n",
      "[1] \"- finished: 18\"\n",
      "[1] \"- finished: 19\"\n",
      "[1] \"- finished: 20\"\n",
      "[1] \"> Finished: 83\"\n"
     ]
    },
    {
     "name": "stderr",
     "output_type": "stream",
     "text": [
      "Warning message in dir.create(paste0(\"data/\", target, i)):\n",
      "“'data/BRONZE/84' already exists”\n"
     ]
    },
    {
     "name": "stdout",
     "output_type": "stream",
     "text": [
      "[1] \"start Loop\"\n",
      "[1] \"- finished: 1\"\n",
      "[1] \"- finished: 2\"\n",
      "[1] \"- finished: 3\"\n",
      "[1] \"- finished: 4\"\n",
      "[1] \"- finished: 5\"\n",
      "[1] \"- finished: 6\"\n",
      "[1] \"- finished: 7\"\n",
      "[1] \"- finished: 8\"\n",
      "[1] \"- finished: 9\"\n",
      "[1] \"- finished: 10\"\n",
      "[1] \"- finished: 11\"\n",
      "[1] \"- finished: 12\"\n",
      "[1] \"- finished: 13\"\n",
      "[1] \"- finished: 14\"\n",
      "[1] \"- finished: 15\"\n",
      "[1] \"- finished: 16\"\n",
      "[1] \"- finished: 17\"\n",
      "[1] \"- finished: 18\"\n",
      "[1] \"- finished: 19\"\n",
      "[1] \"- finished: 20\"\n",
      "[1] \"> Finished: 84\"\n"
     ]
    },
    {
     "name": "stderr",
     "output_type": "stream",
     "text": [
      "Warning message in dir.create(paste0(\"data/\", target, i)):\n",
      "“'data/BRONZE/85' already exists”\n"
     ]
    },
    {
     "name": "stdout",
     "output_type": "stream",
     "text": [
      "[1] \"start Loop\"\n",
      "[1] \"- finished: 1\"\n",
      "[1] \"- finished: 2\"\n",
      "[1] \"- finished: 3\"\n",
      "[1] \"- finished: 4\"\n",
      "[1] \"- finished: 5\"\n",
      "[1] \"- finished: 6\"\n",
      "[1] \"- finished: 7\"\n",
      "[1] \"- finished: 8\"\n",
      "[1] \"- finished: 9\"\n",
      "[1] \"- finished: 10\"\n",
      "[1] \"- finished: 11\"\n",
      "[1] \"- finished: 12\"\n",
      "[1] \"- finished: 13\"\n",
      "[1] \"- finished: 14\"\n",
      "[1] \"- finished: 15\"\n",
      "[1] \"- finished: 16\"\n",
      "[1] \"- finished: 17\"\n",
      "[1] \"- finished: 18\"\n",
      "[1] \"- finished: 19\"\n",
      "[1] \"- finished: 20\"\n",
      "[1] \"> Finished: 85\"\n"
     ]
    },
    {
     "name": "stderr",
     "output_type": "stream",
     "text": [
      "Warning message in dir.create(paste0(\"data/\", target, i)):\n",
      "“'data/BRONZE/86' already exists”\n"
     ]
    },
    {
     "name": "stdout",
     "output_type": "stream",
     "text": [
      "[1] \"start Loop\"\n",
      "[1] \"- finished: 1\"\n",
      "[1] \"- finished: 2\"\n",
      "[1] \"- finished: 3\"\n",
      "[1] \"- finished: 4\"\n",
      "[1] \"- finished: 5\"\n",
      "[1] \"- finished: 6\"\n",
      "[1] \"- finished: 7\"\n",
      "[1] \"- finished: 8\"\n",
      "[1] \"- finished: 9\"\n",
      "[1] \"- finished: 10\"\n",
      "[1] \"- finished: 11\"\n",
      "[1] \"- finished: 12\"\n",
      "[1] \"- finished: 13\"\n",
      "[1] \"- finished: 14\"\n",
      "[1] \"- finished: 15\"\n",
      "[1] \"- finished: 16\"\n",
      "[1] \"- finished: 17\"\n",
      "[1] \"- finished: 18\"\n",
      "[1] \"- finished: 19\"\n",
      "[1] \"- finished: 20\"\n",
      "[1] \"> Finished: 86\"\n"
     ]
    },
    {
     "name": "stderr",
     "output_type": "stream",
     "text": [
      "Warning message in dir.create(paste0(\"data/\", target, i)):\n",
      "“'data/BRONZE/87' already exists”\n"
     ]
    },
    {
     "name": "stdout",
     "output_type": "stream",
     "text": [
      "[1] \"start Loop\"\n",
      "[1] \"- finished: 1\"\n",
      "[1] \"- finished: 2\"\n",
      "[1] \"- finished: 3\"\n",
      "[1] \"- finished: 4\"\n",
      "[1] \"- finished: 5\"\n",
      "[1] \"- finished: 6\"\n",
      "[1] \"- finished: 7\"\n",
      "[1] \"- finished: 8\"\n",
      "[1] \"- finished: 9\"\n",
      "[1] \"- finished: 10\"\n",
      "[1] \"- finished: 11\"\n",
      "[1] \"- finished: 12\"\n",
      "[1] \"- finished: 13\"\n",
      "[1] \"- finished: 14\"\n",
      "[1] \"- finished: 15\"\n",
      "[1] \"- finished: 16\"\n",
      "[1] \"- finished: 17\"\n",
      "[1] \"- finished: 18\"\n",
      "[1] \"- finished: 19\"\n",
      "[1] \"- finished: 20\"\n",
      "[1] \"> Finished: 87\"\n"
     ]
    },
    {
     "name": "stderr",
     "output_type": "stream",
     "text": [
      "Warning message in dir.create(paste0(\"data/\", target, i)):\n",
      "“'data/BRONZE/88' already exists”\n"
     ]
    },
    {
     "name": "stdout",
     "output_type": "stream",
     "text": [
      "[1] \"start Loop\"\n",
      "[1] \"- finished: 1\"\n",
      "[1] \"- finished: 2\"\n",
      "[1] \"- finished: 3\"\n",
      "[1] \"- finished: 4\"\n",
      "[1] \"- finished: 5\"\n",
      "[1] \"- finished: 6\"\n",
      "[1] \"- finished: 7\"\n",
      "[1] \"- finished: 8\"\n",
      "[1] \"- finished: 9\"\n",
      "[1] \"- finished: 10\"\n",
      "[1] \"- finished: 11\"\n",
      "[1] \"- finished: 12\"\n",
      "[1] \"- finished: 13\"\n",
      "[1] \"- finished: 14\"\n",
      "[1] \"- finished: 15\"\n",
      "[1] \"- finished: 16\"\n",
      "[1] \"- finished: 17\"\n",
      "[1] \"- finished: 18\"\n",
      "[1] \"- finished: 19\"\n",
      "[1] \"- finished: 20\"\n",
      "[1] \"> Finished: 88\"\n"
     ]
    },
    {
     "name": "stderr",
     "output_type": "stream",
     "text": [
      "Warning message in dir.create(paste0(\"data/\", target, i)):\n",
      "“'data/BRONZE/89' already exists”\n"
     ]
    },
    {
     "name": "stdout",
     "output_type": "stream",
     "text": [
      "[1] \"start Loop\"\n",
      "[1] \"- finished: 1\"\n",
      "[1] \"- finished: 2\"\n",
      "[1] \"- finished: 3\"\n",
      "[1] \"- finished: 4\"\n",
      "[1] \"- finished: 5\"\n",
      "[1] \"- finished: 6\"\n",
      "[1] \"- finished: 7\"\n",
      "[1] \"- finished: 8\"\n",
      "[1] \"- finished: 9\"\n",
      "[1] \"- finished: 10\"\n",
      "[1] \"- finished: 11\"\n",
      "[1] \"- finished: 12\"\n",
      "[1] \"- finished: 13\"\n",
      "[1] \"- finished: 14\"\n",
      "[1] \"- finished: 15\"\n",
      "[1] \"- finished: 16\"\n",
      "[1] \"- finished: 17\"\n",
      "[1] \"- finished: 18\"\n",
      "[1] \"- finished: 19\"\n",
      "[1] \"- finished: 20\"\n",
      "[1] \"> Finished: 89\"\n"
     ]
    },
    {
     "name": "stderr",
     "output_type": "stream",
     "text": [
      "Warning message in dir.create(paste0(\"data/\", target, i)):\n",
      "“'data/BRONZE/90' already exists”\n"
     ]
    },
    {
     "name": "stdout",
     "output_type": "stream",
     "text": [
      "[1] \"start Loop\"\n",
      "[1] \"- finished: 1\"\n",
      "[1] \"- finished: 2\"\n",
      "[1] \"- finished: 3\"\n",
      "[1] \"- finished: 4\"\n",
      "[1] \"- finished: 5\"\n",
      "[1] \"- finished: 6\"\n",
      "[1] \"- finished: 7\"\n",
      "[1] \"- finished: 8\"\n",
      "[1] \"- finished: 9\"\n",
      "[1] \"- finished: 10\"\n",
      "[1] \"- finished: 11\"\n",
      "[1] \"- finished: 12\"\n",
      "[1] \"- finished: 13\"\n",
      "[1] \"- finished: 14\"\n",
      "[1] \"- finished: 15\"\n",
      "[1] \"- finished: 16\"\n",
      "[1] \"- finished: 17\"\n",
      "[1] \"- finished: 18\"\n",
      "[1] \"- finished: 19\"\n",
      "[1] \"- finished: 20\"\n",
      "[1] \"> Finished: 90\"\n"
     ]
    },
    {
     "name": "stderr",
     "output_type": "stream",
     "text": [
      "Warning message in dir.create(paste0(\"data/\", target, i)):\n",
      "“'data/BRONZE/91' already exists”\n"
     ]
    },
    {
     "name": "stdout",
     "output_type": "stream",
     "text": [
      "[1] \"start Loop\"\n",
      "[1] \"- finished: 1\"\n",
      "[1] \"- finished: 2\"\n",
      "[1] \"- finished: 3\"\n",
      "[1] \"- finished: 4\"\n",
      "[1] \"- finished: 5\"\n",
      "[1] \"- finished: 6\"\n",
      "[1] \"- finished: 7\"\n",
      "[1] \"- finished: 8\"\n",
      "[1] \"- finished: 9\"\n",
      "[1] \"- finished: 10\"\n",
      "[1] \"- finished: 11\"\n",
      "[1] \"- finished: 12\"\n",
      "[1] \"- finished: 13\"\n",
      "[1] \"- finished: 14\"\n",
      "[1] \"- finished: 15\"\n",
      "[1] \"- finished: 16\"\n",
      "[1] \"- finished: 17\"\n",
      "[1] \"- finished: 18\"\n",
      "[1] \"- finished: 19\"\n",
      "[1] \"- finished: 20\"\n",
      "[1] \"> Finished: 91\"\n"
     ]
    },
    {
     "name": "stderr",
     "output_type": "stream",
     "text": [
      "Warning message in dir.create(paste0(\"data/\", target, i)):\n",
      "“'data/BRONZE/92' already exists”\n"
     ]
    },
    {
     "name": "stdout",
     "output_type": "stream",
     "text": [
      "[1] \"start Loop\"\n",
      "[1] \"- finished: 1\"\n",
      "[1] \"- finished: 2\"\n",
      "[1] \"- finished: 3\"\n",
      "[1] \"- finished: 4\"\n",
      "[1] \"- finished: 5\"\n",
      "[1] \"- finished: 6\"\n",
      "[1] \"- finished: 7\"\n",
      "[1] \"- finished: 8\"\n",
      "[1] \"- finished: 9\"\n",
      "[1] \"- finished: 10\"\n",
      "[1] \"- finished: 11\"\n",
      "[1] \"- finished: 12\"\n",
      "[1] \"- finished: 13\"\n",
      "[1] \"- finished: 14\"\n",
      "[1] \"- finished: 15\"\n",
      "[1] \"- finished: 16\"\n",
      "[1] \"- finished: 17\"\n",
      "[1] \"- finished: 18\"\n",
      "[1] \"- finished: 19\"\n",
      "[1] \"- finished: 20\"\n",
      "[1] \"> Finished: 92\"\n"
     ]
    },
    {
     "name": "stderr",
     "output_type": "stream",
     "text": [
      "Warning message in dir.create(paste0(\"data/\", target, i)):\n",
      "“'data/BRONZE/93' already exists”\n"
     ]
    },
    {
     "name": "stdout",
     "output_type": "stream",
     "text": [
      "[1] \"start Loop\"\n",
      "[1] \"- finished: 1\"\n",
      "[1] \"- finished: 2\"\n",
      "[1] \"- finished: 3\"\n",
      "[1] \"- finished: 4\"\n",
      "[1] \"- finished: 5\"\n",
      "[1] \"- finished: 6\"\n",
      "[1] \"- finished: 7\"\n",
      "[1] \"- finished: 8\"\n",
      "[1] \"- finished: 9\"\n",
      "[1] \"- finished: 10\"\n",
      "[1] \"- finished: 11\"\n",
      "[1] \"- finished: 12\"\n",
      "[1] \"- finished: 13\"\n",
      "[1] \"- finished: 14\"\n",
      "[1] \"- finished: 15\"\n",
      "[1] \"- finished: 16\"\n",
      "[1] \"- finished: 17\"\n",
      "[1] \"- finished: 18\"\n",
      "[1] \"- finished: 19\"\n",
      "[1] \"- finished: 20\"\n",
      "[1] \"> Finished: 93\"\n"
     ]
    },
    {
     "name": "stderr",
     "output_type": "stream",
     "text": [
      "Warning message in dir.create(paste0(\"data/\", target, i)):\n",
      "“'data/BRONZE/94' already exists”\n"
     ]
    },
    {
     "name": "stdout",
     "output_type": "stream",
     "text": [
      "[1] \"start Loop\"\n",
      "[1] \"- finished: 1\"\n",
      "[1] \"- finished: 2\"\n",
      "[1] \"- finished: 3\"\n",
      "[1] \"- finished: 4\"\n",
      "[1] \"- finished: 5\"\n",
      "[1] \"- finished: 6\"\n",
      "[1] \"- finished: 7\"\n",
      "[1] \"- finished: 8\"\n",
      "[1] \"- finished: 9\"\n",
      "[1] \"- finished: 10\"\n",
      "[1] \"- finished: 11\"\n",
      "[1] \"- finished: 12\"\n",
      "[1] \"- finished: 13\"\n",
      "[1] \"- finished: 14\"\n",
      "[1] \"- finished: 15\"\n",
      "[1] \"- finished: 16\"\n",
      "[1] \"- finished: 17\"\n",
      "[1] \"- finished: 18\"\n",
      "[1] \"- finished: 19\"\n",
      "[1] \"- finished: 20\"\n",
      "[1] \"> Finished: 94\"\n"
     ]
    },
    {
     "name": "stderr",
     "output_type": "stream",
     "text": [
      "Warning message in dir.create(paste0(\"data/\", target, i)):\n",
      "“'data/BRONZE/95' already exists”\n"
     ]
    },
    {
     "name": "stdout",
     "output_type": "stream",
     "text": [
      "[1] \"start Loop\"\n",
      "[1] \"- finished: 1\"\n",
      "[1] \"- finished: 2\"\n",
      "[1] \"- finished: 3\"\n",
      "[1] \"- finished: 4\"\n",
      "[1] \"- finished: 5\"\n",
      "[1] \"- finished: 6\"\n",
      "[1] \"- finished: 7\"\n",
      "[1] \"- finished: 8\"\n",
      "[1] \"- finished: 9\"\n",
      "[1] \"- finished: 10\"\n",
      "[1] \"- finished: 11\"\n",
      "[1] \"- finished: 12\"\n",
      "[1] \"- finished: 13\"\n",
      "[1] \"- finished: 14\"\n",
      "[1] \"- finished: 15\"\n",
      "[1] \"- finished: 16\"\n",
      "[1] \"- finished: 17\"\n",
      "[1] \"- finished: 18\"\n",
      "[1] \"- finished: 19\"\n",
      "[1] \"- finished: 20\"\n",
      "[1] \"> Finished: 95\"\n"
     ]
    },
    {
     "name": "stderr",
     "output_type": "stream",
     "text": [
      "Warning message in dir.create(paste0(\"data/\", target, i)):\n",
      "“'data/BRONZE/96' already exists”\n"
     ]
    },
    {
     "name": "stdout",
     "output_type": "stream",
     "text": [
      "[1] \"start Loop\"\n",
      "[1] \"- finished: 1\"\n",
      "[1] \"- finished: 2\"\n",
      "[1] \"- finished: 3\"\n",
      "[1] \"- finished: 4\"\n",
      "[1] \"- finished: 5\"\n",
      "[1] \"- finished: 6\"\n",
      "[1] \"- finished: 7\"\n",
      "[1] \"- finished: 8\"\n",
      "[1] \"- finished: 9\"\n",
      "[1] \"- finished: 10\"\n",
      "[1] \"- finished: 11\"\n",
      "[1] \"- finished: 12\"\n",
      "[1] \"- finished: 13\"\n",
      "[1] \"- finished: 14\"\n",
      "[1] \"- finished: 15\"\n",
      "[1] \"- finished: 16\"\n",
      "[1] \"- finished: 17\"\n",
      "[1] \"- finished: 18\"\n",
      "[1] \"- finished: 19\"\n",
      "[1] \"- finished: 20\"\n",
      "[1] \"> Finished: 96\"\n"
     ]
    },
    {
     "name": "stderr",
     "output_type": "stream",
     "text": [
      "Warning message in dir.create(paste0(\"data/\", target, i)):\n",
      "“'data/BRONZE/97' already exists”\n"
     ]
    },
    {
     "name": "stdout",
     "output_type": "stream",
     "text": [
      "[1] \"start Loop\"\n",
      "[1] \"- finished: 1\"\n",
      "[1] \"- finished: 2\"\n",
      "[1] \"- finished: 3\"\n",
      "[1] \"- finished: 4\"\n",
      "[1] \"- finished: 5\"\n",
      "[1] \"- finished: 6\"\n",
      "[1] \"- finished: 7\"\n",
      "[1] \"- finished: 8\"\n",
      "[1] \"- finished: 9\"\n",
      "[1] \"- finished: 10\"\n",
      "[1] \"- finished: 11\"\n",
      "[1] \"- finished: 12\"\n",
      "[1] \"- finished: 13\"\n",
      "[1] \"- finished: 14\"\n",
      "[1] \"- finished: 15\"\n",
      "[1] \"- finished: 16\"\n",
      "[1] \"- finished: 17\"\n",
      "[1] \"- finished: 18\"\n",
      "[1] \"- finished: 19\"\n",
      "[1] \"- finished: 20\"\n",
      "[1] \"> Finished: 97\"\n"
     ]
    },
    {
     "name": "stderr",
     "output_type": "stream",
     "text": [
      "Warning message in dir.create(paste0(\"data/\", target, i)):\n",
      "“'data/BRONZE/98' already exists”\n"
     ]
    },
    {
     "name": "stdout",
     "output_type": "stream",
     "text": [
      "[1] \"start Loop\"\n",
      "[1] \"- finished: 1\"\n",
      "[1] \"- finished: 2\"\n",
      "[1] \"- finished: 3\"\n",
      "[1] \"- finished: 4\"\n",
      "[1] \"- finished: 5\"\n",
      "[1] \"- finished: 6\"\n",
      "[1] \"- finished: 7\"\n",
      "[1] \"- finished: 8\"\n",
      "[1] \"- finished: 9\"\n",
      "[1] \"- finished: 10\"\n",
      "[1] \"- finished: 11\"\n",
      "[1] \"- finished: 12\"\n",
      "[1] \"- finished: 13\"\n",
      "[1] \"- finished: 14\"\n",
      "[1] \"- finished: 15\"\n",
      "[1] \"- finished: 16\"\n",
      "[1] \"- finished: 17\"\n",
      "[1] \"- finished: 18\"\n",
      "[1] \"- finished: 19\"\n",
      "[1] \"- finished: 20\"\n",
      "[1] \"> Finished: 98\"\n"
     ]
    },
    {
     "name": "stderr",
     "output_type": "stream",
     "text": [
      "Warning message in dir.create(paste0(\"data/\", target, i)):\n",
      "“'data/BRONZE/99' already exists”\n"
     ]
    },
    {
     "name": "stdout",
     "output_type": "stream",
     "text": [
      "[1] \"start Loop\"\n",
      "[1] \"- finished: 1\"\n",
      "[1] \"- finished: 2\"\n",
      "[1] \"- finished: 3\"\n",
      "[1] \"- finished: 4\"\n",
      "[1] \"- finished: 5\"\n",
      "[1] \"- finished: 6\"\n",
      "[1] \"- finished: 7\"\n",
      "[1] \"- finished: 8\"\n",
      "[1] \"- finished: 9\"\n",
      "[1] \"- finished: 10\"\n",
      "[1] \"- finished: 11\"\n",
      "[1] \"- finished: 12\"\n",
      "[1] \"- finished: 13\"\n",
      "[1] \"- finished: 14\"\n",
      "[1] \"- finished: 15\"\n",
      "[1] \"- finished: 16\"\n",
      "[1] \"- finished: 17\"\n",
      "[1] \"- finished: 18\"\n",
      "[1] \"- finished: 19\"\n",
      "[1] \"- finished: 20\"\n",
      "[1] \"> Finished: 99\"\n"
     ]
    },
    {
     "name": "stderr",
     "output_type": "stream",
     "text": [
      "Warning message in dir.create(paste0(\"data/\", target, i)):\n",
      "“'data/BRONZE/100' already exists”\n"
     ]
    },
    {
     "name": "stdout",
     "output_type": "stream",
     "text": [
      "[1] \"start Loop\"\n",
      "[1] \"- finished: 1\"\n",
      "[1] \"- finished: 2\"\n",
      "<Gateway_Timeout: Gateway Timeout\n",
      ">\n",
      "[1] \"start Loop\"\n",
      "[1] \"- finished: 1\"\n",
      "[1] \"- finished: 2\"\n",
      "[1] \"- finished: 3\"\n",
      "[1] \"- finished: 4\"\n",
      "[1] \"- finished: 5\"\n",
      "[1] \"- finished: 6\"\n",
      "[1] \"- finished: 7\"\n",
      "[1] \"- finished: 8\"\n",
      "[1] \"- finished: 9\"\n",
      "[1] \"- finished: 10\"\n",
      "[1] \"- finished: 11\"\n",
      "[1] \"- finished: 12\"\n",
      "[1] \"- finished: 13\"\n",
      "[1] \"- finished: 14\"\n",
      "[1] \"- finished: 15\"\n",
      "[1] \"- finished: 16\"\n",
      "[1] \"- finished: 17\"\n",
      "[1] \"- finished: 18\"\n",
      "[1] \"- finished: 19\"\n",
      "[1] \"- finished: 20\"\n",
      "[1] \"> Finished: 100\"\n"
     ]
    },
    {
     "name": "stderr",
     "output_type": "stream",
     "text": [
      "Warning message in dir.create(paste0(\"data/\", target, i)):\n",
      "“'data/BRONZE/101' already exists”\n"
     ]
    },
    {
     "name": "stdout",
     "output_type": "stream",
     "text": [
      "[1] \"start Loop\"\n",
      "[1] \"- finished: 1\"\n",
      "[1] \"- finished: 2\"\n",
      "[1] \"- finished: 3\"\n",
      "[1] \"- finished: 4\"\n",
      "[1] \"- finished: 5\"\n",
      "[1] \"- finished: 6\"\n",
      "[1] \"- finished: 7\"\n",
      "[1] \"- finished: 8\"\n",
      "[1] \"- finished: 9\"\n",
      "[1] \"- finished: 10\"\n",
      "[1] \"- finished: 11\"\n",
      "[1] \"- finished: 12\"\n",
      "[1] \"- finished: 13\"\n",
      "[1] \"- finished: 14\"\n",
      "[1] \"- finished: 15\"\n",
      "[1] \"- finished: 16\"\n",
      "[1] \"- finished: 17\"\n",
      "[1] \"- finished: 18\"\n",
      "[1] \"- finished: 19\"\n",
      "[1] \"- finished: 20\"\n",
      "[1] \"> Finished: 101\"\n"
     ]
    },
    {
     "name": "stderr",
     "output_type": "stream",
     "text": [
      "Warning message in dir.create(paste0(\"data/\", target, i)):\n",
      "“'data/BRONZE/102' already exists”\n"
     ]
    },
    {
     "name": "stdout",
     "output_type": "stream",
     "text": [
      "[1] \"start Loop\"\n",
      "[1] \"- finished: 1\"\n",
      "[1] \"- finished: 2\"\n",
      "[1] \"- finished: 3\"\n",
      "[1] \"- finished: 4\"\n",
      "[1] \"- finished: 5\"\n",
      "[1] \"- finished: 6\"\n",
      "[1] \"- finished: 7\"\n",
      "[1] \"- finished: 8\"\n",
      "[1] \"- finished: 9\"\n",
      "[1] \"- finished: 10\"\n",
      "[1] \"- finished: 11\"\n",
      "[1] \"- finished: 12\"\n",
      "[1] \"- finished: 13\"\n",
      "[1] \"- finished: 14\"\n",
      "[1] \"- finished: 15\"\n",
      "[1] \"- finished: 16\"\n",
      "[1] \"- finished: 17\"\n",
      "[1] \"- finished: 18\"\n",
      "[1] \"- finished: 19\"\n",
      "[1] \"- finished: 20\"\n",
      "[1] \"> Finished: 102\"\n"
     ]
    },
    {
     "name": "stderr",
     "output_type": "stream",
     "text": [
      "Warning message in dir.create(paste0(\"data/\", target, i)):\n",
      "“'data/BRONZE/103' already exists”\n"
     ]
    },
    {
     "name": "stdout",
     "output_type": "stream",
     "text": [
      "[1] \"start Loop\"\n",
      "[1] \"- finished: 1\"\n",
      "[1] \"- finished: 2\"\n",
      "[1] \"- finished: 3\"\n",
      "[1] \"- finished: 4\"\n",
      "[1] \"- finished: 5\"\n",
      "[1] \"- finished: 6\"\n",
      "[1] \"- finished: 7\"\n",
      "[1] \"- finished: 8\"\n",
      "[1] \"- finished: 9\"\n",
      "[1] \"- finished: 10\"\n",
      "[1] \"- finished: 11\"\n",
      "[1] \"- finished: 12\"\n",
      "[1] \"- finished: 13\"\n",
      "[1] \"- finished: 14\"\n",
      "[1] \"- finished: 15\"\n",
      "[1] \"- finished: 16\"\n",
      "[1] \"- finished: 17\"\n",
      "[1] \"- finished: 18\"\n",
      "[1] \"- finished: 19\"\n",
      "[1] \"- finished: 20\"\n",
      "[1] \"> Finished: 103\"\n"
     ]
    },
    {
     "name": "stderr",
     "output_type": "stream",
     "text": [
      "Warning message in dir.create(paste0(\"data/\", target, i)):\n",
      "“'data/BRONZE/104' already exists”\n"
     ]
    },
    {
     "name": "stdout",
     "output_type": "stream",
     "text": [
      "[1] \"start Loop\"\n",
      "[1] \"- finished: 1\"\n",
      "[1] \"- finished: 2\"\n",
      "[1] \"- finished: 3\"\n",
      "[1] \"- finished: 4\"\n",
      "[1] \"- finished: 5\"\n",
      "[1] \"- finished: 6\"\n",
      "[1] \"- finished: 7\"\n",
      "[1] \"- finished: 8\"\n",
      "[1] \"- finished: 9\"\n",
      "[1] \"- finished: 10\"\n",
      "[1] \"- finished: 11\"\n",
      "[1] \"- finished: 12\"\n",
      "[1] \"- finished: 13\"\n",
      "[1] \"- finished: 14\"\n",
      "[1] \"- finished: 15\"\n",
      "[1] \"- finished: 16\"\n",
      "[1] \"- finished: 17\"\n",
      "[1] \"- finished: 18\"\n",
      "[1] \"- finished: 19\"\n",
      "[1] \"- finished: 20\"\n",
      "[1] \"> Finished: 104\"\n"
     ]
    },
    {
     "name": "stderr",
     "output_type": "stream",
     "text": [
      "Warning message in dir.create(paste0(\"data/\", target, i)):\n",
      "“'data/BRONZE/105' already exists”\n"
     ]
    },
    {
     "name": "stdout",
     "output_type": "stream",
     "text": [
      "[1] \"start Loop\"\n",
      "[1] \"- finished: 1\"\n",
      "[1] \"- finished: 2\"\n",
      "[1] \"- finished: 3\"\n",
      "[1] \"- finished: 4\"\n",
      "[1] \"- finished: 5\"\n",
      "[1] \"- finished: 6\"\n",
      "[1] \"- finished: 7\"\n",
      "[1] \"- finished: 8\"\n",
      "[1] \"- finished: 9\"\n",
      "[1] \"- finished: 10\"\n",
      "[1] \"- finished: 11\"\n",
      "[1] \"- finished: 12\"\n",
      "[1] \"- finished: 13\"\n",
      "[1] \"- finished: 14\"\n",
      "[1] \"- finished: 15\"\n",
      "[1] \"- finished: 16\"\n",
      "[1] \"- finished: 17\"\n",
      "[1] \"- finished: 18\"\n",
      "[1] \"- finished: 19\"\n",
      "[1] \"- finished: 20\"\n",
      "[1] \"> Finished: 105\"\n"
     ]
    },
    {
     "name": "stderr",
     "output_type": "stream",
     "text": [
      "Warning message in dir.create(paste0(\"data/\", target, i)):\n",
      "“'data/BRONZE/106' already exists”\n"
     ]
    },
    {
     "name": "stdout",
     "output_type": "stream",
     "text": [
      "[1] \"start Loop\"\n",
      "[1] \"- finished: 1\"\n",
      "[1] \"- finished: 2\"\n",
      "[1] \"- finished: 3\"\n",
      "[1] \"- finished: 4\"\n",
      "[1] \"- finished: 5\"\n",
      "[1] \"- finished: 6\"\n",
      "[1] \"- finished: 7\"\n",
      "[1] \"- finished: 8\"\n",
      "[1] \"- finished: 9\"\n",
      "[1] \"- finished: 10\"\n",
      "[1] \"- finished: 11\"\n",
      "[1] \"- finished: 12\"\n",
      "[1] \"- finished: 13\"\n",
      "[1] \"- finished: 14\"\n",
      "[1] \"- finished: 15\"\n",
      "[1] \"- finished: 16\"\n",
      "[1] \"- finished: 17\"\n",
      "[1] \"- finished: 18\"\n",
      "[1] \"- finished: 19\"\n",
      "[1] \"- finished: 20\"\n",
      "[1] \"> Finished: 106\"\n"
     ]
    },
    {
     "name": "stderr",
     "output_type": "stream",
     "text": [
      "Warning message in dir.create(paste0(\"data/\", target, i)):\n",
      "“'data/BRONZE/107' already exists”\n"
     ]
    },
    {
     "name": "stdout",
     "output_type": "stream",
     "text": [
      "[1] \"start Loop\"\n",
      "[1] \"- finished: 1\"\n",
      "[1] \"- finished: 2\"\n",
      "[1] \"- finished: 3\"\n",
      "[1] \"- finished: 4\"\n",
      "[1] \"- finished: 5\"\n",
      "[1] \"- finished: 6\"\n",
      "[1] \"- finished: 7\"\n",
      "[1] \"- finished: 8\"\n",
      "[1] \"- finished: 9\"\n",
      "[1] \"- finished: 10\"\n",
      "[1] \"- finished: 11\"\n",
      "[1] \"- finished: 12\"\n",
      "[1] \"- finished: 13\"\n",
      "[1] \"- finished: 14\"\n",
      "[1] \"- finished: 15\"\n",
      "[1] \"- finished: 16\"\n",
      "[1] \"- finished: 17\"\n",
      "[1] \"- finished: 18\"\n",
      "[1] \"- finished: 19\"\n",
      "[1] \"- finished: 20\"\n",
      "[1] \"> Finished: 107\"\n"
     ]
    },
    {
     "name": "stderr",
     "output_type": "stream",
     "text": [
      "Warning message in dir.create(paste0(\"data/\", target, i)):\n",
      "“'data/BRONZE/108' already exists”\n"
     ]
    },
    {
     "name": "stdout",
     "output_type": "stream",
     "text": [
      "[1] \"start Loop\"\n",
      "[1] \"- finished: 1\"\n",
      "[1] \"- finished: 2\"\n",
      "[1] \"- finished: 3\"\n",
      "[1] \"- finished: 4\"\n",
      "[1] \"- finished: 5\"\n",
      "[1] \"- finished: 6\"\n",
      "[1] \"- finished: 7\"\n",
      "[1] \"- finished: 8\"\n",
      "[1] \"- finished: 9\"\n",
      "[1] \"- finished: 10\"\n",
      "[1] \"- finished: 11\"\n",
      "[1] \"- finished: 12\"\n",
      "[1] \"- finished: 13\"\n",
      "[1] \"- finished: 14\"\n",
      "[1] \"- finished: 15\"\n",
      "[1] \"- finished: 16\"\n",
      "[1] \"- finished: 17\"\n",
      "[1] \"- finished: 18\"\n",
      "[1] \"- finished: 19\"\n",
      "[1] \"- finished: 20\"\n",
      "[1] \"> Finished: 108\"\n"
     ]
    },
    {
     "name": "stderr",
     "output_type": "stream",
     "text": [
      "Warning message in dir.create(paste0(\"data/\", target, i)):\n",
      "“'data/BRONZE/109' already exists”\n"
     ]
    },
    {
     "name": "stdout",
     "output_type": "stream",
     "text": [
      "[1] \"start Loop\"\n",
      "[1] \"- finished: 1\"\n",
      "[1] \"- finished: 2\"\n",
      "[1] \"- finished: 3\"\n",
      "[1] \"- finished: 4\"\n",
      "[1] \"- finished: 5\"\n",
      "[1] \"- finished: 6\"\n",
      "[1] \"- finished: 7\"\n",
      "[1] \"- finished: 8\"\n",
      "[1] \"- finished: 9\"\n",
      "[1] \"- finished: 10\"\n",
      "[1] \"- finished: 11\"\n",
      "[1] \"- finished: 12\"\n",
      "[1] \"- finished: 13\"\n",
      "[1] \"- finished: 14\"\n",
      "[1] \"- finished: 15\"\n",
      "[1] \"- finished: 16\"\n",
      "[1] \"- finished: 17\"\n",
      "[1] \"- finished: 18\"\n",
      "[1] \"- finished: 19\"\n",
      "[1] \"- finished: 20\"\n",
      "[1] \"> Finished: 109\"\n"
     ]
    },
    {
     "name": "stderr",
     "output_type": "stream",
     "text": [
      "Warning message in dir.create(paste0(\"data/\", target, i)):\n",
      "“'data/BRONZE/110' already exists”\n"
     ]
    },
    {
     "name": "stdout",
     "output_type": "stream",
     "text": [
      "[1] \"start Loop\"\n",
      "[1] \"- finished: 1\"\n",
      "[1] \"- finished: 2\"\n",
      "[1] \"- finished: 3\"\n",
      "<Gateway_Timeout: Gateway Timeout\n",
      ">\n",
      "[1] \"start Loop\"\n",
      "[1] \"- finished: 1\"\n",
      "[1] \"- finished: 2\"\n",
      "[1] \"- finished: 3\"\n",
      "[1] \"- finished: 4\"\n",
      "[1] \"- finished: 5\"\n",
      "[1] \"- finished: 6\"\n",
      "[1] \"- finished: 7\"\n",
      "[1] \"- finished: 8\"\n",
      "[1] \"- finished: 9\"\n",
      "[1] \"- finished: 10\"\n",
      "[1] \"- finished: 11\"\n",
      "[1] \"- finished: 12\"\n",
      "[1] \"- finished: 13\"\n",
      "[1] \"- finished: 14\"\n",
      "[1] \"- finished: 15\"\n",
      "[1] \"- finished: 16\"\n",
      "[1] \"- finished: 17\"\n",
      "[1] \"- finished: 18\"\n",
      "[1] \"- finished: 19\"\n",
      "[1] \"- finished: 20\"\n",
      "[1] \"> Finished: 110\"\n"
     ]
    },
    {
     "name": "stderr",
     "output_type": "stream",
     "text": [
      "Warning message in dir.create(paste0(\"data/\", target, i)):\n",
      "“'data/BRONZE/111' already exists”\n"
     ]
    },
    {
     "name": "stdout",
     "output_type": "stream",
     "text": [
      "[1] \"start Loop\"\n",
      "[1] \"- finished: 1\"\n",
      "[1] \"- finished: 2\"\n",
      "[1] \"- finished: 3\"\n",
      "[1] \"- finished: 4\"\n",
      "[1] \"- finished: 5\"\n",
      "[1] \"- finished: 6\"\n",
      "[1] \"- finished: 7\"\n",
      "[1] \"- finished: 8\"\n",
      "[1] \"- finished: 9\"\n",
      "[1] \"- finished: 10\"\n",
      "[1] \"- finished: 11\"\n",
      "[1] \"- finished: 12\"\n",
      "[1] \"- finished: 13\"\n",
      "[1] \"- finished: 14\"\n",
      "[1] \"- finished: 15\"\n",
      "[1] \"- finished: 16\"\n",
      "[1] \"- finished: 17\"\n",
      "[1] \"- finished: 18\"\n",
      "[1] \"- finished: 19\"\n",
      "[1] \"- finished: 20\"\n",
      "[1] \"> Finished: 111\"\n"
     ]
    },
    {
     "name": "stderr",
     "output_type": "stream",
     "text": [
      "Warning message in dir.create(paste0(\"data/\", target, i)):\n",
      "“'data/BRONZE/112' already exists”\n"
     ]
    },
    {
     "name": "stdout",
     "output_type": "stream",
     "text": [
      "[1] \"start Loop\"\n",
      "[1] \"- finished: 1\"\n",
      "[1] \"- finished: 2\"\n",
      "[1] \"- finished: 3\"\n",
      "[1] \"- finished: 4\"\n",
      "[1] \"- finished: 5\"\n",
      "[1] \"- finished: 6\"\n",
      "[1] \"- finished: 7\"\n",
      "[1] \"- finished: 8\"\n",
      "[1] \"- finished: 9\"\n",
      "[1] \"- finished: 10\"\n",
      "[1] \"- finished: 11\"\n",
      "[1] \"- finished: 12\"\n",
      "[1] \"- finished: 13\"\n",
      "[1] \"- finished: 14\"\n",
      "[1] \"- finished: 15\"\n",
      "[1] \"- finished: 16\"\n",
      "[1] \"- finished: 17\"\n",
      "[1] \"- finished: 18\"\n",
      "[1] \"- finished: 19\"\n",
      "[1] \"- finished: 20\"\n",
      "[1] \"> Finished: 112\"\n"
     ]
    },
    {
     "name": "stderr",
     "output_type": "stream",
     "text": [
      "Warning message in dir.create(paste0(\"data/\", target, i)):\n",
      "“'data/BRONZE/113' already exists”\n"
     ]
    }
   ],
   "source": [
    "### TIER\n",
    "loop = function(){\n",
    "    tryCatch({\n",
    "        update(now, end)\n",
    "    }, error = function(e) {\n",
    "        print(e)\n",
    "        unlink(paste0('data/', target, now), recursive=T);\n",
    "        Sys.sleep(10); \n",
    "        try({\n",
    "            detach(\"package:rjson\");\n",
    "            library(jsonlite);\n",
    "        })\n",
    "        loop()\n",
    "    }, silent=T)\n",
    "}\n",
    "system.time(loop())[3] # miliSeconds (3600ms = 1h)"
   ]
  },
  {
   "cell_type": "code",
   "execution_count": null,
   "metadata": {},
   "outputs": [],
   "source": [
    "12772 / 3600"
   ]
  },
  {
   "cell_type": "code",
   "execution_count": null,
   "metadata": {},
   "outputs": [],
   "source": [
    "ppp = system.time(print(12))\n",
    "ppp[3] "
   ]
  },
  {
   "cell_type": "code",
   "execution_count": null,
   "metadata": {},
   "outputs": [],
   "source": []
  }
 ],
 "metadata": {
  "kernelspec": {
   "display_name": "R",
   "language": "R",
   "name": "ir"
  },
  "language_info": {
   "codemirror_mode": "r",
   "file_extension": ".r",
   "mimetype": "text/x-r-source",
   "name": "R",
   "pygments_lexer": "r",
   "version": "3.6.1"
  }
 },
 "nbformat": 4,
 "nbformat_minor": 4
}
