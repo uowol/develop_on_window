{
 "cells": [
  {
   "cell_type": "code",
   "execution_count": 3,
   "metadata": {},
   "outputs": [],
   "source": [
    "### setup\n",
    "library(RCurl) # = getForm()\n",
    "library(jsonlite)"
   ]
  },
  {
   "cell_type": "code",
   "execution_count": 4,
   "metadata": {},
   "outputs": [],
   "source": [
    "### functions\n",
    "LOG = function(txt){\n",
    "    write(txt, file=\"log.txt\")\n",
    "}\n",
    "cData.get = function(key){\n",
    "    return(cData$data[which(names(cData.keys) == key)])\n",
    "}"
   ]
  },
  {
   "cell_type": "code",
   "execution_count": 5,
   "metadata": {},
   "outputs": [],
   "source": [
    "### read assets\n",
    "cData = fromJSON('data/championsData.json')\n",
    "iData = fromJSON('data/itemsData.json')"
   ]
  },
  {
   "cell_type": "code",
   "execution_count": 6,
   "metadata": {},
   "outputs": [],
   "source": [
    "### LoL-API\n",
    "key = \"?api_key=RGAPI-6be53677-d019-442a-a847-0a512f3fbf68\"\n",
    "api_url = \"https://kr.api.riotgames.com\""
   ]
  },
  {
   "cell_type": "code",
   "execution_count": 13,
   "metadata": {},
   "outputs": [
    {
     "name": "stderr",
     "output_type": "stream",
     "text": [
      "ERROR while rich displaying an object: Error in vapply(part, function(col) {: values must be length 30,\n",
      " but FUN(X[[14]]) result is length 4\n",
      "\n",
      "Traceback:\n",
      "1. FUN(X[[i]], ...)\n",
      "2. tryCatch(withCallingHandlers({\n",
      " .     if (!mime %in% names(repr::mime2repr)) \n",
      " .         stop(\"No repr_* for mimetype \", mime, \" in repr::mime2repr\")\n",
      " .     rpr <- repr::mime2repr[[mime]](obj)\n",
      " .     if (is.null(rpr)) \n",
      " .         return(NULL)\n",
      " .     prepare_content(is.raw(rpr), rpr)\n",
      " . }, error = error_handler), error = outer_handler)\n",
      "3. tryCatchList(expr, classes, parentenv, handlers)\n",
      "4. tryCatchOne(expr, names, parentenv, handlers[[1L]])\n",
      "5. doTryCatch(return(expr), name, parentenv, handler)\n",
      "6. withCallingHandlers({\n",
      " .     if (!mime %in% names(repr::mime2repr)) \n",
      " .         stop(\"No repr_* for mimetype \", mime, \" in repr::mime2repr\")\n",
      " .     rpr <- repr::mime2repr[[mime]](obj)\n",
      " .     if (is.null(rpr)) \n",
      " .         return(NULL)\n",
      " .     prepare_content(is.raw(rpr), rpr)\n",
      " . }, error = error_handler)\n",
      "7. repr::mime2repr[[mime]](obj)\n",
      "8. repr_text.data.frame(obj)\n",
      "9. ellip_limit_arr(obj, rows, cols)\n",
      "10. arr_parts_format(parts)\n",
      "11. structure(lapply(parts, arr_part_format), omit = attr(parts, \n",
      "  .     \"omit\"))\n",
      "12. lapply(parts, arr_part_format)\n",
      "13. FUN(X[[i]], ...)\n",
      "14. vapply(part, function(col) {\n",
      "  .     if (is.matrix(col)) \n",
      "  .         apply(apply(col, 2L, format), 1L, paste, collapse = \", \")\n",
      "  .     else format(col)\n",
      "  . }, character(nrow(part)))\n"
     ]
    }
   ],
   "source": [
    "### get DIAMOND-TIER Summoner List\n",
    "operation = '/lol/league-exp/v4/entries/'\n",
    "queue = 'RANKED_SOLO_5x5/'\n",
    "tier = 'DIAMOND/'\n",
    "division = 'I'\n",
    "page = '&page=1'\n",
    "url = paste0(api_url, operation, queue, tier, division, key, page)\n",
    "write(getForm(url, query=\"\"), file=\"data/player_\""
   ]
  },
  {
   "cell_type": "code",
   "execution_count": 7,
   "metadata": {},
   "outputs": [],
   "source": [
    "### get Summoner ID\n",
    "operation = \"/lol/summoner/v4/summoners/by-name/\"\n",
    "name = \"김옥티\"\n",
    "url = paste0(api_url, operation, name, key)\n",
    "page = getForm(url, query=\"\")\n",
    "write(page, file=\"data/summoner.json\")\n",
    "data.summoner = fromJSON(page)"
   ]
  },
  {
   "cell_type": "code",
   "execution_count": 9,
   "metadata": {},
   "outputs": [],
   "source": [
    "### get Summoner's League - Tier\n",
    "operation = '/lol/league/v4/entries/by-summoner/'\n",
    "url = paste0(api_url, operation, data.summoner$id, key)\n",
    "write(getForm(url, query=\"\"), file=\"data/summoner_league.json\")"
   ]
  },
  {
   "cell_type": "code",
   "execution_count": 6,
   "metadata": {},
   "outputs": [],
   "source": [
    "### get Champion Mastery\n",
    "operation = \"/lol/champion-mastery/v4/champion-masteries/by-summoner/\"\n",
    "url = paste0(api_url, operation, data.summoner$id, key)\n",
    "data.mastery = fromJSON(getForm(url, query = \"\"))\n",
    "write(toJSON(data.mastery), file=\"data/mastery.json\")"
   ]
  },
  {
   "cell_type": "code",
   "execution_count": 7,
   "metadata": {},
   "outputs": [],
   "source": [
    "LOG(data.summoner$accountId)"
   ]
  },
  {
   "cell_type": "code",
   "execution_count": 8,
   "metadata": {},
   "outputs": [],
   "source": [
    "### get MatchList\n",
    "operation = \"/lol/match/v4/matchlists/by-account/\"\n",
    "# champion\n",
    "queue = \"&queue=420&queue=430&queue=440\" # 랭크게임, 일반게임, 자유랭\n",
    "season = \"&season=13\"\n",
    "# endTime\n",
    "# beginTime\n",
    "matchLength = 50\n",
    "endIndex = paste0(\"&endIndex=\",matchLength)\n",
    "beginIndex = \"&beginIndex=0\"\n",
    "url = paste0(api_url, operation, data.summoner$accountId, key, queue, season, endIndex, beginIndex)\n",
    "data.matchList = fromJSON(getForm(url, query=\"\"))$matches\n",
    "write(toJSON(data.matchList), file=\"data/matchList.json\")"
   ]
  },
  {
   "cell_type": "code",
   "execution_count": 9,
   "metadata": {},
   "outputs": [],
   "source": [
    "### get match\n",
    "data.match = c()\n",
    "data.match.info = c()\n",
    "data.match.participants = c()\n",
    "data.match.participants.info = c()\n",
    "data.match.participants.stats = c()\n",
    "for(i in 1:matchLength){\n",
    "    gameIndex = i\n",
    "    index = gameIndex\n",
    "    currentMatch = data.matchList[gameIndex,]\n",
    "    data.match.info[[index]] = currentMatch\n",
    "    operation = '/lol/match/v4/matches/'\n",
    "    id = currentMatch$gameId\n",
    "    url = paste0(api_url, operation, id, key)\n",
    "    \n",
    "    # use rjson rather than jsonlite\n",
    "    detach(\"package:jsonlite\")\n",
    "    library(rjson)\n",
    "    \n",
    "    data.match.raw = getForm(url, query=\"\")\n",
    "    data.match.participants[[index]] = fromJSON(data.match.raw)[12:13]\n",
    "    \n",
    "    # use jsonlite rather than rjson\n",
    "    detach(\"package:rjson\")\n",
    "    library(jsonlite)\n",
    "    \n",
    "    data.match[[index]] = c(fromJSON(data.match.raw)[1:11])\n",
    "    p = data.match.participants[[index]][[1]]\n",
    "    data.match.participants.stats[[index]] = lapply(p, function(x) data.frame(x$stats))\n",
    "    p = data.match.participants[[index]][[2]]\n",
    "    data.match.participants.info[[index]] = lapply(p, function(x) data.frame(x$player))\n",
    "                                                   \n",
    "    Sys.sleep(1/20)\n",
    "}\n",
    "data.match.participants = lapply(data.match.participants, function(x) x$participants)\n",
    "write(toJSON(data.match.participants), file=\"data/match_participants.json\")\n",
    "write(toJSON(data.match.participants.stats), file=\"data/match_participants_stats.json\")\n",
    "write(toJSON(data.match.participants.info), file=\"data/match_participants_info.json\")\n",
    "write(toJSON(data.match), file=\"data/match.json\")\n",
    "write(toJSON(data.match.info), file=\"data/match_info.json\")"
   ]
  },
  {
   "cell_type": "code",
   "execution_count": 12,
   "metadata": {},
   "outputs": [
    {
     "ename": "ERROR",
     "evalue": "Error in eval(expr, envir, enclos): object 'champions' not found\n",
     "output_type": "error",
     "traceback": [
      "Error in eval(expr, envir, enclos): object 'champions' not found\nTraceback:\n"
     ]
    }
   ],
   "source": [
    "### To-do\n",
    "#  티어, 레벨 -> summonerInfo"
   ]
  },
  {
   "cell_type": "code",
   "execution_count": null,
   "metadata": {},
   "outputs": [],
   "source": []
  },
  {
   "cell_type": "code",
   "execution_count": null,
   "metadata": {},
   "outputs": [],
   "source": []
  },
  {
   "cell_type": "code",
   "execution_count": null,
   "metadata": {},
   "outputs": [],
   "source": []
  }
 ],
 "metadata": {
  "kernelspec": {
   "display_name": "R",
   "language": "R",
   "name": "ir"
  },
  "language_info": {
   "codemirror_mode": "r",
   "file_extension": ".r",
   "mimetype": "text/x-r-source",
   "name": "R",
   "pygments_lexer": "r",
   "version": "3.6.1"
  }
 },
 "nbformat": 4,
 "nbformat_minor": 4
}
