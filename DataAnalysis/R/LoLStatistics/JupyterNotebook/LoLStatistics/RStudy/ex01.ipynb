{
 "cells": [
  {
   "cell_type": "code",
   "execution_count": 42,
   "metadata": {},
   "outputs": [],
   "source": [
    "x = rnorm(101)"
   ]
  },
  {
   "cell_type": "code",
   "execution_count": 43,
   "metadata": {},
   "outputs": [
    {
     "data": {
      "text/html": [
       "<style>\n",
       ".list-inline {list-style: none; margin:0; padding: 0}\n",
       ".list-inline>li {display: inline-block}\n",
       ".list-inline>li:not(:last-child)::after {content: \"\\00b7\"; padding: 0 .5ex}\n",
       "</style>\n",
       "<ol class=list-inline><li>-1.91435942568001</li><li>1.17658331201856</li><li>-1.664972436212</li><li>-0.463530401472386</li><li>-1.11592010504285</li><li>-0.750819001193448</li><li>2.08716654562835</li><li>0.0173956196932517</li><li>-1.28630053043433</li><li>-1.64060553441858</li><li>0.450187101272656</li><li>-0.018559832714638</li><li>-0.318068374543844</li><li>-0.929362147453702</li><li>-1.48746031014148</li><li>-1.07519229661568</li><li>1.00002880371391</li><li>-0.621266694796823</li><li>-1.38442684738449</li><li>1.86929062242358</li><li>0.425100377372448</li><li>-0.238647100913033</li><li>1.05848304870902</li><li>0.886422651374936</li><li>-0.619243048231147</li><li>2.20610246454047</li><li>-0.255027030141015</li><li>-1.42449465021281</li><li>-0.144399601954219</li><li>0.207538339232345</li><li>2.30797839905936</li><li>0.105802367893711</li><li>0.456998805423413</li><li>-0.077152935356531</li><li>-0.334000842366544</li><li>-0.0347260283112762</li><li>0.787639605630162</li><li>2.07524500865228</li><li>1.02739243876377</li><li>1.2079083983867</li><li>-1.23132342155804</li><li>0.983895570053379</li><li>0.219924803660651</li><li>-1.46725002909224</li><li>0.521022742648139</li><li>-0.158754604716016</li><li>1.4645873119698</li><li>-0.766081999604665</li><li>-0.430211753928546</li><li>-0.926109497377437</li><li>-0.17710396143654</li><li>0.402011779486338</li><li>-0.731748173119606</li><li>0.830373167981674</li><li>-1.20808278630446</li><li>-1.04798441280774</li><li>1.44115770684428</li><li>-1.01584746530465</li><li>0.411974712317515</li><li>-0.38107605110892</li><li>0.409401839650934</li><li>1.68887328620405</li><li>1.58658843344197</li><li>-0.330907800682766</li><li>-2.28523553529247</li><li>2.49766158983416</li><li>0.667066166765493</li><li>0.5413273359637</li><li>-0.0133995231459087</li><li>0.510108422952926</li><li>-0.164375831769667</li><li>0.420694643254513</li><li>-0.400246743977644</li><li>-1.37020787754746</li><li>0.987838267454878</li><li>1.51974502549955</li><li>-0.308740569225614</li><li>-1.25328975560769</li><li>0.642241305677824</li><li>-0.0447091368939791</li><li>-1.73321840682484</li><li>0.00213185968026965</li><li>-0.630300333928146</li><li>-0.340968579860405</li><li>-1.15657236263585</li><li>1.80314190791747</li><li>-0.331132036391221</li><li>-1.60551341225308</li><li>0.197193438739481</li><li>0.263175646405474</li><li>-0.985826700409291</li><li>-2.88892067167955</li><li>-0.640481702565115</li><li>0.570507635920485</li><li>-0.05972327604261</li><li>-0.0981787440052344</li><li>0.560820728620116</li><li>-1.18645863857947</li><li>1.09677704427424</li><li>-0.00534402827816569</li><li>0.707310667398079</li></ol>\n"
      ],
      "text/latex": [
       "\\begin{enumerate*}\n",
       "\\item -1.91435942568001\n",
       "\\item 1.17658331201856\n",
       "\\item -1.664972436212\n",
       "\\item -0.463530401472386\n",
       "\\item -1.11592010504285\n",
       "\\item -0.750819001193448\n",
       "\\item 2.08716654562835\n",
       "\\item 0.0173956196932517\n",
       "\\item -1.28630053043433\n",
       "\\item -1.64060553441858\n",
       "\\item 0.450187101272656\n",
       "\\item -0.018559832714638\n",
       "\\item -0.318068374543844\n",
       "\\item -0.929362147453702\n",
       "\\item -1.48746031014148\n",
       "\\item -1.07519229661568\n",
       "\\item 1.00002880371391\n",
       "\\item -0.621266694796823\n",
       "\\item -1.38442684738449\n",
       "\\item 1.86929062242358\n",
       "\\item 0.425100377372448\n",
       "\\item -0.238647100913033\n",
       "\\item 1.05848304870902\n",
       "\\item 0.886422651374936\n",
       "\\item -0.619243048231147\n",
       "\\item 2.20610246454047\n",
       "\\item -0.255027030141015\n",
       "\\item -1.42449465021281\n",
       "\\item -0.144399601954219\n",
       "\\item 0.207538339232345\n",
       "\\item 2.30797839905936\n",
       "\\item 0.105802367893711\n",
       "\\item 0.456998805423413\n",
       "\\item -0.077152935356531\n",
       "\\item -0.334000842366544\n",
       "\\item -0.0347260283112762\n",
       "\\item 0.787639605630162\n",
       "\\item 2.07524500865228\n",
       "\\item 1.02739243876377\n",
       "\\item 1.2079083983867\n",
       "\\item -1.23132342155804\n",
       "\\item 0.983895570053379\n",
       "\\item 0.219924803660651\n",
       "\\item -1.46725002909224\n",
       "\\item 0.521022742648139\n",
       "\\item -0.158754604716016\n",
       "\\item 1.4645873119698\n",
       "\\item -0.766081999604665\n",
       "\\item -0.430211753928546\n",
       "\\item -0.926109497377437\n",
       "\\item -0.17710396143654\n",
       "\\item 0.402011779486338\n",
       "\\item -0.731748173119606\n",
       "\\item 0.830373167981674\n",
       "\\item -1.20808278630446\n",
       "\\item -1.04798441280774\n",
       "\\item 1.44115770684428\n",
       "\\item -1.01584746530465\n",
       "\\item 0.411974712317515\n",
       "\\item -0.38107605110892\n",
       "\\item 0.409401839650934\n",
       "\\item 1.68887328620405\n",
       "\\item 1.58658843344197\n",
       "\\item -0.330907800682766\n",
       "\\item -2.28523553529247\n",
       "\\item 2.49766158983416\n",
       "\\item 0.667066166765493\n",
       "\\item 0.5413273359637\n",
       "\\item -0.0133995231459087\n",
       "\\item 0.510108422952926\n",
       "\\item -0.164375831769667\n",
       "\\item 0.420694643254513\n",
       "\\item -0.400246743977644\n",
       "\\item -1.37020787754746\n",
       "\\item 0.987838267454878\n",
       "\\item 1.51974502549955\n",
       "\\item -0.308740569225614\n",
       "\\item -1.25328975560769\n",
       "\\item 0.642241305677824\n",
       "\\item -0.0447091368939791\n",
       "\\item -1.73321840682484\n",
       "\\item 0.00213185968026965\n",
       "\\item -0.630300333928146\n",
       "\\item -0.340968579860405\n",
       "\\item -1.15657236263585\n",
       "\\item 1.80314190791747\n",
       "\\item -0.331132036391221\n",
       "\\item -1.60551341225308\n",
       "\\item 0.197193438739481\n",
       "\\item 0.263175646405474\n",
       "\\item -0.985826700409291\n",
       "\\item -2.88892067167955\n",
       "\\item -0.640481702565115\n",
       "\\item 0.570507635920485\n",
       "\\item -0.05972327604261\n",
       "\\item -0.0981787440052344\n",
       "\\item 0.560820728620116\n",
       "\\item -1.18645863857947\n",
       "\\item 1.09677704427424\n",
       "\\item -0.00534402827816569\n",
       "\\item 0.707310667398079\n",
       "\\end{enumerate*}\n"
      ],
      "text/markdown": [
       "1. -1.91435942568001\n",
       "2. 1.17658331201856\n",
       "3. -1.664972436212\n",
       "4. -0.463530401472386\n",
       "5. -1.11592010504285\n",
       "6. -0.750819001193448\n",
       "7. 2.08716654562835\n",
       "8. 0.0173956196932517\n",
       "9. -1.28630053043433\n",
       "10. -1.64060553441858\n",
       "11. 0.450187101272656\n",
       "12. -0.018559832714638\n",
       "13. -0.318068374543844\n",
       "14. -0.929362147453702\n",
       "15. -1.48746031014148\n",
       "16. -1.07519229661568\n",
       "17. 1.00002880371391\n",
       "18. -0.621266694796823\n",
       "19. -1.38442684738449\n",
       "20. 1.86929062242358\n",
       "21. 0.425100377372448\n",
       "22. -0.238647100913033\n",
       "23. 1.05848304870902\n",
       "24. 0.886422651374936\n",
       "25. -0.619243048231147\n",
       "26. 2.20610246454047\n",
       "27. -0.255027030141015\n",
       "28. -1.42449465021281\n",
       "29. -0.144399601954219\n",
       "30. 0.207538339232345\n",
       "31. 2.30797839905936\n",
       "32. 0.105802367893711\n",
       "33. 0.456998805423413\n",
       "34. -0.077152935356531\n",
       "35. -0.334000842366544\n",
       "36. -0.0347260283112762\n",
       "37. 0.787639605630162\n",
       "38. 2.07524500865228\n",
       "39. 1.02739243876377\n",
       "40. 1.2079083983867\n",
       "41. -1.23132342155804\n",
       "42. 0.983895570053379\n",
       "43. 0.219924803660651\n",
       "44. -1.46725002909224\n",
       "45. 0.521022742648139\n",
       "46. -0.158754604716016\n",
       "47. 1.4645873119698\n",
       "48. -0.766081999604665\n",
       "49. -0.430211753928546\n",
       "50. -0.926109497377437\n",
       "51. -0.17710396143654\n",
       "52. 0.402011779486338\n",
       "53. -0.731748173119606\n",
       "54. 0.830373167981674\n",
       "55. -1.20808278630446\n",
       "56. -1.04798441280774\n",
       "57. 1.44115770684428\n",
       "58. -1.01584746530465\n",
       "59. 0.411974712317515\n",
       "60. -0.38107605110892\n",
       "61. 0.409401839650934\n",
       "62. 1.68887328620405\n",
       "63. 1.58658843344197\n",
       "64. -0.330907800682766\n",
       "65. -2.28523553529247\n",
       "66. 2.49766158983416\n",
       "67. 0.667066166765493\n",
       "68. 0.5413273359637\n",
       "69. -0.0133995231459087\n",
       "70. 0.510108422952926\n",
       "71. -0.164375831769667\n",
       "72. 0.420694643254513\n",
       "73. -0.400246743977644\n",
       "74. -1.37020787754746\n",
       "75. 0.987838267454878\n",
       "76. 1.51974502549955\n",
       "77. -0.308740569225614\n",
       "78. -1.25328975560769\n",
       "79. 0.642241305677824\n",
       "80. -0.0447091368939791\n",
       "81. -1.73321840682484\n",
       "82. 0.00213185968026965\n",
       "83. -0.630300333928146\n",
       "84. -0.340968579860405\n",
       "85. -1.15657236263585\n",
       "86. 1.80314190791747\n",
       "87. -0.331132036391221\n",
       "88. -1.60551341225308\n",
       "89. 0.197193438739481\n",
       "90. 0.263175646405474\n",
       "91. -0.985826700409291\n",
       "92. -2.88892067167955\n",
       "93. -0.640481702565115\n",
       "94. 0.570507635920485\n",
       "95. -0.05972327604261\n",
       "96. -0.0981787440052344\n",
       "97. 0.560820728620116\n",
       "98. -1.18645863857947\n",
       "99. 1.09677704427424\n",
       "100. -0.00534402827816569\n",
       "101. 0.707310667398079\n",
       "\n",
       "\n"
      ],
      "text/plain": [
       "  [1] -1.914359426  1.176583312 -1.664972436 -0.463530401 -1.115920105\n",
       "  [6] -0.750819001  2.087166546  0.017395620 -1.286300530 -1.640605534\n",
       " [11]  0.450187101 -0.018559833 -0.318068375 -0.929362147 -1.487460310\n",
       " [16] -1.075192297  1.000028804 -0.621266695 -1.384426847  1.869290622\n",
       " [21]  0.425100377 -0.238647101  1.058483049  0.886422651 -0.619243048\n",
       " [26]  2.206102465 -0.255027030 -1.424494650 -0.144399602  0.207538339\n",
       " [31]  2.307978399  0.105802368  0.456998805 -0.077152935 -0.334000842\n",
       " [36] -0.034726028  0.787639606  2.075245009  1.027392439  1.207908398\n",
       " [41] -1.231323422  0.983895570  0.219924804 -1.467250029  0.521022743\n",
       " [46] -0.158754605  1.464587312 -0.766082000 -0.430211754 -0.926109497\n",
       " [51] -0.177103961  0.402011779 -0.731748173  0.830373168 -1.208082786\n",
       " [56] -1.047984413  1.441157707 -1.015847465  0.411974712 -0.381076051\n",
       " [61]  0.409401840  1.688873286  1.586588433 -0.330907801 -2.285235535\n",
       " [66]  2.497661590  0.667066167  0.541327336 -0.013399523  0.510108423\n",
       " [71] -0.164375832  0.420694643 -0.400246744 -1.370207878  0.987838267\n",
       " [76]  1.519745025 -0.308740569 -1.253289756  0.642241306 -0.044709137\n",
       " [81] -1.733218407  0.002131860 -0.630300334 -0.340968580 -1.156572363\n",
       " [86]  1.803141908 -0.331132036 -1.605513412  0.197193439  0.263175646\n",
       " [91] -0.985826700 -2.888920672 -0.640481703  0.570507636 -0.059723276\n",
       " [96] -0.098178744  0.560820729 -1.186458639  1.096777044 -0.005344028\n",
       "[101]  0.707310667"
      ]
     },
     "metadata": {},
     "output_type": "display_data"
    }
   ],
   "source": [
    "x"
   ]
  },
  {
   "cell_type": "code",
   "execution_count": 6,
   "metadata": {},
   "outputs": [
    {
     "data": {
      "text/html": [
       "0.531496192632572"
      ],
      "text/latex": [
       "0.531496192632572"
      ],
      "text/markdown": [
       "0.531496192632572"
      ],
      "text/plain": [
       "[1] 0.5314962"
      ]
     },
     "metadata": {},
     "output_type": "display_data"
    }
   ],
   "source": [
    "max(x)"
   ]
  },
  {
   "cell_type": "code",
   "execution_count": 7,
   "metadata": {},
   "outputs": [
    {
     "data": {
      "text/html": [
       "3"
      ],
      "text/latex": [
       "3"
      ],
      "text/markdown": [
       "3"
      ],
      "text/plain": [
       "[1] 3"
      ]
     },
     "metadata": {},
     "output_type": "display_data"
    }
   ],
   "source": [
    "which.max(x)"
   ]
  },
  {
   "cell_type": "code",
   "execution_count": 8,
   "metadata": {},
   "outputs": [
    {
     "data": {
      "text/plain": [
       "   user  system elapsed \n",
       "   4.21    1.87  161.24 "
      ]
     },
     "metadata": {},
     "output_type": "display_data"
    }
   ],
   "source": [
    "proc.time()"
   ]
  },
  {
   "cell_type": "code",
   "execution_count": 9,
   "metadata": {},
   "outputs": [
    {
     "data": {
      "text/html": [
       "<style>\n",
       ".list-inline {list-style: none; margin:0; padding: 0}\n",
       ".list-inline>li {display: inline-block}\n",
       ".list-inline>li:not(:last-child)::after {content: \"\\00b7\"; padding: 0 .5ex}\n",
       "</style>\n",
       "<ol class=list-inline><li>'a'</li><li>'C'</li><li>'D'</li><li>'b'</li></ol>\n"
      ],
      "text/latex": [
       "\\begin{enumerate*}\n",
       "\\item 'a'\n",
       "\\item 'C'\n",
       "\\item 'D'\n",
       "\\item 'b'\n",
       "\\end{enumerate*}\n"
      ],
      "text/markdown": [
       "1. 'a'\n",
       "2. 'C'\n",
       "3. 'D'\n",
       "4. 'b'\n",
       "\n",
       "\n"
      ],
      "text/plain": [
       "[1] \"a\" \"C\" \"D\" \"b\""
      ]
     },
     "metadata": {},
     "output_type": "display_data"
    }
   ],
   "source": [
    "\n",
    "a = c('a','C','D','a','b')\n",
    "unique(a)"
   ]
  },
  {
   "cell_type": "code",
   "execution_count": 14,
   "metadata": {},
   "outputs": [],
   "source": [
    "a = c(1,2,3)\n",
    "b = c(\"1\",\"2\",\"3\")\n",
    "c = c(1,2,\"3\")\n"
   ]
  },
  {
   "cell_type": "code",
   "execution_count": 15,
   "metadata": {},
   "outputs": [
    {
     "data": {
      "text/html": [
       "<style>\n",
       ".list-inline {list-style: none; margin:0; padding: 0}\n",
       ".list-inline>li {display: inline-block}\n",
       ".list-inline>li:not(:last-child)::after {content: \"\\00b7\"; padding: 0 .5ex}\n",
       "</style>\n",
       "<ol class=list-inline><li>1</li><li>2</li><li>3</li></ol>\n"
      ],
      "text/latex": [
       "\\begin{enumerate*}\n",
       "\\item 1\n",
       "\\item 2\n",
       "\\item 3\n",
       "\\end{enumerate*}\n"
      ],
      "text/markdown": [
       "1. 1\n",
       "2. 2\n",
       "3. 3\n",
       "\n",
       "\n"
      ],
      "text/plain": [
       "[1] 1 2 3"
      ]
     },
     "metadata": {},
     "output_type": "display_data"
    }
   ],
   "source": [
    "a"
   ]
  },
  {
   "cell_type": "code",
   "execution_count": 16,
   "metadata": {},
   "outputs": [
    {
     "data": {
      "text/html": [
       "<style>\n",
       ".list-inline {list-style: none; margin:0; padding: 0}\n",
       ".list-inline>li {display: inline-block}\n",
       ".list-inline>li:not(:last-child)::after {content: \"\\00b7\"; padding: 0 .5ex}\n",
       "</style>\n",
       "<ol class=list-inline><li>'1'</li><li>'2'</li><li>'3'</li></ol>\n"
      ],
      "text/latex": [
       "\\begin{enumerate*}\n",
       "\\item '1'\n",
       "\\item '2'\n",
       "\\item '3'\n",
       "\\end{enumerate*}\n"
      ],
      "text/markdown": [
       "1. '1'\n",
       "2. '2'\n",
       "3. '3'\n",
       "\n",
       "\n"
      ],
      "text/plain": [
       "[1] \"1\" \"2\" \"3\""
      ]
     },
     "metadata": {},
     "output_type": "display_data"
    }
   ],
   "source": [
    "b"
   ]
  },
  {
   "cell_type": "code",
   "execution_count": 17,
   "metadata": {},
   "outputs": [
    {
     "data": {
      "text/html": [
       "<style>\n",
       ".list-inline {list-style: none; margin:0; padding: 0}\n",
       ".list-inline>li {display: inline-block}\n",
       ".list-inline>li:not(:last-child)::after {content: \"\\00b7\"; padding: 0 .5ex}\n",
       "</style>\n",
       "<ol class=list-inline><li>'1'</li><li>'2'</li><li>'3'</li></ol>\n"
      ],
      "text/latex": [
       "\\begin{enumerate*}\n",
       "\\item '1'\n",
       "\\item '2'\n",
       "\\item '3'\n",
       "\\end{enumerate*}\n"
      ],
      "text/markdown": [
       "1. '1'\n",
       "2. '2'\n",
       "3. '3'\n",
       "\n",
       "\n"
      ],
      "text/plain": [
       "[1] \"1\" \"2\" \"3\""
      ]
     },
     "metadata": {},
     "output_type": "display_data"
    }
   ],
   "source": [
    "c"
   ]
  },
  {
   "cell_type": "code",
   "execution_count": 19,
   "metadata": {},
   "outputs": [],
   "source": [
    "a = c(1,2,3)"
   ]
  },
  {
   "cell_type": "code",
   "execution_count": 20,
   "metadata": {},
   "outputs": [],
   "source": [
    "b = c(2,4,6)"
   ]
  },
  {
   "cell_type": "code",
   "execution_count": 21,
   "metadata": {},
   "outputs": [
    {
     "data": {
      "text/html": [
       "<style>\n",
       ".list-inline {list-style: none; margin:0; padding: 0}\n",
       ".list-inline>li {display: inline-block}\n",
       ".list-inline>li:not(:last-child)::after {content: \"\\00b7\"; padding: 0 .5ex}\n",
       "</style>\n",
       "<ol class=list-inline><li>3</li><li>6</li><li>9</li></ol>\n"
      ],
      "text/latex": [
       "\\begin{enumerate*}\n",
       "\\item 3\n",
       "\\item 6\n",
       "\\item 9\n",
       "\\end{enumerate*}\n"
      ],
      "text/markdown": [
       "1. 3\n",
       "2. 6\n",
       "3. 9\n",
       "\n",
       "\n"
      ],
      "text/plain": [
       "[1] 3 6 9"
      ]
     },
     "metadata": {},
     "output_type": "display_data"
    }
   ],
   "source": [
    "a+b"
   ]
  },
  {
   "cell_type": "code",
   "execution_count": 22,
   "metadata": {},
   "outputs": [
    {
     "data": {
      "text/html": [
       "<style>\n",
       ".list-inline {list-style: none; margin:0; padding: 0}\n",
       ".list-inline>li {display: inline-block}\n",
       ".list-inline>li:not(:last-child)::after {content: \"\\00b7\"; padding: 0 .5ex}\n",
       "</style>\n",
       "<ol class=list-inline><li>1</li><li>16</li><li>729</li></ol>\n"
      ],
      "text/latex": [
       "\\begin{enumerate*}\n",
       "\\item 1\n",
       "\\item 16\n",
       "\\item 729\n",
       "\\end{enumerate*}\n"
      ],
      "text/markdown": [
       "1. 1\n",
       "2. 16\n",
       "3. 729\n",
       "\n",
       "\n"
      ],
      "text/plain": [
       "[1]   1  16 729"
      ]
     },
     "metadata": {},
     "output_type": "display_data"
    }
   ],
   "source": [
    "a**b"
   ]
  },
  {
   "cell_type": "code",
   "execution_count": 23,
   "metadata": {},
   "outputs": [],
   "source": [
    "a = c(1,2,3,4,5)"
   ]
  },
  {
   "cell_type": "code",
   "execution_count": 24,
   "metadata": {},
   "outputs": [
    {
     "data": {
      "text/html": [
       "15"
      ],
      "text/latex": [
       "15"
      ],
      "text/markdown": [
       "15"
      ],
      "text/plain": [
       "[1] 15"
      ]
     },
     "metadata": {},
     "output_type": "display_data"
    }
   ],
   "source": [
    "sum(a)"
   ]
  },
  {
   "cell_type": "code",
   "execution_count": 25,
   "metadata": {},
   "outputs": [
    {
     "data": {
      "text/html": [
       "3"
      ],
      "text/latex": [
       "3"
      ],
      "text/markdown": [
       "3"
      ],
      "text/plain": [
       "[1] 3"
      ]
     },
     "metadata": {},
     "output_type": "display_data"
    }
   ],
   "source": [
    "mean(a)"
   ]
  },
  {
   "cell_type": "code",
   "execution_count": 26,
   "metadata": {},
   "outputs": [
    {
     "data": {
      "text/html": [
       "2.5"
      ],
      "text/latex": [
       "2.5"
      ],
      "text/markdown": [
       "2.5"
      ],
      "text/plain": [
       "[1] 2.5"
      ]
     },
     "metadata": {},
     "output_type": "display_data"
    }
   ],
   "source": [
    "var(a)"
   ]
  },
  {
   "cell_type": "code",
   "execution_count": 27,
   "metadata": {},
   "outputs": [
    {
     "data": {
      "text/html": [
       "1.58113883008419"
      ],
      "text/latex": [
       "1.58113883008419"
      ],
      "text/markdown": [
       "1.58113883008419"
      ],
      "text/plain": [
       "[1] 1.581139"
      ]
     },
     "metadata": {},
     "output_type": "display_data"
    }
   ],
   "source": [
    "sd(a)"
   ]
  },
  {
   "cell_type": "code",
   "execution_count": 28,
   "metadata": {},
   "outputs": [],
   "source": [
    "b = rep(1,100000)"
   ]
  },
  {
   "cell_type": "code",
   "execution_count": 30,
   "metadata": {},
   "outputs": [],
   "source": [
    "b = letters[1:3]"
   ]
  },
  {
   "cell_type": "code",
   "execution_count": 34,
   "metadata": {},
   "outputs": [],
   "source": [
    "c = c(T,T,T,F,T)"
   ]
  },
  {
   "cell_type": "code",
   "execution_count": 35,
   "metadata": {},
   "outputs": [
    {
     "data": {
      "text/html": [
       "<style>\n",
       ".list-inline {list-style: none; margin:0; padding: 0}\n",
       ".list-inline>li {display: inline-block}\n",
       ".list-inline>li:not(:last-child)::after {content: \"\\00b7\"; padding: 0 .5ex}\n",
       "</style>\n",
       "<ol class=list-inline><li>1</li><li>2</li><li>3</li><li>5</li></ol>\n"
      ],
      "text/latex": [
       "\\begin{enumerate*}\n",
       "\\item 1\n",
       "\\item 2\n",
       "\\item 3\n",
       "\\item 5\n",
       "\\end{enumerate*}\n"
      ],
      "text/markdown": [
       "1. 1\n",
       "2. 2\n",
       "3. 3\n",
       "4. 5\n",
       "\n",
       "\n"
      ],
      "text/plain": [
       "[1] 1 2 3 5"
      ]
     },
     "metadata": {},
     "output_type": "display_data"
    }
   ],
   "source": [
    "which(c)"
   ]
  },
  {
   "cell_type": "code",
   "execution_count": 36,
   "metadata": {},
   "outputs": [
    {
     "data": {
      "text/html": [
       "4"
      ],
      "text/latex": [
       "4"
      ],
      "text/markdown": [
       "4"
      ],
      "text/plain": [
       "[1] 4"
      ]
     },
     "metadata": {},
     "output_type": "display_data"
    }
   ],
   "source": [
    "which(!c)"
   ]
  },
  {
   "cell_type": "code",
   "execution_count": 38,
   "metadata": {},
   "outputs": [
    {
     "data": {
      "text/html": [
       "4"
      ],
      "text/latex": [
       "4"
      ],
      "text/markdown": [
       "4"
      ],
      "text/plain": [
       "[1] 4"
      ]
     },
     "metadata": {},
     "output_type": "display_data"
    }
   ],
   "source": [
    "a[!c]"
   ]
  },
  {
   "cell_type": "code",
   "execution_count": 39,
   "metadata": {},
   "outputs": [
    {
     "data": {
      "text/html": [
       "<style>\n",
       ".list-inline {list-style: none; margin:0; padding: 0}\n",
       ".list-inline>li {display: inline-block}\n",
       ".list-inline>li:not(:last-child)::after {content: \"\\00b7\"; padding: 0 .5ex}\n",
       "</style>\n",
       "<ol class=list-inline><li>TRUE</li><li>FALSE</li></ol>\n"
      ],
      "text/latex": [
       "\\begin{enumerate*}\n",
       "\\item TRUE\n",
       "\\item FALSE\n",
       "\\end{enumerate*}\n"
      ],
      "text/markdown": [
       "1. TRUE\n",
       "2. FALSE\n",
       "\n",
       "\n"
      ],
      "text/plain": [
       "[1]  TRUE FALSE"
      ]
     },
     "metadata": {},
     "output_type": "display_data"
    }
   ],
   "source": [
    "c(1,3) %in% c(2,1,5)"
   ]
  },
  {
   "cell_type": "code",
   "execution_count": 40,
   "metadata": {},
   "outputs": [],
   "source": [
    "d = match(c(1,2,3), c(2,1,5))"
   ]
  },
  {
   "cell_type": "code",
   "execution_count": 41,
   "metadata": {},
   "outputs": [
    {
     "data": {
      "text/html": [
       "<style>\n",
       ".list-inline {list-style: none; margin:0; padding: 0}\n",
       ".list-inline>li {display: inline-block}\n",
       ".list-inline>li:not(:last-child)::after {content: \"\\00b7\"; padding: 0 .5ex}\n",
       "</style>\n",
       "<ol class=list-inline><li>2</li><li>1</li><li>&lt;NA&gt;</li></ol>\n"
      ],
      "text/latex": [
       "\\begin{enumerate*}\n",
       "\\item 2\n",
       "\\item 1\n",
       "\\item <NA>\n",
       "\\end{enumerate*}\n"
      ],
      "text/markdown": [
       "1. 2\n",
       "2. 1\n",
       "3. &lt;NA&gt;\n",
       "\n",
       "\n"
      ],
      "text/plain": [
       "[1]  2  1 NA"
      ]
     },
     "metadata": {},
     "output_type": "display_data"
    }
   ],
   "source": [
    "d"
   ]
  },
  {
   "cell_type": "code",
   "execution_count": null,
   "metadata": {},
   "outputs": [],
   "source": []
  }
 ],
 "metadata": {
  "kernelspec": {
   "display_name": "R",
   "language": "R",
   "name": "ir"
  },
  "language_info": {
   "codemirror_mode": "r",
   "file_extension": ".r",
   "mimetype": "text/x-r-source",
   "name": "R",
   "pygments_lexer": "r",
   "version": "3.6.1"
  }
 },
 "nbformat": 4,
 "nbformat_minor": 4
}
