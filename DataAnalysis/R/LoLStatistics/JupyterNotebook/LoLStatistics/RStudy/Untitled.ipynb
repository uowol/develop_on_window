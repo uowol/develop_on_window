{
 "cells": [
  {
   "cell_type": "code",
   "execution_count": 10,
   "metadata": {},
   "outputs": [],
   "source": [
    "data2 = rep(\"meat\", 10)\n",
    "data = 1:10\n",
    "a = rbind(data,data2)"
   ]
  },
  {
   "cell_type": "code",
   "execution_count": 11,
   "metadata": {},
   "outputs": [
    {
     "data": {
      "text/html": [
       "'matrix'"
      ],
      "text/latex": [
       "'matrix'"
      ],
      "text/markdown": [
       "'matrix'"
      ],
      "text/plain": [
       "[1] \"matrix\""
      ]
     },
     "metadata": {},
     "output_type": "display_data"
    }
   ],
   "source": [
    "class(a)"
   ]
  },
  {
   "cell_type": "code",
   "execution_count": 12,
   "metadata": {},
   "outputs": [
    {
     "data": {
      "text/html": [
       "<table>\n",
       "<caption>A matrix: 2 × 10 of type chr</caption>\n",
       "<thead>\n",
       "\t<tr><th></th><th scope=col>1</th><th scope=col>2</th><th scope=col>3</th><th scope=col>4</th><th scope=col>5</th><th scope=col>6</th><th scope=col>7</th><th scope=col>8</th><th scope=col>9</th><th scope=col>10</th></tr>\n",
       "</thead>\n",
       "<tbody>\n",
       "\t<tr><th scope=row>사람</th><td>1   </td><td>2   </td><td>3   </td><td>4   </td><td>5   </td><td>6   </td><td>7   </td><td>8   </td><td>9   </td><td>10  </td></tr>\n",
       "\t<tr><th scope=row>메뉴</th><td>meat</td><td>meat</td><td>meat</td><td>meat</td><td>meat</td><td>meat</td><td>meat</td><td>meat</td><td>meat</td><td>meat</td></tr>\n",
       "</tbody>\n",
       "</table>\n"
      ],
      "text/latex": [
       "A matrix: 2 × 10 of type chr\n",
       "\\begin{tabular}{r|llllllllll}\n",
       "  & 1 & 2 & 3 & 4 & 5 & 6 & 7 & 8 & 9 & 10\\\\\n",
       "\\hline\n",
       "\t사람 & 1    & 2    & 3    & 4    & 5    & 6    & 7    & 8    & 9    & 10  \\\\\n",
       "\t메뉴 & meat & meat & meat & meat & meat & meat & meat & meat & meat & meat\\\\\n",
       "\\end{tabular}\n"
      ],
      "text/markdown": [
       "\n",
       "A matrix: 2 × 10 of type chr\n",
       "\n",
       "| <!--/--> | 1 | 2 | 3 | 4 | 5 | 6 | 7 | 8 | 9 | 10 |\n",
       "|---|---|---|---|---|---|---|---|---|---|---|\n",
       "| 사람 | 1    | 2    | 3    | 4    | 5    | 6    | 7    | 8    | 9    | 10   |\n",
       "| 메뉴 | meat | meat | meat | meat | meat | meat | meat | meat | meat | meat |\n",
       "\n"
      ],
      "text/plain": [
       "     1    2    3    4    5    6    7    8    9    10  \n",
       "사람 1    2    3    4    5    6    7    8    9    10  \n",
       "메뉴 meat meat meat meat meat meat meat meat meat meat"
      ]
     },
     "metadata": {},
     "output_type": "display_data"
    }
   ],
   "source": [
    "colnames(a) = 1:10\n",
    "rownames(a) = c(\"사람\", \"메뉴\")\n",
    "a"
   ]
  },
  {
   "cell_type": "code",
   "execution_count": 13,
   "metadata": {},
   "outputs": [
    {
     "name": "stdout",
     "output_type": "stream",
     "text": [
      " chr [1:2, 1:10] \"1\" \"meat\" \"2\" \"meat\" \"3\" \"meat\" \"4\" \"meat\" \"5\" \"meat\" \"6\" ...\n",
      " - attr(*, \"dimnames\")=List of 2\n",
      "  ..$ : chr [1:2] \"사람\" \"메뉴\"\n",
      "  ..$ : chr [1:10] \"1\" \"2\" \"3\" \"4\" ...\n"
     ]
    }
   ],
   "source": [
    "str(a)\n",
    "# Err:단일 자료형. 통일되어버림"
   ]
  },
  {
   "cell_type": "code",
   "execution_count": 15,
   "metadata": {},
   "outputs": [
    {
     "data": {
      "text/html": [
       "'matrix'"
      ],
      "text/latex": [
       "'matrix'"
      ],
      "text/markdown": [
       "'matrix'"
      ],
      "text/plain": [
       "[1] \"matrix\""
      ]
     },
     "metadata": {},
     "output_type": "display_data"
    },
    {
     "data": {
      "text/html": [
       "'integer'"
      ],
      "text/latex": [
       "'integer'"
      ],
      "text/markdown": [
       "'integer'"
      ],
      "text/plain": [
       "[1] \"integer\""
      ]
     },
     "metadata": {},
     "output_type": "display_data"
    }
   ],
   "source": [
    "b = data.frame(data, data2)\n",
    "class(t(b))\n",
    "class(b[1,1])\n",
    "# 자료형 지킴"
   ]
  },
  {
   "cell_type": "code",
   "execution_count": 20,
   "metadata": {},
   "outputs": [
    {
     "data": {
      "text/html": [
       "<table>\n",
       "<caption>A matrix: 2 × 2 of type dbl</caption>\n",
       "<tbody>\n",
       "\t<tr><td>0</td><td>6</td></tr>\n",
       "\t<tr><td>0</td><td>8</td></tr>\n",
       "</tbody>\n",
       "</table>\n"
      ],
      "text/latex": [
       "A matrix: 2 × 2 of type dbl\n",
       "\\begin{tabular}{ll}\n",
       "\t 0 & 6\\\\\n",
       "\t 0 & 8\\\\\n",
       "\\end{tabular}\n"
      ],
      "text/markdown": [
       "\n",
       "A matrix: 2 × 2 of type dbl\n",
       "\n",
       "| 0 | 6 |\n",
       "| 0 | 8 |\n",
       "\n"
      ],
      "text/plain": [
       "     [,1] [,2]\n",
       "[1,] 0    6   \n",
       "[2,] 0    8   "
      ]
     },
     "metadata": {},
     "output_type": "display_data"
    },
    {
     "data": {
      "text/html": [
       "<table>\n",
       "<caption>A matrix: 2 × 2 of type dbl</caption>\n",
       "<tbody>\n",
       "\t<tr><td>0</td><td> 8</td></tr>\n",
       "\t<tr><td>0</td><td>12</td></tr>\n",
       "</tbody>\n",
       "</table>\n"
      ],
      "text/latex": [
       "A matrix: 2 × 2 of type dbl\n",
       "\\begin{tabular}{ll}\n",
       "\t 0 &  8\\\\\n",
       "\t 0 & 12\\\\\n",
       "\\end{tabular}\n"
      ],
      "text/markdown": [
       "\n",
       "A matrix: 2 × 2 of type dbl\n",
       "\n",
       "| 0 |  8 |\n",
       "| 0 | 12 |\n",
       "\n"
      ],
      "text/plain": [
       "     [,1] [,2]\n",
       "[1,] 0     8  \n",
       "[2,] 0    12  "
      ]
     },
     "metadata": {},
     "output_type": "display_data"
    }
   ],
   "source": [
    "A = matrix( c(1,2,3,4), 2, 2)\n",
    "B = matrix( c(0,0,2,2), 2, 2)\n",
    "A*B # 원하는 값이 아님\n",
    "A%*%B \n"
   ]
  },
  {
   "cell_type": "code",
   "execution_count": 24,
   "metadata": {},
   "outputs": [
    {
     "data": {
      "text/html": [
       "<table>\n",
       "<caption>A matrix: 2 × 2 of type dbl</caption>\n",
       "<tbody>\n",
       "\t<tr><td>1</td><td>3</td></tr>\n",
       "\t<tr><td>2</td><td>4</td></tr>\n",
       "</tbody>\n",
       "</table>\n"
      ],
      "text/latex": [
       "A matrix: 2 × 2 of type dbl\n",
       "\\begin{tabular}{ll}\n",
       "\t 1 & 3\\\\\n",
       "\t 2 & 4\\\\\n",
       "\\end{tabular}\n"
      ],
      "text/markdown": [
       "\n",
       "A matrix: 2 × 2 of type dbl\n",
       "\n",
       "| 1 | 3 |\n",
       "| 2 | 4 |\n",
       "\n"
      ],
      "text/plain": [
       "     [,1] [,2]\n",
       "[1,] 1    3   \n",
       "[2,] 2    4   "
      ]
     },
     "metadata": {},
     "output_type": "display_data"
    },
    {
     "data": {
      "text/html": [
       "<table>\n",
       "<caption>A matrix: 2 × 2 of type dbl</caption>\n",
       "<tbody>\n",
       "\t<tr><td> -7</td><td>-15</td></tr>\n",
       "\t<tr><td>-10</td><td>-22</td></tr>\n",
       "</tbody>\n",
       "</table>\n"
      ],
      "text/latex": [
       "A matrix: 2 × 2 of type dbl\n",
       "\\begin{tabular}{ll}\n",
       "\t  -7 & -15\\\\\n",
       "\t -10 & -22\\\\\n",
       "\\end{tabular}\n"
      ],
      "text/markdown": [
       "\n",
       "A matrix: 2 × 2 of type dbl\n",
       "\n",
       "|  -7 | -15 |\n",
       "| -10 | -22 |\n",
       "\n"
      ],
      "text/plain": [
       "     [,1] [,2]\n",
       "[1,]  -7  -15 \n",
       "[2,] -10  -22 "
      ]
     },
     "metadata": {},
     "output_type": "display_data"
    },
    {
     "data": {
      "text/html": [
       "<table>\n",
       "<caption>A matrix: 2 × 2 of type dbl</caption>\n",
       "<tbody>\n",
       "\t<tr><td>1</td><td>0</td></tr>\n",
       "\t<tr><td>0</td><td>1</td></tr>\n",
       "</tbody>\n",
       "</table>\n"
      ],
      "text/latex": [
       "A matrix: 2 × 2 of type dbl\n",
       "\\begin{tabular}{ll}\n",
       "\t 1 & 0\\\\\n",
       "\t 0 & 1\\\\\n",
       "\\end{tabular}\n"
      ],
      "text/markdown": [
       "\n",
       "A matrix: 2 × 2 of type dbl\n",
       "\n",
       "| 1 | 0 |\n",
       "| 0 | 1 |\n",
       "\n"
      ],
      "text/plain": [
       "     [,1] [,2]\n",
       "[1,] 1    0   \n",
       "[2,] 0    1   "
      ]
     },
     "metadata": {},
     "output_type": "display_data"
    },
    {
     "data": {
      "text/html": [
       "<table>\n",
       "<caption>A matrix: 2 × 2 of type dbl</caption>\n",
       "<tbody>\n",
       "\t<tr><td>1.000000e+00</td><td>-5.551115e-16</td></tr>\n",
       "\t<tr><td>8.881784e-16</td><td> 1.000000e+00</td></tr>\n",
       "</tbody>\n",
       "</table>\n"
      ],
      "text/latex": [
       "A matrix: 2 × 2 of type dbl\n",
       "\\begin{tabular}{ll}\n",
       "\t 1.000000e+00 & -5.551115e-16\\\\\n",
       "\t 8.881784e-16 &  1.000000e+00\\\\\n",
       "\\end{tabular}\n"
      ],
      "text/markdown": [
       "\n",
       "A matrix: 2 × 2 of type dbl\n",
       "\n",
       "| 1.000000e+00 | -5.551115e-16 |\n",
       "| 8.881784e-16 |  1.000000e+00 |\n",
       "\n"
      ],
      "text/plain": [
       "     [,1]         [,2]         \n",
       "[1,] 1.000000e+00 -5.551115e-16\n",
       "[2,] 8.881784e-16  1.000000e+00"
      ]
     },
     "metadata": {},
     "output_type": "display_data"
    }
   ],
   "source": [
    "# inverse matrix\n",
    "A\n",
    "A %*% A*(-1)\n",
    "A %*% solve(A) # err tlqkf\n",
    "library(MASS) \n",
    "A %*% ginv(A)"
   ]
  },
  {
   "cell_type": "code",
   "execution_count": 29,
   "metadata": {},
   "outputs": [
    {
     "data": {
      "text/html": [
       "<style>\n",
       ".list-inline {list-style: none; margin:0; padding: 0}\n",
       ".list-inline>li {display: inline-block}\n",
       ".list-inline>li:not(:last-child)::after {content: \"\\00b7\"; padding: 0 .5ex}\n",
       "</style>\n",
       "<ol class=list-inline><li>85</li><li>74</li><li>79</li><li>87</li><li>72</li><li>89</li><li>87</li><li>83</li><li>83</li><li>75</li></ol>\n"
      ],
      "text/latex": [
       "\\begin{enumerate*}\n",
       "\\item 85\n",
       "\\item 74\n",
       "\\item 79\n",
       "\\item 87\n",
       "\\item 72\n",
       "\\item 89\n",
       "\\item 87\n",
       "\\item 83\n",
       "\\item 83\n",
       "\\item 75\n",
       "\\end{enumerate*}\n"
      ],
      "text/markdown": [
       "1. 85\n",
       "2. 74\n",
       "3. 79\n",
       "4. 87\n",
       "5. 72\n",
       "6. 89\n",
       "7. 87\n",
       "8. 83\n",
       "9. 83\n",
       "10. 75\n",
       "\n",
       "\n"
      ],
      "text/plain": [
       " [1] 85 74 79 87 72 89 87 83 83 75"
      ]
     },
     "metadata": {},
     "output_type": "display_data"
    },
    {
     "data": {
      "text/html": [
       "<style>\n",
       ".list-inline {list-style: none; margin:0; padding: 0}\n",
       ".list-inline>li {display: inline-block}\n",
       ".list-inline>li:not(:last-child)::after {content: \"\\00b7\"; padding: 0 .5ex}\n",
       "</style>\n",
       "<ol class=list-inline><li>85</li><li>74</li><li>76</li><li>81</li><li>70</li><li>84</li><li>80</li><li>81</li><li>73</li><li>72</li></ol>\n"
      ],
      "text/latex": [
       "\\begin{enumerate*}\n",
       "\\item 85\n",
       "\\item 74\n",
       "\\item 76\n",
       "\\item 81\n",
       "\\item 70\n",
       "\\item 84\n",
       "\\item 80\n",
       "\\item 81\n",
       "\\item 73\n",
       "\\item 72\n",
       "\\end{enumerate*}\n"
      ],
      "text/markdown": [
       "1. 85\n",
       "2. 74\n",
       "3. 76\n",
       "4. 81\n",
       "5. 70\n",
       "6. 84\n",
       "7. 80\n",
       "8. 81\n",
       "9. 73\n",
       "10. 72\n",
       "\n",
       "\n"
      ],
      "text/plain": [
       " [1] 85 74 76 81 70 84 80 81 73 72"
      ]
     },
     "metadata": {},
     "output_type": "display_data"
    },
    {
     "name": "stdout",
     "output_type": "stream",
     "text": [
      "[1] 81.4\n",
      "[1] 77.6\n"
     ]
    },
    {
     "data": {
      "text/html": [
       "<table>\n",
       "<caption>A data.frame: 10 × 3</caption>\n",
       "<thead>\n",
       "\t<tr><th scope=col>data1</th><th scope=col>data2</th><th scope=col>data3</th></tr>\n",
       "\t<tr><th scope=col>&lt;dbl&gt;</th><th scope=col>&lt;fct&gt;</th><th scope=col>&lt;fct&gt;</th></tr>\n",
       "</thead>\n",
       "<tbody>\n",
       "\t<tr><td>85</td><td>고기</td><td>생선</td></tr>\n",
       "\t<tr><td>74</td><td>고기</td><td>생선</td></tr>\n",
       "\t<tr><td>79</td><td>고기</td><td>생선</td></tr>\n",
       "\t<tr><td>87</td><td>고기</td><td>생선</td></tr>\n",
       "\t<tr><td>72</td><td>고기</td><td>생선</td></tr>\n",
       "\t<tr><td>89</td><td>고기</td><td>생선</td></tr>\n",
       "\t<tr><td>87</td><td>고기</td><td>생선</td></tr>\n",
       "\t<tr><td>83</td><td>고기</td><td>생선</td></tr>\n",
       "\t<tr><td>83</td><td>고기</td><td>생선</td></tr>\n",
       "\t<tr><td>75</td><td>고기</td><td>생선</td></tr>\n",
       "</tbody>\n",
       "</table>\n"
      ],
      "text/latex": [
       "A data.frame: 10 × 3\n",
       "\\begin{tabular}{lll}\n",
       " data1 & data2 & data3\\\\\n",
       " <dbl> & <fct> & <fct>\\\\\n",
       "\\hline\n",
       "\t 85 & 고기 & 생선\\\\\n",
       "\t 74 & 고기 & 생선\\\\\n",
       "\t 79 & 고기 & 생선\\\\\n",
       "\t 87 & 고기 & 생선\\\\\n",
       "\t 72 & 고기 & 생선\\\\\n",
       "\t 89 & 고기 & 생선\\\\\n",
       "\t 87 & 고기 & 생선\\\\\n",
       "\t 83 & 고기 & 생선\\\\\n",
       "\t 83 & 고기 & 생선\\\\\n",
       "\t 75 & 고기 & 생선\\\\\n",
       "\\end{tabular}\n"
      ],
      "text/markdown": [
       "\n",
       "A data.frame: 10 × 3\n",
       "\n",
       "| data1 &lt;dbl&gt; | data2 &lt;fct&gt; | data3 &lt;fct&gt; |\n",
       "|---|---|---|\n",
       "| 85 | 고기 | 생선 |\n",
       "| 74 | 고기 | 생선 |\n",
       "| 79 | 고기 | 생선 |\n",
       "| 87 | 고기 | 생선 |\n",
       "| 72 | 고기 | 생선 |\n",
       "| 89 | 고기 | 생선 |\n",
       "| 87 | 고기 | 생선 |\n",
       "| 83 | 고기 | 생선 |\n",
       "| 83 | 고기 | 생선 |\n",
       "| 75 | 고기 | 생선 |\n",
       "\n"
      ],
      "text/plain": [
       "   data1 data2 data3\n",
       "1  85    고기  생선 \n",
       "2  74    고기  생선 \n",
       "3  79    고기  생선 \n",
       "4  87    고기  생선 \n",
       "5  72    고기  생선 \n",
       "6  89    고기  생선 \n",
       "7  87    고기  생선 \n",
       "8  83    고기  생선 \n",
       "9  83    고기  생선 \n",
       "10 75    고기  생선 "
      ]
     },
     "metadata": {},
     "output_type": "display_data"
    }
   ],
   "source": [
    "# list\n",
    "data = c(85,74,79,87,72,89,87,83,83,75)\n",
    "data2 = c(85,74,76,81,70,84,80,81,73,72) \n",
    "data.list = list(data, data2)\n",
    "data.list[[1]]\n",
    "data.list[[2]]\n",
    "\n",
    "n = length(data.list)\n",
    "for(i in 1:n) \n",
    "  print(mean(data.list[[i]]))\n",
    "\n",
    "data1 = c(85,74,79,87,72,89,87,83,83,75)\n",
    "data2 = rep(\"고기\", 10)\n",
    "data3 = rep(\"생선\", 10)\n",
    "data = data.frame(data1,data2,data3)\n",
    "data.list = list(data1,data2,data3)"
   ]
  },
  {
   "cell_type": "code",
   "execution_count": 32,
   "metadata": {},
   "outputs": [],
   "source": [
    "list1 <- list(a1=1, b1=1:3)\n",
    "list2 <- list(a2=2, b2=100:90)\n",
    "list.all <- c(list1, list2)\n",
    "list.a = c(list1[[1]], list2[[1]])\n",
    "list.b = c(list1[[2]], list2[[2]])\n",
    "list.ab = list(list.a, list.b)"
   ]
  },
  {
   "cell_type": "code",
   "execution_count": 44,
   "metadata": {},
   "outputs": [
    {
     "data": {
      "text/html": [
       "<table>\n",
       "<caption>A data.frame: 3 × 4</caption>\n",
       "<thead>\n",
       "\t<tr><th></th><th scope=col>X1</th><th scope=col>X2</th><th scope=col>X3</th><th scope=col>X4</th></tr>\n",
       "\t<tr><th></th><th scope=col>&lt;fct&gt;</th><th scope=col>&lt;fct&gt;</th><th scope=col>&lt;fct&gt;</th><th scope=col>&lt;fct&gt;</th></tr>\n",
       "</thead>\n",
       "<tbody>\n",
       "\t<tr><th scope=row>name</th><td>kim</td><td>lee</td><td>park</td><td>Oh </td></tr>\n",
       "\t<tr><th scope=row>gender</th><td>f  </td><td>m  </td><td>f   </td><td>m  </td></tr>\n",
       "\t<tr><th scope=row>income</th><td>100</td><td>102</td><td>300 </td><td>204</td></tr>\n",
       "</tbody>\n",
       "</table>\n"
      ],
      "text/latex": [
       "A data.frame: 3 × 4\n",
       "\\begin{tabular}{r|llll}\n",
       "  & X1 & X2 & X3 & X4\\\\\n",
       "  & <fct> & <fct> & <fct> & <fct>\\\\\n",
       "\\hline\n",
       "\tname & kim & lee & park & Oh \\\\\n",
       "\tgender & f   & m   & f    & m  \\\\\n",
       "\tincome & 100 & 102 & 300  & 204\\\\\n",
       "\\end{tabular}\n"
      ],
      "text/markdown": [
       "\n",
       "A data.frame: 3 × 4\n",
       "\n",
       "| <!--/--> | X1 &lt;fct&gt; | X2 &lt;fct&gt; | X3 &lt;fct&gt; | X4 &lt;fct&gt; |\n",
       "|---|---|---|---|---|\n",
       "| name | kim | lee | park | Oh  |\n",
       "| gender | f   | m   | f    | m   |\n",
       "| income | 100 | 102 | 300  | 204 |\n",
       "\n"
      ],
      "text/plain": [
       "       X1  X2  X3   X4 \n",
       "name   kim lee park Oh \n",
       "gender f   m   f    m  \n",
       "income 100 102 300  204"
      ]
     },
     "metadata": {},
     "output_type": "display_data"
    }
   ],
   "source": [
    "name <- c(\"kim\",\"lee\",\"park\",\"Oh\")\n",
    "sex <- c('f','m','f','m')\n",
    "income <- c(100,102,300,204)\n",
    "d1 <- data.frame(name=name, gender=sex, income=income)\n",
    "d1\n",
    "td1 = t(d1) # 트랜스코드 : dataframe to matrix\n",
    "data.frame(td1)"
   ]
  },
  {
   "cell_type": "code",
   "execution_count": 45,
   "metadata": {},
   "outputs": [],
   "source": [
    "# 추출\n",
    "DM2.us = data.frame(rnorm(100000),rnorm(100000),rnorm(100000),rpois(100000,2))"
   ]
  },
  {
   "cell_type": "code",
   "execution_count": 51,
   "metadata": {},
   "outputs": [
    {
     "data": {
      "text/html": [
       "<table>\n",
       "<caption>A data.frame: 6 × 4</caption>\n",
       "<thead>\n",
       "\t<tr><th></th><th scope=col>rnorm.1e.05.</th><th scope=col>rnorm.1e.05..1</th><th scope=col>rnorm.1e.05..2</th><th scope=col>rpois.1e.05..2.</th></tr>\n",
       "\t<tr><th></th><th scope=col>&lt;dbl&gt;</th><th scope=col>&lt;dbl&gt;</th><th scope=col>&lt;dbl&gt;</th><th scope=col>&lt;int&gt;</th></tr>\n",
       "</thead>\n",
       "<tbody>\n",
       "\t<tr><th scope=row>1</th><td>-2.0093034</td><td> 0.7749493</td><td> 0.9018432</td><td>1</td></tr>\n",
       "\t<tr><th scope=row>2</th><td>-0.1196798</td><td>-0.6133210</td><td>-2.8291203</td><td>0</td></tr>\n",
       "\t<tr><th scope=row>3</th><td> 0.8077021</td><td>-0.7211243</td><td> 0.3191394</td><td>2</td></tr>\n",
       "\t<tr><th scope=row>4</th><td> 1.4651782</td><td> 0.1403180</td><td> 0.8129808</td><td>1</td></tr>\n",
       "\t<tr><th scope=row>5</th><td>-1.1121207</td><td> 0.6016583</td><td> 2.1262940</td><td>5</td></tr>\n",
       "\t<tr><th scope=row>6</th><td> 0.6963146</td><td>-0.2466171</td><td> 0.4973159</td><td>1</td></tr>\n",
       "</tbody>\n",
       "</table>\n"
      ],
      "text/latex": [
       "A data.frame: 6 × 4\n",
       "\\begin{tabular}{r|llll}\n",
       "  & rnorm.1e.05. & rnorm.1e.05..1 & rnorm.1e.05..2 & rpois.1e.05..2.\\\\\n",
       "  & <dbl> & <dbl> & <dbl> & <int>\\\\\n",
       "\\hline\n",
       "\t1 & -2.0093034 &  0.7749493 &  0.9018432 & 1\\\\\n",
       "\t2 & -0.1196798 & -0.6133210 & -2.8291203 & 0\\\\\n",
       "\t3 &  0.8077021 & -0.7211243 &  0.3191394 & 2\\\\\n",
       "\t4 &  1.4651782 &  0.1403180 &  0.8129808 & 1\\\\\n",
       "\t5 & -1.1121207 &  0.6016583 &  2.1262940 & 5\\\\\n",
       "\t6 &  0.6963146 & -0.2466171 &  0.4973159 & 1\\\\\n",
       "\\end{tabular}\n"
      ],
      "text/markdown": [
       "\n",
       "A data.frame: 6 × 4\n",
       "\n",
       "| <!--/--> | rnorm.1e.05. &lt;dbl&gt; | rnorm.1e.05..1 &lt;dbl&gt; | rnorm.1e.05..2 &lt;dbl&gt; | rpois.1e.05..2. &lt;int&gt; |\n",
       "|---|---|---|---|---|\n",
       "| 1 | -2.0093034 |  0.7749493 |  0.9018432 | 1 |\n",
       "| 2 | -0.1196798 | -0.6133210 | -2.8291203 | 0 |\n",
       "| 3 |  0.8077021 | -0.7211243 |  0.3191394 | 2 |\n",
       "| 4 |  1.4651782 |  0.1403180 |  0.8129808 | 1 |\n",
       "| 5 | -1.1121207 |  0.6016583 |  2.1262940 | 5 |\n",
       "| 6 |  0.6963146 | -0.2466171 |  0.4973159 | 1 |\n",
       "\n"
      ],
      "text/plain": [
       "  rnorm.1e.05. rnorm.1e.05..1 rnorm.1e.05..2 rpois.1e.05..2.\n",
       "1 -2.0093034    0.7749493      0.9018432     1              \n",
       "2 -0.1196798   -0.6133210     -2.8291203     0              \n",
       "3  0.8077021   -0.7211243      0.3191394     2              \n",
       "4  1.4651782    0.1403180      0.8129808     1              \n",
       "5 -1.1121207    0.6016583      2.1262940     5              \n",
       "6  0.6963146   -0.2466171      0.4973159     1              "
      ]
     },
     "metadata": {},
     "output_type": "display_data"
    },
    {
     "data": {
      "text/html": [
       "<style>\n",
       ".list-inline {list-style: none; margin:0; padding: 0}\n",
       ".list-inline>li {display: inline-block}\n",
       ".list-inline>li:not(:last-child)::after {content: \"\\00b7\"; padding: 0 .5ex}\n",
       "</style>\n",
       "<ol class=list-inline><li>'rnorm.1e.05.'</li><li>'rnorm.1e.05..1'</li><li>'rnorm.1e.05..2'</li><li>'rpois.1e.05..2.'</li></ol>\n"
      ],
      "text/latex": [
       "\\begin{enumerate*}\n",
       "\\item 'rnorm.1e.05.'\n",
       "\\item 'rnorm.1e.05..1'\n",
       "\\item 'rnorm.1e.05..2'\n",
       "\\item 'rpois.1e.05..2.'\n",
       "\\end{enumerate*}\n"
      ],
      "text/markdown": [
       "1. 'rnorm.1e.05.'\n",
       "2. 'rnorm.1e.05..1'\n",
       "3. 'rnorm.1e.05..2'\n",
       "4. 'rpois.1e.05..2.'\n",
       "\n",
       "\n"
      ],
      "text/plain": [
       "[1] \"rnorm.1e.05.\"    \"rnorm.1e.05..1\"  \"rnorm.1e.05..2\"  \"rpois.1e.05..2.\""
      ]
     },
     "metadata": {},
     "output_type": "display_data"
    },
    {
     "data": {
      "text/html": [
       "4"
      ],
      "text/latex": [
       "4"
      ],
      "text/markdown": [
       "4"
      ],
      "text/plain": [
       "[1] 4"
      ]
     },
     "metadata": {},
     "output_type": "display_data"
    },
    {
     "data": {
      "text/html": [
       "<style>\n",
       ".list-inline {list-style: none; margin:0; padding: 0}\n",
       ".list-inline>li {display: inline-block}\n",
       ".list-inline>li:not(:last-child)::after {content: \"\\00b7\"; padding: 0 .5ex}\n",
       "</style>\n",
       "<ol class=list-inline><li>100000</li><li>4</li></ol>\n"
      ],
      "text/latex": [
       "\\begin{enumerate*}\n",
       "\\item 100000\n",
       "\\item 4\n",
       "\\end{enumerate*}\n"
      ],
      "text/markdown": [
       "1. 100000\n",
       "2. 4\n",
       "\n",
       "\n"
      ],
      "text/plain": [
       "[1] 100000      4"
      ]
     },
     "metadata": {},
     "output_type": "display_data"
    },
    {
     "data": {
      "text/html": [
       "100000"
      ],
      "text/latex": [
       "100000"
      ],
      "text/markdown": [
       "100000"
      ],
      "text/plain": [
       "[1] 100000"
      ]
     },
     "metadata": {},
     "output_type": "display_data"
    },
    {
     "data": {
      "text/html": [
       "4"
      ],
      "text/latex": [
       "4"
      ],
      "text/markdown": [
       "4"
      ],
      "text/plain": [
       "[1] 4"
      ]
     },
     "metadata": {},
     "output_type": "display_data"
    },
    {
     "data": {
      "text/html": [
       "<style>\n",
       ".dl-inline {width: auto; margin:0; padding: 0}\n",
       ".dl-inline>dt, .dl-inline>dd {float: none; width: auto; display: inline-block}\n",
       ".dl-inline>dt::after {content: \":\\0020\"; padding-right: .5ex}\n",
       ".dl-inline>dt:not(:first-of-type) {padding-left: .5ex}\n",
       "</style><dl class=dl-inline><dt>rnorm.1e.05.</dt><dd>-4.09733364237055</dd><dt>rnorm.1e.05..1</dt><dd>-4.35316257798229</dd><dt>rnorm.1e.05..2</dt><dd>-4.05775687705816</dd><dt>rpois.1e.05..2.</dt><dd>0</dd></dl>\n"
      ],
      "text/latex": [
       "\\begin{description*}\n",
       "\\item[rnorm.1e.05.] -4.09733364237055\n",
       "\\item[rnorm.1e.05..1] -4.35316257798229\n",
       "\\item[rnorm.1e.05..2] -4.05775687705816\n",
       "\\item[rpois.1e.05..2.] 0\n",
       "\\end{description*}\n"
      ],
      "text/markdown": [
       "rnorm.1e.05.\n",
       ":   -4.09733364237055rnorm.1e.05..1\n",
       ":   -4.35316257798229rnorm.1e.05..2\n",
       ":   -4.05775687705816rpois.1e.05..2.\n",
       ":   0\n",
       "\n"
      ],
      "text/plain": [
       "   rnorm.1e.05.  rnorm.1e.05..1  rnorm.1e.05..2 rpois.1e.05..2. \n",
       "      -4.097334       -4.353163       -4.057757        0.000000 "
      ]
     },
     "metadata": {},
     "output_type": "display_data"
    }
   ],
   "source": [
    "head(DM2.us)\n",
    "colnames(DM2.us)\n",
    "length(DM2.us)\n",
    "dim(DM2.us) # [[1]] nrow [[2]] ncol\n",
    "nrow(DM2.us)\n",
    "ncol(DM2.us)\n",
    "sapply(DM2.us, function(x) min(x))"
   ]
  },
  {
   "cell_type": "code",
   "execution_count": 52,
   "metadata": {},
   "outputs": [
    {
     "data": {
      "text/html": [
       "\n",
       "<table width=\"100%\" summary=\"page for Poisson {stats}\"><tr><td>Poisson {stats}</td><td style=\"text-align: right;\">R Documentation</td></tr></table>\n",
       "\n",
       "<h2>The Poisson Distribution</h2>\n",
       "\n",
       "<h3>Description</h3>\n",
       "\n",
       "<p>Density, distribution function, quantile function and random\n",
       "generation for the Poisson distribution with parameter <code>lambda</code>.\n",
       "</p>\n",
       "\n",
       "\n",
       "<h3>Usage</h3>\n",
       "\n",
       "<pre>\n",
       "dpois(x, lambda, log = FALSE)\n",
       "ppois(q, lambda, lower.tail = TRUE, log.p = FALSE)\n",
       "qpois(p, lambda, lower.tail = TRUE, log.p = FALSE)\n",
       "rpois(n, lambda)\n",
       "</pre>\n",
       "\n",
       "\n",
       "<h3>Arguments</h3>\n",
       "\n",
       "<table summary=\"R argblock\">\n",
       "<tr valign=\"top\"><td><code>x</code></td>\n",
       "<td>\n",
       "<p>vector of (non-negative integer) quantiles.</p>\n",
       "</td></tr>\n",
       "<tr valign=\"top\"><td><code>q</code></td>\n",
       "<td>\n",
       "<p>vector of quantiles.</p>\n",
       "</td></tr>\n",
       "<tr valign=\"top\"><td><code>p</code></td>\n",
       "<td>\n",
       "<p>vector of probabilities.</p>\n",
       "</td></tr>\n",
       "<tr valign=\"top\"><td><code>n</code></td>\n",
       "<td>\n",
       "<p>number of random values to return.</p>\n",
       "</td></tr>\n",
       "<tr valign=\"top\"><td><code>lambda</code></td>\n",
       "<td>\n",
       "<p>vector of (non-negative) means.</p>\n",
       "</td></tr>\n",
       "<tr valign=\"top\"><td><code>log, log.p</code></td>\n",
       "<td>\n",
       "<p>logical; if TRUE, probabilities p are given as log(p).</p>\n",
       "</td></tr>\n",
       "<tr valign=\"top\"><td><code>lower.tail</code></td>\n",
       "<td>\n",
       "<p>logical; if TRUE (default), probabilities are\n",
       "<i>P[X &le; x]</i>, otherwise, <i>P[X &gt; x]</i>.</p>\n",
       "</td></tr>\n",
       "</table>\n",
       "\n",
       "\n",
       "<h3>Details</h3>\n",
       "\n",
       "<p>The Poisson distribution has density\n",
       "\n",
       "</p>\n",
       "<p style=\"text-align: center;\"><i>p(x) = &lambda;^x exp(-&lambda;)/x!</i></p>\n",
       "\n",
       "<p>for <i>x = 0, 1, 2, &hellip;</i> .\n",
       "The mean and variance are <i>E(X) = Var(X) = &lambda;</i>.\n",
       "</p>\n",
       "<p>Note that <i>&lambda; = 0</i> is really a limit case (setting\n",
       "<i>0^0 = 1</i>) resulting in a point mass at <i>0</i>, see also the example.\n",
       "</p>\n",
       "<p>If an element of <code>x</code> is not integer, the result of <code>dpois</code>\n",
       "is zero, with a warning.\n",
       "<i>p(x)</i> is computed using Loader's algorithm, see the reference in\n",
       "<code>dbinom</code>.\n",
       "</p>\n",
       "<p>The quantile is right continuous: <code>qpois(p, lambda)</code> is the smallest\n",
       "integer <i>x</i> such that <i>P(X &le; x) &ge; p</i>.\n",
       "</p>\n",
       "<p>Setting <code>lower.tail = FALSE</code> allows to get much more precise\n",
       "results when the default, <code>lower.tail = TRUE</code> would return 1, see\n",
       "the example below.\n",
       "</p>\n",
       "\n",
       "\n",
       "<h3>Value</h3>\n",
       "\n",
       "<p><code>dpois</code> gives the (log) density,\n",
       "<code>ppois</code> gives the (log) distribution function,\n",
       "<code>qpois</code> gives the quantile function, and\n",
       "<code>rpois</code> generates random deviates.\n",
       "</p>\n",
       "<p>Invalid <code>lambda</code> will result in return value <code>NaN</code>, with a warning.\n",
       "</p>\n",
       "<p>The length of the result is determined by <code>n</code> for\n",
       "<code>rpois</code>, and is the maximum of the lengths of the\n",
       "numerical arguments for the other functions.\n",
       "</p>\n",
       "<p>The numerical arguments other than <code>n</code> are recycled to the\n",
       "length of the result.  Only the first elements of the logical\n",
       "arguments are used.\n",
       "</p>\n",
       "\n",
       "\n",
       "<h3>Source</h3>\n",
       "\n",
       "<p><code>dpois</code> uses C code contributed by Catherine Loader\n",
       "(see <code>dbinom</code>).\n",
       "</p>\n",
       "<p><code>ppois</code> uses <code>pgamma</code>.\n",
       "</p>\n",
       "<p><code>qpois</code> uses the Cornish&ndash;Fisher Expansion to include a skewness\n",
       "correction to a normal approximation, followed by a search.\n",
       "</p>\n",
       "<p><code>rpois</code> uses\n",
       "</p>\n",
       "<p>Ahrens, J. H. and Dieter, U. (1982).\n",
       "Computer generation of Poisson deviates from modified normal distributions.\n",
       "<em>ACM Transactions on Mathematical Software</em>, <b>8</b>, 163&ndash;179.\n",
       "</p>\n",
       "\n",
       "\n",
       "<h3>See Also</h3>\n",
       "\n",
       "<p>Distributions for other standard distributions, including\n",
       "<code>dbinom</code> for the binomial and <code>dnbinom</code> for\n",
       "the negative binomial distribution.\n",
       "</p>\n",
       "<p><code>poisson.test</code>.\n",
       "</p>\n",
       "\n",
       "\n",
       "<h3>Examples</h3>\n",
       "\n",
       "<pre>\n",
       "require(graphics)\n",
       "\n",
       "-log(dpois(0:7, lambda = 1) * gamma(1+ 0:7)) # == 1\n",
       "Ni &lt;- rpois(50, lambda = 4); table(factor(Ni, 0:max(Ni)))\n",
       "\n",
       "1 - ppois(10*(15:25), lambda = 100)  # becomes 0 (cancellation)\n",
       "    ppois(10*(15:25), lambda = 100, lower.tail = FALSE)  # no cancellation\n",
       "\n",
       "par(mfrow = c(2, 1))\n",
       "x &lt;- seq(-0.01, 5, 0.01)\n",
       "plot(x, ppois(x, 1), type = \"s\", ylab = \"F(x)\", main = \"Poisson(1) CDF\")\n",
       "plot(x, pbinom(x, 100, 0.01), type = \"s\", ylab = \"F(x)\",\n",
       "     main = \"Binomial(100, 0.01) CDF\")\n",
       "\n",
       "## The (limit) case  lambda = 0 :\n",
       "stopifnot(identical(dpois(0,0), 1),\n",
       "\t  identical(ppois(0,0), 1),\n",
       "\t  identical(qpois(1,0), 0))\n",
       "</pre>\n",
       "\n",
       "<hr /><div style=\"text-align: center;\">[Package <em>stats</em> version 3.6.1 ]</div>"
      ],
      "text/latex": [
       "\\inputencoding{utf8}\n",
       "\\HeaderA{Poisson}{The Poisson Distribution}{Poisson}\n",
       "\\aliasA{dpois}{Poisson}{dpois}\n",
       "\\aliasA{ppois}{Poisson}{ppois}\n",
       "\\aliasA{qpois}{Poisson}{qpois}\n",
       "\\aliasA{rpois}{Poisson}{rpois}\n",
       "\\keyword{distribution}{Poisson}\n",
       "%\n",
       "\\begin{Description}\\relax\n",
       "Density, distribution function, quantile function and random\n",
       "generation for the Poisson distribution with parameter \\code{lambda}.\n",
       "\\end{Description}\n",
       "%\n",
       "\\begin{Usage}\n",
       "\\begin{verbatim}\n",
       "dpois(x, lambda, log = FALSE)\n",
       "ppois(q, lambda, lower.tail = TRUE, log.p = FALSE)\n",
       "qpois(p, lambda, lower.tail = TRUE, log.p = FALSE)\n",
       "rpois(n, lambda)\n",
       "\\end{verbatim}\n",
       "\\end{Usage}\n",
       "%\n",
       "\\begin{Arguments}\n",
       "\\begin{ldescription}\n",
       "\\item[\\code{x}] vector of (non-negative integer) quantiles.\n",
       "\\item[\\code{q}] vector of quantiles.\n",
       "\\item[\\code{p}] vector of probabilities.\n",
       "\\item[\\code{n}] number of random values to return.\n",
       "\\item[\\code{lambda}] vector of (non-negative) means.\n",
       "\\item[\\code{log, log.p}] logical; if TRUE, probabilities p are given as log(p).\n",
       "\\item[\\code{lower.tail}] logical; if TRUE (default), probabilities are\n",
       "\\eqn{P[X \\le x]}{}, otherwise, \\eqn{P[X > x]}{}.\n",
       "\\end{ldescription}\n",
       "\\end{Arguments}\n",
       "%\n",
       "\\begin{Details}\\relax\n",
       "The Poisson distribution has density\n",
       "\n",
       "\\deqn{p(x) = \\frac{\\lambda^x e^{-\\lambda}}{x!}}{}\n",
       "for \\eqn{x = 0, 1, 2, \\ldots}{} .\n",
       "The mean and variance are \\eqn{E(X) = Var(X) = \\lambda}{}.\n",
       "\n",
       "Note that \\eqn{\\lambda = 0}{} is really a limit case (setting\n",
       "\\eqn{0^0 = 1}{}) resulting in a point mass at \\eqn{0}{}, see also the example.\n",
       "\n",
       "If an element of \\code{x} is not integer, the result of \\code{dpois}\n",
       "is zero, with a warning.\n",
       "\\eqn{p(x)}{} is computed using Loader's algorithm, see the reference in\n",
       "\\code{\\LinkA{dbinom}{dbinom}}.\n",
       "\n",
       "The quantile is right continuous: \\code{qpois(p, lambda)} is the smallest\n",
       "integer \\eqn{x}{} such that \\eqn{P(X \\le x) \\ge p}{}.\n",
       "\n",
       "Setting \\code{lower.tail = FALSE} allows to get much more precise\n",
       "results when the default, \\code{lower.tail = TRUE} would return 1, see\n",
       "the example below.\n",
       "\\end{Details}\n",
       "%\n",
       "\\begin{Value}\n",
       "\\code{dpois} gives the (log) density,\n",
       "\\code{ppois} gives the (log) distribution function,\n",
       "\\code{qpois} gives the quantile function, and\n",
       "\\code{rpois} generates random deviates.\n",
       "\n",
       "Invalid \\code{lambda} will result in return value \\code{NaN}, with a warning.\n",
       "\n",
       "The length of the result is determined by \\code{n} for\n",
       "\\code{rpois}, and is the maximum of the lengths of the\n",
       "numerical arguments for the other functions.\n",
       "\n",
       "The numerical arguments other than \\code{n} are recycled to the\n",
       "length of the result.  Only the first elements of the logical\n",
       "arguments are used.\n",
       "\\end{Value}\n",
       "%\n",
       "\\begin{Source}\\relax\n",
       "\\code{dpois} uses C code contributed by Catherine Loader\n",
       "(see \\code{\\LinkA{dbinom}{dbinom}}).\n",
       "\n",
       "\\code{ppois} uses \\code{pgamma}.\n",
       "\n",
       "\\code{qpois} uses the Cornish--Fisher Expansion to include a skewness\n",
       "correction to a normal approximation, followed by a search.\n",
       "\n",
       "\\code{rpois} uses\n",
       "\n",
       "Ahrens, J. H. and Dieter, U. (1982).\n",
       "Computer generation of Poisson deviates from modified normal distributions.\n",
       "\\emph{ACM Transactions on Mathematical Software}, \\bold{8}, 163--179.\n",
       "\\end{Source}\n",
       "%\n",
       "\\begin{SeeAlso}\\relax\n",
       "\\LinkA{Distributions}{Distributions} for other standard distributions, including\n",
       "\\code{\\LinkA{dbinom}{dbinom}} for the binomial and \\code{\\LinkA{dnbinom}{dnbinom}} for\n",
       "the negative binomial distribution.\n",
       "\n",
       "\\code{\\LinkA{poisson.test}{poisson.test}}.\n",
       "\\end{SeeAlso}\n",
       "%\n",
       "\\begin{Examples}\n",
       "\\begin{ExampleCode}\n",
       "require(graphics)\n",
       "\n",
       "-log(dpois(0:7, lambda = 1) * gamma(1+ 0:7)) # == 1\n",
       "Ni <- rpois(50, lambda = 4); table(factor(Ni, 0:max(Ni)))\n",
       "\n",
       "1 - ppois(10*(15:25), lambda = 100)  # becomes 0 (cancellation)\n",
       "    ppois(10*(15:25), lambda = 100, lower.tail = FALSE)  # no cancellation\n",
       "\n",
       "par(mfrow = c(2, 1))\n",
       "x <- seq(-0.01, 5, 0.01)\n",
       "plot(x, ppois(x, 1), type = \"s\", ylab = \"F(x)\", main = \"Poisson(1) CDF\")\n",
       "plot(x, pbinom(x, 100, 0.01), type = \"s\", ylab = \"F(x)\",\n",
       "     main = \"Binomial(100, 0.01) CDF\")\n",
       "\n",
       "## The (limit) case  lambda = 0 :\n",
       "stopifnot(identical(dpois(0,0), 1),\n",
       "\t  identical(ppois(0,0), 1),\n",
       "\t  identical(qpois(1,0), 0))\n",
       "\\end{ExampleCode}\n",
       "\\end{Examples}"
      ],
      "text/plain": [
       "Poisson                 package:stats                  R Documentation\n",
       "\n",
       "_\bT_\bh_\be _\bP_\bo_\bi_\bs_\bs_\bo_\bn _\bD_\bi_\bs_\bt_\br_\bi_\bb_\bu_\bt_\bi_\bo_\bn\n",
       "\n",
       "_\bD_\be_\bs_\bc_\br_\bi_\bp_\bt_\bi_\bo_\bn:\n",
       "\n",
       "     Density, distribution function, quantile function and random\n",
       "     generation for the Poisson distribution with parameter ‘lambda’.\n",
       "\n",
       "_\bU_\bs_\ba_\bg_\be:\n",
       "\n",
       "     dpois(x, lambda, log = FALSE)\n",
       "     ppois(q, lambda, lower.tail = TRUE, log.p = FALSE)\n",
       "     qpois(p, lambda, lower.tail = TRUE, log.p = FALSE)\n",
       "     rpois(n, lambda)\n",
       "     \n",
       "_\bA_\br_\bg_\bu_\bm_\be_\bn_\bt_\bs:\n",
       "\n",
       "       x: vector of (non-negative integer) quantiles.\n",
       "\n",
       "       q: vector of quantiles.\n",
       "\n",
       "       p: vector of probabilities.\n",
       "\n",
       "       n: number of random values to return.\n",
       "\n",
       "  lambda: vector of (non-negative) means.\n",
       "\n",
       "log, log.p: logical; if TRUE, probabilities p are given as log(p).\n",
       "\n",
       "lower.tail: logical; if TRUE (default), probabilities are P[X <= x],\n",
       "          otherwise, P[X > x].\n",
       "\n",
       "_\bD_\be_\bt_\ba_\bi_\bl_\bs:\n",
       "\n",
       "     The Poisson distribution has density\n",
       "\n",
       "                       p(x) = lambda^x exp(-lambda)/x!                  \n",
       "     \n",
       "     for x = 0, 1, 2, ... .  The mean and variance are E(X) = Var(X) =\n",
       "     lambda.\n",
       "\n",
       "     Note that lambda = 0 is really a limit case (setting 0^0 = 1)\n",
       "     resulting in a point mass at 0, see also the example.\n",
       "\n",
       "     If an element of ‘x’ is not integer, the result of ‘dpois’ is\n",
       "     zero, with a warning.  p(x) is computed using Loader's algorithm,\n",
       "     see the reference in ‘dbinom’.\n",
       "\n",
       "     The quantile is right continuous: ‘qpois(p, lambda)’ is the\n",
       "     smallest integer x such that P(X <= x) >= p.\n",
       "\n",
       "     Setting ‘lower.tail = FALSE’ allows to get much more precise\n",
       "     results when the default, ‘lower.tail = TRUE’ would return 1, see\n",
       "     the example below.\n",
       "\n",
       "_\bV_\ba_\bl_\bu_\be:\n",
       "\n",
       "     ‘dpois’ gives the (log) density, ‘ppois’ gives the (log)\n",
       "     distribution function, ‘qpois’ gives the quantile function, and\n",
       "     ‘rpois’ generates random deviates.\n",
       "\n",
       "     Invalid ‘lambda’ will result in return value ‘NaN’, with a\n",
       "     warning.\n",
       "\n",
       "     The length of the result is determined by ‘n’ for ‘rpois’, and is\n",
       "     the maximum of the lengths of the numerical arguments for the\n",
       "     other functions.\n",
       "\n",
       "     The numerical arguments other than ‘n’ are recycled to the length\n",
       "     of the result.  Only the first elements of the logical arguments\n",
       "     are used.\n",
       "\n",
       "_\bS_\bo_\bu_\br_\bc_\be:\n",
       "\n",
       "     ‘dpois’ uses C code contributed by Catherine Loader (see\n",
       "     ‘dbinom’).\n",
       "\n",
       "     ‘ppois’ uses ‘pgamma’.\n",
       "\n",
       "     ‘qpois’ uses the Cornish-Fisher Expansion to include a skewness\n",
       "     correction to a normal approximation, followed by a search.\n",
       "\n",
       "     ‘rpois’ uses\n",
       "\n",
       "     Ahrens, J. H. and Dieter, U. (1982).  Computer generation of\n",
       "     Poisson deviates from modified normal distributions.  _ACM\n",
       "     Transactions on Mathematical Software_, *8*, 163-179.\n",
       "\n",
       "_\bS_\be_\be _\bA_\bl_\bs_\bo:\n",
       "\n",
       "     Distributions for other standard distributions, including ‘dbinom’\n",
       "     for the binomial and ‘dnbinom’ for the negative binomial\n",
       "     distribution.\n",
       "\n",
       "     ‘poisson.test’.\n",
       "\n",
       "_\bE_\bx_\ba_\bm_\bp_\bl_\be_\bs:\n",
       "\n",
       "     require(graphics)\n",
       "     \n",
       "     -log(dpois(0:7, lambda = 1) * gamma(1+ 0:7)) # == 1\n",
       "     Ni <- rpois(50, lambda = 4); table(factor(Ni, 0:max(Ni)))\n",
       "     \n",
       "     1 - ppois(10*(15:25), lambda = 100)  # becomes 0 (cancellation)\n",
       "         ppois(10*(15:25), lambda = 100, lower.tail = FALSE)  # no cancellation\n",
       "     \n",
       "     par(mfrow = c(2, 1))\n",
       "     x <- seq(-0.01, 5, 0.01)\n",
       "     plot(x, ppois(x, 1), type = \"s\", ylab = \"F(x)\", main = \"Poisson(1) CDF\")\n",
       "     plot(x, pbinom(x, 100, 0.01), type = \"s\", ylab = \"F(x)\",\n",
       "          main = \"Binomial(100, 0.01) CDF\")\n",
       "     \n",
       "     ## The (limit) case  lambda = 0 :\n",
       "     stopifnot(identical(dpois(0,0), 1),\n",
       "               identical(ppois(0,0), 1),\n",
       "               identical(qpois(1,0), 0))\n",
       "     "
      ]
     },
     "metadata": {},
     "output_type": "display_data"
    }
   ],
   "source": [
    "?rpois"
   ]
  },
  {
   "cell_type": "code",
   "execution_count": 53,
   "metadata": {},
   "outputs": [
    {
     "data": {
      "image/png": "[encoded data removed]",
      "text/plain": [
       "plot without title"
      ]
     },
     "metadata": {
      "image/png": {
       "height": 420,
       "width": 420
      },
      "text/plain": {
       "height": 420,
       "width": 420
      }
     },
     "output_type": "display_data"
    }
   ],
   "source": [
    "plot(1:10, 10:19)"
   ]
  },
  {
   "cell_type": "code",
   "execution_count": null,
   "metadata": {},
   "outputs": [],
   "source": []
  }
 ],
 "metadata": {
  "kernelspec": {
   "display_name": "R",
   "language": "R",
   "name": "ir"
  },
  "language_info": {
   "codemirror_mode": "r",
   "file_extension": ".r",
   "mimetype": "text/x-r-source",
   "name": "R",
   "pygments_lexer": "r",
   "version": "3.6.1"
  }
 },
 "nbformat": 4,
 "nbformat_minor": 4
}
