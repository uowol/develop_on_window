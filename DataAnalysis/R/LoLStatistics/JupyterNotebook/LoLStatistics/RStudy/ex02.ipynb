{
 "cells": [
  {
   "cell_type": "code",
   "execution_count": 1,
   "metadata": {},
   "outputs": [
    {
     "data": {
      "text/html": [
       "<style>\n",
       ".list-inline {list-style: none; margin:0; padding: 0}\n",
       ".list-inline>li {display: inline-block}\n",
       ".list-inline>li:not(:last-child)::after {content: \"\\00b7\"; padding: 0 .5ex}\n",
       "</style>\n",
       "<ol class=list-inline><li>160</li><li>165</li><li>170</li><li>175</li><li>180</li></ol>\n"
      ],
      "text/latex": [
       "\\begin{enumerate*}\n",
       "\\item 160\n",
       "\\item 165\n",
       "\\item 170\n",
       "\\item 175\n",
       "\\item 180\n",
       "\\end{enumerate*}\n"
      ],
      "text/markdown": [
       "1. 160\n",
       "2. 165\n",
       "3. 170\n",
       "4. 175\n",
       "5. 180\n",
       "\n",
       "\n"
      ],
      "text/plain": [
       "[1] 160 165 170 175 180"
      ]
     },
     "metadata": {},
     "output_type": "display_data"
    }
   ],
   "source": [
    "c(160, 165, 170, 175, 180)"
   ]
  },
  {
   "cell_type": "code",
   "execution_count": 2,
   "metadata": {},
   "outputs": [
    {
     "data": {
      "text/html": [
       "<style>\n",
       ".list-inline {list-style: none; margin:0; padding: 0}\n",
       ".list-inline>li {display: inline-block}\n",
       ".list-inline>li:not(:last-child)::after {content: \"\\00b7\"; padding: 0 .5ex}\n",
       "</style>\n",
       "<ol class=list-inline><li>160</li><li>165</li><li>170</li><li>175</li><li>180</li></ol>\n"
      ],
      "text/latex": [
       "\\begin{enumerate*}\n",
       "\\item 160\n",
       "\\item 165\n",
       "\\item 170\n",
       "\\item 175\n",
       "\\item 180\n",
       "\\end{enumerate*}\n"
      ],
      "text/markdown": [
       "1. 160\n",
       "2. 165\n",
       "3. 170\n",
       "4. 175\n",
       "5. 180\n",
       "\n",
       "\n"
      ],
      "text/plain": [
       "[1] 160 165 170 175 180"
      ]
     },
     "metadata": {},
     "output_type": "display_data"
    }
   ],
   "source": [
    "seq(160, 180, by=5)"
   ]
  },
  {
   "cell_type": "code",
   "execution_count": 3,
   "metadata": {},
   "outputs": [
    {
     "data": {
      "text/html": [
       "<style>\n",
       ".list-inline {list-style: none; margin:0; padding: 0}\n",
       ".list-inline>li {display: inline-block}\n",
       ".list-inline>li:not(:last-child)::after {content: \"\\00b7\"; padding: 0 .5ex}\n",
       "</style>\n",
       "<ol class=list-inline><li>160</li><li>165</li><li>170</li><li>175</li><li>180</li></ol>\n"
      ],
      "text/latex": [
       "\\begin{enumerate*}\n",
       "\\item 160\n",
       "\\item 165\n",
       "\\item 170\n",
       "\\item 175\n",
       "\\item 180\n",
       "\\end{enumerate*}\n"
      ],
      "text/markdown": [
       "1. 160\n",
       "2. 165\n",
       "3. 170\n",
       "4. 175\n",
       "5. 180\n",
       "\n",
       "\n"
      ],
      "text/plain": [
       "[1] 160 165 170 175 180"
      ]
     },
     "metadata": {},
     "output_type": "display_data"
    }
   ],
   "source": [
    "seq(160, 180, length=5)"
   ]
  },
  {
   "cell_type": "code",
   "execution_count": 34,
   "metadata": {},
   "outputs": [],
   "source": [
    "data = seq(160, 180, by=5)"
   ]
  },
  {
   "cell_type": "code",
   "execution_count": 35,
   "metadata": {},
   "outputs": [],
   "source": [
    "names(data) = LETTERS[1:5]"
   ]
  },
  {
   "cell_type": "code",
   "execution_count": 36,
   "metadata": {},
   "outputs": [
    {
     "data": {
      "text/html": [
       "<style>\n",
       ".dl-inline {width: auto; margin:0; padding: 0}\n",
       ".dl-inline>dt, .dl-inline>dd {float: none; width: auto; display: inline-block}\n",
       ".dl-inline>dt::after {content: \":\\0020\"; padding-right: .5ex}\n",
       ".dl-inline>dt:not(:first-of-type) {padding-left: .5ex}\n",
       "</style><dl class=dl-inline><dt>A</dt><dd>160</dd><dt>B</dt><dd>165</dd><dt>C</dt><dd>170</dd><dt>D</dt><dd>175</dd><dt>E</dt><dd>180</dd></dl>\n"
      ],
      "text/latex": [
       "\\begin{description*}\n",
       "\\item[A] 160\n",
       "\\item[B] 165\n",
       "\\item[C] 170\n",
       "\\item[D] 175\n",
       "\\item[E] 180\n",
       "\\end{description*}\n"
      ],
      "text/markdown": [
       "A\n",
       ":   160B\n",
       ":   165C\n",
       ":   170D\n",
       ":   175E\n",
       ":   180\n",
       "\n"
      ],
      "text/plain": [
       "  A   B   C   D   E \n",
       "160 165 170 175 180 "
      ]
     },
     "metadata": {},
     "output_type": "display_data"
    }
   ],
   "source": [
    "data"
   ]
  },
  {
   "cell_type": "code",
   "execution_count": 41,
   "metadata": {},
   "outputs": [
    {
     "data": {
      "image/png": "[encoded data removed]",
      "text/plain": [
       "Plot with title “Histogram of data”"
      ]
     },
     "metadata": {
      "image/png": {
       "height": 420,
       "width": 420
      },
      "text/plain": {
       "height": 420,
       "width": 420
      }
     },
     "output_type": "display_data"
    }
   ],
   "source": [
    "hist(data, breaks=c((data-2.5),182.5))\n",
    "abline(v=mean(data),col=\"red\")"
   ]
  },
  {
   "cell_type": "code",
   "execution_count": 19,
   "metadata": {},
   "outputs": [
    {
     "data": {
      "text/html": [
       "170"
      ],
      "text/latex": [
       "170"
      ],
      "text/markdown": [
       "170"
      ],
      "text/plain": [
       "[1] 170"
      ]
     },
     "metadata": {},
     "output_type": "display_data"
    },
    {
     "data": {
      "text/plain": [
       "   user  system elapsed \n",
       "   0.01    0.01    0.02 "
      ]
     },
     "metadata": {},
     "output_type": "display_data"
    }
   ],
   "source": [
    "timer <- proc.time()\n",
    "mean(data)\n",
    "proc.time() - timer"
   ]
  },
  {
   "cell_type": "code",
   "execution_count": 28,
   "metadata": {},
   "outputs": [],
   "source": [
    "data.sum=0\n",
    "data.count=0\n",
    "for(i in 1:length(data)){\n",
    "  if(!is.na(data[i])){\n",
    "    data.sum = data.sum+data[i]\n",
    "    data.count = data.count+1\n",
    "  }\n",
    "}"
   ]
  },
  {
   "cell_type": "code",
   "execution_count": 31,
   "metadata": {},
   "outputs": [
    {
     "data": {
      "text/html": [
       "<strong>A:</strong> 170"
      ],
      "text/latex": [
       "\\textbf{A:} 170"
      ],
      "text/markdown": [
       "**A:** 170"
      ],
      "text/plain": [
       "  A \n",
       "170 "
      ]
     },
     "metadata": {},
     "output_type": "display_data"
    },
    {
     "data": {
      "text/html": [
       "170"
      ],
      "text/latex": [
       "170"
      ],
      "text/markdown": [
       "170"
      ],
      "text/plain": [
       "[1] 170"
      ]
     },
     "metadata": {},
     "output_type": "display_data"
    }
   ],
   "source": [
    "data.sum / data.count\n",
    "mean(data,na.rm = T)"
   ]
  },
  {
   "cell_type": "code",
   "execution_count": 2,
   "metadata": {},
   "outputs": [],
   "source": [
    "x <- array(1:20, dim=c(4,5,2)) "
   ]
  },
  {
   "cell_type": "code",
   "execution_count": 6,
   "metadata": {},
   "outputs": [
    {
     "name": "stdout",
     "output_type": "stream",
     "text": [
      " num [1:12] 160 165 165 170 170 170 170 175 175 175 ...\n"
     ]
    }
   ],
   "source": [
    "x"
   ]
  },
  {
   "cell_type": "code",
   "execution_count": 5,
   "metadata": {},
   "outputs": [],
   "source": [
    "data = c(160, 165, 165, 170, 170, 170, 170, 175, 175, 175, 180, 180)"
   ]
  },
  {
   "cell_type": "code",
   "execution_count": 45,
   "metadata": {},
   "outputs": [
    {
     "data": {
      "image/png": "[encoded data removed]",
      "text/plain": [
       "Plot with title “Histogram of data”"
      ]
     },
     "metadata": {
      "image/png": {
       "height": 420,
       "width": 420
      },
      "text/plain": {
       "height": 420,
       "width": 420
      }
     },
     "output_type": "display_data"
    }
   ],
   "source": [
    "hist(data)"
   ]
  },
  {
   "cell_type": "code",
   "execution_count": 48,
   "metadata": {},
   "outputs": [
    {
     "data": {
      "image/png": "[encoded data removed]",
      "text/plain": [
       "Plot with title “Histogram of data”"
      ]
     },
     "metadata": {
      "image/png": {
       "height": 420,
       "width": 420
      },
      "text/plain": {
       "height": 420,
       "width": 420
      }
     },
     "output_type": "display_data"
    }
   ],
   "source": [
    "hist(data, breaks = seq(157.5, 182.5, by = 5))\n",
    "abline(v=mean(data),col=\"red\")"
   ]
  },
  {
   "cell_type": "code",
   "execution_count": 7,
   "metadata": {},
   "outputs": [
    {
     "data": {
      "text/html": [
       "'character'"
      ],
      "text/latex": [
       "'character'"
      ],
      "text/markdown": [
       "'character'"
      ],
      "text/plain": [
       "[1] \"character\""
      ]
     },
     "metadata": {},
     "output_type": "display_data"
    },
    {
     "name": "stdout",
     "output_type": "stream",
     "text": [
      "[1] \"무리무리\"\n"
     ]
    }
   ],
   "source": [
    "data = c('1','2','3')\n",
    "mode(data)\n",
    "if(mode(data)==\"character\")\n",
    "  print(\"무리무리\")\n"
   ]
  },
  {
   "cell_type": "code",
   "execution_count": 8,
   "metadata": {},
   "outputs": [],
   "source": [
    "data = c(A=1,B=2,C=3)\n",
    "data = data.frame(data)"
   ]
  },
  {
   "cell_type": "code",
   "execution_count": 9,
   "metadata": {},
   "outputs": [
    {
     "data": {
      "text/html": [
       "<table>\n",
       "<caption>A data.frame: 3 × 1</caption>\n",
       "<thead>\n",
       "\t<tr><th></th><th scope=col>data</th></tr>\n",
       "\t<tr><th></th><th scope=col>&lt;dbl&gt;</th></tr>\n",
       "</thead>\n",
       "<tbody>\n",
       "\t<tr><th scope=row>A</th><td>1</td></tr>\n",
       "\t<tr><th scope=row>B</th><td>2</td></tr>\n",
       "\t<tr><th scope=row>C</th><td>3</td></tr>\n",
       "</tbody>\n",
       "</table>\n"
      ],
      "text/latex": [
       "A data.frame: 3 × 1\n",
       "\\begin{tabular}{r|l}\n",
       "  & data\\\\\n",
       "  & <dbl>\\\\\n",
       "\\hline\n",
       "\tA & 1\\\\\n",
       "\tB & 2\\\\\n",
       "\tC & 3\\\\\n",
       "\\end{tabular}\n"
      ],
      "text/markdown": [
       "\n",
       "A data.frame: 3 × 1\n",
       "\n",
       "| <!--/--> | data &lt;dbl&gt; |\n",
       "|---|---|\n",
       "| A | 1 |\n",
       "| B | 2 |\n",
       "| C | 3 |\n",
       "\n"
      ],
      "text/plain": [
       "  data\n",
       "A 1   \n",
       "B 2   \n",
       "C 3   "
      ]
     },
     "metadata": {},
     "output_type": "display_data"
    }
   ],
   "source": [
    "data"
   ]
  },
  {
   "cell_type": "code",
   "execution_count": 53,
   "metadata": {},
   "outputs": [
    {
     "data": {
      "text/html": [
       "<style>\n",
       ".list-inline {list-style: none; margin:0; padding: 0}\n",
       ".list-inline>li {display: inline-block}\n",
       ".list-inline>li:not(:last-child)::after {content: \"\\00b7\"; padding: 0 .5ex}\n",
       "</style>\n",
       "<ol class=list-inline><li>1</li><li>2</li><li>3</li></ol>\n"
      ],
      "text/latex": [
       "\\begin{enumerate*}\n",
       "\\item 1\n",
       "\\item 2\n",
       "\\item 3\n",
       "\\end{enumerate*}\n"
      ],
      "text/markdown": [
       "1. 1\n",
       "2. 2\n",
       "3. 3\n",
       "\n",
       "\n"
      ],
      "text/plain": [
       "[1] 1 2 3"
      ]
     },
     "metadata": {},
     "output_type": "display_data"
    }
   ],
   "source": [
    "data$data"
   ]
  },
  {
   "cell_type": "code",
   "execution_count": 10,
   "metadata": {},
   "outputs": [],
   "source": [
    "data = data.frame(A=1, B=2, C=3)"
   ]
  },
  {
   "cell_type": "code",
   "execution_count": 11,
   "metadata": {},
   "outputs": [
    {
     "data": {
      "text/html": [
       "<table>\n",
       "<caption>A data.frame: 1 × 3</caption>\n",
       "<thead>\n",
       "\t<tr><th scope=col>A</th><th scope=col>B</th><th scope=col>C</th></tr>\n",
       "\t<tr><th scope=col>&lt;dbl&gt;</th><th scope=col>&lt;dbl&gt;</th><th scope=col>&lt;dbl&gt;</th></tr>\n",
       "</thead>\n",
       "<tbody>\n",
       "\t<tr><td>1</td><td>2</td><td>3</td></tr>\n",
       "</tbody>\n",
       "</table>\n"
      ],
      "text/latex": [
       "A data.frame: 1 × 3\n",
       "\\begin{tabular}{lll}\n",
       " A & B & C\\\\\n",
       " <dbl> & <dbl> & <dbl>\\\\\n",
       "\\hline\n",
       "\t 1 & 2 & 3\\\\\n",
       "\\end{tabular}\n"
      ],
      "text/markdown": [
       "\n",
       "A data.frame: 1 × 3\n",
       "\n",
       "| A &lt;dbl&gt; | B &lt;dbl&gt; | C &lt;dbl&gt; |\n",
       "|---|---|---|\n",
       "| 1 | 2 | 3 |\n",
       "\n"
      ],
      "text/plain": [
       "  A B C\n",
       "1 1 2 3"
      ]
     },
     "metadata": {},
     "output_type": "display_data"
    }
   ],
   "source": [
    "data"
   ]
  },
  {
   "cell_type": "code",
   "execution_count": 61,
   "metadata": {},
   "outputs": [],
   "source": [
    "x1 = 1:4\n",
    "x2 = c(1,2,3)\n",
    "x3 = c('a','b','c')\n",
    "y = c(x1,0,x2)"
   ]
  },
  {
   "cell_type": "code",
   "execution_count": 62,
   "metadata": {},
   "outputs": [
    {
     "data": {
      "text/html": [
       "<style>\n",
       ".list-inline {list-style: none; margin:0; padding: 0}\n",
       ".list-inline>li {display: inline-block}\n",
       ".list-inline>li:not(:last-child)::after {content: \"\\00b7\"; padding: 0 .5ex}\n",
       "</style>\n",
       "<ol class=list-inline><li>1</li><li>2</li><li>3</li><li>4</li><li>0</li><li>1</li><li>2</li><li>3</li></ol>\n"
      ],
      "text/latex": [
       "\\begin{enumerate*}\n",
       "\\item 1\n",
       "\\item 2\n",
       "\\item 3\n",
       "\\item 4\n",
       "\\item 0\n",
       "\\item 1\n",
       "\\item 2\n",
       "\\item 3\n",
       "\\end{enumerate*}\n"
      ],
      "text/markdown": [
       "1. 1\n",
       "2. 2\n",
       "3. 3\n",
       "4. 4\n",
       "5. 0\n",
       "6. 1\n",
       "7. 2\n",
       "8. 3\n",
       "\n",
       "\n"
      ],
      "text/plain": [
       "[1] 1 2 3 4 0 1 2 3"
      ]
     },
     "metadata": {},
     "output_type": "display_data"
    }
   ],
   "source": [
    "y"
   ]
  },
  {
   "cell_type": "code",
   "execution_count": 63,
   "metadata": {},
   "outputs": [
    {
     "data": {
      "text/html": [
       "<style>\n",
       ".list-inline {list-style: none; margin:0; padding: 0}\n",
       ".list-inline>li {display: inline-block}\n",
       ".list-inline>li:not(:last-child)::after {content: \"\\00b7\"; padding: 0 .5ex}\n",
       "</style>\n",
       "<ol class=list-inline><li>'1'</li><li>'2'</li><li>'3'</li><li>'4'</li><li>'1'</li><li>'2'</li><li>'3'</li><li>'a'</li><li>'b'</li><li>'c'</li></ol>\n"
      ],
      "text/latex": [
       "\\begin{enumerate*}\n",
       "\\item '1'\n",
       "\\item '2'\n",
       "\\item '3'\n",
       "\\item '4'\n",
       "\\item '1'\n",
       "\\item '2'\n",
       "\\item '3'\n",
       "\\item 'a'\n",
       "\\item 'b'\n",
       "\\item 'c'\n",
       "\\end{enumerate*}\n"
      ],
      "text/markdown": [
       "1. '1'\n",
       "2. '2'\n",
       "3. '3'\n",
       "4. '4'\n",
       "5. '1'\n",
       "6. '2'\n",
       "7. '3'\n",
       "8. 'a'\n",
       "9. 'b'\n",
       "10. 'c'\n",
       "\n",
       "\n"
      ],
      "text/plain": [
       " [1] \"1\" \"2\" \"3\" \"4\" \"1\" \"2\" \"3\" \"a\" \"b\" \"c\""
      ]
     },
     "metadata": {},
     "output_type": "display_data"
    }
   ],
   "source": [
    "c(x1,x2,x3)"
   ]
  },
  {
   "cell_type": "code",
   "execution_count": 64,
   "metadata": {},
   "outputs": [
    {
     "data": {
      "text/html": [
       "<style>\n",
       ".list-inline {list-style: none; margin:0; padding: 0}\n",
       ".list-inline>li {display: inline-block}\n",
       ".list-inline>li:not(:last-child)::after {content: \"\\00b7\"; padding: 0 .5ex}\n",
       "</style>\n",
       "<ol class=list-inline><li>2</li><li>3</li><li>4</li><li>5</li></ol>\n"
      ],
      "text/latex": [
       "\\begin{enumerate*}\n",
       "\\item 2\n",
       "\\item 3\n",
       "\\item 4\n",
       "\\item 5\n",
       "\\end{enumerate*}\n"
      ],
      "text/markdown": [
       "1. 2\n",
       "2. 3\n",
       "3. 4\n",
       "4. 5\n",
       "\n",
       "\n"
      ],
      "text/plain": [
       "[1] 2 3 4 5"
      ]
     },
     "metadata": {},
     "output_type": "display_data"
    }
   ],
   "source": [
    "seq(2, 5)"
   ]
  },
  {
   "cell_type": "code",
   "execution_count": 65,
   "metadata": {},
   "outputs": [
    {
     "data": {
      "text/html": [
       "<style>\n",
       ".list-inline {list-style: none; margin:0; padding: 0}\n",
       ".list-inline>li {display: inline-block}\n",
       ".list-inline>li:not(:last-child)::after {content: \"\\00b7\"; padding: 0 .5ex}\n",
       "</style>\n",
       "<ol class=list-inline><li>1</li><li>1</li><li>1</li><li>2</li><li>2</li><li>2</li><li>1</li><li>1</li><li>1</li><li>2</li><li>2</li><li>2</li><li>1</li><li>1</li><li>1</li><li>2</li><li>2</li><li>2</li></ol>\n"
      ],
      "text/latex": [
       "\\begin{enumerate*}\n",
       "\\item 1\n",
       "\\item 1\n",
       "\\item 1\n",
       "\\item 2\n",
       "\\item 2\n",
       "\\item 2\n",
       "\\item 1\n",
       "\\item 1\n",
       "\\item 1\n",
       "\\item 2\n",
       "\\item 2\n",
       "\\item 2\n",
       "\\item 1\n",
       "\\item 1\n",
       "\\item 1\n",
       "\\item 2\n",
       "\\item 2\n",
       "\\item 2\n",
       "\\end{enumerate*}\n"
      ],
      "text/markdown": [
       "1. 1\n",
       "2. 1\n",
       "3. 1\n",
       "4. 2\n",
       "5. 2\n",
       "6. 2\n",
       "7. 1\n",
       "8. 1\n",
       "9. 1\n",
       "10. 2\n",
       "11. 2\n",
       "12. 2\n",
       "13. 1\n",
       "14. 1\n",
       "15. 1\n",
       "16. 2\n",
       "17. 2\n",
       "18. 2\n",
       "\n",
       "\n"
      ],
      "text/plain": [
       " [1] 1 1 1 2 2 2 1 1 1 2 2 2 1 1 1 2 2 2"
      ]
     },
     "metadata": {},
     "output_type": "display_data"
    }
   ],
   "source": [
    "rep(1:2, each=3, 3) # each는 각각 몇번씩 반복할 것인"
   ]
  },
  {
   "cell_type": "code",
   "execution_count": 67,
   "metadata": {},
   "outputs": [],
   "source": [
    "options(digits=3) # 소수점 몇째자리까지 나오게 할 것인지"
   ]
  },
  {
   "cell_type": "code",
   "execution_count": 68,
   "metadata": {},
   "outputs": [],
   "source": [
    "x.int = integer(10)\n",
    "x.str = character(10)\n",
    "x.dbl = double(10)\n",
    "x.num = numeric(10)"
   ]
  },
  {
   "cell_type": "code",
   "execution_count": 75,
   "metadata": {},
   "outputs": [
    {
     "data": {
      "text/html": [
       "<style>\n",
       ".list-inline {list-style: none; margin:0; padding: 0}\n",
       ".list-inline>li {display: inline-block}\n",
       ".list-inline>li:not(:last-child)::after {content: \"\\00b7\"; padding: 0 .5ex}\n",
       "</style>\n",
       "<ol class=list-inline><li>2</li><li>3</li><li>4</li><li>5</li><li>1</li><li>2</li><li>3</li></ol>\n",
       "\n",
       "<details>\n",
       "\t<summary style=display:list-item;cursor:pointer>\n",
       "\t\t<strong>Levels</strong>:\n",
       "\t</summary>\n",
       "\t<style>\n",
       "\t.list-inline {list-style: none; margin:0; padding: 0}\n",
       "\t.list-inline>li {display: inline-block}\n",
       "\t.list-inline>li:not(:last-child)::after {content: \"\\00b7\"; padding: 0 .5ex}\n",
       "\t</style>\n",
       "\t<ol class=list-inline><li>'1'</li><li>'2'</li><li>'3'</li><li>'4'</li><li>'5'</li></ol>\n",
       "</details>"
      ],
      "text/latex": [
       "\\begin{enumerate*}\n",
       "\\item 2\n",
       "\\item 3\n",
       "\\item 4\n",
       "\\item 5\n",
       "\\item 1\n",
       "\\item 2\n",
       "\\item 3\n",
       "\\end{enumerate*}\n",
       "\n",
       "\\emph{Levels}: \\begin{enumerate*}\n",
       "\\item '1'\n",
       "\\item '2'\n",
       "\\item '3'\n",
       "\\item '4'\n",
       "\\item '5'\n",
       "\\end{enumerate*}\n"
      ],
      "text/markdown": [
       "1. 2\n",
       "2. 3\n",
       "3. 4\n",
       "4. 5\n",
       "5. 1\n",
       "6. 2\n",
       "7. 3\n",
       "\n",
       "\n",
       "\n",
       "**Levels**: 1. '1'\n",
       "2. '2'\n",
       "3. '3'\n",
       "4. '4'\n",
       "5. '5'\n",
       "\n",
       "\n"
      ],
      "text/plain": [
       "[1] 2 3 4 5 1 2 3\n",
       "Levels: 1 < 2 < 3 < 4 < 5"
      ]
     },
     "metadata": {},
     "output_type": "display_data"
    }
   ],
   "source": [
    "ordered(c(2,3,4,5,1,2,3))"
   ]
  },
  {
   "cell_type": "code",
   "execution_count": 76,
   "metadata": {},
   "outputs": [
    {
     "data": {
      "text/html": [
       "<style>\n",
       ".list-inline {list-style: none; margin:0; padding: 0}\n",
       ".list-inline>li {display: inline-block}\n",
       ".list-inline>li:not(:last-child)::after {content: \"\\00b7\"; padding: 0 .5ex}\n",
       "</style>\n",
       "<ol class=list-inline><li>2</li><li>4</li><li>56</li></ol>\n"
      ],
      "text/latex": [
       "\\begin{enumerate*}\n",
       "\\item 2\n",
       "\\item 4\n",
       "\\item 56\n",
       "\\end{enumerate*}\n"
      ],
      "text/markdown": [
       "1. 2\n",
       "2. 4\n",
       "3. 56\n",
       "\n",
       "\n"
      ],
      "text/plain": [
       "[1]  2  4 56"
      ]
     },
     "metadata": {},
     "output_type": "display_data"
    }
   ],
   "source": [
    "sort(c(2,56,4))"
   ]
  },
  {
   "cell_type": "code",
   "execution_count": 77,
   "metadata": {},
   "outputs": [],
   "source": [
    "x <- seq(length=51, from=-5, by=.2)\n",
    "y <- rep(x, times=5)\n",
    "z <- rep(x, each=5)"
   ]
  },
  {
   "cell_type": "code",
   "execution_count": 82,
   "metadata": {},
   "outputs": [
    {
     "data": {
      "text/html": [
       "<style>\n",
       ".list-inline {list-style: none; margin:0; padding: 0}\n",
       ".list-inline>li {display: inline-block}\n",
       ".list-inline>li:not(:last-child)::after {content: \"\\00b7\"; padding: 0 .5ex}\n",
       "</style>\n",
       "<ol class=list-inline><li>-5</li><li>-5</li><li>-5</li><li>-5</li><li>-5</li><li>-4.8</li><li>-4.8</li><li>-4.8</li><li>-4.8</li><li>-4.8</li><li>-4.6</li><li>-4.6</li><li>-4.6</li><li>-4.6</li><li>-4.6</li><li>-4.4</li><li>-4.4</li><li>-4.4</li><li>-4.4</li><li>-4.4</li><li>-4.2</li><li>-4.2</li><li>-4.2</li><li>-4.2</li><li>-4.2</li><li>-4</li><li>-4</li><li>-4</li><li>-4</li><li>-4</li><li>-3.8</li><li>-3.8</li><li>-3.8</li><li>-3.8</li><li>-3.8</li><li>-3.6</li><li>-3.6</li><li>-3.6</li><li>-3.6</li><li>-3.6</li><li>-3.4</li><li>-3.4</li><li>-3.4</li><li>-3.4</li><li>-3.4</li><li>-3.2</li><li>-3.2</li><li>-3.2</li><li>-3.2</li><li>-3.2</li><li>-3</li><li>-3</li><li>-3</li><li>-3</li><li>-3</li><li>-2.8</li><li>-2.8</li><li>-2.8</li><li>-2.8</li><li>-2.8</li><li>-2.6</li><li>-2.6</li><li>-2.6</li><li>-2.6</li><li>-2.6</li><li>-2.4</li><li>-2.4</li><li>-2.4</li><li>-2.4</li><li>-2.4</li><li>-2.2</li><li>-2.2</li><li>-2.2</li><li>-2.2</li><li>-2.2</li><li>-2</li><li>-2</li><li>-2</li><li>-2</li><li>-2</li><li>-1.8</li><li>-1.8</li><li>-1.8</li><li>-1.8</li><li>-1.8</li><li>-1.6</li><li>-1.6</li><li>-1.6</li><li>-1.6</li><li>-1.6</li><li>-1.4</li><li>-1.4</li><li>-1.4</li><li>-1.4</li><li>-1.4</li><li>-1.2</li><li>-1.2</li><li>-1.2</li><li>-1.2</li><li>-1.2</li><li>-1</li><li>-1</li><li>-1</li><li>-1</li><li>-1</li><li>-0.8</li><li>-0.8</li><li>-0.8</li><li>-0.8</li><li>-0.8</li><li>-0.6</li><li>-0.6</li><li>-0.6</li><li>-0.6</li><li>-0.6</li><li>-0.399999999999999</li><li>-0.399999999999999</li><li>-0.399999999999999</li><li>-0.399999999999999</li><li>-0.399999999999999</li><li>-0.199999999999999</li><li>-0.199999999999999</li><li>-0.199999999999999</li><li>-0.199999999999999</li><li>-0.199999999999999</li><li>0</li><li>0</li><li>0</li><li>0</li><li>0</li><li>0.2</li><li>0.2</li><li>0.2</li><li>0.2</li><li>0.2</li><li>0.4</li><li>0.4</li><li>0.4</li><li>0.4</li><li>0.4</li><li>0.600000000000001</li><li>0.600000000000001</li><li>0.600000000000001</li><li>0.600000000000001</li><li>0.600000000000001</li><li>0.800000000000001</li><li>0.800000000000001</li><li>0.800000000000001</li><li>0.800000000000001</li><li>0.800000000000001</li><li>1</li><li>1</li><li>1</li><li>1</li><li>1</li><li>1.2</li><li>1.2</li><li>1.2</li><li>1.2</li><li>1.2</li><li>1.4</li><li>1.4</li><li>1.4</li><li>1.4</li><li>1.4</li><li>1.6</li><li>1.6</li><li>1.6</li><li>1.6</li><li>1.6</li><li>1.8</li><li>1.8</li><li>1.8</li><li>1.8</li><li>1.8</li><li>2</li><li>2</li><li>2</li><li>2</li><li>2</li><li>2.2</li><li>2.2</li><li>2.2</li><li>2.2</li><li>2.2</li><li>2.4</li><li>2.4</li><li>2.4</li><li>2.4</li><li>2.4</li><li>2.6</li><li>2.6</li><li>2.6</li><li>2.6</li><li>2.6</li><li>2.8</li><li>2.8</li><li>2.8</li><li>2.8</li><li>2.8</li><li>3</li><li>3</li><li>3</li><li>3</li><li>3</li><li>3.2</li><li>3.2</li><li>3.2</li><li>3.2</li><li>3.2</li><li>3.4</li><li>3.4</li><li>3.4</li><li>3.4</li><li>3.4</li><li>3.6</li><li>3.6</li><li>3.6</li><li>3.6</li><li>3.6</li><li>3.8</li><li>3.8</li><li>3.8</li><li>3.8</li><li>3.8</li><li>4</li><li>4</li><li>4</li><li>4</li><li>4</li><li>4.2</li><li>4.2</li><li>4.2</li><li>4.2</li><li>4.2</li><li>4.4</li><li>4.4</li><li>4.4</li><li>4.4</li><li>4.4</li><li>4.6</li><li>4.6</li><li>4.6</li><li>4.6</li><li>4.6</li><li>4.8</li><li>4.8</li><li>4.8</li><li>4.8</li><li>4.8</li><li>5</li><li>5</li><li>5</li><li>5</li><li>5</li></ol>\n"
      ],
      "text/latex": [
       "\\begin{enumerate*}\n",
       "\\item -5\n",
       "\\item -5\n",
       "\\item -5\n",
       "\\item -5\n",
       "\\item -5\n",
       "\\item -4.8\n",
       "\\item -4.8\n",
       "\\item -4.8\n",
       "\\item -4.8\n",
       "\\item -4.8\n",
       "\\item -4.6\n",
       "\\item -4.6\n",
       "\\item -4.6\n",
       "\\item -4.6\n",
       "\\item -4.6\n",
       "\\item -4.4\n",
       "\\item -4.4\n",
       "\\item -4.4\n",
       "\\item -4.4\n",
       "\\item -4.4\n",
       "\\item -4.2\n",
       "\\item -4.2\n",
       "\\item -4.2\n",
       "\\item -4.2\n",
       "\\item -4.2\n",
       "\\item -4\n",
       "\\item -4\n",
       "\\item -4\n",
       "\\item -4\n",
       "\\item -4\n",
       "\\item -3.8\n",
       "\\item -3.8\n",
       "\\item -3.8\n",
       "\\item -3.8\n",
       "\\item -3.8\n",
       "\\item -3.6\n",
       "\\item -3.6\n",
       "\\item -3.6\n",
       "\\item -3.6\n",
       "\\item -3.6\n",
       "\\item -3.4\n",
       "\\item -3.4\n",
       "\\item -3.4\n",
       "\\item -3.4\n",
       "\\item -3.4\n",
       "\\item -3.2\n",
       "\\item -3.2\n",
       "\\item -3.2\n",
       "\\item -3.2\n",
       "\\item -3.2\n",
       "\\item -3\n",
       "\\item -3\n",
       "\\item -3\n",
       "\\item -3\n",
       "\\item -3\n",
       "\\item -2.8\n",
       "\\item -2.8\n",
       "\\item -2.8\n",
       "\\item -2.8\n",
       "\\item -2.8\n",
       "\\item -2.6\n",
       "\\item -2.6\n",
       "\\item -2.6\n",
       "\\item -2.6\n",
       "\\item -2.6\n",
       "\\item -2.4\n",
       "\\item -2.4\n",
       "\\item -2.4\n",
       "\\item -2.4\n",
       "\\item -2.4\n",
       "\\item -2.2\n",
       "\\item -2.2\n",
       "\\item -2.2\n",
       "\\item -2.2\n",
       "\\item -2.2\n",
       "\\item -2\n",
       "\\item -2\n",
       "\\item -2\n",
       "\\item -2\n",
       "\\item -2\n",
       "\\item -1.8\n",
       "\\item -1.8\n",
       "\\item -1.8\n",
       "\\item -1.8\n",
       "\\item -1.8\n",
       "\\item -1.6\n",
       "\\item -1.6\n",
       "\\item -1.6\n",
       "\\item -1.6\n",
       "\\item -1.6\n",
       "\\item -1.4\n",
       "\\item -1.4\n",
       "\\item -1.4\n",
       "\\item -1.4\n",
       "\\item -1.4\n",
       "\\item -1.2\n",
       "\\item -1.2\n",
       "\\item -1.2\n",
       "\\item -1.2\n",
       "\\item -1.2\n",
       "\\item -1\n",
       "\\item -1\n",
       "\\item -1\n",
       "\\item -1\n",
       "\\item -1\n",
       "\\item -0.8\n",
       "\\item -0.8\n",
       "\\item -0.8\n",
       "\\item -0.8\n",
       "\\item -0.8\n",
       "\\item -0.6\n",
       "\\item -0.6\n",
       "\\item -0.6\n",
       "\\item -0.6\n",
       "\\item -0.6\n",
       "\\item -0.399999999999999\n",
       "\\item -0.399999999999999\n",
       "\\item -0.399999999999999\n",
       "\\item -0.399999999999999\n",
       "\\item -0.399999999999999\n",
       "\\item -0.199999999999999\n",
       "\\item -0.199999999999999\n",
       "\\item -0.199999999999999\n",
       "\\item -0.199999999999999\n",
       "\\item -0.199999999999999\n",
       "\\item 0\n",
       "\\item 0\n",
       "\\item 0\n",
       "\\item 0\n",
       "\\item 0\n",
       "\\item 0.2\n",
       "\\item 0.2\n",
       "\\item 0.2\n",
       "\\item 0.2\n",
       "\\item 0.2\n",
       "\\item 0.4\n",
       "\\item 0.4\n",
       "\\item 0.4\n",
       "\\item 0.4\n",
       "\\item 0.4\n",
       "\\item 0.600000000000001\n",
       "\\item 0.600000000000001\n",
       "\\item 0.600000000000001\n",
       "\\item 0.600000000000001\n",
       "\\item 0.600000000000001\n",
       "\\item 0.800000000000001\n",
       "\\item 0.800000000000001\n",
       "\\item 0.800000000000001\n",
       "\\item 0.800000000000001\n",
       "\\item 0.800000000000001\n",
       "\\item 1\n",
       "\\item 1\n",
       "\\item 1\n",
       "\\item 1\n",
       "\\item 1\n",
       "\\item 1.2\n",
       "\\item 1.2\n",
       "\\item 1.2\n",
       "\\item 1.2\n",
       "\\item 1.2\n",
       "\\item 1.4\n",
       "\\item 1.4\n",
       "\\item 1.4\n",
       "\\item 1.4\n",
       "\\item 1.4\n",
       "\\item 1.6\n",
       "\\item 1.6\n",
       "\\item 1.6\n",
       "\\item 1.6\n",
       "\\item 1.6\n",
       "\\item 1.8\n",
       "\\item 1.8\n",
       "\\item 1.8\n",
       "\\item 1.8\n",
       "\\item 1.8\n",
       "\\item 2\n",
       "\\item 2\n",
       "\\item 2\n",
       "\\item 2\n",
       "\\item 2\n",
       "\\item 2.2\n",
       "\\item 2.2\n",
       "\\item 2.2\n",
       "\\item 2.2\n",
       "\\item 2.2\n",
       "\\item 2.4\n",
       "\\item 2.4\n",
       "\\item 2.4\n",
       "\\item 2.4\n",
       "\\item 2.4\n",
       "\\item 2.6\n",
       "\\item 2.6\n",
       "\\item 2.6\n",
       "\\item 2.6\n",
       "\\item 2.6\n",
       "\\item 2.8\n",
       "\\item 2.8\n",
       "\\item 2.8\n",
       "\\item 2.8\n",
       "\\item 2.8\n",
       "\\item 3\n",
       "\\item 3\n",
       "\\item 3\n",
       "\\item 3\n",
       "\\item 3\n",
       "\\item 3.2\n",
       "\\item 3.2\n",
       "\\item 3.2\n",
       "\\item 3.2\n",
       "\\item 3.2\n",
       "\\item 3.4\n",
       "\\item 3.4\n",
       "\\item 3.4\n",
       "\\item 3.4\n",
       "\\item 3.4\n",
       "\\item 3.6\n",
       "\\item 3.6\n",
       "\\item 3.6\n",
       "\\item 3.6\n",
       "\\item 3.6\n",
       "\\item 3.8\n",
       "\\item 3.8\n",
       "\\item 3.8\n",
       "\\item 3.8\n",
       "\\item 3.8\n",
       "\\item 4\n",
       "\\item 4\n",
       "\\item 4\n",
       "\\item 4\n",
       "\\item 4\n",
       "\\item 4.2\n",
       "\\item 4.2\n",
       "\\item 4.2\n",
       "\\item 4.2\n",
       "\\item 4.2\n",
       "\\item 4.4\n",
       "\\item 4.4\n",
       "\\item 4.4\n",
       "\\item 4.4\n",
       "\\item 4.4\n",
       "\\item 4.6\n",
       "\\item 4.6\n",
       "\\item 4.6\n",
       "\\item 4.6\n",
       "\\item 4.6\n",
       "\\item 4.8\n",
       "\\item 4.8\n",
       "\\item 4.8\n",
       "\\item 4.8\n",
       "\\item 4.8\n",
       "\\item 5\n",
       "\\item 5\n",
       "\\item 5\n",
       "\\item 5\n",
       "\\item 5\n",
       "\\end{enumerate*}\n"
      ],
      "text/markdown": [
       "1. -5\n",
       "2. -5\n",
       "3. -5\n",
       "4. -5\n",
       "5. -5\n",
       "6. -4.8\n",
       "7. -4.8\n",
       "8. -4.8\n",
       "9. -4.8\n",
       "10. -4.8\n",
       "11. -4.6\n",
       "12. -4.6\n",
       "13. -4.6\n",
       "14. -4.6\n",
       "15. -4.6\n",
       "16. -4.4\n",
       "17. -4.4\n",
       "18. -4.4\n",
       "19. -4.4\n",
       "20. -4.4\n",
       "21. -4.2\n",
       "22. -4.2\n",
       "23. -4.2\n",
       "24. -4.2\n",
       "25. -4.2\n",
       "26. -4\n",
       "27. -4\n",
       "28. -4\n",
       "29. -4\n",
       "30. -4\n",
       "31. -3.8\n",
       "32. -3.8\n",
       "33. -3.8\n",
       "34. -3.8\n",
       "35. -3.8\n",
       "36. -3.6\n",
       "37. -3.6\n",
       "38. -3.6\n",
       "39. -3.6\n",
       "40. -3.6\n",
       "41. -3.4\n",
       "42. -3.4\n",
       "43. -3.4\n",
       "44. -3.4\n",
       "45. -3.4\n",
       "46. -3.2\n",
       "47. -3.2\n",
       "48. -3.2\n",
       "49. -3.2\n",
       "50. -3.2\n",
       "51. -3\n",
       "52. -3\n",
       "53. -3\n",
       "54. -3\n",
       "55. -3\n",
       "56. -2.8\n",
       "57. -2.8\n",
       "58. -2.8\n",
       "59. -2.8\n",
       "60. -2.8\n",
       "61. -2.6\n",
       "62. -2.6\n",
       "63. -2.6\n",
       "64. -2.6\n",
       "65. -2.6\n",
       "66. -2.4\n",
       "67. -2.4\n",
       "68. -2.4\n",
       "69. -2.4\n",
       "70. -2.4\n",
       "71. -2.2\n",
       "72. -2.2\n",
       "73. -2.2\n",
       "74. -2.2\n",
       "75. -2.2\n",
       "76. -2\n",
       "77. -2\n",
       "78. -2\n",
       "79. -2\n",
       "80. -2\n",
       "81. -1.8\n",
       "82. -1.8\n",
       "83. -1.8\n",
       "84. -1.8\n",
       "85. -1.8\n",
       "86. -1.6\n",
       "87. -1.6\n",
       "88. -1.6\n",
       "89. -1.6\n",
       "90. -1.6\n",
       "91. -1.4\n",
       "92. -1.4\n",
       "93. -1.4\n",
       "94. -1.4\n",
       "95. -1.4\n",
       "96. -1.2\n",
       "97. -1.2\n",
       "98. -1.2\n",
       "99. -1.2\n",
       "100. -1.2\n",
       "101. -1\n",
       "102. -1\n",
       "103. -1\n",
       "104. -1\n",
       "105. -1\n",
       "106. -0.8\n",
       "107. -0.8\n",
       "108. -0.8\n",
       "109. -0.8\n",
       "110. -0.8\n",
       "111. -0.6\n",
       "112. -0.6\n",
       "113. -0.6\n",
       "114. -0.6\n",
       "115. -0.6\n",
       "116. -0.399999999999999\n",
       "117. -0.399999999999999\n",
       "118. -0.399999999999999\n",
       "119. -0.399999999999999\n",
       "120. -0.399999999999999\n",
       "121. -0.199999999999999\n",
       "122. -0.199999999999999\n",
       "123. -0.199999999999999\n",
       "124. -0.199999999999999\n",
       "125. -0.199999999999999\n",
       "126. 0\n",
       "127. 0\n",
       "128. 0\n",
       "129. 0\n",
       "130. 0\n",
       "131. 0.2\n",
       "132. 0.2\n",
       "133. 0.2\n",
       "134. 0.2\n",
       "135. 0.2\n",
       "136. 0.4\n",
       "137. 0.4\n",
       "138. 0.4\n",
       "139. 0.4\n",
       "140. 0.4\n",
       "141. 0.600000000000001\n",
       "142. 0.600000000000001\n",
       "143. 0.600000000000001\n",
       "144. 0.600000000000001\n",
       "145. 0.600000000000001\n",
       "146. 0.800000000000001\n",
       "147. 0.800000000000001\n",
       "148. 0.800000000000001\n",
       "149. 0.800000000000001\n",
       "150. 0.800000000000001\n",
       "151. 1\n",
       "152. 1\n",
       "153. 1\n",
       "154. 1\n",
       "155. 1\n",
       "156. 1.2\n",
       "157. 1.2\n",
       "158. 1.2\n",
       "159. 1.2\n",
       "160. 1.2\n",
       "161. 1.4\n",
       "162. 1.4\n",
       "163. 1.4\n",
       "164. 1.4\n",
       "165. 1.4\n",
       "166. 1.6\n",
       "167. 1.6\n",
       "168. 1.6\n",
       "169. 1.6\n",
       "170. 1.6\n",
       "171. 1.8\n",
       "172. 1.8\n",
       "173. 1.8\n",
       "174. 1.8\n",
       "175. 1.8\n",
       "176. 2\n",
       "177. 2\n",
       "178. 2\n",
       "179. 2\n",
       "180. 2\n",
       "181. 2.2\n",
       "182. 2.2\n",
       "183. 2.2\n",
       "184. 2.2\n",
       "185. 2.2\n",
       "186. 2.4\n",
       "187. 2.4\n",
       "188. 2.4\n",
       "189. 2.4\n",
       "190. 2.4\n",
       "191. 2.6\n",
       "192. 2.6\n",
       "193. 2.6\n",
       "194. 2.6\n",
       "195. 2.6\n",
       "196. 2.8\n",
       "197. 2.8\n",
       "198. 2.8\n",
       "199. 2.8\n",
       "200. 2.8\n",
       "201. 3\n",
       "202. 3\n",
       "203. 3\n",
       "204. 3\n",
       "205. 3\n",
       "206. 3.2\n",
       "207. 3.2\n",
       "208. 3.2\n",
       "209. 3.2\n",
       "210. 3.2\n",
       "211. 3.4\n",
       "212. 3.4\n",
       "213. 3.4\n",
       "214. 3.4\n",
       "215. 3.4\n",
       "216. 3.6\n",
       "217. 3.6\n",
       "218. 3.6\n",
       "219. 3.6\n",
       "220. 3.6\n",
       "221. 3.8\n",
       "222. 3.8\n",
       "223. 3.8\n",
       "224. 3.8\n",
       "225. 3.8\n",
       "226. 4\n",
       "227. 4\n",
       "228. 4\n",
       "229. 4\n",
       "230. 4\n",
       "231. 4.2\n",
       "232. 4.2\n",
       "233. 4.2\n",
       "234. 4.2\n",
       "235. 4.2\n",
       "236. 4.4\n",
       "237. 4.4\n",
       "238. 4.4\n",
       "239. 4.4\n",
       "240. 4.4\n",
       "241. 4.6\n",
       "242. 4.6\n",
       "243. 4.6\n",
       "244. 4.6\n",
       "245. 4.6\n",
       "246. 4.8\n",
       "247. 4.8\n",
       "248. 4.8\n",
       "249. 4.8\n",
       "250. 4.8\n",
       "251. 5\n",
       "252. 5\n",
       "253. 5\n",
       "254. 5\n",
       "255. 5\n",
       "\n",
       "\n"
      ],
      "text/plain": [
       "  [1] -5.0 -5.0 -5.0 -5.0 -5.0 -4.8 -4.8 -4.8 -4.8 -4.8 -4.6 -4.6 -4.6 -4.6 -4.6\n",
       " [16] -4.4 -4.4 -4.4 -4.4 -4.4 -4.2 -4.2 -4.2 -4.2 -4.2 -4.0 -4.0 -4.0 -4.0 -4.0\n",
       " [31] -3.8 -3.8 -3.8 -3.8 -3.8 -3.6 -3.6 -3.6 -3.6 -3.6 -3.4 -3.4 -3.4 -3.4 -3.4\n",
       " [46] -3.2 -3.2 -3.2 -3.2 -3.2 -3.0 -3.0 -3.0 -3.0 -3.0 -2.8 -2.8 -2.8 -2.8 -2.8\n",
       " [61] -2.6 -2.6 -2.6 -2.6 -2.6 -2.4 -2.4 -2.4 -2.4 -2.4 -2.2 -2.2 -2.2 -2.2 -2.2\n",
       " [76] -2.0 -2.0 -2.0 -2.0 -2.0 -1.8 -1.8 -1.8 -1.8 -1.8 -1.6 -1.6 -1.6 -1.6 -1.6\n",
       " [91] -1.4 -1.4 -1.4 -1.4 -1.4 -1.2 -1.2 -1.2 -1.2 -1.2 -1.0 -1.0 -1.0 -1.0 -1.0\n",
       "[106] -0.8 -0.8 -0.8 -0.8 -0.8 -0.6 -0.6 -0.6 -0.6 -0.6 -0.4 -0.4 -0.4 -0.4 -0.4\n",
       "[121] -0.2 -0.2 -0.2 -0.2 -0.2  0.0  0.0  0.0  0.0  0.0  0.2  0.2  0.2  0.2  0.2\n",
       "[136]  0.4  0.4  0.4  0.4  0.4  0.6  0.6  0.6  0.6  0.6  0.8  0.8  0.8  0.8  0.8\n",
       "[151]  1.0  1.0  1.0  1.0  1.0  1.2  1.2  1.2  1.2  1.2  1.4  1.4  1.4  1.4  1.4\n",
       "[166]  1.6  1.6  1.6  1.6  1.6  1.8  1.8  1.8  1.8  1.8  2.0  2.0  2.0  2.0  2.0\n",
       "[181]  2.2  2.2  2.2  2.2  2.2  2.4  2.4  2.4  2.4  2.4  2.6  2.6  2.6  2.6  2.6\n",
       "[196]  2.8  2.8  2.8  2.8  2.8  3.0  3.0  3.0  3.0  3.0  3.2  3.2  3.2  3.2  3.2\n",
       "[211]  3.4  3.4  3.4  3.4  3.4  3.6  3.6  3.6  3.6  3.6  3.8  3.8  3.8  3.8  3.8\n",
       "[226]  4.0  4.0  4.0  4.0  4.0  4.2  4.2  4.2  4.2  4.2  4.4  4.4  4.4  4.4  4.4\n",
       "[241]  4.6  4.6  4.6  4.6  4.6  4.8  4.8  4.8  4.8  4.8  5.0  5.0  5.0  5.0  5.0"
      ]
     },
     "metadata": {},
     "output_type": "display_data"
    }
   ],
   "source": [
    "z"
   ]
  },
  {
   "cell_type": "code",
   "execution_count": 83,
   "metadata": {},
   "outputs": [],
   "source": [
    "x = array(1:20, dim = c(4,5))\n",
    "y = matrix(1:20, nrow=4, ncol=5)\n",
    "y.err = matrix(1:20, nrow=5, ncol=5)"
   ]
  },
  {
   "cell_type": "code",
   "execution_count": 86,
   "metadata": {},
   "outputs": [
    {
     "data": {
      "text/html": [
       "<table>\n",
       "<caption>A matrix: 4 × 5 of type int</caption>\n",
       "<tbody>\n",
       "\t<tr><td>1</td><td>5</td><td> 9</td><td>13</td><td>17</td></tr>\n",
       "\t<tr><td>2</td><td>6</td><td>10</td><td>14</td><td>18</td></tr>\n",
       "\t<tr><td>3</td><td>7</td><td>11</td><td>15</td><td>19</td></tr>\n",
       "\t<tr><td>4</td><td>8</td><td>12</td><td>16</td><td>20</td></tr>\n",
       "</tbody>\n",
       "</table>\n"
      ],
      "text/latex": [
       "A matrix: 4 × 5 of type int\n",
       "\\begin{tabular}{lllll}\n",
       "\t 1 & 5 &  9 & 13 & 17\\\\\n",
       "\t 2 & 6 & 10 & 14 & 18\\\\\n",
       "\t 3 & 7 & 11 & 15 & 19\\\\\n",
       "\t 4 & 8 & 12 & 16 & 20\\\\\n",
       "\\end{tabular}\n"
      ],
      "text/markdown": [
       "\n",
       "A matrix: 4 × 5 of type int\n",
       "\n",
       "| 1 | 5 |  9 | 13 | 17 |\n",
       "| 2 | 6 | 10 | 14 | 18 |\n",
       "| 3 | 7 | 11 | 15 | 19 |\n",
       "| 4 | 8 | 12 | 16 | 20 |\n",
       "\n"
      ],
      "text/plain": [
       "     [,1] [,2] [,3] [,4] [,5]\n",
       "[1,] 1    5     9   13   17  \n",
       "[2,] 2    6    10   14   18  \n",
       "[3,] 3    7    11   15   19  \n",
       "[4,] 4    8    12   16   20  "
      ]
     },
     "metadata": {},
     "output_type": "display_data"
    }
   ],
   "source": [
    "x"
   ]
  },
  {
   "cell_type": "code",
   "execution_count": 85,
   "metadata": {},
   "outputs": [
    {
     "data": {
      "text/html": [
       "<table>\n",
       "<caption>A matrix: 4 × 5 of type int</caption>\n",
       "<tbody>\n",
       "\t<tr><td>1</td><td>5</td><td> 9</td><td>13</td><td>17</td></tr>\n",
       "\t<tr><td>2</td><td>6</td><td>10</td><td>14</td><td>18</td></tr>\n",
       "\t<tr><td>3</td><td>7</td><td>11</td><td>15</td><td>19</td></tr>\n",
       "\t<tr><td>4</td><td>8</td><td>12</td><td>16</td><td>20</td></tr>\n",
       "</tbody>\n",
       "</table>\n"
      ],
      "text/latex": [
       "A matrix: 4 × 5 of type int\n",
       "\\begin{tabular}{lllll}\n",
       "\t 1 & 5 &  9 & 13 & 17\\\\\n",
       "\t 2 & 6 & 10 & 14 & 18\\\\\n",
       "\t 3 & 7 & 11 & 15 & 19\\\\\n",
       "\t 4 & 8 & 12 & 16 & 20\\\\\n",
       "\\end{tabular}\n"
      ],
      "text/markdown": [
       "\n",
       "A matrix: 4 × 5 of type int\n",
       "\n",
       "| 1 | 5 |  9 | 13 | 17 |\n",
       "| 2 | 6 | 10 | 14 | 18 |\n",
       "| 3 | 7 | 11 | 15 | 19 |\n",
       "| 4 | 8 | 12 | 16 | 20 |\n",
       "\n"
      ],
      "text/plain": [
       "     [,1] [,2] [,3] [,4] [,5]\n",
       "[1,] 1    5     9   13   17  \n",
       "[2,] 2    6    10   14   18  \n",
       "[3,] 3    7    11   15   19  \n",
       "[4,] 4    8    12   16   20  "
      ]
     },
     "metadata": {},
     "output_type": "display_data"
    }
   ],
   "source": [
    "y"
   ]
  },
  {
   "cell_type": "code",
   "execution_count": 88,
   "metadata": {},
   "outputs": [
    {
     "data": {
      "text/html": [
       "<table>\n",
       "<caption>A matrix: 5 × 5 of type int</caption>\n",
       "<tbody>\n",
       "\t<tr><td>1</td><td> 6</td><td>11</td><td>16</td><td>1</td></tr>\n",
       "\t<tr><td>2</td><td> 7</td><td>12</td><td>17</td><td>2</td></tr>\n",
       "\t<tr><td>3</td><td> 8</td><td>13</td><td>18</td><td>3</td></tr>\n",
       "\t<tr><td>4</td><td> 9</td><td>14</td><td>19</td><td>4</td></tr>\n",
       "\t<tr><td>5</td><td>10</td><td>15</td><td>20</td><td>5</td></tr>\n",
       "</tbody>\n",
       "</table>\n"
      ],
      "text/latex": [
       "A matrix: 5 × 5 of type int\n",
       "\\begin{tabular}{lllll}\n",
       "\t 1 &  6 & 11 & 16 & 1\\\\\n",
       "\t 2 &  7 & 12 & 17 & 2\\\\\n",
       "\t 3 &  8 & 13 & 18 & 3\\\\\n",
       "\t 4 &  9 & 14 & 19 & 4\\\\\n",
       "\t 5 & 10 & 15 & 20 & 5\\\\\n",
       "\\end{tabular}\n"
      ],
      "text/markdown": [
       "\n",
       "A matrix: 5 × 5 of type int\n",
       "\n",
       "| 1 |  6 | 11 | 16 | 1 |\n",
       "| 2 |  7 | 12 | 17 | 2 |\n",
       "| 3 |  8 | 13 | 18 | 3 |\n",
       "| 4 |  9 | 14 | 19 | 4 |\n",
       "| 5 | 10 | 15 | 20 | 5 |\n",
       "\n"
      ],
      "text/plain": [
       "     [,1] [,2] [,3] [,4] [,5]\n",
       "[1,] 1     6   11   16   1   \n",
       "[2,] 2     7   12   17   2   \n",
       "[3,] 3     8   13   18   3   \n",
       "[4,] 4     9   14   19   4   \n",
       "[5,] 5    10   15   20   5   "
      ]
     },
     "metadata": {},
     "output_type": "display_data"
    }
   ],
   "source": [
    "y.err"
   ]
  },
  {
   "cell_type": "code",
   "execution_count": 89,
   "metadata": {},
   "outputs": [],
   "source": [
    "h = 1:24\n",
    "Z = array(h, dim=c(3,4,2)) # dim 몇차원인지"
   ]
  },
  {
   "cell_type": "code",
   "execution_count": 91,
   "metadata": {},
   "outputs": [
    {
     "data": {
      "text/html": [
       "<table>\n",
       "<caption>A matrix: 4 × 5 of type int</caption>\n",
       "<tbody>\n",
       "\t<tr><td>1</td><td>5</td><td> 9</td><td>13</td><td>17</td></tr>\n",
       "\t<tr><td>2</td><td>6</td><td>10</td><td>14</td><td>18</td></tr>\n",
       "\t<tr><td>3</td><td>7</td><td>11</td><td>15</td><td>19</td></tr>\n",
       "\t<tr><td>4</td><td>8</td><td>12</td><td>16</td><td>20</td></tr>\n",
       "</tbody>\n",
       "</table>\n"
      ],
      "text/latex": [
       "A matrix: 4 × 5 of type int\n",
       "\\begin{tabular}{lllll}\n",
       "\t 1 & 5 &  9 & 13 & 17\\\\\n",
       "\t 2 & 6 & 10 & 14 & 18\\\\\n",
       "\t 3 & 7 & 11 & 15 & 19\\\\\n",
       "\t 4 & 8 & 12 & 16 & 20\\\\\n",
       "\\end{tabular}\n"
      ],
      "text/markdown": [
       "\n",
       "A matrix: 4 × 5 of type int\n",
       "\n",
       "| 1 | 5 |  9 | 13 | 17 |\n",
       "| 2 | 6 | 10 | 14 | 18 |\n",
       "| 3 | 7 | 11 | 15 | 19 |\n",
       "| 4 | 8 | 12 | 16 | 20 |\n",
       "\n"
      ],
      "text/plain": [
       "     [,1] [,2] [,3] [,4] [,5]\n",
       "[1,] 1    5     9   13   17  \n",
       "[2,] 2    6    10   14   18  \n",
       "[3,] 3    7    11   15   19  \n",
       "[4,] 4    8    12   16   20  "
      ]
     },
     "metadata": {},
     "output_type": "display_data"
    }
   ],
   "source": [
    "matrix(1:20,4)"
   ]
  },
  {
   "cell_type": "code",
   "execution_count": 92,
   "metadata": {},
   "outputs": [
    {
     "data": {
      "text/html": [
       "13"
      ],
      "text/latex": [
       "13"
      ],
      "text/markdown": [
       "13"
      ],
      "text/plain": [
       "[1] 13"
      ]
     },
     "metadata": {},
     "output_type": "display_data"
    }
   ],
   "source": [
    "Z[1,1,2]"
   ]
  },
  {
   "cell_type": "code",
   "execution_count": 93,
   "metadata": {},
   "outputs": [],
   "source": [
    "x = 1:4\n",
    "y = 11:14"
   ]
  },
  {
   "cell_type": "code",
   "execution_count": 98,
   "metadata": {},
   "outputs": [
    {
     "data": {
      "text/html": [
       "<table>\n",
       "<caption>A matrix: 2 × 4 of type int</caption>\n",
       "<tbody>\n",
       "\t<tr><td>1</td><td>3</td><td>11</td><td>13</td></tr>\n",
       "\t<tr><td>2</td><td>4</td><td>12</td><td>14</td></tr>\n",
       "</tbody>\n",
       "</table>\n"
      ],
      "text/latex": [
       "A matrix: 2 × 4 of type int\n",
       "\\begin{tabular}{llll}\n",
       "\t 1 & 3 & 11 & 13\\\\\n",
       "\t 2 & 4 & 12 & 14\\\\\n",
       "\\end{tabular}\n"
      ],
      "text/markdown": [
       "\n",
       "A matrix: 2 × 4 of type int\n",
       "\n",
       "| 1 | 3 | 11 | 13 |\n",
       "| 2 | 4 | 12 | 14 |\n",
       "\n"
      ],
      "text/plain": [
       "     [,1] [,2] [,3] [,4]\n",
       "[1,] 1    3    11   13  \n",
       "[2,] 2    4    12   14  "
      ]
     },
     "metadata": {},
     "output_type": "display_data"
    }
   ],
   "source": [
    "matrix(c(x,y), nrow=2, ncol=4)"
   ]
  },
  {
   "cell_type": "code",
   "execution_count": 95,
   "metadata": {},
   "outputs": [
    {
     "data": {
      "text/html": [
       "<table>\n",
       "<caption>A matrix: 2 × 4 of type int</caption>\n",
       "<tbody>\n",
       "\t<tr><th scope=row>x</th><td> 1</td><td> 2</td><td> 3</td><td> 4</td></tr>\n",
       "\t<tr><th scope=row>y</th><td>11</td><td>12</td><td>13</td><td>14</td></tr>\n",
       "</tbody>\n",
       "</table>\n"
      ],
      "text/latex": [
       "A matrix: 2 × 4 of type int\n",
       "\\begin{tabular}{r|llll}\n",
       "\tx &  1 &  2 &  3 &  4\\\\\n",
       "\ty & 11 & 12 & 13 & 14\\\\\n",
       "\\end{tabular}\n"
      ],
      "text/markdown": [
       "\n",
       "A matrix: 2 × 4 of type int\n",
       "\n",
       "| x |  1 |  2 |  3 |  4 |\n",
       "| y | 11 | 12 | 13 | 14 |\n",
       "\n"
      ],
      "text/plain": [
       "  [,1] [,2] [,3] [,4]\n",
       "x  1    2    3    4  \n",
       "y 11   12   13   14  "
      ]
     },
     "metadata": {},
     "output_type": "display_data"
    }
   ],
   "source": [
    "rbind(x,y)"
   ]
  },
  {
   "cell_type": "code",
   "execution_count": 96,
   "metadata": {},
   "outputs": [
    {
     "data": {
      "text/html": [
       "<table>\n",
       "<caption>A matrix: 4 × 2 of type int</caption>\n",
       "<thead>\n",
       "\t<tr><th scope=col>x</th><th scope=col>y</th></tr>\n",
       "</thead>\n",
       "<tbody>\n",
       "\t<tr><td>1</td><td>11</td></tr>\n",
       "\t<tr><td>2</td><td>12</td></tr>\n",
       "\t<tr><td>3</td><td>13</td></tr>\n",
       "\t<tr><td>4</td><td>14</td></tr>\n",
       "</tbody>\n",
       "</table>\n"
      ],
      "text/latex": [
       "A matrix: 4 × 2 of type int\n",
       "\\begin{tabular}{ll}\n",
       " x & y\\\\\n",
       "\\hline\n",
       "\t 1 & 11\\\\\n",
       "\t 2 & 12\\\\\n",
       "\t 3 & 13\\\\\n",
       "\t 4 & 14\\\\\n",
       "\\end{tabular}\n"
      ],
      "text/markdown": [
       "\n",
       "A matrix: 4 × 2 of type int\n",
       "\n",
       "| x | y |\n",
       "|---|---|\n",
       "| 1 | 11 |\n",
       "| 2 | 12 |\n",
       "| 3 | 13 |\n",
       "| 4 | 14 |\n",
       "\n"
      ],
      "text/plain": [
       "     x y \n",
       "[1,] 1 11\n",
       "[2,] 2 12\n",
       "[3,] 3 13\n",
       "[4,] 4 14"
      ]
     },
     "metadata": {},
     "output_type": "display_data"
    }
   ],
   "source": [
    "cbind(x,y)"
   ]
  },
  {
   "cell_type": "code",
   "execution_count": 99,
   "metadata": {},
   "outputs": [
    {
     "data": {
      "text/html": [
       "<table>\n",
       "<caption>A matrix: 3 × 3 of type dbl</caption>\n",
       "<tbody>\n",
       "\t<tr><td>0</td><td>0</td><td>0</td></tr>\n",
       "\t<tr><td>0</td><td>0</td><td>0</td></tr>\n",
       "\t<tr><td>0</td><td>0</td><td>0</td></tr>\n",
       "</tbody>\n",
       "</table>\n"
      ],
      "text/latex": [
       "A matrix: 3 × 3 of type dbl\n",
       "\\begin{tabular}{lll}\n",
       "\t 0 & 0 & 0\\\\\n",
       "\t 0 & 0 & 0\\\\\n",
       "\t 0 & 0 & 0\\\\\n",
       "\\end{tabular}\n"
      ],
      "text/markdown": [
       "\n",
       "A matrix: 3 × 3 of type dbl\n",
       "\n",
       "| 0 | 0 | 0 |\n",
       "| 0 | 0 | 0 |\n",
       "| 0 | 0 | 0 |\n",
       "\n"
      ],
      "text/plain": [
       "     [,1] [,2] [,3]\n",
       "[1,] 0    0    0   \n",
       "[2,] 0    0    0   \n",
       "[3,] 0    0    0   "
      ]
     },
     "metadata": {},
     "output_type": "display_data"
    }
   ],
   "source": [
    "M = matrix(0,3,3)\n",
    "M"
   ]
  },
  {
   "cell_type": "code",
   "execution_count": 100,
   "metadata": {},
   "outputs": [
    {
     "data": {
      "text/html": [
       "<table>\n",
       "<caption>A matrix: 3 × 3 of type dbl</caption>\n",
       "<tbody>\n",
       "\t<tr><td>1</td><td>0</td><td>0</td></tr>\n",
       "\t<tr><td>0</td><td>1</td><td>0</td></tr>\n",
       "\t<tr><td>0</td><td>0</td><td>1</td></tr>\n",
       "</tbody>\n",
       "</table>\n"
      ],
      "text/latex": [
       "A matrix: 3 × 3 of type dbl\n",
       "\\begin{tabular}{lll}\n",
       "\t 1 & 0 & 0\\\\\n",
       "\t 0 & 1 & 0\\\\\n",
       "\t 0 & 0 & 1\\\\\n",
       "\\end{tabular}\n"
      ],
      "text/markdown": [
       "\n",
       "A matrix: 3 × 3 of type dbl\n",
       "\n",
       "| 1 | 0 | 0 |\n",
       "| 0 | 1 | 0 |\n",
       "| 0 | 0 | 1 |\n",
       "\n"
      ],
      "text/plain": [
       "     [,1] [,2] [,3]\n",
       "[1,] 1    0    0   \n",
       "[2,] 0    1    0   \n",
       "[3,] 0    0    1   "
      ]
     },
     "metadata": {},
     "output_type": "display_data"
    }
   ],
   "source": [
    "diag(3)"
   ]
  },
  {
   "cell_type": "code",
   "execution_count": 101,
   "metadata": {},
   "outputs": [],
   "source": [
    "A1 = seq(5,100,20)\n",
    "A2 = seq(7,100,20)"
   ]
  },
  {
   "cell_type": "code",
   "execution_count": 104,
   "metadata": {},
   "outputs": [
    {
     "data": {
      "text/html": [
       "<table>\n",
       "<caption>A matrix: 2 × 5 of type dbl</caption>\n",
       "<tbody>\n",
       "\t<tr><th scope=row>A1</th><td>5</td><td>25</td><td>45</td><td>65</td><td>85</td></tr>\n",
       "\t<tr><th scope=row>A2</th><td>7</td><td>27</td><td>47</td><td>67</td><td>87</td></tr>\n",
       "</tbody>\n",
       "</table>\n"
      ],
      "text/latex": [
       "A matrix: 2 × 5 of type dbl\n",
       "\\begin{tabular}{r|lllll}\n",
       "\tA1 & 5 & 25 & 45 & 65 & 85\\\\\n",
       "\tA2 & 7 & 27 & 47 & 67 & 87\\\\\n",
       "\\end{tabular}\n"
      ],
      "text/markdown": [
       "\n",
       "A matrix: 2 × 5 of type dbl\n",
       "\n",
       "| A1 | 5 | 25 | 45 | 65 | 85 |\n",
       "| A2 | 7 | 27 | 47 | 67 | 87 |\n",
       "\n"
      ],
      "text/plain": [
       "   [,1] [,2] [,3] [,4] [,5]\n",
       "A1 5    25   45   65   85  \n",
       "A2 7    27   47   67   87  "
      ]
     },
     "metadata": {},
     "output_type": "display_data"
    }
   ],
   "source": [
    "rbind(A1,A2)"
   ]
  },
  {
   "cell_type": "code",
   "execution_count": 106,
   "metadata": {},
   "outputs": [
    {
     "data": {
      "text/html": [
       "<table>\n",
       "<caption>A matrix: 2 × 10 of type chr</caption>\n",
       "<tbody>\n",
       "\t<tr><th scope=row>A1</th><td>5   </td><td>25  </td><td>45  </td><td>65  </td><td>85  </td><td>5   </td><td>25  </td><td>45  </td><td>65  </td><td>85  </td></tr>\n",
       "\t<tr><th scope=row></th><td>고기</td><td>고기</td><td>고기</td><td>고기</td><td>고기</td><td>고기</td><td>고기</td><td>고기</td><td>고기</td><td>고기</td></tr>\n",
       "</tbody>\n",
       "</table>\n"
      ],
      "text/latex": [
       "A matrix: 2 × 10 of type chr\n",
       "\\begin{tabular}{r|llllllllll}\n",
       "\tA1 & 5    & 25   & 45   & 65   & 85   & 5    & 25   & 45   & 65   & 85  \\\\\n",
       "\t & 고기 & 고기 & 고기 & 고기 & 고기 & 고기 & 고기 & 고기 & 고기 & 고기\\\\\n",
       "\\end{tabular}\n"
      ],
      "text/markdown": [
       "\n",
       "A matrix: 2 × 10 of type chr\n",
       "\n",
       "| A1 | 5    | 25   | 45   | 65   | 85   | 5    | 25   | 45   | 65   | 85   |\n",
       "| <!----> | 고기 | 고기 | 고기 | 고기 | 고기 | 고기 | 고기 | 고기 | 고기 | 고기 |\n",
       "\n"
      ],
      "text/plain": [
       "   [,1] [,2] [,3] [,4] [,5] [,6] [,7] [,8] [,9] [,10]\n",
       "A1 5    25   45   65   85   5    25   45   65   85   \n",
       "   고기 고기 고기 고기 고기 고기 고기 고기 고기 고기 "
      ]
     },
     "metadata": {},
     "output_type": "display_data"
    },
    {
     "data": {
      "text/html": [
       "<table>\n",
       "<caption>A data.frame: 10 × 2</caption>\n",
       "<thead>\n",
       "\t<tr><th scope=col>A1</th><th scope=col>menu</th></tr>\n",
       "\t<tr><th scope=col>&lt;dbl&gt;</th><th scope=col>&lt;fct&gt;</th></tr>\n",
       "</thead>\n",
       "<tbody>\n",
       "\t<tr><td> 5</td><td>고기</td></tr>\n",
       "\t<tr><td>25</td><td>고기</td></tr>\n",
       "\t<tr><td>45</td><td>고기</td></tr>\n",
       "\t<tr><td>65</td><td>고기</td></tr>\n",
       "\t<tr><td>85</td><td>고기</td></tr>\n",
       "\t<tr><td> 5</td><td>고기</td></tr>\n",
       "\t<tr><td>25</td><td>고기</td></tr>\n",
       "\t<tr><td>45</td><td>고기</td></tr>\n",
       "\t<tr><td>65</td><td>고기</td></tr>\n",
       "\t<tr><td>85</td><td>고기</td></tr>\n",
       "</tbody>\n",
       "</table>\n"
      ],
      "text/latex": [
       "A data.frame: 10 × 2\n",
       "\\begin{tabular}{ll}\n",
       " A1 & menu\\\\\n",
       " <dbl> & <fct>\\\\\n",
       "\\hline\n",
       "\t  5 & 고기\\\\\n",
       "\t 25 & 고기\\\\\n",
       "\t 45 & 고기\\\\\n",
       "\t 65 & 고기\\\\\n",
       "\t 85 & 고기\\\\\n",
       "\t  5 & 고기\\\\\n",
       "\t 25 & 고기\\\\\n",
       "\t 45 & 고기\\\\\n",
       "\t 65 & 고기\\\\\n",
       "\t 85 & 고기\\\\\n",
       "\\end{tabular}\n"
      ],
      "text/markdown": [
       "\n",
       "A data.frame: 10 × 2\n",
       "\n",
       "| A1 &lt;dbl&gt; | menu &lt;fct&gt; |\n",
       "|---|---|\n",
       "|  5 | 고기 |\n",
       "| 25 | 고기 |\n",
       "| 45 | 고기 |\n",
       "| 65 | 고기 |\n",
       "| 85 | 고기 |\n",
       "|  5 | 고기 |\n",
       "| 25 | 고기 |\n",
       "| 45 | 고기 |\n",
       "| 65 | 고기 |\n",
       "| 85 | 고기 |\n",
       "\n"
      ],
      "text/plain": [
       "   A1 menu\n",
       "1   5 고기\n",
       "2  25 고기\n",
       "3  45 고기\n",
       "4  65 고기\n",
       "5  85 고기\n",
       "6   5 고기\n",
       "7  25 고기\n",
       "8  45 고기\n",
       "9  65 고기\n",
       "10 85 고기"
      ]
     },
     "metadata": {},
     "output_type": "display_data"
    }
   ],
   "source": [
    "rbind(A1,rep(\"고기\",10))\n",
    "data.frame(A1, menu=rep(\"고기\",10))"
   ]
  },
  {
   "cell_type": "code",
   "execution_count": null,
   "metadata": {},
   "outputs": [],
   "source": []
  }
 ],
 "metadata": {
  "kernelspec": {
   "display_name": "R",
   "language": "R",
   "name": "ir"
  },
  "language_info": {
   "codemirror_mode": "r",
   "file_extension": ".r",
   "mimetype": "text/x-r-source",
   "name": "R",
   "pygments_lexer": "r",
   "version": "3.6.1"
  }
 },
 "nbformat": 4,
 "nbformat_minor": 4
}
