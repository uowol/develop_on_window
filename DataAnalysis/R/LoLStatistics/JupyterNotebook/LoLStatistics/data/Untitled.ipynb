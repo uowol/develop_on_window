{
 "cells": [
  {
   "cell_type": "code",
   "execution_count": 1,
   "metadata": {},
   "outputs": [],
   "source": [
    "### setup\n",
    "library(RCurl) # = getForm()\n",
    "library(jsonlite)\n",
    "\n",
    "\n",
    "### functions\n",
    "LOG = function(txt){\n",
    "    write(txt, file=\"log.txt\")\n",
    "}\n",
    "cData.get = function(key){\n",
    "    return(cData$data[which(names(cData.keys) == key)])\n",
    "}\n",
    "top = function(arr, n=5){\n",
    "    return(sort(arr, decreasing=T)[1:n])\n",
    "}\n",
    "from = function(file){\n",
    "    return(fromJSON(paste0(tier, index, '/', file)))\n",
    "}\n",
    "\n",
    "\n",
    "### read assets\n",
    "cData = fromJSON('championsData.json')\n",
    "iData = fromJSON('itemsData.json')\n",
    "rData = fromJSON('runesDataPatched.json')\n",
    "## iData.items\n",
    "iData.items = iData$data\n",
    "## cData.keys to name\n",
    "cData.keys = c()\n",
    "for(champ in cData$data){\n",
    "    cData.keys[champ$key] = champ$name\n",
    "}\n",
    "cData.names = c()\n",
    "for(champ in cData$data){\n",
    "    cData.names[champ$name] = champ$key\n",
    "}\n"
   ]
  },
  {
   "cell_type": "code",
   "execution_count": 2,
   "metadata": {},
   "outputs": [],
   "source": [
    "tier = \"CHALLENGER/\""
   ]
  },
  {
   "cell_type": "code",
   "execution_count": 5,
   "metadata": {},
   "outputs": [],
   "source": [
    "index = 1\n",
    "\n",
    "teamData = list()\n",
    "enemyData = list()\n",
    "teamSynerge = c()\n",
    "is.exist = c()\n",
    "\n",
    "summoner = from(\"summoner.json\")\n",
    "matchList = from('matchList.json')\n",
    "#     stats = from('match_participants_stats.json')\n",
    "participants = from('match_participants.json')\n",
    "participantsInfo = from('match_participants_info.json')\n",
    "#     match = from(\"match.json\")\n",
    "\n",
    "champion = matchList$champion    \n",
    "data = lapply(participants, function(x){\n",
    "    unlist(x$championId)\n",
    "})\n",
    "names = sapply(participantsInfo, function(x){\n",
    "    sapply(x, function(y){\n",
    "        y$summonerName\n",
    "    })\n",
    "})\n",
    "name = summoner$name\n",
    "\n"
   ]
  },
  {
   "cell_type": "code",
   "execution_count": 8,
   "metadata": {},
   "outputs": [],
   "source": [
    "i = 1"
   ]
  },
  {
   "cell_type": "code",
   "execution_count": 12,
   "metadata": {},
   "outputs": [
    {
     "data": {
      "text/html": [
       "<style>\n",
       ".list-inline {list-style: none; margin:0; padding: 0}\n",
       ".list-inline>li {display: inline-block}\n",
       ".list-inline>li:not(:last-child)::after {content: \"\\00b7\"; padding: 0 .5ex}\n",
       "</style>\n",
       "<ol class=list-inline><li>'57,142,235,266,421'</li><li>'7,26,203,523,875'</li></ol>\n"
      ],
      "text/latex": [
       "\\begin{enumerate*}\n",
       "\\item '57,142,235,266,421'\n",
       "\\item '7,26,203,523,875'\n",
       "\\end{enumerate*}\n"
      ],
      "text/markdown": [
       "1. '57,142,235,266,421'\n",
       "2. '7,26,203,523,875'\n",
       "\n",
       "\n"
      ],
      "text/plain": [
       "[1] \"57,142,235,266,421\" \"7,26,203,523,875\"  "
      ]
     },
     "metadata": {},
     "output_type": "display_data"
    }
   ],
   "source": [
    "game = data[[i]]\n",
    "\n",
    "synerge = paste(sort(game[1:5]), collapse=\",\")\n",
    "teamSynerge = c(teamSynerge, synerge)\n",
    "synerge = paste(sort(game[6:10]), collapse=\",\")\n",
    "teamSynerge = c(teamSynerge, synerge)\n",
    "\n",
    "teamSynerge"
   ]
  },
  {
   "cell_type": "code",
   "execution_count": 16,
   "metadata": {},
   "outputs": [
    {
     "data": {
      "text/html": [
       "<style>\n",
       ".list-inline {list-style: none; margin:0; padding: 0}\n",
       ".list-inline>li {display: inline-block}\n",
       ".list-inline>li:not(:last-child)::after {content: \"\\00b7\"; padding: 0 .5ex}\n",
       "</style>\n",
       "<ol class=list-inline><li>'취향특이한도구'</li><li>'werewrqd'</li><li>'Gen G Rascal'</li><li>'SANDBOX GorillA'</li><li>'SANDBOX OnFleek'</li><li>'zzzhyngh'</li><li>'zhonguoren'</li><li>'칸 나'</li><li>'Youtube Thal'</li><li>'deokdam'</li></ol>\n"
      ],
      "text/latex": [
       "\\begin{enumerate*}\n",
       "\\item '취향특이한도구'\n",
       "\\item 'werewrqd'\n",
       "\\item 'Gen G Rascal'\n",
       "\\item 'SANDBOX GorillA'\n",
       "\\item 'SANDBOX OnFleek'\n",
       "\\item 'zzzhyngh'\n",
       "\\item 'zhonguoren'\n",
       "\\item '칸 나'\n",
       "\\item 'Youtube Thal'\n",
       "\\item 'deokdam'\n",
       "\\end{enumerate*}\n"
      ],
      "text/markdown": [
       "1. '취향특이한도구'\n",
       "2. 'werewrqd'\n",
       "3. 'Gen G Rascal'\n",
       "4. 'SANDBOX GorillA'\n",
       "5. 'SANDBOX OnFleek'\n",
       "6. 'zzzhyngh'\n",
       "7. 'zhonguoren'\n",
       "8. '칸 나'\n",
       "9. 'Youtube Thal'\n",
       "10. 'deokdam'\n",
       "\n",
       "\n"
      ],
      "text/plain": [
       " [1] \"취향특이한도구\"  \"werewrqd\"        \"Gen G Rascal\"    \"SANDBOX GorillA\"\n",
       " [5] \"SANDBOX OnFleek\" \"zzzhyngh\"        \"zhonguoren\"      \"칸 나\"          \n",
       " [9] \"Youtube Thal\"    \"deokdam\"        "
      ]
     },
     "metadata": {},
     "output_type": "display_data"
    },
    {
     "data": {
      "text/html": [
       "9"
      ],
      "text/latex": [
       "9"
      ],
      "text/markdown": [
       "9"
      ],
      "text/plain": [
       "[1] 9"
      ]
     },
     "metadata": {},
     "output_type": "display_data"
    }
   ],
   "source": [
    "names[,i]\n",
    "index = which(names[,i] == name)\n",
    "index"
   ]
  },
  {
   "cell_type": "code",
   "execution_count": 33,
   "metadata": {},
   "outputs": [
    {
     "data": {
      "text/html": [
       "1"
      ],
      "text/latex": [
       "1"
      ],
      "text/markdown": [
       "1"
      ],
      "text/plain": [
       "[1] 1"
      ]
     },
     "metadata": {},
     "output_type": "display_data"
    }
   ],
   "source": [
    "1"
   ]
  },
  {
   "cell_type": "code",
   "execution_count": 27,
   "metadata": {},
   "outputs": [],
   "source": [
    "# teamData = list()\n",
    "# enemyData = list()\n",
    "# teamSynerge = c()\n",
    "# is.exist = c()\n",
    "\n",
    "tier = \"GOLD/\"\n",
    "\n",
    "for(index in 1:200){\n",
    "    summoner = from(\"summoner.json\")\n",
    "    matchList = from('matchList.json')\n",
    "#     stats = from('match_participants_stats.json')\n",
    "    participants = from('match_participants.json')\n",
    "    participantsInfo = from('match_participants_info.json')\n",
    "#     match = from(\"match.json\")\n",
    "\n",
    "    champion = matchList$champion    \n",
    "    data = lapply(participants, function(x){\n",
    "        unlist(x$championId)\n",
    "    })\n",
    "    names = sapply(participantsInfo, function(x){\n",
    "        sapply(x, function(y){\n",
    "            y$summonerName\n",
    "        })\n",
    "    })\n",
    "    name = summoner$name\n",
    "\n",
    "    for(i in 1:length(champion)){\n",
    "        game = data[[i]]\n",
    "        synerge = paste(sort(game[1:5]), collapse=\",\")\n",
    "        teamSynerge = c(teamSynerge, synerge)\n",
    "        synerge = paste(sort(game[6:10]), collapse=\",\")\n",
    "        teamSynerge = c(teamSynerge, synerge)\n",
    "\n",
    "        champ = as.character(champion[i])\n",
    "        index = which(names[,i] == name)\n",
    "        if(length(index) == 0) next\n",
    "        \n",
    "        if(index > 5){\n",
    "            team = 2\n",
    "            if(champ %in% is.exist){\n",
    "                enemyData[[champ]] = c(enemyData[[champ]], game[1:5])\n",
    "                teamData[[champ]] = c(teamData[[champ]], game[6:10][-(index-5)])\n",
    "            }else{\n",
    "                is.exist = c(is.exist, champ)\n",
    "                enemyData[[champ]] = game[1:5]\n",
    "                teamData[[champ]] = game[6:10][-(index-5)]\n",
    "            }\n",
    "        }else{\n",
    "            team = 1\n",
    "            if(champ %in% is.exist){\n",
    "                enemyData[[champ]] = c(enemyData[[champ]], game[6:10])\n",
    "                teamData[[champ]] = c(teamData[[champ]], game[1:5][-index])\n",
    "            }else{\n",
    "                is.exist = c(is.exist, champ)\n",
    "                enemyData[[champ]] = game[6:10]\n",
    "                teamData[[champ]] = game[1:5][-index]\n",
    "            }\n",
    "        }\n",
    "    }\n",
    "}"
   ]
  },
  {
   "cell_type": "code",
   "execution_count": 34,
   "metadata": {},
   "outputs": [
    {
     "data": {
      "text/plain": [
       "teamSynerge\n",
       "     2,7,21,39,111    3,57,58,145,517    3,57,59,126,235   48,76,80,134,236 \n",
       "                10                 10                 10                 10 \n",
       "60,236,266,523,875  68,78,110,126,875 \n",
       "                10                 10 "
      ]
     },
     "metadata": {},
     "output_type": "display_data"
    }
   ],
   "source": [
    "head(sort(table(teamSynerge),decreasing=T))"
   ]
  },
  {
   "cell_type": "code",
   "execution_count": 41,
   "metadata": {},
   "outputs": [
    {
     "data": {
      "text/html": [
       "16000"
      ],
      "text/latex": [
       "16000"
      ],
      "text/markdown": [
       "16000"
      ],
      "text/plain": [
       "[1] 16000"
      ]
     },
     "metadata": {},
     "output_type": "display_data"
    }
   ],
   "source": [
    "sum = 0\n",
    "sum(sapply(teamSynerge, function(sum) sum(table(sum))))"
   ]
  },
  {
   "cell_type": "code",
   "execution_count": 36,
   "metadata": {},
   "outputs": [
    {
     "data": {
      "text/plain": [
       "$`26`\n",
       "rank\n",
       "523 110 266 875  33  81  84 131   2  21  38  51  57  59  62  64  91 141 202 236 \n",
       "  6   5   5   5   4   4   4   4   3   3   3   3   3   3   3   3   3   3   3   3 \n",
       "245   3   7  17  22  28  39  45  54  60  74  80  86 104 115 350 412 421 498   8 \n",
       "  3   2   2   2   2   2   2   2   2   2   2   2   2   2   2   2   2   2   2   1 \n",
       " 11  16  18  20  35  37  41  42  48  53  56  58  61  68  76  78  82  90  99 102 \n",
       "  1   1   1   1   1   1   1   1   1   1   1   1   1   1   1   1   1   1   1   1 \n",
       "105 114 117 122 126 127 134 142 145 164 201 203 223 238 254 429 432 516 517 \n",
       "  1   1   1   1   1   1   1   1   1   1   1   1   1   1   1   1   1   1   1 \n",
       "\n",
       "$`82`\n",
       "rank\n",
       "523  81 412 875 104 236  60  64 350 432 517  22  25  48  91 145 555   7  21  59 \n",
       " 17  12  12  10   9   9   7   7   7   7   6   5   5   5   5   5   5   4   4   4 \n",
       "103 154 203 429   4   8  26  35  42  55  57  69  84  89  99 157 235 245   1   3 \n",
       "  4   4   4   4   3   3   3   3   3   3   3   3   3   3   3   3   3   3   2   2 \n",
       " 18  28  43  44  53  61  62  67  80 110 111 126 131 134 141 223 254 266 421   2 \n",
       "  2   2   2   2   2   2   2   2   2   2   2   2   2   2   2   2   2   2   2   1 \n",
       "  5   6  11  12  14  16  20  27  29  33  34  39  40  50  51  54  56  58  68  76 \n",
       "  1   1   1   1   1   1   1   1   1   1   1   1   1   1   1   1   1   1   1   1 \n",
       " 78 101 105 107 117 127 142 202 222 238 246 267 427 497 \n",
       "  1   1   1   1   1   1   1   1   1   1   1   1   1   1 \n",
       "\n",
       "$`83`\n",
       "rank\n",
       " 81 163 875  17  48  53  60 126 142 145 154 157 235 245 246 429 432 \n",
       "  2   2   2   1   1   1   1   1   1   1   1   1   1   1   1   1   1 \n",
       "\n",
       "$`245`\n",
       "rank\n",
       "875 412  81  21 523 266 110 126 236 432  58 111 555 145 235 429  24  39  64  86 \n",
       " 24  20  18  17  17  15  13  13  11  11  10  10  10   9   9   9   8   7   7   7 \n",
       "238  57  78 142   8  56  89 104 203 350 498 517   7  12  18  22  40  44  67  80 \n",
       "  7   6   6   6   5   5   5   5   5   5   5   5   4   4   4   4   4   4   4   4 \n",
       " 91 134 222 246   4  23  41  51  53  54  55  61  62  79  85  98  99 107 114 120 \n",
       "  4   4   4   4   3   3   3   3   3   3   3   3   3   3   3   3   3   3   3   3 \n",
       "122   2   3   6  13  16  26  30  34  43  50  74  82  84 157 163 268 421 516   9 \n",
       "  3   2   2   2   2   2   2   2   2   2   2   2   2   2   2   2   2   2   2   1 \n",
       " 10  15  17  25  35  38  48  59  60  75  76  77  83  92 101 103 105 117 119 127 \n",
       "  1   1   1   1   1   1   1   1   1   1   1   1   1   1   1   1   1   1   1   1 \n",
       "131 133 136 161 202 223 240 420 427 497 \n",
       "  1   1   1   1   1   1   1   1   1   1 \n",
       "\n",
       "$`48`\n",
       "rank\n",
       "523  81 432  21 134 145 875  68 350 110 126 266 412  25  51  53 142 236   3  17 \n",
       " 10   9   9   8   8   8   8   7   7   6   6   6   6   5   5   5   5   5   4   4 \n",
       " 43  69 111 235 268 429 517   7  39  57  61  62  67  74  80  82  84  85 122 201 \n",
       "  4   4   4   4   4   4   4   3   3   3   3   3   3   3   3   3   3   3   3   3 \n",
       "223   1   4   8  24  38  58  76  79  98 105 120 131 150 164   2  10  11  12  22 \n",
       "  3   2   2   2   2   2   2   2   2   2   2   2   2   2   2   1   1   1   1   1 \n",
       " 26  29  40  41  42  55  64  78  86  89  92  99 104 107 121 127 136 143 154 157 \n",
       "  1   1   1   1   1   1   1   1   1   1   1   1   1   1   1   1   1   1   1   1 \n",
       "163 202 203 222 240 245 420 497 498 555 \n",
       "  1   1   1   1   1   1   1   1   1   1 \n",
       "\n",
       "$`517`\n",
       "rank\n",
       " 81 145  21  64 875 432 110 412 429 523  53  91 126 266 104  39  44 157 236  78 \n",
       " 31  25  24  24  21  20  19  19  17  16  13  13  13  13  12  11  11  11  11  10 \n",
       "235 350 421  22  25  57  62   2  59  99 111 122 555  48  80  86 245   3  41  43 \n",
       " 10  10  10   9   9   9   9   8   8   8   8   8   8   7   7   7   7   6   6   6 \n",
       " 54  67  82 142 238 246 516  11  16  35  51  58  84 117 141  12  18  26  89 107 \n",
       "  6   6   6   6   6   6   6   5   5   5   5   5   5   5   5   4   4   4   4   4 \n",
       "154 223 497   7  20  24  32  40  60  75  76  98 103 114 119 134 201 202 222 240 \n",
       "  4   4   4   3   3   3   3   3   3   3   3   3   3   3   3   3   3   3   3   3 \n",
       "268 498   6   9  13  23  27  29  37  42  50  55  56  61  68  69  74  79  85 127 \n",
       "  3   3   2   2   2   2   2   2   2   2   2   2   2   2   2   2   2   2   2   2 \n",
       "150 161 164 203 254 420   5  14  17  31  34  38  45  90  92  96 101 102 106 113 \n",
       "  2   2   2   2   2   2   1   1   1   1   1   1   1   1   1   1   1   1   1   1 \n",
       "115 121 133 267 518 \n",
       "  1   1   1   1   1 \n"
      ]
     },
     "metadata": {},
     "output_type": "display_data"
    }
   ],
   "source": [
    "head(lapply(teamData, function(rank) sort(table(rank), decreasing=T)))"
   ]
  },
  {
   "cell_type": "code",
   "execution_count": 37,
   "metadata": {},
   "outputs": [],
   "source": [
    "write(toJSON(teamSynerge), file=\"team_synerge.json\")"
   ]
  },
  {
   "cell_type": "code",
   "execution_count": 38,
   "metadata": {},
   "outputs": [],
   "source": [
    "write(toJSON(teamData), file=\"team_data.json\")\n",
    "write(toJSON(enemyData), file=\"enemy_data.json\")"
   ]
  },
  {
   "cell_type": "code",
   "execution_count": 3,
   "metadata": {},
   "outputs": [],
   "source": [
    "data.main = c()\n",
    "for(index in 1:30){\n",
    "    summoner = from(\"summoner.json\")\n",
    "    matchList = from('matchList.json')\n",
    "    stats = from('match_participants_stats.json')\n",
    "    participants = from('match_participants.json')\n",
    "    match = from(\"match.json\")\n",
    "\n",
    "    champion = matchList$champion\n",
    "    duration = unlist(match$gameDuration)\n",
    "    role = data.frame(role = matchList$role, stringsAsFactors = F)\n",
    "    lane = data.frame(lane = matchList$lane, stringsAsFactors = F)\n",
    "\n",
    "    data = cbind(role, lane, champion, duration) #🥰\n",
    "\n",
    "    sIndex = unlist(sapply(participants, function(x) which(x$championId == champion[parent.frame()$i])))\n",
    "\n",
    "    result = sapply(stats, function(games){\n",
    "        c(\n",
    "            win = games[[sIndex[parent.frame()$i]]]$win,\n",
    "            kill = games[[sIndex[parent.frame()$i]]]$kills,\n",
    "            death = games[[sIndex[parent.frame()$i]]]$deaths,\n",
    "            assist = games[[sIndex[parent.frame()$i]]]$assists,\n",
    "            cs = games[[sIndex[parent.frame()$i]]]$totalMinionsKilled,\n",
    "            boughtWards = games[[sIndex[parent.frame()$i]]]$visionWardsBoughtInGame,\n",
    "    #         games[[sIndex[parent.frame()$i]]]$sightWardsBoughtInGame\n",
    "            wardsPlaced = games[[sIndex[parent.frame()$i]]]$wardsPlaced,\n",
    "            wardsKilled = games[[sIndex[parent.frame()$i]]]$wardsKilled,\n",
    "            visionScore = games[[sIndex[parent.frame()$i]]]$visionScore,\n",
    "            perkMainStyle = games[[sIndex[parent.frame()$i]]]$perkPrimaryStyle,\n",
    "            perkSubStyle = games[[sIndex[parent.frame()$i]]]$perkSubStyle,\n",
    "            perk0 = games[[sIndex[parent.frame()$i]]]$perk0,\n",
    "            perk1 = games[[sIndex[parent.frame()$i]]]$perk1,\n",
    "            perk2 = games[[sIndex[parent.frame()$i]]]$perk2,\n",
    "            perk3 = games[[sIndex[parent.frame()$i]]]$perk3,\n",
    "            perk4 = games[[sIndex[parent.frame()$i]]]$perk4,\n",
    "            perk5 = games[[sIndex[parent.frame()$i]]]$perk5,\n",
    "            item0 = games[[sIndex[parent.frame()$i]]]$item0,\n",
    "            item1 = games[[sIndex[parent.frame()$i]]]$item1,\n",
    "            item2 = games[[sIndex[parent.frame()$i]]]$item2,\n",
    "            item3 = games[[sIndex[parent.frame()$i]]]$item3,\n",
    "            item4 = games[[sIndex[parent.frame()$i]]]$item4,\n",
    "            item5 = games[[sIndex[parent.frame()$i]]]$item5,\n",
    "            item6 = games[[sIndex[parent.frame()$i]]]$item6\n",
    "        )\n",
    "    })\n",
    "\n",
    "    data = cbind(data, data.frame(t(result)))\n",
    "    data.main = rbind(data.main, data)\n",
    "}"
   ]
  },
  {
   "cell_type": "code",
   "execution_count": 4,
   "metadata": {},
   "outputs": [
    {
     "name": "stdout",
     "output_type": "stream",
     "text": [
      "'data.frame':\t300 obs. of  28 variables:\n",
      " $ role         : chr  \"SOLO\" \"DUO_SUPPORT\" \"SOLO\" \"NONE\" ...\n",
      " $ lane         : chr  \"TOP\" \"NONE\" \"TOP\" \"JUNGLE\" ...\n",
      " $ champion     : int  26 82 83 245 48 517 126 236 83 122 ...\n",
      " $ duration     : int  1583 1172 1517 2278 1861 2237 1579 1860 2500 946 ...\n",
      " $ win          : int  1 1 1 1 1 0 1 1 0 0 ...\n",
      " $ kill         : int  5 0 1 8 5 7 8 5 7 2 ...\n",
      " $ death        : int  1 4 1 5 1 5 2 4 2 4 ...\n",
      " $ assist       : int  20 5 2 14 5 9 10 10 2 2 ...\n",
      " $ cs           : int  129 107 185 52 219 212 158 206 332 110 ...\n",
      " $ boughtWards  : int  4 3 4 11 3 8 4 6 8 0 ...\n",
      " $ wardsPlaced  : int  13 8 11 13 13 13 12 13 13 5 ...\n",
      " $ wardsKilled  : int  4 1 5 8 11 8 4 4 13 1 ...\n",
      " $ visionScore  : int  21 14 22 33 39 27 29 33 56 7 ...\n",
      " $ perkMainStyle: int  8300 8000 8000 8100 8000 8000 8200 8000 8000 8000 ...\n",
      " $ perkSubStyle : int  8200 8400 8400 8300 8400 8200 8300 8200 8400 8200 ...\n",
      " $ perk0        : int  8351 8010 8010 8128 8010 8010 8230 8005 8010 8010 ...\n",
      " $ perk1        : int  8304 9111 9101 8143 8009 8009 8226 8009 9101 9111 ...\n",
      " $ perk2        : int  8345 9105 9103 8138 9105 9105 8210 9104 9105 9105 ...\n",
      " $ perk3        : int  8347 8299 8299 8135 8299 8299 8236 8014 8014 8299 ...\n",
      " $ perk4        : int  8226 8473 8446 8304 8446 8226 8345 8226 8444 8210 ...\n",
      " $ perk5        : int  8210 8451 8444 8347 8473 8210 8304 8210 8446 8275 ...\n",
      " $ item0        : int  3030 3076 3123 3152 1054 3152 3142 3153 3143 1054 ...\n",
      " $ item1        : int  1056 3047 3078 3157 2420 3157 3814 3155 3193 3078 ...\n",
      " $ item2        : int  3905 1052 3111 3047 3074 3285 3071 3006 3047 1029 ...\n",
      " $ item3        : int  0 0 2055 0 3110 0 0 2055 3078 3111 ...\n",
      " $ item4        : int  3916 1054 3053 1402 3065 3165 3123 3071 3053 0 ...\n",
      " $ item5        : int  3047 3067 1057 3165 3111 3111 3047 3508 3812 0 ...\n",
      " $ item6        : int  3340 3340 3340 3364 3340 3364 3340 3363 3364 3340 ...\n"
     ]
    }
   ],
   "source": [
    "str(data.main)"
   ]
  },
  {
   "cell_type": "code",
   "execution_count": 430,
   "metadata": {},
   "outputs": [
    {
     "data": {
      "text/html": [
       "8"
      ],
      "text/latex": [
       "8"
      ],
      "text/markdown": [
       "8"
      ],
      "text/plain": [
       "[1] 8"
      ]
     },
     "metadata": {},
     "output_type": "display_data"
    }
   ],
   "source": [
    "# 경기시간이 20분 미만인 것은 삭제 => 라인 결정(NONE삭제), 역할 결정(SUPPORT, CARRY)  \n",
    "data.f1 = data.main[data.main$duration>=1200,]\n",
    "if(any(data.f1$role == \"DUO_SUPPORT\")) data.f1[data.f1$role == \"DUO_SUPPORT\",]$lane = \"SUPPORT\"\n",
    "nrow(data.f1) # filter1 = 경기시간 > 20분"
   ]
  },
  {
   "cell_type": "raw",
   "metadata": {},
   "source": [
    "# 위 데이터로 할 수 있는 것들\n",
    "1. 챔피언 사용 비율\n",
    "2. 챔피언별 룬 세팅 비율\n",
    "3. 이겼을 때 졌을 때 각 통계치 대조비교\n",
    "4. 챔피언 별 상세히 볼 수 있음"
   ]
  },
  {
   "cell_type": "code",
   "execution_count": 431,
   "metadata": {},
   "outputs": [
    {
     "data": {
      "text/plain": [
       "      요릭     질리언     트런들 모데카이저   다리우스     제이스     루시안 \n",
       "         2          1          1          1          1          1          1 \n",
       "      에코   사일러스 \n",
       "         1          1 "
      ]
     },
     "metadata": {},
     "output_type": "display_data"
    }
   ],
   "source": [
    "# 인기있는 챔피언\n",
    "인기있는챔피언 = sort(table(data.main$champion), decreasing=T)\n",
    "names(인기있는챔피언) = cData.keys[as.character(names(sort(table(data.main$champion), decreasing=T)))]\n",
    "\n",
    "head(인기있는챔피언, n=20)"
   ]
  },
  {
   "cell_type": "code",
   "execution_count": 433,
   "metadata": {},
   "outputs": [
    {
     "data": {
      "text/html": [
       "<table>\n",
       "<caption>A data.frame: 1 × 28</caption>\n",
       "<thead>\n",
       "\t<tr><th></th><th scope=col>role</th><th scope=col>lane</th><th scope=col>champion</th><th scope=col>duration</th><th scope=col>win</th><th scope=col>kill</th><th scope=col>death</th><th scope=col>assist</th><th scope=col>cs</th><th scope=col>boughtWards</th><th scope=col>⋯</th><th scope=col>perk3</th><th scope=col>perk4</th><th scope=col>perk5</th><th scope=col>item0</th><th scope=col>item1</th><th scope=col>item2</th><th scope=col>item3</th><th scope=col>item4</th><th scope=col>item5</th><th scope=col>item6</th></tr>\n",
       "\t<tr><th></th><th scope=col>&lt;chr&gt;</th><th scope=col>&lt;chr&gt;</th><th scope=col>&lt;int&gt;</th><th scope=col>&lt;int&gt;</th><th scope=col>&lt;int&gt;</th><th scope=col>&lt;int&gt;</th><th scope=col>&lt;int&gt;</th><th scope=col>&lt;int&gt;</th><th scope=col>&lt;int&gt;</th><th scope=col>&lt;int&gt;</th><th scope=col>⋯</th><th scope=col>&lt;int&gt;</th><th scope=col>&lt;int&gt;</th><th scope=col>&lt;int&gt;</th><th scope=col>&lt;int&gt;</th><th scope=col>&lt;int&gt;</th><th scope=col>&lt;int&gt;</th><th scope=col>&lt;int&gt;</th><th scope=col>&lt;int&gt;</th><th scope=col>&lt;int&gt;</th><th scope=col>&lt;int&gt;</th></tr>\n",
       "</thead>\n",
       "<tbody>\n",
       "\t<tr><th scope=row>4</th><td>NONE</td><td>JUNGLE</td><td>245</td><td>2278</td><td>1</td><td>8</td><td>5</td><td>14</td><td>52</td><td>11</td><td>⋯</td><td>8135</td><td>8304</td><td>8347</td><td>3152</td><td>3157</td><td>3047</td><td>0</td><td>1402</td><td>3165</td><td>3364</td></tr>\n",
       "</tbody>\n",
       "</table>\n"
      ],
      "text/latex": [
       "A data.frame: 1 × 28\n",
       "\\begin{tabular}{r|lllllllllllllllllllll}\n",
       "  & role & lane & champion & duration & win & kill & death & assist & cs & boughtWards & ⋯ & perk3 & perk4 & perk5 & item0 & item1 & item2 & item3 & item4 & item5 & item6\\\\\n",
       "  & <chr> & <chr> & <int> & <int> & <int> & <int> & <int> & <int> & <int> & <int> & ⋯ & <int> & <int> & <int> & <int> & <int> & <int> & <int> & <int> & <int> & <int>\\\\\n",
       "\\hline\n",
       "\t4 & NONE & JUNGLE & 245 & 2278 & 1 & 8 & 5 & 14 & 52 & 11 & ⋯ & 8135 & 8304 & 8347 & 3152 & 3157 & 3047 & 0 & 1402 & 3165 & 3364\\\\\n",
       "\\end{tabular}\n"
      ],
      "text/markdown": [
       "\n",
       "A data.frame: 1 × 28\n",
       "\n",
       "| <!--/--> | role &lt;chr&gt; | lane &lt;chr&gt; | champion &lt;int&gt; | duration &lt;int&gt; | win &lt;int&gt; | kill &lt;int&gt; | death &lt;int&gt; | assist &lt;int&gt; | cs &lt;int&gt; | boughtWards &lt;int&gt; | ⋯ ⋯ | perk3 &lt;int&gt; | perk4 &lt;int&gt; | perk5 &lt;int&gt; | item0 &lt;int&gt; | item1 &lt;int&gt; | item2 &lt;int&gt; | item3 &lt;int&gt; | item4 &lt;int&gt; | item5 &lt;int&gt; | item6 &lt;int&gt; |\n",
       "|---|---|---|---|---|---|---|---|---|---|---|---|---|---|---|---|---|---|---|---|---|---|\n",
       "| 4 | NONE | JUNGLE | 245 | 2278 | 1 | 8 | 5 | 14 | 52 | 11 | ⋯ | 8135 | 8304 | 8347 | 3152 | 3157 | 3047 | 0 | 1402 | 3165 | 3364 |\n",
       "\n"
      ],
      "text/plain": [
       "  role lane   champion duration win kill death assist cs boughtWards ⋯ perk3\n",
       "4 NONE JUNGLE 245      2278     1   8    5     14     52 11          ⋯ 8135 \n",
       "  perk4 perk5 item0 item1 item2 item3 item4 item5 item6\n",
       "4 8304  8347  3152  3157  3047  0     1402  3165  3364 "
      ]
     },
     "metadata": {},
     "output_type": "display_data"
    }
   ],
   "source": [
    "# 챔피언 필터링\n",
    "data.f2 = data.f1[data.f1$champion == cData.names['에코'],]\n",
    "data.f2 # filter2 = 챔피언"
   ]
  },
  {
   "cell_type": "code",
   "execution_count": 434,
   "metadata": {},
   "outputs": [
    {
     "data": {
      "text/plain": [
       "\n",
       "JUNGLE \n",
       "     1 "
      ]
     },
     "metadata": {},
     "output_type": "display_data"
    }
   ],
   "source": [
    "table(data.f2$lane)"
   ]
  },
  {
   "cell_type": "code",
   "execution_count": 436,
   "metadata": {},
   "outputs": [
    {
     "data": {
      "text/html": [
       "<table>\n",
       "<caption>A data.frame: 1 × 28</caption>\n",
       "<thead>\n",
       "\t<tr><th></th><th scope=col>role</th><th scope=col>lane</th><th scope=col>champion</th><th scope=col>duration</th><th scope=col>win</th><th scope=col>kill</th><th scope=col>death</th><th scope=col>assist</th><th scope=col>cs</th><th scope=col>boughtWards</th><th scope=col>⋯</th><th scope=col>perk3</th><th scope=col>perk4</th><th scope=col>perk5</th><th scope=col>item0</th><th scope=col>item1</th><th scope=col>item2</th><th scope=col>item3</th><th scope=col>item4</th><th scope=col>item5</th><th scope=col>item6</th></tr>\n",
       "\t<tr><th></th><th scope=col>&lt;chr&gt;</th><th scope=col>&lt;chr&gt;</th><th scope=col>&lt;int&gt;</th><th scope=col>&lt;int&gt;</th><th scope=col>&lt;int&gt;</th><th scope=col>&lt;int&gt;</th><th scope=col>&lt;int&gt;</th><th scope=col>&lt;int&gt;</th><th scope=col>&lt;int&gt;</th><th scope=col>&lt;int&gt;</th><th scope=col>⋯</th><th scope=col>&lt;int&gt;</th><th scope=col>&lt;int&gt;</th><th scope=col>&lt;int&gt;</th><th scope=col>&lt;int&gt;</th><th scope=col>&lt;int&gt;</th><th scope=col>&lt;int&gt;</th><th scope=col>&lt;int&gt;</th><th scope=col>&lt;int&gt;</th><th scope=col>&lt;int&gt;</th><th scope=col>&lt;int&gt;</th></tr>\n",
       "</thead>\n",
       "<tbody>\n",
       "\t<tr><th scope=row>4</th><td>NONE</td><td>JUNGLE</td><td>245</td><td>2278</td><td>1</td><td>8</td><td>5</td><td>14</td><td>52</td><td>11</td><td>⋯</td><td>8135</td><td>8304</td><td>8347</td><td>3152</td><td>3157</td><td>3047</td><td>0</td><td>1402</td><td>3165</td><td>3364</td></tr>\n",
       "</tbody>\n",
       "</table>\n"
      ],
      "text/latex": [
       "A data.frame: 1 × 28\n",
       "\\begin{tabular}{r|lllllllllllllllllllll}\n",
       "  & role & lane & champion & duration & win & kill & death & assist & cs & boughtWards & ⋯ & perk3 & perk4 & perk5 & item0 & item1 & item2 & item3 & item4 & item5 & item6\\\\\n",
       "  & <chr> & <chr> & <int> & <int> & <int> & <int> & <int> & <int> & <int> & <int> & ⋯ & <int> & <int> & <int> & <int> & <int> & <int> & <int> & <int> & <int> & <int>\\\\\n",
       "\\hline\n",
       "\t4 & NONE & JUNGLE & 245 & 2278 & 1 & 8 & 5 & 14 & 52 & 11 & ⋯ & 8135 & 8304 & 8347 & 3152 & 3157 & 3047 & 0 & 1402 & 3165 & 3364\\\\\n",
       "\\end{tabular}\n"
      ],
      "text/markdown": [
       "\n",
       "A data.frame: 1 × 28\n",
       "\n",
       "| <!--/--> | role &lt;chr&gt; | lane &lt;chr&gt; | champion &lt;int&gt; | duration &lt;int&gt; | win &lt;int&gt; | kill &lt;int&gt; | death &lt;int&gt; | assist &lt;int&gt; | cs &lt;int&gt; | boughtWards &lt;int&gt; | ⋯ ⋯ | perk3 &lt;int&gt; | perk4 &lt;int&gt; | perk5 &lt;int&gt; | item0 &lt;int&gt; | item1 &lt;int&gt; | item2 &lt;int&gt; | item3 &lt;int&gt; | item4 &lt;int&gt; | item5 &lt;int&gt; | item6 &lt;int&gt; |\n",
       "|---|---|---|---|---|---|---|---|---|---|---|---|---|---|---|---|---|---|---|---|---|---|\n",
       "| 4 | NONE | JUNGLE | 245 | 2278 | 1 | 8 | 5 | 14 | 52 | 11 | ⋯ | 8135 | 8304 | 8347 | 3152 | 3157 | 3047 | 0 | 1402 | 3165 | 3364 |\n",
       "\n"
      ],
      "text/plain": [
       "  role lane   champion duration win kill death assist cs boughtWards ⋯ perk3\n",
       "4 NONE JUNGLE 245      2278     1   8    5     14     52 11          ⋯ 8135 \n",
       "  perk4 perk5 item0 item1 item2 item3 item4 item5 item6\n",
       "4 8304  8347  3152  3157  3047  0     1402  3165  3364 "
      ]
     },
     "metadata": {},
     "output_type": "display_data"
    }
   ],
   "source": [
    "# 라인 필터링 on 챔프 필터링\n",
    "data.f3 = data.f2[data.f2$lane == 'JUNGLE',]\n",
    "data.f3"
   ]
  },
  {
   "cell_type": "code",
   "execution_count": 437,
   "metadata": {},
   "outputs": [
    {
     "name": "stdout",
     "output_type": "stream",
     "text": [
      "[1] \"ITEM\"\n"
     ]
    },
    {
     "data": {
      "text/html": [
       "<table>\n",
       "<caption>A matrix: 1 × 7 of type chr</caption>\n",
       "<thead>\n",
       "\t<tr><th scope=col>3152</th><th scope=col>3157</th><th scope=col>3047</th><th scope=col>NA</th><th scope=col>1402</th><th scope=col>3165</th><th scope=col>3364</th></tr>\n",
       "</thead>\n",
       "<tbody>\n",
       "\t<tr><td>마법공학 초기형 벨트-01</td><td>존야의 모래시계</td><td>닌자의 신발</td><td>X</td><td>마법 부여: 룬의 메아리</td><td>모렐로노미콘</td><td>예언자의 렌즈</td></tr>\n",
       "</tbody>\n",
       "</table>\n"
      ],
      "text/latex": [
       "A matrix: 1 × 7 of type chr\n",
       "\\begin{tabular}{lllllll}\n",
       " 3152 & 3157 & 3047 & NA & 1402 & 3165 & 3364\\\\\n",
       "\\hline\n",
       "\t 마법공학 초기형 벨트-01 & 존야의 모래시계 & 닌자의 신발 & X & 마법 부여: 룬의 메아리 & 모렐로노미콘 & 예언자의 렌즈\\\\\n",
       "\\end{tabular}\n"
      ],
      "text/markdown": [
       "\n",
       "A matrix: 1 × 7 of type chr\n",
       "\n",
       "| 3152 | 3157 | 3047 | NA | 1402 | 3165 | 3364 |\n",
       "|---|---|---|---|---|---|---|\n",
       "| 마법공학 초기형 벨트-01 | 존야의 모래시계 | 닌자의 신발 | X | 마법 부여: 룬의 메아리 | 모렐로노미콘 | 예언자의 렌즈 |\n",
       "\n"
      ],
      "text/plain": [
       "     3152                    3157            3047        <NA>\n",
       "[1,] 마법공학 초기형 벨트-01 존야의 모래시계 닌자의 신발 X   \n",
       "     1402                   3165         3364         \n",
       "[1,] 마법 부여: 룬의 메아리 모렐로노미콘 예언자의 렌즈"
      ]
     },
     "metadata": {},
     "output_type": "display_data"
    },
    {
     "name": "stdout",
     "output_type": "stream",
     "text": [
      "[1] \"룬 랭킹\"\n"
     ]
    },
    {
     "data": {
      "text/html": [
       "'지배 - 영감 - 어둠의 수확 - 돌발 일격 - 사냥의 증표 - 굶주린 사냥꾼 - 마법의 신발 - 우주적 통찰력'"
      ],
      "text/latex": [
       "'지배 - 영감 - 어둠의 수확 - 돌발 일격 - 사냥의 증표 - 굶주린 사냥꾼 - 마법의 신발 - 우주적 통찰력'"
      ],
      "text/markdown": [
       "'지배 - 영감 - 어둠의 수확 - 돌발 일격 - 사냥의 증표 - 굶주린 사냥꾼 - 마법의 신발 - 우주적 통찰력'"
      ],
      "text/plain": [
       "[1] \"지배 - 영감 - 어둠의 수확 - 돌발 일격 - 사냥의 증표 - 굶주린 사냥꾼 - 마법의 신발 - 우주적 통찰력\""
      ]
     },
     "metadata": {},
     "output_type": "display_data"
    }
   ],
   "source": [
    "# cData.keys[as.character(unique(data.f3$champion))]\n",
    "\n",
    "data.test = data.f3\n",
    "a = data.test\n",
    "a.items = c()\n",
    "a.runes = c()\n",
    "for(i in 1:nrow(a)){\n",
    "    a.item = a[i,22:28]\n",
    "    a.rune = a[i,14:21]\n",
    "    item = sapply(iData.items[as.character(unlist(a.item))], function(x) x$name)\n",
    "    item[is.na(names(item))] = \"X\" \n",
    "    a.items = rbind(a.items, unlist(item))\n",
    "    a.runes = rbind(a.runes, unlist(rData[as.character(unlist(a.rune))]))\n",
    "}\n",
    "print(\"ITEM\")\n",
    "a.items\n",
    "print(\"룬 랭킹\")\n",
    "names(sort(table(apply(a.runes, 1, function(x) paste(x, collapse=' - '))), decreasing=T))"
   ]
  },
  {
   "cell_type": "code",
   "execution_count": 438,
   "metadata": {},
   "outputs": [
    {
     "data": {
      "text/html": [
       "<dl>\n",
       "\t<dt>$perk0.8128</dt>\n",
       "\t\t<dd>'어둠의 수확'</dd>\n",
       "\t<dt>$perk1.8143</dt>\n",
       "\t\t<dd>'돌발 일격'</dd>\n",
       "\t<dt>$perk2.8138</dt>\n",
       "\t\t<dd>'사냥의 증표'</dd>\n",
       "\t<dt>$perk3.8135</dt>\n",
       "\t\t<dd>'굶주린 사냥꾼'</dd>\n",
       "\t<dt>$perk4.8304</dt>\n",
       "\t\t<dd>'마법의 신발'</dd>\n",
       "\t<dt>$perk5.8347</dt>\n",
       "\t\t<dd>'우주적 통찰력'</dd>\n",
       "</dl>\n"
      ],
      "text/latex": [
       "\\begin{description}\n",
       "\\item[\\$perk0.8128] '어둠의 수확'\n",
       "\\item[\\$perk1.8143] '돌발 일격'\n",
       "\\item[\\$perk2.8138] '사냥의 증표'\n",
       "\\item[\\$perk3.8135] '굶주린 사냥꾼'\n",
       "\\item[\\$perk4.8304] '마법의 신발'\n",
       "\\item[\\$perk5.8347] '우주적 통찰력'\n",
       "\\end{description}\n"
      ],
      "text/markdown": [
       "$perk0.8128\n",
       ":   '어둠의 수확'\n",
       "$perk1.8143\n",
       ":   '돌발 일격'\n",
       "$perk2.8138\n",
       ":   '사냥의 증표'\n",
       "$perk3.8135\n",
       ":   '굶주린 사냥꾼'\n",
       "$perk4.8304\n",
       ":   '마법의 신발'\n",
       "$perk5.8347\n",
       ":   '우주적 통찰력'\n",
       "\n",
       "\n"
      ],
      "text/plain": [
       "$perk0.8128\n",
       "[1] \"어둠의 수확\"\n",
       "\n",
       "$perk1.8143\n",
       "[1] \"돌발 일격\"\n",
       "\n",
       "$perk2.8138\n",
       "[1] \"사냥의 증표\"\n",
       "\n",
       "$perk3.8135\n",
       "[1] \"굶주린 사냥꾼\"\n",
       "\n",
       "$perk4.8304\n",
       "[1] \"마법의 신발\"\n",
       "\n",
       "$perk5.8347\n",
       "[1] \"우주적 통찰력\"\n"
      ]
     },
     "metadata": {},
     "output_type": "display_data"
    }
   ],
   "source": [
    "perks = data.test['perk0']\n",
    "for(i in 1:5){\n",
    "    perks = cbind(perks, data.test[paste0('perk', i)])\n",
    "}\n",
    "perks.rank = sapply(perks, function(x) rData[names(sort(table(x), decreasing=T))])\n",
    "perks.rank # 룬 순위"
   ]
  },
  {
   "cell_type": "code",
   "execution_count": 439,
   "metadata": {},
   "outputs": [],
   "source": [
    "data.test = data.f3"
   ]
  },
  {
   "cell_type": "code",
   "execution_count": 440,
   "metadata": {},
   "outputs": [],
   "source": [
    "# 이긴 데이터와 진 데이터 구분하여 비교해보기\n",
    "winData = data.test[data.test$win==1, -5]\n",
    "wLane = unique(winData$lane)\n",
    "loseData = data.test[data.test$win==0, -5]\n",
    "lLane = unique(loseData$lane)\n",
    "aLane = unique(data.test$lane)"
   ]
  },
  {
   "cell_type": "code",
   "execution_count": 441,
   "metadata": {},
   "outputs": [
    {
     "name": "stdout",
     "output_type": "stream",
     "text": [
      "[1] \"### WINNER #########################################\"\n"
     ]
    },
    {
     "data": {
      "text/html": [
       "<table>\n",
       "<caption>A data.frame: 1 × 11</caption>\n",
       "<thead>\n",
       "\t<tr><th scope=col>duration</th><th scope=col>kill</th><th scope=col>death</th><th scope=col>assist</th><th scope=col>cs</th><th scope=col>boughtWards</th><th scope=col>wardsPlaced</th><th scope=col>wardsKilled</th><th scope=col>visionScore</th><th scope=col>length</th><th scope=col>lane</th></tr>\n",
       "\t<tr><th scope=col>&lt;dbl&gt;</th><th scope=col>&lt;dbl&gt;</th><th scope=col>&lt;dbl&gt;</th><th scope=col>&lt;dbl&gt;</th><th scope=col>&lt;dbl&gt;</th><th scope=col>&lt;dbl&gt;</th><th scope=col>&lt;dbl&gt;</th><th scope=col>&lt;dbl&gt;</th><th scope=col>&lt;dbl&gt;</th><th scope=col>&lt;dbl&gt;</th><th scope=col>&lt;chr&gt;</th></tr>\n",
       "</thead>\n",
       "<tbody>\n",
       "\t<tr><td>2278</td><td>8</td><td>5</td><td>14</td><td>52</td><td>11</td><td>13</td><td>8</td><td>33</td><td>1</td><td>JUNGLE</td></tr>\n",
       "</tbody>\n",
       "</table>\n"
      ],
      "text/latex": [
       "A data.frame: 1 × 11\n",
       "\\begin{tabular}{lllllllllll}\n",
       " duration & kill & death & assist & cs & boughtWards & wardsPlaced & wardsKilled & visionScore & length & lane\\\\\n",
       " <dbl> & <dbl> & <dbl> & <dbl> & <dbl> & <dbl> & <dbl> & <dbl> & <dbl> & <dbl> & <chr>\\\\\n",
       "\\hline\n",
       "\t 2278 & 8 & 5 & 14 & 52 & 11 & 13 & 8 & 33 & 1 & JUNGLE\\\\\n",
       "\\end{tabular}\n"
      ],
      "text/markdown": [
       "\n",
       "A data.frame: 1 × 11\n",
       "\n",
       "| duration &lt;dbl&gt; | kill &lt;dbl&gt; | death &lt;dbl&gt; | assist &lt;dbl&gt; | cs &lt;dbl&gt; | boughtWards &lt;dbl&gt; | wardsPlaced &lt;dbl&gt; | wardsKilled &lt;dbl&gt; | visionScore &lt;dbl&gt; | length &lt;dbl&gt; | lane &lt;chr&gt; |\n",
       "|---|---|---|---|---|---|---|---|---|---|---|\n",
       "| 2278 | 8 | 5 | 14 | 52 | 11 | 13 | 8 | 33 | 1 | JUNGLE |\n",
       "\n"
      ],
      "text/plain": [
       "  duration kill death assist cs boughtWards wardsPlaced wardsKilled visionScore\n",
       "1 2278     8    5     14     52 11          13          8           33         \n",
       "  length lane  \n",
       "1 1      JUNGLE"
      ]
     },
     "metadata": {},
     "output_type": "display_data"
    },
    {
     "name": "stdout",
     "output_type": "stream",
     "text": [
      "[1] \"### LOSER #########################################\"\n"
     ]
    },
    {
     "data": {
      "text/html": [
       "<table>\n",
       "<caption>A data.frame: 0 × 1</caption>\n",
       "<thead>\n",
       "\t<tr><th scope=col>lane</th></tr>\n",
       "\t<tr><th scope=col>&lt;chr&gt;</th></tr>\n",
       "</thead>\n",
       "<tbody>\n",
       "</tbody>\n",
       "</table>\n"
      ],
      "text/latex": [
       "A data.frame: 0 × 1\n",
       "\\begin{tabular}{l}\n",
       " lane\\\\\n",
       " <chr>\\\\\n",
       "\\hline\n",
       "\\end{tabular}\n"
      ],
      "text/markdown": [
       "\n",
       "A data.frame: 0 × 1\n",
       "\n",
       "| lane &lt;chr&gt; |\n",
       "|---|\n",
       "\n"
      ],
      "text/plain": [
       "     lane"
      ]
     },
     "metadata": {},
     "output_type": "display_data"
    },
    {
     "name": "stdout",
     "output_type": "stream",
     "text": [
      "[1] \"### ALL #########################################\"\n"
     ]
    },
    {
     "data": {
      "text/html": [
       "<table>\n",
       "<caption>A data.frame: 1 × 12</caption>\n",
       "<thead>\n",
       "\t<tr><th scope=col>duration</th><th scope=col>win</th><th scope=col>kill</th><th scope=col>death</th><th scope=col>assist</th><th scope=col>cs</th><th scope=col>boughtWards</th><th scope=col>wardsPlaced</th><th scope=col>wardsKilled</th><th scope=col>visionScore</th><th scope=col>length</th><th scope=col>lane</th></tr>\n",
       "\t<tr><th scope=col>&lt;dbl&gt;</th><th scope=col>&lt;dbl&gt;</th><th scope=col>&lt;dbl&gt;</th><th scope=col>&lt;dbl&gt;</th><th scope=col>&lt;dbl&gt;</th><th scope=col>&lt;dbl&gt;</th><th scope=col>&lt;dbl&gt;</th><th scope=col>&lt;dbl&gt;</th><th scope=col>&lt;dbl&gt;</th><th scope=col>&lt;dbl&gt;</th><th scope=col>&lt;dbl&gt;</th><th scope=col>&lt;chr&gt;</th></tr>\n",
       "</thead>\n",
       "<tbody>\n",
       "\t<tr><td>2278</td><td>1</td><td>8</td><td>5</td><td>14</td><td>52</td><td>11</td><td>13</td><td>8</td><td>33</td><td>1</td><td>JUNGLE</td></tr>\n",
       "</tbody>\n",
       "</table>\n"
      ],
      "text/latex": [
       "A data.frame: 1 × 12\n",
       "\\begin{tabular}{llllllllllll}\n",
       " duration & win & kill & death & assist & cs & boughtWards & wardsPlaced & wardsKilled & visionScore & length & lane\\\\\n",
       " <dbl> & <dbl> & <dbl> & <dbl> & <dbl> & <dbl> & <dbl> & <dbl> & <dbl> & <dbl> & <dbl> & <chr>\\\\\n",
       "\\hline\n",
       "\t 2278 & 1 & 8 & 5 & 14 & 52 & 11 & 13 & 8 & 33 & 1 & JUNGLE\\\\\n",
       "\\end{tabular}\n"
      ],
      "text/markdown": [
       "\n",
       "A data.frame: 1 × 12\n",
       "\n",
       "| duration &lt;dbl&gt; | win &lt;dbl&gt; | kill &lt;dbl&gt; | death &lt;dbl&gt; | assist &lt;dbl&gt; | cs &lt;dbl&gt; | boughtWards &lt;dbl&gt; | wardsPlaced &lt;dbl&gt; | wardsKilled &lt;dbl&gt; | visionScore &lt;dbl&gt; | length &lt;dbl&gt; | lane &lt;chr&gt; |\n",
       "|---|---|---|---|---|---|---|---|---|---|---|---|\n",
       "| 2278 | 1 | 8 | 5 | 14 | 52 | 11 | 13 | 8 | 33 | 1 | JUNGLE |\n",
       "\n"
      ],
      "text/plain": [
       "  duration win kill death assist cs boughtWards wardsPlaced wardsKilled\n",
       "1 2278     1   8    5     14     52 11          13          8          \n",
       "  visionScore length lane  \n",
       "1 33          1      JUNGLE"
      ]
     },
     "metadata": {},
     "output_type": "display_data"
    }
   ],
   "source": [
    "print(\"### WINNER #########################################\")\n",
    "results = c()\n",
    "for(lane in wLane){\n",
    "    result = sapply(winData[winData$lane == lane, ][,4:12], mean)\n",
    "    result['length'] = nrow(winData[winData$lane == lane, ])\n",
    "    results = rbind(results, t(result))\n",
    "}\n",
    "results = data.frame(results)\n",
    "results$lane = wLane\n",
    "results\n",
    "write(toJSON(results), file=\"winData.json\")\n",
    "\n",
    "print(\"### LOSER #########################################\")\n",
    "results = c()\n",
    "for(lane in lLane){\n",
    "    result = sapply(loseData[loseData$lane == lane, ][,4:12], mean)\n",
    "    result['length'] = nrow(loseData[loseData$lane == lane, ])\n",
    "    results = rbind(results, t(result))\n",
    "}\n",
    "results = data.frame(results)\n",
    "results$lane = lLane\n",
    "results\n",
    "write(toJSON(results), file=\"loseData.json\")\n",
    "\n",
    "print(\"### ALL #########################################\")\n",
    "results = c()\n",
    "for(lane in aLane){\n",
    "    result = sapply(data.test[data.test$lane == lane, ][,4:13], mean)\n",
    "    result['length'] = nrow(data.test[data.test$lane == lane, ])\n",
    "    results = rbind(results, t(result))\n",
    "}\n",
    "results = data.frame(results)\n",
    "results$lane = aLane\n",
    "results\n",
    "write(toJSON(results), file=\"allData.json\")\n"
   ]
  },
  {
   "cell_type": "raw",
   "metadata": {},
   "source": [
    "toDo\n",
    "1. 절사평균 구하기\n",
    "2. 모평균 추정 <- 모분산을 모를 때\n",
    "3. 이표본 / 대응비교 를 활용한 모평균 추정\n",
    "(4. 모분산 추정)"
   ]
  },
  {
   "cell_type": "code",
   "execution_count": 442,
   "metadata": {},
   "outputs": [],
   "source": [
    "data.test = data.f3\n",
    "# data.test"
   ]
  },
  {
   "cell_type": "code",
   "execution_count": 446,
   "metadata": {},
   "outputs": [],
   "source": [
    "# 모평균의 추정\n",
    "n = nrow(data.test) # 충분히 큼\n",
    "means = sapply(data.test[,4:13], mean)\n",
    "sds = sapply(data.test[,4:13], sd)\n"
   ]
  },
  {
   "cell_type": "code",
   "execution_count": 444,
   "metadata": {},
   "outputs": [],
   "source": [
    "# filter3_1 : 10%절사평균\n",
    "n = nrow(data.test) # 충분히 큼\n",
    "ms = floor(n/10)\n",
    "data.f3_1 = data.frame(lapply(data.test[, 4:13], function(x) sort(x)[c(-1:-ms/2, -n:-(n-ms/2))]))\n",
    "# cbind(data.f3[,1:3], data.f4) 🙀 주의할 점: 각 요소는 독립적, 서로의 관계가 무너짐\n",
    "# data.f4\n",
    "means = sapply(data.f3_1, mean)\n",
    "sds = sapply(data.f3_1, sd)"
   ]
  },
  {
   "cell_type": "code",
   "execution_count": 447,
   "metadata": {},
   "outputs": [
    {
     "data": {
      "text/html": [
       "FALSE"
      ],
      "text/latex": [
       "FALSE"
      ],
      "text/markdown": [
       "FALSE"
      ],
      "text/plain": [
       "[1] FALSE"
      ]
     },
     "metadata": {},
     "output_type": "display_data"
    },
    {
     "name": "stdout",
     "output_type": "stream",
     "text": [
      "[1] \"Z로 근사한 구간추정\"\n",
      "duration >> NA ~ NA\n",
      "win >> NA ~ NA\n",
      "kill >> NA ~ NA\n",
      "death >> NA ~ NA\n",
      "assist >> NA ~ NA\n",
      "cs >> NA ~ NA\n",
      "boughtWards >> NA ~ NA\n",
      "wardsPlaced >> NA ~ NA\n",
      "wardsKilled >> NA ~ NA\n",
      "visionScore >> NA ~ NA\n",
      "\n",
      "[1] \"T 구간추정\"\n",
      "duration >> NA ~ NA\n",
      "win >> NA ~ NA\n",
      "kill >> NA ~ NA\n",
      "death >> NA ~ NA\n",
      "assist >> NA ~ NA\n",
      "cs >> NA ~ NA\n",
      "boughtWards >> NA ~ NA\n",
      "wardsPlaced >> NA ~ NA\n",
      "wardsKilled >> NA ~ NA\n",
      "visionScore >> NA ~ NA"
     ]
    }
   ],
   "source": [
    "# 절사평균\n",
    "# pnorm(1.96, mean=0, sd=1)\n",
    "# qnorm(0.025, mean=0, sd=1)\n",
    "a = .1 # 90% 신뢰구간\n",
    "n > 30 # 충분히 커서 Z값과 T값이 큰 차이가 없음\n",
    "Za = qnorm(1-a/2, mean=0, sd=1)\n",
    "Ta = qt(1-a/2, df=n)\n",
    "print(\"Z로 근사한 구간추정\")\n",
    "cat(paste(names(means), \">>\", floor(means-(sds/sqrt(n))*Za), \"~\", floor(means+(sds/sqrt(n))*Za), collapse=\"\\n\"))\n",
    "cat(\"\\n\\n\")\n",
    "print('T 구간추정')\n",
    "cat(paste(names(means), \">>\", floor(means-(sds/sqrt(n))*Ta), \"~\", floor(means+(sds/sqrt(n))*Ta), collapse=\"\\n\"))"
   ]
  },
  {
   "cell_type": "code",
   "execution_count": 379,
   "metadata": {},
   "outputs": [
    {
     "data": {
      "image/png": "[encoded data removed]",
      "text/plain": [
       "Plot with title “death”"
      ]
     },
     "metadata": {
      "image/png": {
       "height": 420,
       "width": 420
      },
      "text/plain": {
       "height": 420,
       "width": 420
      }
     },
     "output_type": "display_data"
    },
    {
     "data": {
      "image/png": "[encoded data removed]",
      "text/plain": [
       "Plot with title “wardsPlaced”"
      ]
     },
     "metadata": {
      "image/png": {
       "height": 420,
       "width": 420
      },
      "text/plain": {
       "height": 420,
       "width": 420
      }
     },
     "output_type": "display_data"
    },
    {
     "data": {
      "image/png": "[encoded data removed]",
      "text/plain": [
       "Plot with title “visionScore”"
      ]
     },
     "metadata": {
      "image/png": {
       "height": 420,
       "width": 420
      },
      "text/plain": {
       "height": 420,
       "width": 420
      }
     },
     "output_type": "display_data"
    }
   ],
   "source": [
    "# 정규분포 분위수대조도\n",
    "par(mfrow=c(2,2))\n",
    "data.show = data.f3[, 4:13]\n",
    "for(i in 1:ncol(data.show)){\n",
    "    x = data.show[i]\n",
    "    Ys = sort(unlist(x))\n",
    "    Xs = qnorm(seq(0,1, length=length(Ys)+2)[c(-1,-(length(Ys)+2))], mean=0, sd=1)\n",
    "    plot(Ys~Xs, main = names(x))\n",
    "}"
   ]
  },
  {
   "cell_type": "code",
   "execution_count": null,
   "metadata": {},
   "outputs": [],
   "source": []
  }
 ],
 "metadata": {
  "kernelspec": {
   "display_name": "R",
   "language": "R",
   "name": "ir"
  },
  "language_info": {
   "codemirror_mode": "r",
   "file_extension": ".r",
   "mimetype": "text/x-r-source",
   "name": "R",
   "pygments_lexer": "r",
   "version": "3.6.3"
  }
 },
 "nbformat": 4,
 "nbformat_minor": 4
}
