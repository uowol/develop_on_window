{
 "cells": [
  {
   "cell_type": "code",
   "execution_count": 2,
   "metadata": {},
   "outputs": [],
   "source": [
    " dir.create(\"SILVER\")"
   ]
  },
  {
   "cell_type": "code",
   "execution_count": 9,
   "metadata": {},
   "outputs": [],
   "source": [
    "# for(i in 1:100)\n",
    "#     unlink(i, recursive=T)"
   ]
  },
  {
   "cell_type": "code",
   "execution_count": 1,
   "metadata": {},
   "outputs": [],
   "source": [
    "library(jsonlite)"
   ]
  },
  {
   "cell_type": "code",
   "execution_count": null,
   "metadata": {},
   "outputs": [],
   "source": [
    "result = list(win=rep(0,10), lose=rep(0,10))\n",
    "for(index in 1:100){\n",
    "    data = fromJSON(paste0('BRONZE/',index,'/match.json'))\n",
    "    teams = data$teams\n",
    "    unionT = teams[[1]]\n",
    "    for(i in 2:10) unionT = rbind(unionT, teams[[i]])\n",
    "\n",
    "    durations = data$gameDuration\n",
    "    minutes = unlist(durations) / 60\n",
    "    unionT = unionT[which(minutes>35)*2 -1,]\n",
    "    \n",
    "    winner = unionT[unionT$win == \"Win\", 3:12]\n",
    "    loser = unionT[unionT$win == \"Fail\", 3:12]\n",
    "\n",
    "    w1 = do.call(cbind, lapply(winner[1:6], sum))\n",
    "    l1 = do.call(cbind, lapply(loser[1:6], sum))\n",
    "    w2 = do.call(cbind, lapply(winner[7:10], sum))\n",
    "    l2 = do.call(cbind, lapply(loser[7:10], sum))\n",
    " \n",
    "    w = cbind(w1,w2)\n",
    "    l = cbind(l1,l2)\n",
    "    \n",
    "    result$win = result$win + w\n",
    "    result$lose = result$lose + l\n",
    "    \n",
    "}"
   ]
  },
  {
   "cell_type": "code",
   "execution_count": null,
   "metadata": {},
   "outputs": [],
   "source": [
    "result"
   ]
  },
  {
   "cell_type": "code",
   "execution_count": null,
   "metadata": {},
   "outputs": [],
   "source": [
    "winner = result$win / 2000\n",
    "winner\n",
    "loser = result$lose / 2000\n",
    "loser\n"
   ]
  },
  {
   "cell_type": "code",
   "execution_count": null,
   "metadata": {},
   "outputs": [],
   "source": [
    "par(mfrow=c(2,2))\n",
    "for(i in 1:10){\n",
    "    barplot(c(W=winner[,i], L=loser[,i]))\n",
    "}\n",
    "\n",
    "# 결과: 어떤 요소가 승리에 영향을 미치는지 알 수 있었다.\n",
    "# to-do: 경기시간이 길어질수록 영향력이 떨어지는 요소를 알아보자."
   ]
  },
  {
   "cell_type": "code",
   "execution_count": null,
   "metadata": {},
   "outputs": [],
   "source": []
  }
 ],
 "metadata": {
  "kernelspec": {
   "display_name": "R",
   "language": "R",
   "name": "ir"
  },
  "language_info": {
   "codemirror_mode": "r",
   "file_extension": ".r",
   "mimetype": "text/x-r-source",
   "name": "R",
   "pygments_lexer": "r",
   "version": "3.6.1"
  }
 },
 "nbformat": 4,
 "nbformat_minor": 4
}
