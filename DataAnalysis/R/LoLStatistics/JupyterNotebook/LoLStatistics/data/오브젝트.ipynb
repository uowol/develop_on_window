{
 "cells": [
  {
   "cell_type": "code",
   "execution_count": 2,
   "metadata": {},
   "outputs": [],
   "source": [
    "# dir.create(\"SILVER\")"
   ]
  },
  {
   "cell_type": "code",
   "execution_count": 9,
   "metadata": {},
   "outputs": [],
   "source": [
    "# for(i in 1:100)\n",
    "#     unlink(i, recursive=T)"
   ]
  },
  {
   "cell_type": "code",
   "execution_count": 2,
   "metadata": {},
   "outputs": [
    {
     "name": "stderr",
     "output_type": "stream",
     "text": [
      "\n",
      "Attaching package: ‘rjson’\n",
      "\n",
      "\n",
      "The following objects are masked from ‘package:jsonlite’:\n",
      "\n",
      "    fromJSON, toJSON\n",
      "\n",
      "\n"
     ]
    }
   ],
   "source": [
    "library(jsonlite)"
   ]
  },
  {
   "cell_type": "code",
   "execution_count": 76,
   "metadata": {},
   "outputs": [],
   "source": [
    "result = list(win=rep(0,12), lose=rep(0,12))\n",
    "for(index in 1:100){\n",
    "    data = fromJSON(paste0('GOLD/',index,'/match.json'))\n",
    "    teams = data$teams\n",
    "    unionT = teams[[1]]\n",
    "    for(i in 2:20) unionT = rbind(unionT, teams[[i]])\n",
    "\n",
    "    durations = data$gameDuration\n",
    "    minutes = unlist(durations) / 60\n",
    "    unionT = unionT[which(minutes>40)*2 -1,]\n",
    "    \n",
    "    winner = unionT[unionT$win == \"Win\", 3:14]\n",
    "    loser = unionT[unionT$win == \"Fail\", 3:14]\n",
    "\n",
    "    w1 = do.call(cbind, lapply(winner[1:6], sum))\n",
    "    l1 = do.call(cbind, lapply(loser[1:6], sum))\n",
    "    w2 = do.call(cbind, lapply(winner[7:12], sum))\n",
    "    l2 = do.call(cbind, lapply(loser[7:12], sum))\n",
    " \n",
    "    w = cbind(w1,w2)\n",
    "    l = cbind(l1,l2)\n",
    "    \n",
    "    result$win = result$win + w\n",
    "    result$lose = result$lose + l\n",
    "    \n",
    "}"
   ]
  },
  {
   "cell_type": "code",
   "execution_count": 77,
   "metadata": {},
   "outputs": [
    {
     "data": {
      "text/html": [
       "<dl>\n",
       "\t<dt>$win</dt>\n",
       "\t\t<dd><table>\n",
       "<caption>A matrix: 1 × 12 of type dbl</caption>\n",
       "<thead>\n",
       "\t<tr><th scope=col>firstBlood</th><th scope=col>firstTower</th><th scope=col>firstInhibitor</th><th scope=col>firstBaron</th><th scope=col>firstDragon</th><th scope=col>firstRiftHerald</th><th scope=col>towerKills</th><th scope=col>inhibitorKills</th><th scope=col>baronKills</th><th scope=col>dragonKills</th><th scope=col>vilemawKills</th><th scope=col>riftHeraldKills</th></tr>\n",
       "</thead>\n",
       "<tbody>\n",
       "\t<tr><td>18</td><td>23</td><td>28</td><td>23</td><td>18</td><td>15</td><td>330</td><td>101</td><td>44</td><td>138</td><td>0</td><td>22</td></tr>\n",
       "</tbody>\n",
       "</table>\n",
       "</dd>\n",
       "\t<dt>$lose</dt>\n",
       "\t\t<dd><table>\n",
       "<caption>A matrix: 1 × 12 of type dbl</caption>\n",
       "<thead>\n",
       "\t<tr><th scope=col>firstBlood</th><th scope=col>firstTower</th><th scope=col>firstInhibitor</th><th scope=col>firstBaron</th><th scope=col>firstDragon</th><th scope=col>firstRiftHerald</th><th scope=col>towerKills</th><th scope=col>inhibitorKills</th><th scope=col>baronKills</th><th scope=col>dragonKills</th><th scope=col>vilemawKills</th><th scope=col>riftHeraldKills</th></tr>\n",
       "</thead>\n",
       "<tbody>\n",
       "\t<tr><td>27</td><td>27</td><td>18</td><td>26</td><td>24</td><td>24</td><td>319</td><td>44</td><td>40</td><td>137</td><td>0</td><td>30</td></tr>\n",
       "</tbody>\n",
       "</table>\n",
       "</dd>\n",
       "</dl>\n"
      ],
      "text/latex": [
       "\\begin{description}\n",
       "\\item[\\$win] A matrix: 1 × 12 of type dbl\n",
       "\\begin{tabular}{llllllllllll}\n",
       " firstBlood & firstTower & firstInhibitor & firstBaron & firstDragon & firstRiftHerald & towerKills & inhibitorKills & baronKills & dragonKills & vilemawKills & riftHeraldKills\\\\\n",
       "\\hline\n",
       "\t 18 & 23 & 28 & 23 & 18 & 15 & 330 & 101 & 44 & 138 & 0 & 22\\\\\n",
       "\\end{tabular}\n",
       "\n",
       "\\item[\\$lose] A matrix: 1 × 12 of type dbl\n",
       "\\begin{tabular}{llllllllllll}\n",
       " firstBlood & firstTower & firstInhibitor & firstBaron & firstDragon & firstRiftHerald & towerKills & inhibitorKills & baronKills & dragonKills & vilemawKills & riftHeraldKills\\\\\n",
       "\\hline\n",
       "\t 27 & 27 & 18 & 26 & 24 & 24 & 319 & 44 & 40 & 137 & 0 & 30\\\\\n",
       "\\end{tabular}\n",
       "\n",
       "\\end{description}\n"
      ],
      "text/markdown": [
       "$win\n",
       ":   \n",
       "A matrix: 1 × 12 of type dbl\n",
       "\n",
       "| firstBlood | firstTower | firstInhibitor | firstBaron | firstDragon | firstRiftHerald | towerKills | inhibitorKills | baronKills | dragonKills | vilemawKills | riftHeraldKills |\n",
       "|---|---|---|---|---|---|---|---|---|---|---|---|\n",
       "| 18 | 23 | 28 | 23 | 18 | 15 | 330 | 101 | 44 | 138 | 0 | 22 |\n",
       "\n",
       "\n",
       "$lose\n",
       ":   \n",
       "A matrix: 1 × 12 of type dbl\n",
       "\n",
       "| firstBlood | firstTower | firstInhibitor | firstBaron | firstDragon | firstRiftHerald | towerKills | inhibitorKills | baronKills | dragonKills | vilemawKills | riftHeraldKills |\n",
       "|---|---|---|---|---|---|---|---|---|---|---|---|\n",
       "| 27 | 27 | 18 | 26 | 24 | 24 | 319 | 44 | 40 | 137 | 0 | 30 |\n",
       "\n",
       "\n",
       "\n",
       "\n"
      ],
      "text/plain": [
       "$win\n",
       "     firstBlood firstTower firstInhibitor firstBaron firstDragon\n",
       "[1,]         18         23             28         23          18\n",
       "     firstRiftHerald towerKills inhibitorKills baronKills dragonKills\n",
       "[1,]              15        330            101         44         138\n",
       "     vilemawKills riftHeraldKills\n",
       "[1,]            0              22\n",
       "\n",
       "$lose\n",
       "     firstBlood firstTower firstInhibitor firstBaron firstDragon\n",
       "[1,]         27         27             18         26          24\n",
       "     firstRiftHerald towerKills inhibitorKills baronKills dragonKills\n",
       "[1,]              24        319             44         40         137\n",
       "     vilemawKills riftHeraldKills\n",
       "[1,]            0              30\n"
      ]
     },
     "metadata": {},
     "output_type": "display_data"
    }
   ],
   "source": [
    "result"
   ]
  },
  {
   "cell_type": "code",
   "execution_count": 78,
   "metadata": {},
   "outputs": [
    {
     "data": {
      "text/html": [
       "<table>\n",
       "<caption>A matrix: 1 × 12 of type dbl</caption>\n",
       "<thead>\n",
       "\t<tr><th scope=col>firstBlood</th><th scope=col>firstTower</th><th scope=col>firstInhibitor</th><th scope=col>firstBaron</th><th scope=col>firstDragon</th><th scope=col>firstRiftHerald</th><th scope=col>towerKills</th><th scope=col>inhibitorKills</th><th scope=col>baronKills</th><th scope=col>dragonKills</th><th scope=col>vilemawKills</th><th scope=col>riftHeraldKills</th></tr>\n",
       "</thead>\n",
       "<tbody>\n",
       "\t<tr><td>0.018</td><td>0.023</td><td>0.028</td><td>0.023</td><td>0.018</td><td>0.015</td><td>0.33</td><td>0.101</td><td>0.044</td><td>0.138</td><td>0</td><td>0.022</td></tr>\n",
       "</tbody>\n",
       "</table>\n"
      ],
      "text/latex": [
       "A matrix: 1 × 12 of type dbl\n",
       "\\begin{tabular}{llllllllllll}\n",
       " firstBlood & firstTower & firstInhibitor & firstBaron & firstDragon & firstRiftHerald & towerKills & inhibitorKills & baronKills & dragonKills & vilemawKills & riftHeraldKills\\\\\n",
       "\\hline\n",
       "\t 0.018 & 0.023 & 0.028 & 0.023 & 0.018 & 0.015 & 0.33 & 0.101 & 0.044 & 0.138 & 0 & 0.022\\\\\n",
       "\\end{tabular}\n"
      ],
      "text/markdown": [
       "\n",
       "A matrix: 1 × 12 of type dbl\n",
       "\n",
       "| firstBlood | firstTower | firstInhibitor | firstBaron | firstDragon | firstRiftHerald | towerKills | inhibitorKills | baronKills | dragonKills | vilemawKills | riftHeraldKills |\n",
       "|---|---|---|---|---|---|---|---|---|---|---|---|\n",
       "| 0.018 | 0.023 | 0.028 | 0.023 | 0.018 | 0.015 | 0.33 | 0.101 | 0.044 | 0.138 | 0 | 0.022 |\n",
       "\n"
      ],
      "text/plain": [
       "     firstBlood firstTower firstInhibitor firstBaron firstDragon\n",
       "[1,] 0.018      0.023      0.028          0.023      0.018      \n",
       "     firstRiftHerald towerKills inhibitorKills baronKills dragonKills\n",
       "[1,] 0.015           0.33       0.101          0.044      0.138      \n",
       "     vilemawKills riftHeraldKills\n",
       "[1,] 0            0.022          "
      ]
     },
     "metadata": {},
     "output_type": "display_data"
    },
    {
     "data": {
      "text/html": [
       "<table>\n",
       "<caption>A matrix: 1 × 12 of type dbl</caption>\n",
       "<thead>\n",
       "\t<tr><th scope=col>firstBlood</th><th scope=col>firstTower</th><th scope=col>firstInhibitor</th><th scope=col>firstBaron</th><th scope=col>firstDragon</th><th scope=col>firstRiftHerald</th><th scope=col>towerKills</th><th scope=col>inhibitorKills</th><th scope=col>baronKills</th><th scope=col>dragonKills</th><th scope=col>vilemawKills</th><th scope=col>riftHeraldKills</th></tr>\n",
       "</thead>\n",
       "<tbody>\n",
       "\t<tr><td>0.027</td><td>0.027</td><td>0.018</td><td>0.026</td><td>0.024</td><td>0.024</td><td>0.319</td><td>0.044</td><td>0.04</td><td>0.137</td><td>0</td><td>0.03</td></tr>\n",
       "</tbody>\n",
       "</table>\n"
      ],
      "text/latex": [
       "A matrix: 1 × 12 of type dbl\n",
       "\\begin{tabular}{llllllllllll}\n",
       " firstBlood & firstTower & firstInhibitor & firstBaron & firstDragon & firstRiftHerald & towerKills & inhibitorKills & baronKills & dragonKills & vilemawKills & riftHeraldKills\\\\\n",
       "\\hline\n",
       "\t 0.027 & 0.027 & 0.018 & 0.026 & 0.024 & 0.024 & 0.319 & 0.044 & 0.04 & 0.137 & 0 & 0.03\\\\\n",
       "\\end{tabular}\n"
      ],
      "text/markdown": [
       "\n",
       "A matrix: 1 × 12 of type dbl\n",
       "\n",
       "| firstBlood | firstTower | firstInhibitor | firstBaron | firstDragon | firstRiftHerald | towerKills | inhibitorKills | baronKills | dragonKills | vilemawKills | riftHeraldKills |\n",
       "|---|---|---|---|---|---|---|---|---|---|---|---|\n",
       "| 0.027 | 0.027 | 0.018 | 0.026 | 0.024 | 0.024 | 0.319 | 0.044 | 0.04 | 0.137 | 0 | 0.03 |\n",
       "\n"
      ],
      "text/plain": [
       "     firstBlood firstTower firstInhibitor firstBaron firstDragon\n",
       "[1,] 0.027      0.027      0.018          0.026      0.024      \n",
       "     firstRiftHerald towerKills inhibitorKills baronKills dragonKills\n",
       "[1,] 0.024           0.319      0.044          0.04       0.137      \n",
       "     vilemawKills riftHeraldKills\n",
       "[1,] 0            0.03           "
      ]
     },
     "metadata": {},
     "output_type": "display_data"
    }
   ],
   "source": [
    "winner = result$win / 1000\n",
    "winner\n",
    "loser = result$lose / 1000\n",
    "loser\n"
   ]
  },
  {
   "cell_type": "code",
   "execution_count": 79,
   "metadata": {},
   "outputs": [
    {
     "data": {
      "image/png": "[encoded data removed]",
      "text/plain": [
       "plot without title"
      ]
     },
     "metadata": {
      "image/png": {
       "height": 420,
       "width": 420
      },
      "text/plain": {
       "height": 420,
       "width": 420
      }
     },
     "output_type": "display_data"
    },
    {
     "data": {
      "image/png": "[encoded data removed]",
      "text/plain": [
       "plot without title"
      ]
     },
     "metadata": {
      "image/png": {
       "height": 420,
       "width": 420
      },
      "text/plain": {
       "height": 420,
       "width": 420
      }
     },
     "output_type": "display_data"
    },
    {
     "data": {
      "image/png": "[encoded data removed]",
      "text/plain": [
       "plot without title"
      ]
     },
     "metadata": {
      "image/png": {
       "height": 420,
       "width": 420
      },
      "text/plain": {
       "height": 420,
       "width": 420
      }
     },
     "output_type": "display_data"
    }
   ],
   "source": [
    "par(mfrow=c(2,2))\n",
    "for(i in 1:12){\n",
    "    barplot(c(W=winner[,i], L=loser[,i]))\n",
    "}\n",
    "\n",
    "# 결과: 어떤 요소가 승리에 영향을 미치는지 알 수 있었다.\n",
    "# to-do: 경기시간이 길어질수록 영향력이 떨어지는 요소를 알아보자."
   ]
  },
  {
   "cell_type": "code",
   "execution_count": null,
   "metadata": {},
   "outputs": [],
   "source": []
  }
 ],
 "metadata": {
  "kernelspec": {
   "display_name": "R",
   "language": "R",
   "name": "ir"
  },
  "language_info": {
   "codemirror_mode": "r",
   "file_extension": ".r",
   "mimetype": "text/x-r-source",
   "name": "R",
   "pygments_lexer": "r",
   "version": "3.6.1"
  }
 },
 "nbformat": 4,
 "nbformat_minor": 4
}
