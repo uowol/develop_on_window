{
 "cells": [
  {
   "cell_type": "code",
   "execution_count": null,
   "metadata": {},
   "outputs": [],
   "source": [
    "a = 1\n",
    "b <- 2\n",
    "3 -> c\n",
    "cat(a,b,c)"
   ]
  },
  {
   "cell_type": "code",
   "execution_count": null,
   "metadata": {},
   "outputs": [],
   "source": [
    "cat(ls(), ',', objects())\n",
    "rm(a)\n",
    "ls()"
   ]
  },
  {
   "cell_type": "code",
   "execution_count": null,
   "metadata": {},
   "outputs": [],
   "source": [
    "v <- c(1.2, 2.7, 3.1, 4.9, 5.4)\n",
    "w <- c(TRUE, FALSE, FALSE)\n",
    "x <- c(\"a\", \"b\", \"c\", \"d\")\n",
    "y <- 1.5:4.9    # 1.5 2.5 3.5 4.5 "
   ]
  },
  {
   "cell_type": "code",
   "execution_count": null,
   "metadata": {},
   "outputs": [],
   "source": [
    "matrix(\n",
    "    c(1, 2, 4, 8, 16, 32),\n",
    "    nrow=2, # 둘 중 하나만 써도 ok\n",
    "    ncol=3  # 둘 중 하나만 써도 ok\n",
    ")"
   ]
  },
  {
   "cell_type": "code",
   "execution_count": null,
   "metadata": {},
   "outputs": [],
   "source": [
    "3 + 2\n",
    "7 - 4\n",
    "11 * 5\n",
    "16 / 5\n",
    "16 %/% 5        # 정수나눗셈\n",
    "16 %% 5         # 나머지\n",
    "3^2             # 거듭제곱, = 3**2"
   ]
  },
  {
   "cell_type": "code",
   "execution_count": null,
   "metadata": {},
   "outputs": [],
   "source": [
    "x = 10\n",
    "\n",
    "if(x == 3 || x >= 7 || x <= 1) {\n",
    "    x <- x+1\n",
    "} else if(x != 1 && x < 3) {\n",
    "    x <- x-1\n",
    "}\n",
    "x"
   ]
  },
  {
   "cell_type": "code",
   "execution_count": null,
   "metadata": {},
   "outputs": [],
   "source": [
    "i <- 0\n",
    "while(i < 10) {\n",
    "    i <- i + 1\n",
    "    print(i)\n",
    "}"
   ]
  },
  {
   "cell_type": "code",
   "execution_count": null,
   "metadata": {},
   "outputs": [],
   "source": [
    "sum <- 0\n",
    "for(i in c(1, 4, 7)) {\n",
    "    sum <- sum + i\n",
    "}\n",
    "sum"
   ]
  },
  {
   "cell_type": "code",
   "execution_count": null,
   "metadata": {},
   "outputs": [],
   "source": [
    "sum <- 0\n",
    "for(i in 5:15) {\n",
    "    if(i%%2 == 0)\n",
    "    {\n",
    "        next;\n",
    "    }\n",
    "    if(i%%10 == 0)\n",
    "    {\n",
    "        break;\n",
    "    }\n",
    "    sum <- sum + i\n",
    "    print(sum)\n",
    "}"
   ]
  },
  {
   "cell_type": "code",
   "execution_count": null,
   "metadata": {},
   "outputs": [],
   "source": [
    "f <- function(n){\n",
    "    sum <- 0;\n",
    "    for(i in 1:n){\n",
    "        sum <- sum + i\n",
    "    }\n",
    "    return (sum)\n",
    "}\n",
    "f(10)"
   ]
  },
  {
   "cell_type": "code",
   "execution_count": null,
   "metadata": {},
   "outputs": [],
   "source": [
    "sin(pi)         # 1.224606e-16\n",
    "log(3)          # 1.098612 (자연로그)\n",
    "log10(100)      # 2  (상용로그)\n",
    "floor(3.14)     # 3  (버림)\n",
    "ceiling(5.87)   # 6  (올림)\n",
    "round(4.65)     # 5  (반올림)\n",
    "sqrt(9)         # 3  (제곱근)\n",
    "min(c(1,5,7))   # 1  (최소값)\n",
    "max(c(2,6,9))   # 9  (최대값)\n",
    "median(1:10)    # 5.5 (중앙값)\n",
    "mean(c(3,6,9))  # 6  (평균)\n",
    "sum(c(1,2,4,7)) # 14  (합계)\n",
    "sd(c(1,2,3,4))  # 1.290994  (표준편차)\n",
    "runif(2, 1, 10) # 난수 2개를 벡터로 생성(1 초과 10 미만), random-uniform"
   ]
  },
  {
   "cell_type": "code",
   "execution_count": null,
   "metadata": {},
   "outputs": [],
   "source": [
    "# (편)미분 \n",
    "f <- expression(2*x^3 - y*x^2 + 2*y^2 + 1)\n",
    "D(f, \"x\")\n",
    "D(f, \"y\")\n",
    " \n",
    "# 정적분 \n",
    "f <- function(x) 2*x^3 - 3*x^2 + 1\n",
    "integrate(f, 0, 3)"
   ]
  },
  {
   "cell_type": "code",
   "execution_count": null,
   "metadata": {},
   "outputs": [],
   "source": [
    "hist(c(5,1,5,2,4,1,5,4,5,1,1,3))"
   ]
  },
  {
   "cell_type": "code",
   "execution_count": null,
   "metadata": {},
   "outputs": [],
   "source": [
    "plot(function(x){ 2*x^3 - 5*x }, xlim=range(-10,10))"
   ]
  },
  {
   "cell_type": "code",
   "execution_count": null,
   "metadata": {},
   "outputs": [],
   "source": [
    "# Create a vector.\n",
    "x <- c(12,7,3,4.2,18,2,54,-21,8,-5)\n",
    "\n",
    "# Find Mean.\n",
    "result.mean <-  mean(x,trim = 0.3) # 양 끝에서 전체 데이터의 0.3 만큼을 제외한다. 10개 데이터 기준 양 끝에서 3개씩\n",
    "print(result.mean)"
   ]
  },
  {
   "cell_type": "code",
   "execution_count": null,
   "metadata": {},
   "outputs": [],
   "source": [
    "# Create a vector. \n",
    "x <- c(12,7,3,4.2,18,2,54,-21,8,-5,NA)\n",
    "\n",
    "# Find mean.\n",
    "result.mean <-  mean(x)\n",
    "print(result.mean)\n",
    "\n",
    "# Find mean dropping NA values.\n",
    "result.mean <-  mean(x,na.rm = TRUE)\n",
    "print(result.mean)"
   ]
  },
  {
   "cell_type": "code",
   "execution_count": null,
   "metadata": {},
   "outputs": [],
   "source": [
    "a = runif(20, 1, 10)\n",
    "a"
   ]
  },
  {
   "cell_type": "code",
   "execution_count": null,
   "metadata": {},
   "outputs": [],
   "source": [
    "a.int = as.integer(a)\n",
    "a"
   ]
  },
  {
   "cell_type": "code",
   "execution_count": null,
   "metadata": {},
   "outputs": [],
   "source": [
    "unique(a.int)"
   ]
  },
  {
   "cell_type": "code",
   "execution_count": null,
   "metadata": {},
   "outputs": [],
   "source": [
    "table(a.int)\n",
    "table(a)\n",
    "str(tabulate(a)) # 정수로 변환, 벡터형태로 반환"
   ]
  },
  {
   "cell_type": "code",
   "execution_count": null,
   "metadata": {},
   "outputs": [],
   "source": [
    "# Create the function.\n",
    "getmode <- function(v) {\n",
    "    uniqv <- unique(v)\n",
    "    uniqv[which.max(tabulate(match(v, uniqv)))]\n",
    "#     return(uniqv)\n",
    "}\n",
    "\n",
    "# Create the vector with numbers.\n",
    "v <- c(2,1,2,3,1,2,3,4,1,5,5,3,2,3)\n",
    "\n",
    "# Calculate the mode using the user function.\n",
    "result <- getmode(v)\n",
    "print(result)\n",
    "\n",
    "# Create the vector with characters.\n",
    "charv <- c(\"o\",\"it\",\"the\",\"it\",\"it\")\n",
    "\n",
    "# Calculate the mode using the user function.\n",
    "result <- getmode(charv)\n",
    "print(result)"
   ]
  },
  {
   "cell_type": "code",
   "execution_count": null,
   "metadata": {},
   "outputs": [],
   "source": [
    "?match"
   ]
  },
  {
   "cell_type": "code",
   "execution_count": null,
   "metadata": {},
   "outputs": [],
   "source": []
  }
 ],
 "metadata": {
  "kernelspec": {
   "display_name": "R",
   "language": "R",
   "name": "ir"
  },
  "language_info": {
   "codemirror_mode": "r",
   "file_extension": ".r",
   "mimetype": "text/x-r-source",
   "name": "R",
   "pygments_lexer": "r",
   "version": "3.6.1"
  }
 },
 "nbformat": 4,
 "nbformat_minor": 4
}
