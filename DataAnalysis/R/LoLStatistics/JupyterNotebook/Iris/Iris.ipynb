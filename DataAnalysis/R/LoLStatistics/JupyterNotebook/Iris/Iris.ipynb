{
 "cells": [
  {
   "cell_type": "code",
   "execution_count": 1,
   "metadata": {},
   "outputs": [],
   "source": [
    "data = iris"
   ]
  },
  {
   "cell_type": "code",
   "execution_count": 2,
   "metadata": {},
   "outputs": [
    {
     "data": {
      "text/html": [
       "<table>\n",
       "<thead><tr><th scope=col>Sepal.Length</th><th scope=col>Sepal.Width</th><th scope=col>Petal.Length</th><th scope=col>Petal.Width</th><th scope=col>Species</th></tr></thead>\n",
       "<tbody>\n",
       "\t<tr><td>5.1   </td><td>3.5   </td><td>1.4   </td><td>0.2   </td><td>setosa</td></tr>\n",
       "\t<tr><td>4.9   </td><td>3.0   </td><td>1.4   </td><td>0.2   </td><td>setosa</td></tr>\n",
       "\t<tr><td>4.7   </td><td>3.2   </td><td>1.3   </td><td>0.2   </td><td>setosa</td></tr>\n",
       "\t<tr><td>4.6   </td><td>3.1   </td><td>1.5   </td><td>0.2   </td><td>setosa</td></tr>\n",
       "\t<tr><td>5.0   </td><td>3.6   </td><td>1.4   </td><td>0.2   </td><td>setosa</td></tr>\n",
       "\t<tr><td>5.4   </td><td>3.9   </td><td>1.7   </td><td>0.4   </td><td>setosa</td></tr>\n",
       "</tbody>\n",
       "</table>\n"
      ],
      "text/latex": [
       "\\begin{tabular}{r|lllll}\n",
       " Sepal.Length & Sepal.Width & Petal.Length & Petal.Width & Species\\\\\n",
       "\\hline\n",
       "\t 5.1    & 3.5    & 1.4    & 0.2    & setosa\\\\\n",
       "\t 4.9    & 3.0    & 1.4    & 0.2    & setosa\\\\\n",
       "\t 4.7    & 3.2    & 1.3    & 0.2    & setosa\\\\\n",
       "\t 4.6    & 3.1    & 1.5    & 0.2    & setosa\\\\\n",
       "\t 5.0    & 3.6    & 1.4    & 0.2    & setosa\\\\\n",
       "\t 5.4    & 3.9    & 1.7    & 0.4    & setosa\\\\\n",
       "\\end{tabular}\n"
      ],
      "text/markdown": [
       "\n",
       "| Sepal.Length | Sepal.Width | Petal.Length | Petal.Width | Species |\n",
       "|---|---|---|---|---|\n",
       "| 5.1    | 3.5    | 1.4    | 0.2    | setosa |\n",
       "| 4.9    | 3.0    | 1.4    | 0.2    | setosa |\n",
       "| 4.7    | 3.2    | 1.3    | 0.2    | setosa |\n",
       "| 4.6    | 3.1    | 1.5    | 0.2    | setosa |\n",
       "| 5.0    | 3.6    | 1.4    | 0.2    | setosa |\n",
       "| 5.4    | 3.9    | 1.7    | 0.4    | setosa |\n",
       "\n"
      ],
      "text/plain": [
       "  Sepal.Length Sepal.Width Petal.Length Petal.Width Species\n",
       "1 5.1          3.5         1.4          0.2         setosa \n",
       "2 4.9          3.0         1.4          0.2         setosa \n",
       "3 4.7          3.2         1.3          0.2         setosa \n",
       "4 4.6          3.1         1.5          0.2         setosa \n",
       "5 5.0          3.6         1.4          0.2         setosa \n",
       "6 5.4          3.9         1.7          0.4         setosa "
      ]
     },
     "metadata": {},
     "output_type": "display_data"
    }
   ],
   "source": [
    "head(data)"
   ]
  },
  {
   "cell_type": "code",
   "execution_count": 3,
   "metadata": {},
   "outputs": [
    {
     "name": "stdout",
     "output_type": "stream",
     "text": [
      "'data.frame':\t150 obs. of  5 variables:\n",
      " $ Sepal.Length: num  5.1 4.9 4.7 4.6 5 5.4 4.6 5 4.4 4.9 ...\n",
      " $ Sepal.Width : num  3.5 3 3.2 3.1 3.6 3.9 3.4 3.4 2.9 3.1 ...\n",
      " $ Petal.Length: num  1.4 1.4 1.3 1.5 1.4 1.7 1.4 1.5 1.4 1.5 ...\n",
      " $ Petal.Width : num  0.2 0.2 0.2 0.2 0.2 0.4 0.3 0.2 0.2 0.1 ...\n",
      " $ Species     : Factor w/ 3 levels \"setosa\",\"versicolor\",..: 1 1 1 1 1 1 1 1 1 1 ...\n"
     ]
    }
   ],
   "source": [
    "str(data)"
   ]
  },
  {
   "cell_type": "code",
   "execution_count": 4,
   "metadata": {},
   "outputs": [
    {
     "name": "stdout",
     "output_type": "stream",
     "text": [
      " num [1:150] 5.1 4.9 4.7 4.6 5 5.4 4.6 5 4.4 4.9 ...\n"
     ]
    }
   ],
   "source": [
    "str(data$Sepal.Length)"
   ]
  },
  {
   "cell_type": "code",
   "execution_count": 5,
   "metadata": {},
   "outputs": [
    {
     "data": {
      "image/png": "[encoded data removed]",
      "text/plain": [
       "plot without title"
      ]
     },
     "metadata": {},
     "output_type": "display_data"
    }
   ],
   "source": [
    "par(mfrow=c(2,2))\n",
    "plot(data$Sepal.Length, col=data$Species)\n",
    "plot(data$Sepal.Width, col=data$Species)\n",
    "plot(data$Petal.Length, col=data$Species)\n",
    "plot(data$Petal.Width, col=data$Species)"
   ]
  },
  {
   "cell_type": "code",
   "execution_count": 6,
   "metadata": {},
   "outputs": [
    {
     "data": {
      "image/png": "[encoded data removed]",
      "text/plain": [
       "plot without title"
      ]
     },
     "metadata": {},
     "output_type": "display_data"
    }
   ],
   "source": [
    "par(mfrow=c(2,2))\n",
    "plot(data$Sepal.Length~data$Species, col=c(4,2,3))\n",
    "plot(data$Sepal.Width~data$Species)\n",
    "plot(data$Petal.Length~data$Species)\n",
    "plot(data$Petal.Width~data$Species)"
   ]
  },
  {
   "cell_type": "code",
   "execution_count": 7,
   "metadata": {},
   "outputs": [
    {
     "data": {
      "text/html": [
       "<table>\n",
       "<thead><tr><th scope=col>Sepal.Length</th><th scope=col>Sepal.Width</th><th scope=col>Petal.Length</th><th scope=col>Petal.Width</th><th scope=col>Species</th></tr></thead>\n",
       "<tbody>\n",
       "\t<tr><td>5.1   </td><td>3.5   </td><td>1.4   </td><td>0.2   </td><td>setosa</td></tr>\n",
       "\t<tr><td>4.9   </td><td>3.0   </td><td>1.4   </td><td>0.2   </td><td>setosa</td></tr>\n",
       "\t<tr><td>4.7   </td><td>3.2   </td><td>1.3   </td><td>0.2   </td><td>setosa</td></tr>\n",
       "\t<tr><td>4.6   </td><td>3.1   </td><td>1.5   </td><td>0.2   </td><td>setosa</td></tr>\n",
       "\t<tr><td>5.0   </td><td>3.6   </td><td>1.4   </td><td>0.2   </td><td>setosa</td></tr>\n",
       "\t<tr><td>5.4   </td><td>3.9   </td><td>1.7   </td><td>0.4   </td><td>setosa</td></tr>\n",
       "</tbody>\n",
       "</table>\n"
      ],
      "text/latex": [
       "\\begin{tabular}{r|lllll}\n",
       " Sepal.Length & Sepal.Width & Petal.Length & Petal.Width & Species\\\\\n",
       "\\hline\n",
       "\t 5.1    & 3.5    & 1.4    & 0.2    & setosa\\\\\n",
       "\t 4.9    & 3.0    & 1.4    & 0.2    & setosa\\\\\n",
       "\t 4.7    & 3.2    & 1.3    & 0.2    & setosa\\\\\n",
       "\t 4.6    & 3.1    & 1.5    & 0.2    & setosa\\\\\n",
       "\t 5.0    & 3.6    & 1.4    & 0.2    & setosa\\\\\n",
       "\t 5.4    & 3.9    & 1.7    & 0.4    & setosa\\\\\n",
       "\\end{tabular}\n"
      ],
      "text/markdown": [
       "\n",
       "| Sepal.Length | Sepal.Width | Petal.Length | Petal.Width | Species |\n",
       "|---|---|---|---|---|\n",
       "| 5.1    | 3.5    | 1.4    | 0.2    | setosa |\n",
       "| 4.9    | 3.0    | 1.4    | 0.2    | setosa |\n",
       "| 4.7    | 3.2    | 1.3    | 0.2    | setosa |\n",
       "| 4.6    | 3.1    | 1.5    | 0.2    | setosa |\n",
       "| 5.0    | 3.6    | 1.4    | 0.2    | setosa |\n",
       "| 5.4    | 3.9    | 1.7    | 0.4    | setosa |\n",
       "\n"
      ],
      "text/plain": [
       "  Sepal.Length Sepal.Width Petal.Length Petal.Width Species\n",
       "1 5.1          3.5         1.4          0.2         setosa \n",
       "2 4.9          3.0         1.4          0.2         setosa \n",
       "3 4.7          3.2         1.3          0.2         setosa \n",
       "4 4.6          3.1         1.5          0.2         setosa \n",
       "5 5.0          3.6         1.4          0.2         setosa \n",
       "6 5.4          3.9         1.7          0.4         setosa "
      ]
     },
     "metadata": {},
     "output_type": "display_data"
    },
    {
     "data": {
      "text/html": [
       "'list'"
      ],
      "text/latex": [
       "'list'"
      ],
      "text/markdown": [
       "'list'"
      ],
      "text/plain": [
       "[1] \"list\""
      ]
     },
     "metadata": {},
     "output_type": "display_data"
    },
    {
     "name": "stdout",
     "output_type": "stream",
     "text": [
      "[1] \" = Setosa ====\"\n"
     ]
    },
    {
     "data": {
      "text/html": [
       "<ol class=list-inline>\n",
       "\t<li>'중앙값 Sepal.Length 5'</li>\n",
       "\t<li>'중앙값 Sepal.Width 3.4'</li>\n",
       "\t<li>'중앙값 Petal.Length 1.5'</li>\n",
       "\t<li>'중앙값 Petal.Width 0.2'</li>\n",
       "</ol>\n"
      ],
      "text/latex": [
       "\\begin{enumerate*}\n",
       "\\item '중앙값 Sepal.Length 5'\n",
       "\\item '중앙값 Sepal.Width 3.4'\n",
       "\\item '중앙값 Petal.Length 1.5'\n",
       "\\item '중앙값 Petal.Width 0.2'\n",
       "\\end{enumerate*}\n"
      ],
      "text/markdown": [
       "1. '중앙값 Sepal.Length 5'\n",
       "2. '중앙값 Sepal.Width 3.4'\n",
       "3. '중앙값 Petal.Length 1.5'\n",
       "4. '중앙값 Petal.Width 0.2'\n",
       "\n",
       "\n"
      ],
      "text/plain": [
       "[1] \"중앙값 Sepal.Length 5\"   \"중앙값 Sepal.Width 3.4\" \n",
       "[3] \"중앙값 Petal.Length 1.5\" \"중앙값 Petal.Width 0.2\" "
      ]
     },
     "metadata": {},
     "output_type": "display_data"
    },
    {
     "data": {
      "text/html": [
       "<ol class=list-inline>\n",
       "\t<li>'평균 Sepal.Length 5.006'</li>\n",
       "\t<li>'평균 Sepal.Width 3.428'</li>\n",
       "\t<li>'평균 Petal.Length 1.462'</li>\n",
       "\t<li>'평균 Petal.Width 0.246'</li>\n",
       "</ol>\n"
      ],
      "text/latex": [
       "\\begin{enumerate*}\n",
       "\\item '평균 Sepal.Length 5.006'\n",
       "\\item '평균 Sepal.Width 3.428'\n",
       "\\item '평균 Petal.Length 1.462'\n",
       "\\item '평균 Petal.Width 0.246'\n",
       "\\end{enumerate*}\n"
      ],
      "text/markdown": [
       "1. '평균 Sepal.Length 5.006'\n",
       "2. '평균 Sepal.Width 3.428'\n",
       "3. '평균 Petal.Length 1.462'\n",
       "4. '평균 Petal.Width 0.246'\n",
       "\n",
       "\n"
      ],
      "text/plain": [
       "[1] \"평균 Sepal.Length 5.006\" \"평균 Sepal.Width 3.428\" \n",
       "[3] \"평균 Petal.Length 1.462\" \"평균 Petal.Width 0.246\" "
      ]
     },
     "metadata": {},
     "output_type": "display_data"
    },
    {
     "name": "stdout",
     "output_type": "stream",
     "text": [
      "[1] \" = Versicolor ====\"\n"
     ]
    },
    {
     "data": {
      "text/html": [
       "<ol class=list-inline>\n",
       "\t<li>'중앙값 Sepal.Length 5.9'</li>\n",
       "\t<li>'중앙값 Sepal.Width 2.8'</li>\n",
       "\t<li>'중앙값 Petal.Length 4.35'</li>\n",
       "\t<li>'중앙값 Petal.Width 1.3'</li>\n",
       "</ol>\n"
      ],
      "text/latex": [
       "\\begin{enumerate*}\n",
       "\\item '중앙값 Sepal.Length 5.9'\n",
       "\\item '중앙값 Sepal.Width 2.8'\n",
       "\\item '중앙값 Petal.Length 4.35'\n",
       "\\item '중앙값 Petal.Width 1.3'\n",
       "\\end{enumerate*}\n"
      ],
      "text/markdown": [
       "1. '중앙값 Sepal.Length 5.9'\n",
       "2. '중앙값 Sepal.Width 2.8'\n",
       "3. '중앙값 Petal.Length 4.35'\n",
       "4. '중앙값 Petal.Width 1.3'\n",
       "\n",
       "\n"
      ],
      "text/plain": [
       "[1] \"중앙값 Sepal.Length 5.9\"  \"중앙값 Sepal.Width 2.8\"  \n",
       "[3] \"중앙값 Petal.Length 4.35\" \"중앙값 Petal.Width 1.3\"  "
      ]
     },
     "metadata": {},
     "output_type": "display_data"
    },
    {
     "data": {
      "text/html": [
       "<ol class=list-inline>\n",
       "\t<li>'평균 Sepal.Length 5.936'</li>\n",
       "\t<li>'평균 Sepal.Width 2.77'</li>\n",
       "\t<li>'평균 Petal.Length 4.26'</li>\n",
       "\t<li>'평균 Petal.Width 1.326'</li>\n",
       "</ol>\n"
      ],
      "text/latex": [
       "\\begin{enumerate*}\n",
       "\\item '평균 Sepal.Length 5.936'\n",
       "\\item '평균 Sepal.Width 2.77'\n",
       "\\item '평균 Petal.Length 4.26'\n",
       "\\item '평균 Petal.Width 1.326'\n",
       "\\end{enumerate*}\n"
      ],
      "text/markdown": [
       "1. '평균 Sepal.Length 5.936'\n",
       "2. '평균 Sepal.Width 2.77'\n",
       "3. '평균 Petal.Length 4.26'\n",
       "4. '평균 Petal.Width 1.326'\n",
       "\n",
       "\n"
      ],
      "text/plain": [
       "[1] \"평균 Sepal.Length 5.936\" \"평균 Sepal.Width 2.77\"  \n",
       "[3] \"평균 Petal.Length 4.26\"  \"평균 Petal.Width 1.326\" "
      ]
     },
     "metadata": {},
     "output_type": "display_data"
    },
    {
     "name": "stdout",
     "output_type": "stream",
     "text": [
      "[1] \" = Virginica ====\"\n"
     ]
    },
    {
     "data": {
      "text/html": [
       "<ol class=list-inline>\n",
       "\t<li>'중앙값 Sepal.Length 6.5'</li>\n",
       "\t<li>'중앙값 Sepal.Width 3'</li>\n",
       "\t<li>'중앙값 Petal.Length 5.55'</li>\n",
       "\t<li>'중앙값 Petal.Width 2'</li>\n",
       "</ol>\n"
      ],
      "text/latex": [
       "\\begin{enumerate*}\n",
       "\\item '중앙값 Sepal.Length 6.5'\n",
       "\\item '중앙값 Sepal.Width 3'\n",
       "\\item '중앙값 Petal.Length 5.55'\n",
       "\\item '중앙값 Petal.Width 2'\n",
       "\\end{enumerate*}\n"
      ],
      "text/markdown": [
       "1. '중앙값 Sepal.Length 6.5'\n",
       "2. '중앙값 Sepal.Width 3'\n",
       "3. '중앙값 Petal.Length 5.55'\n",
       "4. '중앙값 Petal.Width 2'\n",
       "\n",
       "\n"
      ],
      "text/plain": [
       "[1] \"중앙값 Sepal.Length 6.5\"  \"중앙값 Sepal.Width 3\"    \n",
       "[3] \"중앙값 Petal.Length 5.55\" \"중앙값 Petal.Width 2\"    "
      ]
     },
     "metadata": {},
     "output_type": "display_data"
    },
    {
     "data": {
      "text/html": [
       "<ol class=list-inline>\n",
       "\t<li>'평균 Sepal.Length 6.588'</li>\n",
       "\t<li>'평균 Sepal.Width 2.974'</li>\n",
       "\t<li>'평균 Petal.Length 5.552'</li>\n",
       "\t<li>'평균 Petal.Width 2.026'</li>\n",
       "</ol>\n"
      ],
      "text/latex": [
       "\\begin{enumerate*}\n",
       "\\item '평균 Sepal.Length 6.588'\n",
       "\\item '평균 Sepal.Width 2.974'\n",
       "\\item '평균 Petal.Length 5.552'\n",
       "\\item '평균 Petal.Width 2.026'\n",
       "\\end{enumerate*}\n"
      ],
      "text/markdown": [
       "1. '평균 Sepal.Length 6.588'\n",
       "2. '평균 Sepal.Width 2.974'\n",
       "3. '평균 Petal.Length 5.552'\n",
       "4. '평균 Petal.Width 2.026'\n",
       "\n",
       "\n"
      ],
      "text/plain": [
       "[1] \"평균 Sepal.Length 6.588\" \"평균 Sepal.Width 2.974\" \n",
       "[3] \"평균 Petal.Length 5.552\" \"평균 Petal.Width 2.026\" "
      ]
     },
     "metadata": {},
     "output_type": "display_data"
    },
    {
     "name": "stdout",
     "output_type": "stream",
     "text": [
      "[1] \" = 결과 ====\"\n",
      "[1] \"중앙값과 평균값 사이에 큰 차이가 없으므로 절사가 필요할 정도의 오류는 없어보임.\"\n"
     ]
    }
   ],
   "source": [
    "# 평균값, 중앙값 비교\n",
    "data.setosa = data[data$Species == \"setosa\",]\n",
    "data.versicolor = data[data$Species == \"versicolor\",]\n",
    "data.virginica = data[data$Species == \"virginica\",]\n",
    "\n",
    "head(data.setosa)\n",
    "typeof(data.setosa) # data.frame은 list에 기반한 object이므로 lapply 사용가능\n",
    "\n",
    "data.setosa.mean = lapply(data.setosa[, 1:4], mean)\n",
    "data.setosa.median = lapply(data.setosa[, 1:4], median)\n",
    "\n",
    "title = names(data.setosa.median)\n",
    "\n",
    "print(\" = Setosa ====\")\n",
    "paste(\"중앙값\", title, data.setosa.median)\n",
    "paste(\"평균\", title, data.setosa.mean)\n",
    "\n",
    "data.versicolor.mean = lapply(data.versicolor[, 1:4], mean)\n",
    "data.versicolor.median = lapply(data.versicolor[, 1:4], median)\n",
    "\n",
    "print(\" = Versicolor ====\")\n",
    "paste(\"중앙값\", title, data.versicolor.median)\n",
    "paste(\"평균\", title, data.versicolor.mean)\n",
    "\n",
    "data.virginica.mean = lapply(data.virginica[, 1:4], mean)\n",
    "data.virginica.median = lapply(data.virginica[, 1:4], median)\n",
    "\n",
    "print(\" = Virginica ====\")\n",
    "paste(\"중앙값\", title, data.virginica.median)\n",
    "paste(\"평균\", title, data.virginica.mean)\n",
    "\n",
    "print(\" = 결과 ====\")\n",
    "print(\"중앙값과 평균값 사이에 큰 차이가 없으므로 절사가 필요할 정도의 오류는 없어보임.\")"
   ]
  },
  {
   "attachments": {
    "image.png": {
     "image/png": "[encoded data removed]"
    }
   },
   "cell_type": "markdown",
   "metadata": {},
   "source": [
    "![image.png](attachment:image.png)"
   ]
  },
  {
   "cell_type": "code",
   "execution_count": 91,
   "metadata": {
    "scrolled": false
   },
   "outputs": [
    {
     "data": {
      "image/png": "[encoded data removed]",
      "text/plain": [
       "Plot with title \"Petal.Width\""
      ]
     },
     "metadata": {},
     "output_type": "display_data"
    }
   ],
   "source": [
    "# 정규분포 분위수대조도\n",
    "par(mfrow=c(2,2))\n",
    "\n",
    "data.sample = data.virginica # data.versicolor  data.virginica\n",
    "x = sort(data.sample$Sepal.Length)\n",
    "q = (seq(1,length(x)) * (100/length(x)) - 1) / 100\n",
    "y = qnorm(q, 0, 1)\n",
    "plot(y~x, main='Sepal.Length')\n",
    "x = sort(data.sample$Sepal.Width)\n",
    "q = (seq(1,length(x)) * (100/length(x)) - 1) / 100\n",
    "y = qnorm(q, 0, 1)\n",
    "plot(y~x, main='Sepal.Width')\n",
    "x = sort(data.sample$Petal.Length)\n",
    "q = (seq(1,length(x)) * (100/length(x)) - 1) / 100\n",
    "y = qnorm(q, 0, 1)\n",
    "plot(y~x, main='Petal.Length')\n",
    "x = sort(data.sample$Petal.Width)\n",
    "q = (seq(1,length(x)) * (100/length(x)) - 1) / 100\n",
    "y = qnorm(q, 0, 1)\n",
    "plot(y~x, main='Petal.Width')\n",
    "# result) 확실한 직선의 형태를 띄는 Length 데이터는 정규분포에 근사한 것으로 보이지만, Width 데이터는 모호함."
   ]
  },
  {
   "cell_type": "code",
   "execution_count": 40,
   "metadata": {},
   "outputs": [
    {
     "data": {
      "image/png": "[encoded data removed]",
      "text/plain": [
       "Plot with title \"Normal Q-Q Plot\""
      ]
     },
     "metadata": {},
     "output_type": "display_data"
    }
   ],
   "source": [
    "qqnorm(x) # R에서 제공하는 qqplot 함수입니다. x축과 y축이 다를 뿐 비슷한 형태를 띄는 것을 확인할 수 있습니다."
   ]
  },
  {
   "cell_type": "code",
   "execution_count": 89,
   "metadata": {},
   "outputs": [
    {
     "name": "stdout",
     "output_type": "stream",
     "text": [
      "95%신뢰구간, /mu /in ( 6.440083 6.735917 )"
     ]
    },
    {
     "data": {
      "text/html": [
       "6.588"
      ],
      "text/latex": [
       "6.588"
      ],
      "text/markdown": [
       "6.588"
      ],
      "text/plain": [
       "[1] 6.588"
      ]
     },
     "metadata": {},
     "output_type": "display_data"
    }
   ],
   "source": [
    "# t 분포\n",
    "# T = Z/(V/k) ~ t(k)\n",
    "# (\\bar X - \\mu)/(S/\\sqrt{n}) ~ t(k-1)\n",
    "x = data.virginica$Sepal.Length\n",
    "x_bar = mean(x)\n",
    "S = sd(x)\n",
    "n = length(x)\n",
    "\n",
    "# \\mu 신뢰구간\n",
    "alpha = .05 # 오차\n",
    "z = qnorm(1- alpha, 0, 1) # 분위수\n",
    "CI = c(x_bar - (S/sqrt(n))*z, x_bar + (S/sqrt(n))*z) # 신뢰구간\n",
    "cat('95%신뢰구간, /mu /in', '(', CI, ')')\n",
    "x_bar"
   ]
  },
  {
   "cell_type": "code",
   "execution_count": 8,
   "metadata": {
    "scrolled": true
   },
   "outputs": [
    {
     "data": {
      "text/html": [
       "<table>\n",
       "<tbody>\n",
       "\t<tr><td>5.1</td><td>4.9</td><td>4.7</td><td>4.6</td><td>5  </td><td>5.4</td><td>4.6</td><td>5  </td><td>4.4</td><td>4.9</td><td>5.4</td><td>4.8</td><td>4.8</td><td>4.3</td><td>5.8</td><td>5.7</td><td>5.4</td><td>5.1</td><td>5.7</td><td>5.1</td></tr>\n",
       "</tbody>\n",
       "</table>\n"
      ],
      "text/latex": [
       "\\begin{tabular}{llllllllllllllllllll}\n",
       "\t 5.1 & 4.9 & 4.7 & 4.6 & 5   & 5.4 & 4.6 & 5   & 4.4 & 4.9 & 5.4 & 4.8 & 4.8 & 4.3 & 5.8 & 5.7 & 5.4 & 5.1 & 5.7 & 5.1\\\\\n",
       "\\end{tabular}\n"
      ],
      "text/markdown": [
       "\n",
       "| 5.1 | 4.9 | 4.7 | 4.6 | 5   | 5.4 | 4.6 | 5   | 4.4 | 4.9 | 5.4 | 4.8 | 4.8 | 4.3 | 5.8 | 5.7 | 5.4 | 5.1 | 5.7 | 5.1 |\n",
       "\n"
      ],
      "text/plain": [
       "     [,1] [,2] [,3] [,4] [,5] [,6] [,7] [,8] [,9] [,10] [,11] [,12] [,13] [,14]\n",
       "[1,] 5.1  4.9  4.7  4.6  5    5.4  4.6  5    4.4  4.9   5.4   4.8   4.8   4.3  \n",
       "     [,15] [,16] [,17] [,18] [,19] [,20]\n",
       "[1,] 5.8   5.7   5.4   5.1   5.7   5.1  "
      ]
     },
     "metadata": {},
     "output_type": "display_data"
    },
    {
     "data": {
      "text/html": [
       "<strong>Sepal.Length:</strong> 5.006"
      ],
      "text/latex": [
       "\\textbf{Sepal.Length:} 5.006"
      ],
      "text/markdown": [
       "**Sepal.Length:** 5.006"
      ],
      "text/plain": [
       "Sepal.Length \n",
       "       5.006 "
      ]
     },
     "metadata": {},
     "output_type": "display_data"
    }
   ],
   "source": [
    "t(head(data.setosa[, 1], 20))\n",
    "unlist(data.setosa.mean)[1]"
   ]
  },
  {
   "cell_type": "code",
   "execution_count": 9,
   "metadata": {},
   "outputs": [
    {
     "data": {
      "text/html": [
       "9.16666666666667"
      ],
      "text/latex": [
       "9.16666666666667"
      ],
      "text/markdown": [
       "9.16666666666667"
      ],
      "text/plain": [
       "[1] 9.166667"
      ]
     },
     "metadata": {},
     "output_type": "display_data"
    },
    {
     "data": {
      "text/html": [
       "9.16666666666667"
      ],
      "text/latex": [
       "9.16666666666667"
      ],
      "text/markdown": [
       "9.16666666666667"
      ],
      "text/plain": [
       "[1] 9.166667"
      ]
     },
     "metadata": {},
     "output_type": "display_data"
    }
   ],
   "source": [
    "var(1:10)\n",
    "sum((c(1:10)-5.5)^2)/9"
   ]
  },
  {
   "cell_type": "code",
   "execution_count": 10,
   "metadata": {},
   "outputs": [
    {
     "name": "stdout",
     "output_type": "stream",
     "text": [
      "5.006 5.0284"
     ]
    },
    {
     "data": {
      "image/png": "[encoded data removed]",
      "text/plain": [
       "Plot with title \"Histogram of sort(x_bar_case)\""
      ]
     },
     "metadata": {},
     "output_type": "display_data"
    }
   ],
   "source": [
    "n = 100\n",
    "x_bar_case = c()\n",
    "for(i in 1:n){\n",
    "    x_case = sample(data.setosa[,1], 5)\n",
    "    x_bar = sum(x_case)/5\n",
    "    x_bar_case = c(x_bar_case, x_bar)\n",
    "}\n",
    "x_bar.mean = mean(x_bar_case)\n",
    "x_bar.var = var(x_bar_case)\n",
    "\n",
    "par(mfrow=c(2,2))\n",
    "hist(sort(data.setosa[, 1]))\n",
    "hist(sort(x_bar_case))\n",
    "\n",
    "cat(data.setosa.mean[[1]], x_bar.mean)"
   ]
  },
  {
   "cell_type": "code",
   "execution_count": 11,
   "metadata": {},
   "outputs": [
    {
     "name": "stdout",
     "output_type": "stream",
     "text": [
      "5.006 5.0138"
     ]
    },
    {
     "data": {
      "image/png": "[encoded data removed]",
      "text/plain": [
       "Plot with title \"Histogram of sort(x_bar_case)\""
      ]
     },
     "metadata": {},
     "output_type": "display_data"
    }
   ],
   "source": [
    "n = 100\n",
    "x_bar_case = c()\n",
    "for(i in 1:n){\n",
    "    size = 10\n",
    "    x_case = c()\n",
    "    for(j in 1:size){\n",
    "        x = sample(data.setosa[,1], 1)\n",
    "        x_case = c(x_case, x)\n",
    "    }\n",
    "    x_bar = sum(x_case)/size\n",
    "    x_bar_case = c(x_bar_case, x_bar)\n",
    "}\n",
    "x_bar.mean = mean(x_bar_case)\n",
    "x_bar.var = var(x_bar_case)\n",
    "\n",
    "par(mfrow=c(2,2))\n",
    "hist(sort(data.setosa[, 1]))\n",
    "hist(sort(x_bar_case))\n",
    "\n",
    "cat(data.setosa.mean[[1]], x_bar.mean)\n",
    "# print(x_bar)\n",
    "# k.mean = mean(k)\n",
    "# sum((k-k.mean)^2)/10\n",
    "# var(k)"
   ]
  },
  {
   "cell_type": "code",
   "execution_count": 12,
   "metadata": {},
   "outputs": [
    {
     "ename": "ERROR",
     "evalue": "Error in parse(text = x, srcfile = src): <text>:20:0: 예상하지 못한 입력의 끝(end of input)입니다.\n18: # range(x[,1])\n19: # diff(range(x[, 1]))\n   ^\n",
     "output_type": "error",
     "traceback": [
      "Error in parse(text = x, srcfile = src): <text>:20:0: 예상하지 못한 입력의 끝(end of input)입니다.\n18: # range(x[,1])\n19: # diff(range(x[, 1]))\n   ^\nTraceback:\n"
     ]
    }
   ],
   "source": [
    "### 모평균의 추정\n",
    "\n",
    "# 표본\n",
    "n = 10 # 원본은 50개\n",
    "x = data.setosa[sample(seq(1,length(data.setosa[,1])), n), ]\n",
    "\n",
    "# 표본평균, 표본표준편차\n",
    "x.mean = lapply(x[, 1:4], mean)\n",
    "x.sd = lapply(x[, 1:4], sd)\n",
    "x.var = lapply(x[, 1:4], var)\n",
    "\n",
    "# 정규화\n",
    "data.normalize = (data.setosa - data.setosa.mean) / \n",
    "\n",
    "# quantile(x[,1]) # 표본의 4분위수\n",
    "# min(x[,1])\n",
    "# max(x[,1])\n",
    "# range(x[,1])\n",
    "# diff(range(x[, 1]))"
   ]
  },
  {
   "cell_type": "code",
   "execution_count": null,
   "metadata": {},
   "outputs": [],
   "source": [
    "data.normalize = (data.setosa[,1:4] - data.setosa.mean)/unlist(lapply(data.setosa[,1:4], sd))"
   ]
  },
  {
   "cell_type": "code",
   "execution_count": null,
   "metadata": {},
   "outputs": [],
   "source": [
    "k = rnorm(100)\n",
    "k.normalize = (k-mean(k))/sqrt(sum((k-mean(k))^2)/100)\n",
    "mean(k.normalize)"
   ]
  },
  {
   "cell_type": "code",
   "execution_count": null,
   "metadata": {},
   "outputs": [],
   "source": [
    "sqrt(sum((k-mean(k))^2)/100)\n",
    "sd(k)"
   ]
  },
  {
   "cell_type": "code",
   "execution_count": null,
   "metadata": {},
   "outputs": [],
   "source": []
  }
 ],
 "metadata": {
  "kernelspec": {
   "display_name": "R",
   "language": "R",
   "name": "ir"
  },
  "language_info": {
   "codemirror_mode": "r",
   "file_extension": ".r",
   "mimetype": "text/x-r-source",
   "name": "R",
   "pygments_lexer": "r",
   "version": "3.6.1"
  }
 },
 "nbformat": 4,
 "nbformat_minor": 4
}
