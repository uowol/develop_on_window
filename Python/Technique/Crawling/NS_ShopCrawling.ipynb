{
 "cells": [
  {
   "cell_type": "code",
   "execution_count": 3,
   "metadata": {},
   "outputs": [],
   "source": [
    "from bs4 import BeautifulSoup as bs\n",
    "import requests"
   ]
  },
  {
   "cell_type": "code",
   "execution_count": 12,
   "metadata": {},
   "outputs": [],
   "source": [
    "with open(\"NS_ShopData.csv\", 'w') as f:\n",
    "    f.write(\"rank,title\\n\")\n",
    "\n",
    "for page in range(1,4):\n",
    "    url = \"https://store-jp.nintendo.com/list/software/rhythm/?srule=most-popular&start={0}&sz=20\".format(page)\n",
    "\n",
    "    response = requests.get(url)\n",
    "\n",
    "    if response.status_code == 200:\n",
    "        html = response.text\n",
    "        soup = bs(html, 'html.parser')\n",
    "        # print(soup)\n",
    "    else:\n",
    "        print(response.status_code)\n",
    "    titles = soup.select(\"#maincontent > div.productList > div > ol > li > a > div.c-productList--item__text > h2\")\n",
    "    with open(\"NS_ShopData.csv\", 'a') as f:\n",
    "        for idx, title in enumerate(titles): \n",
    "            f.write(\"{0},{1}\\n\".format(idx + (page-1)*20 + 1,title.get_text()))"
   ]
  },
  {
   "cell_type": "code",
   "execution_count": 8,
   "metadata": {},
   "outputs": [],
   "source": []
  },
  {
   "cell_type": "code",
   "execution_count": null,
   "metadata": {},
   "outputs": [],
   "source": []
  }
 ],
 "metadata": {
  "interpreter": {
   "hash": "7673e4597073c2b2a9e6d5d234cbcc5f3dad170bf820db45c930adc5f513900b"
  },
  "kernelspec": {
   "display_name": "Python 3.9.7 64-bit ('base': conda)",
   "language": "python",
   "name": "python3"
  },
  "language_info": {
   "codemirror_mode": {
    "name": "ipython",
    "version": 3
   },
   "file_extension": ".py",
   "mimetype": "text/x-python",
   "name": "python",
   "nbconvert_exporter": "python",
   "pygments_lexer": "ipython3",
   "version": "3.9.7"
  },
  "orig_nbformat": 4
 },
 "nbformat": 4,
 "nbformat_minor": 2
}
