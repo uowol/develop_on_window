{
 "cells": [
  {
   "cell_type": "code",
   "execution_count": 7,
   "metadata": {},
   "outputs": [],
   "source": [
    "import selenium # selenium 라이브러리 불러오기\n",
    "import re\n",
    "import time\n",
    "from selenium.webdriver.common.by import By\n",
    "from selenium.webdriver.common.keys import Keys\n",
    "from selenium import webdriver"
   ]
  },
  {
   "cell_type": "code",
   "execution_count": 29,
   "metadata": {},
   "outputs": [
    {
     "name": "stderr",
     "output_type": "stream",
     "text": [
      "C:\\Users\\uowol\\AppData\\Local\\Temp/ipykernel_36124/2290198644.py:4: DeprecationWarning: executable_path has been deprecated, please pass in a Service object\n",
      "  driver = webdriver.Chrome(executable_path='./chromedriver.exe', options=options) # 웹 드라이버 사용: 크롬 엔진\n"
     ]
    },
    {
     "name": "stdout",
     "output_type": "stream",
     "text": [
      "                                     title\n",
      "1                   Detroit: Become Human™\n",
      "2                                  Thumper\n",
      "3                               Beat Saber\n",
      "4                         Just Dance® 2022\n",
      "5   Hatsune Miku: Project DIVA Future Tone\n",
      "..                                     ...\n",
      "93               The Longest Road on Earth\n",
      "94  The Metronomicon: Slay the Dance Floor\n",
      "95                              Track Lab™\n",
      "96                                 We Sing\n",
      "97                             We Sing Pop\n",
      "\n",
      "[97 rows x 1 columns]\n"
     ]
    }
   ],
   "source": [
    "options = webdriver.ChromeOptions()\n",
    "options.add_argument('window-size=1920,1080')\n",
    "\n",
    "driver = webdriver.Chrome(executable_path='./chromedriver.exe', options=options) # 웹 드라이버 사용: 크롬 엔진\n",
    "driver.implicitly_wait(time_to_wait=5) # 암묵적으로 5초간 기다림\n",
    "\n",
    "driver.get(url=\"https://store.playstation.com/en-us/pages/browse/1?MUSIC%2FRHYTHM=conceptGenres\")\n",
    "\n",
    "time.sleep(2) # 명시적으로 5초간 기다림\n",
    "\n",
    "driver.find_element(By.XPATH, '//*[@id=\"main\"]/div/section/div/div/div/div[3]/button').click()\n",
    "\n",
    "btn_showmore = driver.find_element(By.XPATH, '//*[@id=\"main\"]/div/section/div/div/div/div[3]/div/div/div/div[3]/div[2]/ul/li[2]/div/div/div/div/button')\n",
    "btn_showmore.click()\n",
    "\n",
    "time.sleep(1) # 명시적으로 5초간 기다림\n",
    "\n",
    "btn_rhythmtag = driver.find_element(By.XPATH, '//*[@id=\"main\"]/div/section/div/div/div/div[3]/div/div/div/div[3]/div[2]/ul/li[2]/div/div/div/ul/li[17]/label')\n",
    "btn_rhythmtag.click()\n",
    "\n",
    "a_titles = []\n",
    "\n",
    "e_titles = driver.find_elements(By.XPATH, '//*[@id=\"main\"]/div/section/div/div/div/div[2]/div[2]/ul/li/div/a/div/section/span[2]')\n",
    "\n",
    "for t in e_titles:\n",
    "    a_titles.append(t.text)\n",
    "\n",
    "idx = 1\n",
    "while idx < 5:\n",
    "    btns_navbar = driver.find_elements(By.XPATH, '//*[@id=\"main\"]/div/section/div/div/div/div[2]/div[2]/div/nav/ol/li/button')\n",
    "    btn = btns_navbar[idx]\n",
    "    btn.click()\n",
    "\n",
    "    time.sleep(1) # 명시적으로 5초간 기다림\n",
    "\n",
    "    e_titles = driver.find_elements(By.XPATH, '//*[@id=\"main\"]/div/section/div/div/div/div[2]/div[2]/ul/li/div/a/div/section/span[2]')\n",
    "\n",
    "    for t in e_titles:\n",
    "        a_titles.append(t.text)\n",
    "    \n",
    "    idx += 1\n",
    "\n",
    "\n",
    "import pandas as pd\n",
    "df = pd.DataFrame(a_titles, index=range(1, len(a_titles)+1), columns=[\"title\"])\n",
    "df.to_csv(\"PS_ShopData.csv\", index=False)\n",
    "print(df)\n",
    "\n",
    "time.sleep(5) # 명시적으로 5초간 기다림\n",
    "driver.close()"
   ]
  },
  {
   "cell_type": "code",
   "execution_count": 8,
   "metadata": {},
   "outputs": [],
   "source": []
  },
  {
   "cell_type": "code",
   "execution_count": null,
   "metadata": {},
   "outputs": [],
   "source": []
  }
 ],
 "metadata": {
  "interpreter": {
   "hash": "7673e4597073c2b2a9e6d5d234cbcc5f3dad170bf820db45c930adc5f513900b"
  },
  "kernelspec": {
   "display_name": "Python 3.9.7 64-bit ('base': conda)",
   "language": "python",
   "name": "python3"
  },
  "language_info": {
   "codemirror_mode": {
    "name": "ipython",
    "version": 3
   },
   "file_extension": ".py",
   "mimetype": "text/x-python",
   "name": "python",
   "nbconvert_exporter": "python",
   "pygments_lexer": "ipython3",
   "version": "3.9.7"
  },
  "orig_nbformat": 4
 },
 "nbformat": 4,
 "nbformat_minor": 2
}
